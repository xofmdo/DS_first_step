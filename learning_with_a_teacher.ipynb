{
 "cells": [
  {
   "cell_type": "markdown",
   "metadata": {
    "toc": true
   },
   "source": [
    "<h1>Содержание<span class=\"tocSkip\"></span></h1>\n",
    "<div class=\"toc\"><ul class=\"toc-item\"><li><span><a href=\"#Подготовка-данных\" data-toc-modified-id=\"Подготовка-данных-1\"><span class=\"toc-item-num\">1&nbsp;&nbsp;</span>Подготовка данных</a></span><ul class=\"toc-item\"><li><span><a href=\"#Импорт-библиотек\" data-toc-modified-id=\"Импорт-библиотек-1.1\"><span class=\"toc-item-num\">1.1&nbsp;&nbsp;</span>Импорт библиотек</a></span></li><li><span><a href=\"#Изучение-данных\" data-toc-modified-id=\"Изучение-данных-1.2\"><span class=\"toc-item-num\">1.2&nbsp;&nbsp;</span>Изучение данных</a></span></li><li><span><a href=\"#Вывод-по-итогам-анализа-всей-таблицы\" data-toc-modified-id=\"Вывод-по-итогам-анализа-всей-таблицы-1.3\"><span class=\"toc-item-num\">1.3&nbsp;&nbsp;</span>Вывод по итогам анализа всей таблицы</a></span></li></ul></li><li><span><a href=\"#Исследование-задачи\" data-toc-modified-id=\"Исследование-задачи-2\"><span class=\"toc-item-num\">2&nbsp;&nbsp;</span>Исследование задачи</a></span><ul class=\"toc-item\"><li><span><a href=\"#Обработка-пропусков\" data-toc-modified-id=\"Обработка-пропусков-2.1\"><span class=\"toc-item-num\">2.1&nbsp;&nbsp;</span>Обработка пропусков</a></span></li><li><span><a href=\"#Обработка-данных-датасета\" data-toc-modified-id=\"Обработка-данных-датасета-2.2\"><span class=\"toc-item-num\">2.2&nbsp;&nbsp;</span>Обработка данных датасета</a></span></li></ul></li><li><span><a href=\"#Подготовка-моделей-и-метрик\" data-toc-modified-id=\"Подготовка-моделей-и-метрик-3\"><span class=\"toc-item-num\">3&nbsp;&nbsp;</span>Подготовка моделей и метрик</a></span><ul class=\"toc-item\"><li><span><a href=\"#Метрики\" data-toc-modified-id=\"Метрики-3.1\"><span class=\"toc-item-num\">3.1&nbsp;&nbsp;</span>Метрики</a></span></li><li><span><a href=\"#Logistic-Regression\" data-toc-modified-id=\"Logistic-Regression-3.2\"><span class=\"toc-item-num\">3.2&nbsp;&nbsp;</span>Logistic Regression</a></span></li><li><span><a href=\"#Decision-Tree-Classifier\" data-toc-modified-id=\"Decision-Tree-Classifier-3.3\"><span class=\"toc-item-num\">3.3&nbsp;&nbsp;</span>Decision Tree Classifier</a></span></li><li><span><a href=\"#Random-Forest-Classifier\" data-toc-modified-id=\"Random-Forest-Classifier-3.4\"><span class=\"toc-item-num\">3.4&nbsp;&nbsp;</span>Random Forest Classifier</a></span></li><li><span><a href=\"#Разделение-на-train,-valid-и-test\" data-toc-modified-id=\"Разделение-на-train,-valid-и-test-3.5\"><span class=\"toc-item-num\">3.5&nbsp;&nbsp;</span>Разделение на train, valid и test</a></span></li><li><span><a href=\"#Кодирование-признаков\" data-toc-modified-id=\"Кодирование-признаков-3.6\"><span class=\"toc-item-num\">3.6&nbsp;&nbsp;</span>Кодирование признаков</a></span></li></ul></li><li><span><a href=\"#Исследование-моделей\" data-toc-modified-id=\"Исследование-моделей-4\"><span class=\"toc-item-num\">4&nbsp;&nbsp;</span>Исследование моделей</a></span><ul class=\"toc-item\"><li><span><a href=\"#Исследование-моделей-без-устранения-дисбаланса-классов\" data-toc-modified-id=\"Исследование-моделей-без-устранения-дисбаланса-классов-4.1\"><span class=\"toc-item-num\">4.1&nbsp;&nbsp;</span>Исследование моделей без устранения дисбаланса классов</a></span></li><li><span><a href=\"#Исследование-моделей-без-устранения-дисбаланса-классов-с-перебором-гиперпараметров\" data-toc-modified-id=\"Исследование-моделей-без-устранения-дисбаланса-классов-с-перебором-гиперпараметров-4.2\"><span class=\"toc-item-num\">4.2&nbsp;&nbsp;</span>Исследование моделей без устранения дисбаланса классов с перебором гиперпараметров</a></span></li><li><span><a href=\"#Исследование-моделей-с-устранением-дизбаланса-классов\" data-toc-modified-id=\"Исследование-моделей-с-устранением-дизбаланса-классов-4.3\"><span class=\"toc-item-num\">4.3&nbsp;&nbsp;</span>Исследование моделей с устранением дизбаланса классов</a></span><ul class=\"toc-item\"><li><span><a href=\"#Upsamping\" data-toc-modified-id=\"Upsamping-4.3.1\"><span class=\"toc-item-num\">4.3.1&nbsp;&nbsp;</span>Upsamping</a></span></li><li><span><a href=\"#downsampling\" data-toc-modified-id=\"downsampling-4.3.2\"><span class=\"toc-item-num\">4.3.2&nbsp;&nbsp;</span>downsampling</a></span></li><li><span><a href=\"#Выделим-лучшие-экземпляры-по-каждой-модели\" data-toc-modified-id=\"Выделим-лучшие-экземпляры-по-каждой-модели-4.3.3\"><span class=\"toc-item-num\">4.3.3&nbsp;&nbsp;</span>Выделим лучшие экземпляры по каждой модели</a></span></li><li><span><a href=\"#Подбор-гиперпараметров-для-модели-Логистической-регрессии\" data-toc-modified-id=\"Подбор-гиперпараметров-для-модели-Логистической-регрессии-4.3.4\"><span class=\"toc-item-num\">4.3.4&nbsp;&nbsp;</span>Подбор гиперпараметров для модели Логистической регрессии</a></span><ul class=\"toc-item\"><li><span><a href=\"#logreg_upsample_3_repeat\" data-toc-modified-id=\"logreg_upsample_3_repeat-4.3.4.1\"><span class=\"toc-item-num\">4.3.4.1&nbsp;&nbsp;</span>logreg_upsample_3_repeat</a></span></li><li><span><a href=\"#logreg_upsample_4_repeat\" data-toc-modified-id=\"logreg_upsample_4_repeat-4.3.4.2\"><span class=\"toc-item-num\">4.3.4.2&nbsp;&nbsp;</span>logreg_upsample_4_repeat</a></span></li><li><span><a href=\"#logreg_downsample_0.3_frac\" data-toc-modified-id=\"logreg_downsample_0.3_frac-4.3.4.3\"><span class=\"toc-item-num\">4.3.4.3&nbsp;&nbsp;</span>logreg_downsample_0.3_frac</a></span></li></ul></li><li><span><a href=\"#Подбор-гиперпараметров-для-модели-Дерево-решений\" data-toc-modified-id=\"Подбор-гиперпараметров-для-модели-Дерево-решений-4.3.5\"><span class=\"toc-item-num\">4.3.5&nbsp;&nbsp;</span>Подбор гиперпараметров для модели Дерево решений</a></span><ul class=\"toc-item\"><li><span><a href=\"#tree_upsample_4_repeat\" data-toc-modified-id=\"tree_upsample_4_repeat-4.3.5.1\"><span class=\"toc-item-num\">4.3.5.1&nbsp;&nbsp;</span>tree_upsample_4_repeat</a></span></li><li><span><a href=\"#tree_downsample_0.4_frac\" data-toc-modified-id=\"tree_downsample_0.4_frac-4.3.5.2\"><span class=\"toc-item-num\">4.3.5.2&nbsp;&nbsp;</span>tree_downsample_0.4_frac</a></span></li><li><span><a href=\"#tree_upsample_3_repeat\" data-toc-modified-id=\"tree_upsample_3_repeat-4.3.5.3\"><span class=\"toc-item-num\">4.3.5.3&nbsp;&nbsp;</span>tree_upsample_3_repeat</a></span></li></ul></li><li><span><a href=\"#Подбор-гиперпараметров-для-модели-Случайного-леса\" data-toc-modified-id=\"Подбор-гиперпараметров-для-модели-Случайного-леса-4.3.6\"><span class=\"toc-item-num\">4.3.6&nbsp;&nbsp;</span>Подбор гиперпараметров для модели Случайного леса</a></span><ul class=\"toc-item\"><li><span><a href=\"#forest_upsample_4_repeat\" data-toc-modified-id=\"forest_upsample_4_repeat-4.3.6.1\"><span class=\"toc-item-num\">4.3.6.1&nbsp;&nbsp;</span>forest_upsample_4_repeat</a></span></li><li><span><a href=\"#forest_downsample_0.4_frac\" data-toc-modified-id=\"forest_downsample_0.4_frac-4.3.6.2\"><span class=\"toc-item-num\">4.3.6.2&nbsp;&nbsp;</span>forest_downsample_0.4_frac</a></span></li><li><span><a href=\"#forest_upsample_3_repeat\" data-toc-modified-id=\"forest_upsample_3_repeat-4.3.6.3\"><span class=\"toc-item-num\">4.3.6.3&nbsp;&nbsp;</span>forest_upsample_3_repeat</a></span></li></ul></li><li><span><a href=\"#Определение-наилучшей-модели\" data-toc-modified-id=\"Определение-наилучшей-модели-4.3.7\"><span class=\"toc-item-num\">4.3.7&nbsp;&nbsp;</span>Определение наилучшей модели</a></span></li></ul></li></ul></li><li><span><a href=\"#Тестирование-модели\" data-toc-modified-id=\"Тестирование-модели-5\"><span class=\"toc-item-num\">5&nbsp;&nbsp;</span>Тестирование модели</a></span></li><li><span><a href=\"#Общий-вывод-по-проекту\" data-toc-modified-id=\"Общий-вывод-по-проекту-6\"><span class=\"toc-item-num\">6&nbsp;&nbsp;</span><b>Общий вывод по проекту</b></a></span></li><li><span><a href=\"#Общий-вывод-по-проекту-В2\" data-toc-modified-id=\"Общий-вывод-по-проекту-В2-7\"><span class=\"toc-item-num\">7&nbsp;&nbsp;</span><b>Общий вывод по проекту В2</b></a></span></li><li><span><a href=\"#Общий-вывод-по-проекту-В3\" data-toc-modified-id=\"Общий-вывод-по-проекту-В3-8\"><span class=\"toc-item-num\">8&nbsp;&nbsp;</span><b>Общий вывод по проекту В3</b></a></span></li></ul></div>"
   ]
  },
  {
   "cell_type": "markdown",
   "metadata": {},
   "source": [
    "# Отток клиентов"
   ]
  },
  {
   "cell_type": "markdown",
   "metadata": {},
   "source": [
    "Из «Бета-Банка» стали уходить клиенты. Каждый месяц. Немного, но заметно. Банковские маркетологи посчитали: сохранять текущих клиентов дешевле, чем привлекать новых.\n",
    "\n",
    "Нужно спрогнозировать, уйдёт клиент из банка в ближайшее время или нет. Вам предоставлены исторические данные о поведении клиентов и расторжении договоров с банком. \n",
    "\n",
    "Постройте модель с предельно большим значением *F1*-меры. Чтобы сдать проект успешно, нужно довести метрику до 0.59. Проверьте *F1*-меру на тестовой выборке самостоятельно.\n",
    "\n",
    "Дополнительно измеряйте *AUC-ROC*, сравнивайте её значение с *F1*-мерой.\n",
    "\n",
    "Источник данных: [https://www.kaggle.com/barelydedicated/bank-customer-churn-modeling](https://www.kaggle.com/barelydedicated/bank-customer-churn-modeling)"
   ]
  },
  {
   "cell_type": "markdown",
   "metadata": {},
   "source": [
    "​\n",
    "**Задачи** в рамках данного исследования:\n",
    "​\n",
    "1. Посмотреть на данные и при наличии проблем устранить их\n",
    "2. Исследовать баланс классов и обучить модель без учёта дисбаланса\n",
    "3. Улучшить качество моделей, учитывая дисбаланс классов. Необходимо обучить разные модели и найти лучшую\n",
    "4. Провести финальное тестирование наилучшей модели"
   ]
  },
  {
   "cell_type": "markdown",
   "metadata": {},
   "source": [
    "## Подготовка данных"
   ]
  },
  {
   "cell_type": "markdown",
   "metadata": {},
   "source": [
    "###  Импорт библиотек"
   ]
  },
  {
   "cell_type": "markdown",
   "metadata": {},
   "source": [
    "pip install catboost\n",
    "pip install optuna"
   ]
  },
  {
   "cell_type": "code",
   "execution_count": 1,
   "metadata": {},
   "outputs": [],
   "source": [
    "import warnings\n",
    "import optuna\n",
    "# external lib imports\n",
    "\n",
    "import pandas as pd\n",
    "import numpy as np\n",
    "import seaborn as sns\n",
    "import matplotlib.pyplot as plt\n",
    "%matplotlib inline\n",
    "from tqdm import tqdm\n",
    "\n",
    "# sklearn imports\n",
    "from sklearn.tree import DecisionTreeClassifier\n",
    "from sklearn.linear_model import LogisticRegression\n",
    "from sklearn.ensemble import RandomForestClassifier\n",
    "\n",
    "from sklearn.metrics import confusion_matrix\n",
    "from sklearn.metrics import precision_score\n",
    "from sklearn.metrics import recall_score\n",
    "from sklearn.metrics import f1_score\n",
    "from sklearn.metrics import accuracy_score\n",
    "from sklearn.metrics import roc_auc_score\n",
    "from sklearn.metrics import roc_curve\n",
    "from sklearn.metrics import auc\n",
    "\n",
    "from sklearn.model_selection import train_test_split\n",
    "from sklearn.model_selection import GridSearchCV\n",
    "from sklearn.preprocessing import OneHotEncoder\n",
    "from sklearn.preprocessing import StandardScaler\n",
    "from sklearn.preprocessing import MinMaxScaler\n",
    "from sklearn.utils import shuffle\n",
    "\n",
    "# catboost imports\n",
    "from catboost import CatBoostClassifier\n",
    "from catboost import Pool\n",
    "from catboost.utils import get_roc_curve\n",
    "from catboost.utils import get_fpr_curve\n",
    "from catboost.utils import get_fnr_curve\n",
    "\n",
    "# optuna imports\n",
    "from optuna.integration import OptunaSearchCV\n",
    "from optuna import Trial\n",
    "from optuna.samplers import TPESampler\n",
    "from optuna.distributions import IntUniformDistribution, UniformDistribution\n",
    "\n",
    "\n",
    "warnings.filterwarnings(\"ignore\")\n",
    "\n"
   ]
  },
  {
   "cell_type": "markdown",
   "metadata": {},
   "source": [
    "Устанавливаем заранее константное значение random_state"
   ]
  },
  {
   "cell_type": "code",
   "execution_count": 2,
   "metadata": {},
   "outputs": [],
   "source": [
    "RANDOM_STATE=42"
   ]
  },
  {
   "cell_type": "markdown",
   "metadata": {},
   "source": [
    "### Изучение данных \n"
   ]
  },
  {
   "cell_type": "code",
   "execution_count": null,
   "metadata": {},
   "outputs": [],
   "source": [
    "df = pd.read_csv('/datasets/Churn.csv')"
   ]
  },
  {
   "cell_type": "markdown",
   "metadata": {},
   "source": [
    "df = pd.read_csv('Churn.csv')"
   ]
  },
  {
   "cell_type": "code",
   "execution_count": 4,
   "metadata": {},
   "outputs": [
    {
     "data": {
      "text/html": [
       "<div>\n",
       "<style scoped>\n",
       "    .dataframe tbody tr th:only-of-type {\n",
       "        vertical-align: middle;\n",
       "    }\n",
       "\n",
       "    .dataframe tbody tr th {\n",
       "        vertical-align: top;\n",
       "    }\n",
       "\n",
       "    .dataframe thead th {\n",
       "        text-align: right;\n",
       "    }\n",
       "</style>\n",
       "<table border=\"1\" class=\"dataframe\">\n",
       "  <thead>\n",
       "    <tr style=\"text-align: right;\">\n",
       "      <th></th>\n",
       "      <th>RowNumber</th>\n",
       "      <th>CustomerId</th>\n",
       "      <th>Surname</th>\n",
       "      <th>CreditScore</th>\n",
       "      <th>Geography</th>\n",
       "      <th>Gender</th>\n",
       "      <th>Age</th>\n",
       "      <th>Tenure</th>\n",
       "      <th>Balance</th>\n",
       "      <th>NumOfProducts</th>\n",
       "      <th>HasCrCard</th>\n",
       "      <th>IsActiveMember</th>\n",
       "      <th>EstimatedSalary</th>\n",
       "      <th>Exited</th>\n",
       "    </tr>\n",
       "  </thead>\n",
       "  <tbody>\n",
       "    <tr>\n",
       "      <th>0</th>\n",
       "      <td>1</td>\n",
       "      <td>15634602</td>\n",
       "      <td>Hargrave</td>\n",
       "      <td>619</td>\n",
       "      <td>France</td>\n",
       "      <td>Female</td>\n",
       "      <td>42</td>\n",
       "      <td>2.0</td>\n",
       "      <td>0.00</td>\n",
       "      <td>1</td>\n",
       "      <td>1</td>\n",
       "      <td>1</td>\n",
       "      <td>101348.88</td>\n",
       "      <td>1</td>\n",
       "    </tr>\n",
       "    <tr>\n",
       "      <th>1</th>\n",
       "      <td>2</td>\n",
       "      <td>15647311</td>\n",
       "      <td>Hill</td>\n",
       "      <td>608</td>\n",
       "      <td>Spain</td>\n",
       "      <td>Female</td>\n",
       "      <td>41</td>\n",
       "      <td>1.0</td>\n",
       "      <td>83807.86</td>\n",
       "      <td>1</td>\n",
       "      <td>0</td>\n",
       "      <td>1</td>\n",
       "      <td>112542.58</td>\n",
       "      <td>0</td>\n",
       "    </tr>\n",
       "    <tr>\n",
       "      <th>2</th>\n",
       "      <td>3</td>\n",
       "      <td>15619304</td>\n",
       "      <td>Onio</td>\n",
       "      <td>502</td>\n",
       "      <td>France</td>\n",
       "      <td>Female</td>\n",
       "      <td>42</td>\n",
       "      <td>8.0</td>\n",
       "      <td>159660.80</td>\n",
       "      <td>3</td>\n",
       "      <td>1</td>\n",
       "      <td>0</td>\n",
       "      <td>113931.57</td>\n",
       "      <td>1</td>\n",
       "    </tr>\n",
       "    <tr>\n",
       "      <th>3</th>\n",
       "      <td>4</td>\n",
       "      <td>15701354</td>\n",
       "      <td>Boni</td>\n",
       "      <td>699</td>\n",
       "      <td>France</td>\n",
       "      <td>Female</td>\n",
       "      <td>39</td>\n",
       "      <td>1.0</td>\n",
       "      <td>0.00</td>\n",
       "      <td>2</td>\n",
       "      <td>0</td>\n",
       "      <td>0</td>\n",
       "      <td>93826.63</td>\n",
       "      <td>0</td>\n",
       "    </tr>\n",
       "    <tr>\n",
       "      <th>4</th>\n",
       "      <td>5</td>\n",
       "      <td>15737888</td>\n",
       "      <td>Mitchell</td>\n",
       "      <td>850</td>\n",
       "      <td>Spain</td>\n",
       "      <td>Female</td>\n",
       "      <td>43</td>\n",
       "      <td>2.0</td>\n",
       "      <td>125510.82</td>\n",
       "      <td>1</td>\n",
       "      <td>1</td>\n",
       "      <td>1</td>\n",
       "      <td>79084.10</td>\n",
       "      <td>0</td>\n",
       "    </tr>\n",
       "  </tbody>\n",
       "</table>\n",
       "</div>"
      ],
      "text/plain": [
       "   RowNumber  CustomerId   Surname  CreditScore Geography  Gender  Age  \\\n",
       "0          1    15634602  Hargrave          619    France  Female   42   \n",
       "1          2    15647311      Hill          608     Spain  Female   41   \n",
       "2          3    15619304      Onio          502    France  Female   42   \n",
       "3          4    15701354      Boni          699    France  Female   39   \n",
       "4          5    15737888  Mitchell          850     Spain  Female   43   \n",
       "\n",
       "   Tenure    Balance  NumOfProducts  HasCrCard  IsActiveMember  \\\n",
       "0     2.0       0.00              1          1               1   \n",
       "1     1.0   83807.86              1          0               1   \n",
       "2     8.0  159660.80              3          1               0   \n",
       "3     1.0       0.00              2          0               0   \n",
       "4     2.0  125510.82              1          1               1   \n",
       "\n",
       "   EstimatedSalary  Exited  \n",
       "0        101348.88       1  \n",
       "1        112542.58       0  \n",
       "2        113931.57       1  \n",
       "3         93826.63       0  \n",
       "4         79084.10       0  "
      ]
     },
     "execution_count": 4,
     "metadata": {},
     "output_type": "execute_result"
    }
   ],
   "source": [
    "df.head()"
   ]
  },
  {
   "cell_type": "code",
   "execution_count": 5,
   "metadata": {},
   "outputs": [
    {
     "name": "stdout",
     "output_type": "stream",
     "text": [
      "Average memory usage for float columns: 0.06 MB\n",
      "Average memory usage for int columns: 0.07 MB\n",
      "Average memory usage for object columns: 0.45 MB\n",
      "\n",
      "<class 'pandas.core.frame.DataFrame'>\n",
      "RangeIndex: 10000 entries, 0 to 9999\n",
      "Data columns (total 14 columns):\n",
      " #   Column           Non-Null Count  Dtype  \n",
      "---  ------           --------------  -----  \n",
      " 0   RowNumber        10000 non-null  int64  \n",
      " 1   CustomerId       10000 non-null  int64  \n",
      " 2   Surname          10000 non-null  object \n",
      " 3   CreditScore      10000 non-null  int64  \n",
      " 4   Geography        10000 non-null  object \n",
      " 5   Gender           10000 non-null  object \n",
      " 6   Age              10000 non-null  int64  \n",
      " 7   Tenure           9091 non-null   float64\n",
      " 8   Balance          10000 non-null  float64\n",
      " 9   NumOfProducts    10000 non-null  int64  \n",
      " 10  HasCrCard        10000 non-null  int64  \n",
      " 11  IsActiveMember   10000 non-null  int64  \n",
      " 12  EstimatedSalary  10000 non-null  float64\n",
      " 13  Exited           10000 non-null  int64  \n",
      "dtypes: float64(3), int64(8), object(3)\n",
      "memory usage: 2.6 MB\n"
     ]
    }
   ],
   "source": [
    "for dtype in ['float','int','object']:\n",
    "    selected_dtype = df.select_dtypes(include=[dtype])\n",
    "    mean_usage_b = selected_dtype.memory_usage(deep=True).mean()\n",
    "    mean_usage_mb = mean_usage_b / 1024 ** 2\n",
    "    print(\"Average memory usage for {} columns: {:03.2f} MB\".format(dtype,mean_usage_mb))\n",
    "\n",
    "print()\n",
    "df.info(memory_usage='deep')"
   ]
  },
  {
   "cell_type": "code",
   "execution_count": 6,
   "metadata": {},
   "outputs": [
    {
     "data": {
      "text/html": [
       "<div>\n",
       "<style scoped>\n",
       "    .dataframe tbody tr th:only-of-type {\n",
       "        vertical-align: middle;\n",
       "    }\n",
       "\n",
       "    .dataframe tbody tr th {\n",
       "        vertical-align: top;\n",
       "    }\n",
       "\n",
       "    .dataframe thead th {\n",
       "        text-align: right;\n",
       "    }\n",
       "</style>\n",
       "<table border=\"1\" class=\"dataframe\">\n",
       "  <thead>\n",
       "    <tr style=\"text-align: right;\">\n",
       "      <th></th>\n",
       "      <th>RowNumber</th>\n",
       "      <th>CustomerId</th>\n",
       "      <th>CreditScore</th>\n",
       "      <th>Age</th>\n",
       "      <th>Tenure</th>\n",
       "      <th>Balance</th>\n",
       "      <th>NumOfProducts</th>\n",
       "      <th>HasCrCard</th>\n",
       "      <th>IsActiveMember</th>\n",
       "      <th>EstimatedSalary</th>\n",
       "      <th>Exited</th>\n",
       "    </tr>\n",
       "  </thead>\n",
       "  <tbody>\n",
       "    <tr>\n",
       "      <th>count</th>\n",
       "      <td>10000.00000</td>\n",
       "      <td>1.000000e+04</td>\n",
       "      <td>10000.000000</td>\n",
       "      <td>10000.000000</td>\n",
       "      <td>9091.000000</td>\n",
       "      <td>10000.000000</td>\n",
       "      <td>10000.000000</td>\n",
       "      <td>10000.00000</td>\n",
       "      <td>10000.000000</td>\n",
       "      <td>10000.000000</td>\n",
       "      <td>10000.000000</td>\n",
       "    </tr>\n",
       "    <tr>\n",
       "      <th>mean</th>\n",
       "      <td>5000.50000</td>\n",
       "      <td>1.569094e+07</td>\n",
       "      <td>650.528800</td>\n",
       "      <td>38.921800</td>\n",
       "      <td>4.997690</td>\n",
       "      <td>76485.889288</td>\n",
       "      <td>1.530200</td>\n",
       "      <td>0.70550</td>\n",
       "      <td>0.515100</td>\n",
       "      <td>100090.239881</td>\n",
       "      <td>0.203700</td>\n",
       "    </tr>\n",
       "    <tr>\n",
       "      <th>std</th>\n",
       "      <td>2886.89568</td>\n",
       "      <td>7.193619e+04</td>\n",
       "      <td>96.653299</td>\n",
       "      <td>10.487806</td>\n",
       "      <td>2.894723</td>\n",
       "      <td>62397.405202</td>\n",
       "      <td>0.581654</td>\n",
       "      <td>0.45584</td>\n",
       "      <td>0.499797</td>\n",
       "      <td>57510.492818</td>\n",
       "      <td>0.402769</td>\n",
       "    </tr>\n",
       "    <tr>\n",
       "      <th>min</th>\n",
       "      <td>1.00000</td>\n",
       "      <td>1.556570e+07</td>\n",
       "      <td>350.000000</td>\n",
       "      <td>18.000000</td>\n",
       "      <td>0.000000</td>\n",
       "      <td>0.000000</td>\n",
       "      <td>1.000000</td>\n",
       "      <td>0.00000</td>\n",
       "      <td>0.000000</td>\n",
       "      <td>11.580000</td>\n",
       "      <td>0.000000</td>\n",
       "    </tr>\n",
       "    <tr>\n",
       "      <th>25%</th>\n",
       "      <td>2500.75000</td>\n",
       "      <td>1.562853e+07</td>\n",
       "      <td>584.000000</td>\n",
       "      <td>32.000000</td>\n",
       "      <td>2.000000</td>\n",
       "      <td>0.000000</td>\n",
       "      <td>1.000000</td>\n",
       "      <td>0.00000</td>\n",
       "      <td>0.000000</td>\n",
       "      <td>51002.110000</td>\n",
       "      <td>0.000000</td>\n",
       "    </tr>\n",
       "    <tr>\n",
       "      <th>50%</th>\n",
       "      <td>5000.50000</td>\n",
       "      <td>1.569074e+07</td>\n",
       "      <td>652.000000</td>\n",
       "      <td>37.000000</td>\n",
       "      <td>5.000000</td>\n",
       "      <td>97198.540000</td>\n",
       "      <td>1.000000</td>\n",
       "      <td>1.00000</td>\n",
       "      <td>1.000000</td>\n",
       "      <td>100193.915000</td>\n",
       "      <td>0.000000</td>\n",
       "    </tr>\n",
       "    <tr>\n",
       "      <th>75%</th>\n",
       "      <td>7500.25000</td>\n",
       "      <td>1.575323e+07</td>\n",
       "      <td>718.000000</td>\n",
       "      <td>44.000000</td>\n",
       "      <td>7.000000</td>\n",
       "      <td>127644.240000</td>\n",
       "      <td>2.000000</td>\n",
       "      <td>1.00000</td>\n",
       "      <td>1.000000</td>\n",
       "      <td>149388.247500</td>\n",
       "      <td>0.000000</td>\n",
       "    </tr>\n",
       "    <tr>\n",
       "      <th>max</th>\n",
       "      <td>10000.00000</td>\n",
       "      <td>1.581569e+07</td>\n",
       "      <td>850.000000</td>\n",
       "      <td>92.000000</td>\n",
       "      <td>10.000000</td>\n",
       "      <td>250898.090000</td>\n",
       "      <td>4.000000</td>\n",
       "      <td>1.00000</td>\n",
       "      <td>1.000000</td>\n",
       "      <td>199992.480000</td>\n",
       "      <td>1.000000</td>\n",
       "    </tr>\n",
       "  </tbody>\n",
       "</table>\n",
       "</div>"
      ],
      "text/plain": [
       "         RowNumber    CustomerId   CreditScore           Age       Tenure  \\\n",
       "count  10000.00000  1.000000e+04  10000.000000  10000.000000  9091.000000   \n",
       "mean    5000.50000  1.569094e+07    650.528800     38.921800     4.997690   \n",
       "std     2886.89568  7.193619e+04     96.653299     10.487806     2.894723   \n",
       "min        1.00000  1.556570e+07    350.000000     18.000000     0.000000   \n",
       "25%     2500.75000  1.562853e+07    584.000000     32.000000     2.000000   \n",
       "50%     5000.50000  1.569074e+07    652.000000     37.000000     5.000000   \n",
       "75%     7500.25000  1.575323e+07    718.000000     44.000000     7.000000   \n",
       "max    10000.00000  1.581569e+07    850.000000     92.000000    10.000000   \n",
       "\n",
       "             Balance  NumOfProducts    HasCrCard  IsActiveMember  \\\n",
       "count   10000.000000   10000.000000  10000.00000    10000.000000   \n",
       "mean    76485.889288       1.530200      0.70550        0.515100   \n",
       "std     62397.405202       0.581654      0.45584        0.499797   \n",
       "min         0.000000       1.000000      0.00000        0.000000   \n",
       "25%         0.000000       1.000000      0.00000        0.000000   \n",
       "50%     97198.540000       1.000000      1.00000        1.000000   \n",
       "75%    127644.240000       2.000000      1.00000        1.000000   \n",
       "max    250898.090000       4.000000      1.00000        1.000000   \n",
       "\n",
       "       EstimatedSalary        Exited  \n",
       "count     10000.000000  10000.000000  \n",
       "mean     100090.239881      0.203700  \n",
       "std       57510.492818      0.402769  \n",
       "min          11.580000      0.000000  \n",
       "25%       51002.110000      0.000000  \n",
       "50%      100193.915000      0.000000  \n",
       "75%      149388.247500      0.000000  \n",
       "max      199992.480000      1.000000  "
      ]
     },
     "execution_count": 6,
     "metadata": {},
     "output_type": "execute_result"
    }
   ],
   "source": [
    "df.describe()"
   ]
  },
  {
   "cell_type": "code",
   "execution_count": 7,
   "metadata": {},
   "outputs": [
    {
     "data": {
      "text/plain": [
       "0"
      ]
     },
     "execution_count": 7,
     "metadata": {},
     "output_type": "execute_result"
    }
   ],
   "source": [
    "df.duplicated().sum()"
   ]
  },
  {
   "cell_type": "code",
   "execution_count": 8,
   "metadata": {},
   "outputs": [
    {
     "data": {
      "text/html": [
       "<div>\n",
       "<style scoped>\n",
       "    .dataframe tbody tr th:only-of-type {\n",
       "        vertical-align: middle;\n",
       "    }\n",
       "\n",
       "    .dataframe tbody tr th {\n",
       "        vertical-align: top;\n",
       "    }\n",
       "\n",
       "    .dataframe thead th {\n",
       "        text-align: right;\n",
       "    }\n",
       "</style>\n",
       "<table border=\"1\" class=\"dataframe\">\n",
       "  <thead>\n",
       "    <tr style=\"text-align: right;\">\n",
       "      <th></th>\n",
       "      <th>column</th>\n",
       "      <th>count_values</th>\n",
       "      <th>unique_values</th>\n",
       "      <th>% unique</th>\n",
       "      <th>missing</th>\n",
       "      <th>% missing</th>\n",
       "      <th>dtype</th>\n",
       "    </tr>\n",
       "  </thead>\n",
       "  <tbody>\n",
       "    <tr>\n",
       "      <th>7</th>\n",
       "      <td>Tenure</td>\n",
       "      <td>9091</td>\n",
       "      <td>11</td>\n",
       "      <td>0.12%</td>\n",
       "      <td>909</td>\n",
       "      <td>10.0%</td>\n",
       "      <td>float64</td>\n",
       "    </tr>\n",
       "    <tr>\n",
       "      <th>0</th>\n",
       "      <td>RowNumber</td>\n",
       "      <td>10000</td>\n",
       "      <td>10000</td>\n",
       "      <td>100.0%</td>\n",
       "      <td>0</td>\n",
       "      <td>0.0%</td>\n",
       "      <td>int64</td>\n",
       "    </tr>\n",
       "    <tr>\n",
       "      <th>1</th>\n",
       "      <td>CustomerId</td>\n",
       "      <td>10000</td>\n",
       "      <td>10000</td>\n",
       "      <td>100.0%</td>\n",
       "      <td>0</td>\n",
       "      <td>0.0%</td>\n",
       "      <td>int64</td>\n",
       "    </tr>\n",
       "    <tr>\n",
       "      <th>2</th>\n",
       "      <td>Surname</td>\n",
       "      <td>10000</td>\n",
       "      <td>2932</td>\n",
       "      <td>29.32%</td>\n",
       "      <td>0</td>\n",
       "      <td>0.0%</td>\n",
       "      <td>object</td>\n",
       "    </tr>\n",
       "    <tr>\n",
       "      <th>3</th>\n",
       "      <td>CreditScore</td>\n",
       "      <td>10000</td>\n",
       "      <td>460</td>\n",
       "      <td>4.6%</td>\n",
       "      <td>0</td>\n",
       "      <td>0.0%</td>\n",
       "      <td>int64</td>\n",
       "    </tr>\n",
       "    <tr>\n",
       "      <th>4</th>\n",
       "      <td>Geography</td>\n",
       "      <td>10000</td>\n",
       "      <td>3</td>\n",
       "      <td>0.03%</td>\n",
       "      <td>0</td>\n",
       "      <td>0.0%</td>\n",
       "      <td>object</td>\n",
       "    </tr>\n",
       "    <tr>\n",
       "      <th>5</th>\n",
       "      <td>Gender</td>\n",
       "      <td>10000</td>\n",
       "      <td>2</td>\n",
       "      <td>0.02%</td>\n",
       "      <td>0</td>\n",
       "      <td>0.0%</td>\n",
       "      <td>object</td>\n",
       "    </tr>\n",
       "    <tr>\n",
       "      <th>6</th>\n",
       "      <td>Age</td>\n",
       "      <td>10000</td>\n",
       "      <td>70</td>\n",
       "      <td>0.7%</td>\n",
       "      <td>0</td>\n",
       "      <td>0.0%</td>\n",
       "      <td>int64</td>\n",
       "    </tr>\n",
       "    <tr>\n",
       "      <th>8</th>\n",
       "      <td>Balance</td>\n",
       "      <td>10000</td>\n",
       "      <td>6382</td>\n",
       "      <td>63.82%</td>\n",
       "      <td>0</td>\n",
       "      <td>0.0%</td>\n",
       "      <td>float64</td>\n",
       "    </tr>\n",
       "    <tr>\n",
       "      <th>9</th>\n",
       "      <td>NumOfProducts</td>\n",
       "      <td>10000</td>\n",
       "      <td>4</td>\n",
       "      <td>0.04%</td>\n",
       "      <td>0</td>\n",
       "      <td>0.0%</td>\n",
       "      <td>int64</td>\n",
       "    </tr>\n",
       "    <tr>\n",
       "      <th>10</th>\n",
       "      <td>HasCrCard</td>\n",
       "      <td>10000</td>\n",
       "      <td>2</td>\n",
       "      <td>0.02%</td>\n",
       "      <td>0</td>\n",
       "      <td>0.0%</td>\n",
       "      <td>int64</td>\n",
       "    </tr>\n",
       "    <tr>\n",
       "      <th>11</th>\n",
       "      <td>IsActiveMember</td>\n",
       "      <td>10000</td>\n",
       "      <td>2</td>\n",
       "      <td>0.02%</td>\n",
       "      <td>0</td>\n",
       "      <td>0.0%</td>\n",
       "      <td>int64</td>\n",
       "    </tr>\n",
       "    <tr>\n",
       "      <th>12</th>\n",
       "      <td>EstimatedSalary</td>\n",
       "      <td>10000</td>\n",
       "      <td>9999</td>\n",
       "      <td>99.99%</td>\n",
       "      <td>0</td>\n",
       "      <td>0.0%</td>\n",
       "      <td>float64</td>\n",
       "    </tr>\n",
       "    <tr>\n",
       "      <th>13</th>\n",
       "      <td>Exited</td>\n",
       "      <td>10000</td>\n",
       "      <td>2</td>\n",
       "      <td>0.02%</td>\n",
       "      <td>0</td>\n",
       "      <td>0.0%</td>\n",
       "      <td>int64</td>\n",
       "    </tr>\n",
       "  </tbody>\n",
       "</table>\n",
       "</div>"
      ],
      "text/plain": [
       "             column  count_values  unique_values % unique  missing % missing  \\\n",
       "7            Tenure          9091             11    0.12%      909     10.0%   \n",
       "0         RowNumber         10000          10000   100.0%        0      0.0%   \n",
       "1        CustomerId         10000          10000   100.0%        0      0.0%   \n",
       "2           Surname         10000           2932   29.32%        0      0.0%   \n",
       "3       CreditScore         10000            460     4.6%        0      0.0%   \n",
       "4         Geography         10000              3    0.03%        0      0.0%   \n",
       "5            Gender         10000              2    0.02%        0      0.0%   \n",
       "6               Age         10000             70     0.7%        0      0.0%   \n",
       "8           Balance         10000           6382   63.82%        0      0.0%   \n",
       "9     NumOfProducts         10000              4    0.04%        0      0.0%   \n",
       "10        HasCrCard         10000              2    0.02%        0      0.0%   \n",
       "11   IsActiveMember         10000              2    0.02%        0      0.0%   \n",
       "12  EstimatedSalary         10000           9999   99.99%        0      0.0%   \n",
       "13           Exited         10000              2    0.02%        0      0.0%   \n",
       "\n",
       "      dtype  \n",
       "7   float64  \n",
       "0     int64  \n",
       "1     int64  \n",
       "2    object  \n",
       "3     int64  \n",
       "4    object  \n",
       "5    object  \n",
       "6     int64  \n",
       "8   float64  \n",
       "9     int64  \n",
       "10    int64  \n",
       "11    int64  \n",
       "12  float64  \n",
       "13    int64  "
      ]
     },
     "execution_count": 8,
     "metadata": {},
     "output_type": "execute_result"
    }
   ],
   "source": [
    "def get_dataset_short_info(df: pd.DataFrame) -> pd.DataFrame:\n",
    "    \"\"\"\n",
    "    Функция для отображения короткой информации по датасету. Аналог функции df.info()\n",
    "\n",
    "    Args:\n",
    "        df (pd.DataFrame): Датафрейм с исходным датасетом\n",
    "\n",
    "    Returns:\n",
    "        pd.DataFrame: Возвращает датафрейм с описанием данных\n",
    "    \"\"\"\n",
    "\n",
    "    shape = df.shape[0]\n",
    "    columns = ['column', 'count_values', 'unique_values', '% unique',\n",
    "               'missing', '% missing', 'dtype']\n",
    "    rows = []\n",
    "    for col in df.columns:\n",
    "        rows.extend([[\n",
    "            col,  # название столбца\n",
    "            df[col].count(),  # кол-во НЕ пустых значений\n",
    "            df[col].nunique(),  # кол-во уникальных значений\n",
    "            str(round(df[col].nunique() * 100 / df[col].count(), 2)) + '%',\n",
    "            # доля уникальных значений\n",
    "            df[col].isna().sum(),  # кол-во пропущенных значений\n",
    "            str(round((1 - (df[col].count() / shape)), 1) * 100) + '%',\n",
    "            # доля пропущенных значений\n",
    "            str(df[col].dtype),  # тип данных\n",
    "            ]]) \n",
    "    info = pd.DataFrame(data=rows, columns=columns).sort_values(\n",
    "        by=['% missing', 'missing'], ascending=False).round(4)\n",
    "    return info\n",
    "\n",
    "\n",
    "get_dataset_short_info(df)"
   ]
  },
  {
   "cell_type": "code",
   "execution_count": 9,
   "metadata": {},
   "outputs": [
    {
     "data": {
      "image/png": "[encoded data removed]",
      "text/plain": [
       "<Figure size 1200x1200 with 2 Axes>"
      ]
     },
     "metadata": {},
     "output_type": "display_data"
    }
   ],
   "source": [
    "correlation_matrix = df.corr()\n",
    "\n",
    "plt.figure(figsize=(12, 12))\n",
    "\n",
    "sns.heatmap(\n",
    "    correlation_matrix,\n",
    "    annot=True,          \n",
    "    cmap=\"coolwarm\",    \n",
    "    vmin=-1, vmax=1,     \n",
    "    square=True,         \n",
    "    linewidths=0.5,      \n",
    ")\n",
    "\n",
    "\n",
    "plt.title(\"Тепловая карта корреляции признаков\")\n",
    "plt.show()"
   ]
  },
  {
   "cell_type": "markdown",
   "metadata": {},
   "source": [
    "\n",
    "Но нельзя использовать корреляцию Пирсона/Спирмана для качественных признаков, а в нашем датасете есть такие признаки. Поэтому стоит использовать phik_matrix (https://towardsdatascience.com/phik-k-get-familiar-with-the-latest-correlation-coefficient-9ba0032b37e7)\n"
   ]
  },
  {
   "cell_type": "markdown",
   "metadata": {},
   "source": [
    "### Вывод по итогам анализа всей таблицы"
   ]
  },
  {
   "cell_type": "markdown",
   "metadata": {},
   "source": [
    "Мы оценили количество и струкутуру пропусков в нашем dataframe. Можно отметить, что явных дубликатов мы не имеем, пропусков было 10%, мы их удалили. Увидели, что в нашем df осталось 9091 строка и 13 столбцов.\n",
    "\n",
    "Основываясь на предоставленных статистических данных, можно сделать следующие наблюдения:\n",
    "\n",
    "\n",
    "-------"
   ]
  },
  {
   "cell_type": "markdown",
   "metadata": {},
   "source": [
    "## Исследование задачи"
   ]
  },
  {
   "cell_type": "markdown",
   "metadata": {},
   "source": [
    "### Обработка пропусков"
   ]
  },
  {
   "cell_type": "code",
   "execution_count": 10,
   "metadata": {
    "scrolled": false
   },
   "outputs": [],
   "source": [
    "df = df.dropna()"
   ]
  },
  {
   "cell_type": "markdown",
   "metadata": {},
   "source": [
    "### Обработка данных датасета\n"
   ]
  },
  {
   "cell_type": "markdown",
   "metadata": {},
   "source": [
    "Для удобства преобразуем все названия признаков в нижний регистр"
   ]
  },
  {
   "cell_type": "code",
   "execution_count": 11,
   "metadata": {},
   "outputs": [],
   "source": [
    "df.columns = df.columns.str.lower()"
   ]
  },
  {
   "cell_type": "markdown",
   "metadata": {},
   "source": [
    "Также отбросим признаки, которые не нужны для работы модели (а можно сказать что и вредны)"
   ]
  },
  {
   "cell_type": "code",
   "execution_count": 12,
   "metadata": {},
   "outputs": [],
   "source": [
    "df = df.drop(['rownumber', 'customerid', 'surname'], axis=1)"
   ]
  },
  {
   "cell_type": "code",
   "execution_count": 13,
   "metadata": {},
   "outputs": [
    {
     "data": {
      "text/html": [
       "<div>\n",
       "<style scoped>\n",
       "    .dataframe tbody tr th:only-of-type {\n",
       "        vertical-align: middle;\n",
       "    }\n",
       "\n",
       "    .dataframe tbody tr th {\n",
       "        vertical-align: top;\n",
       "    }\n",
       "\n",
       "    .dataframe thead th {\n",
       "        text-align: right;\n",
       "    }\n",
       "</style>\n",
       "<table border=\"1\" class=\"dataframe\">\n",
       "  <thead>\n",
       "    <tr style=\"text-align: right;\">\n",
       "      <th></th>\n",
       "      <th>column</th>\n",
       "      <th>count_values</th>\n",
       "      <th>unique_values</th>\n",
       "      <th>% unique</th>\n",
       "      <th>missing</th>\n",
       "      <th>% missing</th>\n",
       "      <th>dtype</th>\n",
       "    </tr>\n",
       "  </thead>\n",
       "  <tbody>\n",
       "    <tr>\n",
       "      <th>0</th>\n",
       "      <td>creditscore</td>\n",
       "      <td>9091</td>\n",
       "      <td>458</td>\n",
       "      <td>5.04%</td>\n",
       "      <td>0</td>\n",
       "      <td>0.0%</td>\n",
       "      <td>int64</td>\n",
       "    </tr>\n",
       "    <tr>\n",
       "      <th>1</th>\n",
       "      <td>geography</td>\n",
       "      <td>9091</td>\n",
       "      <td>3</td>\n",
       "      <td>0.03%</td>\n",
       "      <td>0</td>\n",
       "      <td>0.0%</td>\n",
       "      <td>object</td>\n",
       "    </tr>\n",
       "    <tr>\n",
       "      <th>2</th>\n",
       "      <td>gender</td>\n",
       "      <td>9091</td>\n",
       "      <td>2</td>\n",
       "      <td>0.02%</td>\n",
       "      <td>0</td>\n",
       "      <td>0.0%</td>\n",
       "      <td>object</td>\n",
       "    </tr>\n",
       "    <tr>\n",
       "      <th>3</th>\n",
       "      <td>age</td>\n",
       "      <td>9091</td>\n",
       "      <td>70</td>\n",
       "      <td>0.77%</td>\n",
       "      <td>0</td>\n",
       "      <td>0.0%</td>\n",
       "      <td>int64</td>\n",
       "    </tr>\n",
       "    <tr>\n",
       "      <th>4</th>\n",
       "      <td>tenure</td>\n",
       "      <td>9091</td>\n",
       "      <td>11</td>\n",
       "      <td>0.12%</td>\n",
       "      <td>0</td>\n",
       "      <td>0.0%</td>\n",
       "      <td>float64</td>\n",
       "    </tr>\n",
       "    <tr>\n",
       "      <th>5</th>\n",
       "      <td>balance</td>\n",
       "      <td>9091</td>\n",
       "      <td>5807</td>\n",
       "      <td>63.88%</td>\n",
       "      <td>0</td>\n",
       "      <td>0.0%</td>\n",
       "      <td>float64</td>\n",
       "    </tr>\n",
       "    <tr>\n",
       "      <th>6</th>\n",
       "      <td>numofproducts</td>\n",
       "      <td>9091</td>\n",
       "      <td>4</td>\n",
       "      <td>0.04%</td>\n",
       "      <td>0</td>\n",
       "      <td>0.0%</td>\n",
       "      <td>int64</td>\n",
       "    </tr>\n",
       "    <tr>\n",
       "      <th>7</th>\n",
       "      <td>hascrcard</td>\n",
       "      <td>9091</td>\n",
       "      <td>2</td>\n",
       "      <td>0.02%</td>\n",
       "      <td>0</td>\n",
       "      <td>0.0%</td>\n",
       "      <td>int64</td>\n",
       "    </tr>\n",
       "    <tr>\n",
       "      <th>8</th>\n",
       "      <td>isactivemember</td>\n",
       "      <td>9091</td>\n",
       "      <td>2</td>\n",
       "      <td>0.02%</td>\n",
       "      <td>0</td>\n",
       "      <td>0.0%</td>\n",
       "      <td>int64</td>\n",
       "    </tr>\n",
       "    <tr>\n",
       "      <th>9</th>\n",
       "      <td>estimatedsalary</td>\n",
       "      <td>9091</td>\n",
       "      <td>9090</td>\n",
       "      <td>99.99%</td>\n",
       "      <td>0</td>\n",
       "      <td>0.0%</td>\n",
       "      <td>float64</td>\n",
       "    </tr>\n",
       "    <tr>\n",
       "      <th>10</th>\n",
       "      <td>exited</td>\n",
       "      <td>9091</td>\n",
       "      <td>2</td>\n",
       "      <td>0.02%</td>\n",
       "      <td>0</td>\n",
       "      <td>0.0%</td>\n",
       "      <td>int64</td>\n",
       "    </tr>\n",
       "  </tbody>\n",
       "</table>\n",
       "</div>"
      ],
      "text/plain": [
       "             column  count_values  unique_values % unique  missing % missing  \\\n",
       "0       creditscore          9091            458    5.04%        0      0.0%   \n",
       "1         geography          9091              3    0.03%        0      0.0%   \n",
       "2            gender          9091              2    0.02%        0      0.0%   \n",
       "3               age          9091             70    0.77%        0      0.0%   \n",
       "4            tenure          9091             11    0.12%        0      0.0%   \n",
       "5           balance          9091           5807   63.88%        0      0.0%   \n",
       "6     numofproducts          9091              4    0.04%        0      0.0%   \n",
       "7         hascrcard          9091              2    0.02%        0      0.0%   \n",
       "8    isactivemember          9091              2    0.02%        0      0.0%   \n",
       "9   estimatedsalary          9091           9090   99.99%        0      0.0%   \n",
       "10           exited          9091              2    0.02%        0      0.0%   \n",
       "\n",
       "      dtype  \n",
       "0     int64  \n",
       "1    object  \n",
       "2    object  \n",
       "3     int64  \n",
       "4   float64  \n",
       "5   float64  \n",
       "6     int64  \n",
       "7     int64  \n",
       "8     int64  \n",
       "9   float64  \n",
       "10    int64  "
      ]
     },
     "execution_count": 13,
     "metadata": {},
     "output_type": "execute_result"
    }
   ],
   "source": [
    "get_dataset_short_info(df)"
   ]
  },
  {
   "cell_type": "markdown",
   "metadata": {},
   "source": [
    "Исходя из типов данных разделим признаки на 3 категории:\n",
    "\n",
    "- Номинальные категориалые - `geography` и `gender`. Для данных признаков мы применим One-Hot кодирование и будем использовать pd.get_dummies с drop_first в значении True\n",
    "\n",
    "- Численные - `creditscore`, `age`, `tenure`, `balance`, `numofproducts`, `estimatedsalary`. Данные признаки мы отмасштабируем с помощью StandardScaler и MinMaxScaler\n",
    "\n",
    "- Численные бинарные - `hascrcard` и `isactivemember` - оставим как есть"
   ]
  },
  {
   "cell_type": "markdown",
   "metadata": {},
   "source": [
    "## Подготовка моделей и метрик"
   ]
  },
  {
   "cell_type": "markdown",
   "metadata": {},
   "source": [
    "Подготовим метод для замера и сохранения метрик и 4 метода для построения базовых моделей"
   ]
  },
  {
   "cell_type": "markdown",
   "metadata": {},
   "source": [
    "### Метрики"
   ]
  },
  {
   "cell_type": "markdown",
   "metadata": {},
   "source": [
    "Создадим пустой DataFrame, куда будем заносить результаты экспериментов (моделей)"
   ]
  },
  {
   "cell_type": "code",
   "execution_count": 14,
   "metadata": {},
   "outputs": [],
   "source": [
    "experiments = pd.DataFrame(columns=['Accuracy_score', 'Precision_score', 'Recall_score', 'F1_score', 'AUC-ROC_score'])\n",
    "experiments.index.name = 'Модель'"
   ]
  },
  {
   "cell_type": "code",
   "execution_count": 15,
   "metadata": {},
   "outputs": [
    {
     "data": {
      "text/html": [
       "<div>\n",
       "<style scoped>\n",
       "    .dataframe tbody tr th:only-of-type {\n",
       "        vertical-align: middle;\n",
       "    }\n",
       "\n",
       "    .dataframe tbody tr th {\n",
       "        vertical-align: top;\n",
       "    }\n",
       "\n",
       "    .dataframe thead th {\n",
       "        text-align: right;\n",
       "    }\n",
       "</style>\n",
       "<table border=\"1\" class=\"dataframe\">\n",
       "  <thead>\n",
       "    <tr style=\"text-align: right;\">\n",
       "      <th></th>\n",
       "      <th>Accuracy_score</th>\n",
       "      <th>Precision_score</th>\n",
       "      <th>Recall_score</th>\n",
       "      <th>F1_score</th>\n",
       "      <th>AUC-ROC_score</th>\n",
       "    </tr>\n",
       "    <tr>\n",
       "      <th>Модель</th>\n",
       "      <th></th>\n",
       "      <th></th>\n",
       "      <th></th>\n",
       "      <th></th>\n",
       "      <th></th>\n",
       "    </tr>\n",
       "  </thead>\n",
       "  <tbody>\n",
       "  </tbody>\n",
       "</table>\n",
       "</div>"
      ],
      "text/plain": [
       "Empty DataFrame\n",
       "Columns: [Accuracy_score, Precision_score, Recall_score, F1_score, AUC-ROC_score]\n",
       "Index: []"
      ]
     },
     "execution_count": 15,
     "metadata": {},
     "output_type": "execute_result"
    }
   ],
   "source": [
    "experiments"
   ]
  },
  {
   "cell_type": "markdown",
   "metadata": {},
   "source": [
    "Данная функция будем принимать на вход предсказанные значения классов, таргет валидационной выборки и название эксперимента, а затем все это будет записываться в таблицу выше"
   ]
  },
  {
   "cell_type": "code",
   "execution_count": 16,
   "metadata": {},
   "outputs": [],
   "source": [
    "def add_experiment(predict, y_valid, exp_name):\n",
    "    \n",
    "    cf_matrix = confusion_matrix(predict, y_valid)\n",
    "    accuracy = accuracy_score(predict, y_valid)\n",
    "    precision = precision_score(predict, y_valid)\n",
    "    recall = recall_score(predict, y_valid)\n",
    "    f1 = f1_score(predict, y_valid)\n",
    "    auc_roc = roc_auc_score(predict, y_valid)\n",
    "    \n",
    "    experiments.loc[exp_name] = [accuracy, precision, recall, f1, auc_roc]"
   ]
  },
  {
   "cell_type": "markdown",
   "metadata": {},
   "source": [
    "### Logistic Regression"
   ]
  },
  {
   "cell_type": "markdown",
   "metadata": {},
   "source": [
    "Модель логистической регрессии, единственный параметр, который мы установим, это `solver` - liblinear"
   ]
  },
  {
   "cell_type": "code",
   "execution_count": 17,
   "metadata": {},
   "outputs": [],
   "source": [
    "def get_logreg_model(X_train, X_valid, y_train, y_valid, exp_name):\n",
    "    \"\"\"\n",
    "    Обучение и получение результатов в модели логистической регрессии\n",
    "    \"\"\"\n",
    "    print()\n",
    "    print('--------| Модель логистической регрессии |--------')\n",
    "    logreg = LogisticRegression(solver='liblinear', random_state=RANDOM_STATE)\n",
    "    logreg.fit(X_train, y_train)\n",
    "    predictions_train = logreg.predict(X_train)\n",
    "    predictions_valid = logreg.predict(X_valid)\n",
    "    add_experiment(predictions_valid, y_valid, exp_name)\n",
    "    \n",
    "    f1_on_train = f1_score(predictions_train, y_train)\n",
    "    f1_on_valid = f1_score(predictions_valid, y_valid)\n",
    "    print(f'F1 Score на тестовой выборке {f1_on_train}')\n",
    "    print(f'F1 Score на валидационной выборке {f1_on_valid}')"
   ]
  },
  {
   "cell_type": "code",
   "execution_count": 18,
   "metadata": {},
   "outputs": [],
   "source": [
    "def get_logreg_model_with_GS(X_train, X_valid, y_train, y_valid, exp_name):\n",
    "    \"\"\"\n",
    "    Обучение и получение результатов в модели логистической регрессии с перебором гиперпараметров\n",
    "    \"\"\"\n",
    "    print()\n",
    "    print('--------| Модель логистической регрессии |--------')\n",
    "    \n",
    "    logreg = LogisticRegression(solver='liblinear', random_state=RANDOM_STATE)\n",
    "    \n",
    "    # Определение гиперпараметров для перебора\n",
    "    param_grid = {\n",
    "        'C': [0.001, 0.01, 0.1, 1, 10, 100],\n",
    "        'penalty': ['l1', 'l2', 'elasticnet'],\n",
    "        'solver': ['newton-cg', 'lbfgs', 'liblinear', 'sag', 'saga'],\n",
    "        \n",
    "    }\n",
    "    \n",
    "    # Инициализация GridSearchCV\n",
    "    grid_search = GridSearchCV(logreg, param_grid, scoring='f1', cv=5, verbose=1, n_jobs=-1)\n",
    "    \n",
    "    # Обучение модели с перебором гиперпараметров\n",
    "    grid_search.fit(X_train, y_train)\n",
    "    \n",
    "    # Лучшая модель\n",
    "    best_logreg = grid_search.best_estimator_\n",
    "    \n",
    "    predictions_train = best_logreg.predict(X_train)\n",
    "    predictions_valid = best_logreg.predict(X_valid)\n",
    "    add_experiment(predictions_valid, y_valid, exp_name)\n",
    "    \n",
    "    f1_on_train = f1_score(predictions_train, y_train)\n",
    "    f1_on_valid = f1_score(predictions_valid, y_valid)\n",
    "    \n",
    "    print(f'Лучшие гиперпараметры: {grid_search.best_params_}')\n",
    "    print(f'F1 Score на тестовой выборке {f1_on_train}')\n",
    "    print(f'F1 Score на валидационной выборке {f1_on_valid}')\n"
   ]
  },
  {
   "cell_type": "markdown",
   "metadata": {},
   "source": [
    "### Decision Tree Classifier"
   ]
  },
  {
   "cell_type": "markdown",
   "metadata": {},
   "source": [
    "Модель дерева решений"
   ]
  },
  {
   "cell_type": "code",
   "execution_count": 19,
   "metadata": {},
   "outputs": [],
   "source": [
    "def get_tree_model(X_train, X_valid, y_train, y_valid, exp_name):\n",
    "    \"\"\"\n",
    "    Обучение и получение результатов в модели дерева решений\n",
    "    \"\"\"\n",
    "    print()\n",
    "    print('------------| Модель дерева решений |-------------')\n",
    "    tree = DecisionTreeClassifier(random_state=RANDOM_STATE)\n",
    "    tree.fit(X_train, y_train)\n",
    "    predictions_train = tree.predict(X_train)\n",
    "    predictions_valid = tree.predict(X_valid)\n",
    "    add_experiment(predictions_valid, y_valid, exp_name)\n",
    "    \n",
    "    f1_on_train = f1_score(predictions_train, y_train)\n",
    "    f1_on_valid = f1_score(predictions_valid, y_valid)\n",
    "    print(f'F1 Score на тестовой выборке {f1_on_train}')\n",
    "    print(f'F1 Score на валидационной выборке {f1_on_valid}')"
   ]
  },
  {
   "cell_type": "code",
   "execution_count": 20,
   "metadata": {},
   "outputs": [],
   "source": [
    "def get_tree_model_with_GS(X_train, X_valid, y_train, y_valid, exp_name):\n",
    "    \"\"\"\n",
    "    Обучение и получение результатов в модели дерева решений с перебором гиперпараметров\n",
    "    \"\"\"\n",
    "    print()\n",
    "    print('------------| Модель дерева решений |-------------')\n",
    "    \n",
    "    tree = DecisionTreeClassifier(random_state=RANDOM_STATE)\n",
    "    \n",
    "    # Определение гиперпараметров для перебора\n",
    "    param_grid = {\n",
    "        'max_depth': [3, 5, 7, 9, 11, 13, 17, 20,30,40,50,60,70,80,90,100,150,180,200,300,400, None],\n",
    "        'min_samples_split': range(2, 11),\n",
    "        'min_samples_leaf': range(1, 11),\n",
    "        'criterion': ['gini', 'entropy'],\n",
    "        'max_features': ['auto', 'sqrt', 'log2'],\n",
    "    }\n",
    "    \n",
    "    # Инициализация GridSearchCV\n",
    "    grid_search = GridSearchCV(tree, param_grid, scoring='f1', cv=5, verbose=1, n_jobs=-1)\n",
    "    \n",
    "    # Обучение модели с перебором гиперпараметров\n",
    "    grid_search.fit(X_train, y_train)\n",
    "    \n",
    "    # Лучшая модель\n",
    "    best_tree = grid_search.best_estimator_\n",
    "    \n",
    "    predictions_train = best_tree.predict(X_train)\n",
    "    predictions_valid = best_tree.predict(X_valid)\n",
    "    add_experiment(predictions_valid, y_valid, exp_name)\n",
    "    \n",
    "    f1_on_train = f1_score(predictions_train, y_train)\n",
    "    f1_on_valid = f1_score(predictions_valid, y_valid)\n",
    "    \n",
    "    print(f'Лучшие гиперпараметры: {grid_search.best_params_}')\n",
    "    print(f'F1 Score на тестовой выборке {f1_on_train}')\n",
    "    print(f'F1 Score на валидационной выборке {f1_on_valid}')\n"
   ]
  },
  {
   "cell_type": "markdown",
   "metadata": {},
   "source": [
    "### Random Forest Classifier"
   ]
  },
  {
   "cell_type": "markdown",
   "metadata": {},
   "source": [
    "Модель случайного леса"
   ]
  },
  {
   "cell_type": "code",
   "execution_count": 21,
   "metadata": {},
   "outputs": [],
   "source": [
    "def get_forest_model(X_train, X_valid, y_train, y_valid, exp_name):\n",
    "    \"\"\"\n",
    "    Обучение и получение результатов в модели случайного дерева\n",
    "    \"\"\"\n",
    "    print()\n",
    "    print('------------| Модель случайного леса |------------')\n",
    "    forest = RandomForestClassifier(random_state=RANDOM_STATE)\n",
    "    forest.fit(X_train, y_train)\n",
    "    predictions_train = forest.predict(X_train)\n",
    "    predictions_valid = forest.predict(X_valid)\n",
    "    add_experiment(predictions_valid, y_valid, exp_name)\n",
    "    \n",
    "    f1_on_train = f1_score(predictions_train, y_train)\n",
    "    f1_on_valid = f1_score(predictions_valid, y_valid)\n",
    "    print(f'F1 Score на тестовой выборке {f1_on_train}')\n",
    "    print(f'F1 Score на валидационной выборке {f1_on_valid}')"
   ]
  },
  {
   "cell_type": "code",
   "execution_count": 22,
   "metadata": {},
   "outputs": [],
   "source": [
    "def get_forest_model_with_GS(X_train, X_valid, y_train, y_valid, exp_name):\n",
    "    \"\"\"\n",
    "    Обучение и получение результатов в модели случайного леса с перебором гиперпараметров\n",
    "    \"\"\"\n",
    "    print()\n",
    "    print('------------| Модель случайного леса |------------')\n",
    "    \n",
    "    forest = RandomForestClassifier(random_state=RANDOM_STATE)\n",
    "    \n",
    "    # Определение гиперпараметров для перебора\n",
    "    param_grid = {\n",
    "        'n_estimators': [10, 20, 30, 40, 50, 100, 200],\n",
    "        'max_depth': range(1, 11),\n",
    "        'min_samples_split': range(2, 11),\n",
    "        'min_samples_leaf': range(1, 11),\n",
    "        'criterion': ['gini', 'entropy']\n",
    "    }\n",
    "    \n",
    "    # Инициализация GridSearchCV\n",
    "    grid_search = GridSearchCV(forest, param_grid, scoring='f1', cv=5, verbose=1, n_jobs=-1)\n",
    "    \n",
    "    # Обучение модели с перебором гиперпараметров\n",
    "    grid_search.fit(X_train, y_train)\n",
    "    \n",
    "    # Лучшая модель\n",
    "    best_forest = grid_search.best_estimator_\n",
    "    \n",
    "    predictions_train = best_forest.predict(X_train)\n",
    "    predictions_valid = best_forest.predict(X_valid)\n",
    "    add_experiment(predictions_valid, y_valid, exp_name)\n",
    "    \n",
    "    f1_on_train = f1_score(predictions_train, y_train)\n",
    "    f1_on_valid = f1_score(predictions_valid, y_valid)\n",
    "    \n",
    "    print(f'Лучшие гиперпараметры: {grid_search.best_params_}')\n",
    "    print(f'F1 Score на тестовой выборке {f1_on_train}')\n",
    "    print(f'F1 Score на валидационной выборке {f1_on_valid}')\n"
   ]
  },
  {
   "cell_type": "markdown",
   "metadata": {},
   "source": [
    "В данной задаче наш целевой признак имеем явный дизбаланс в сторону меток отрицательного класса, посмотрим на отношение меток классов:"
   ]
  },
  {
   "cell_type": "code",
   "execution_count": 23,
   "metadata": {},
   "outputs": [
    {
     "data": {
      "text/plain": [
       "0    0.796062\n",
       "1    0.203938\n",
       "Name: exited, dtype: float64"
      ]
     },
     "execution_count": 23,
     "metadata": {},
     "output_type": "execute_result"
    }
   ],
   "source": [
    "df['exited'].value_counts(normalize=True)"
   ]
  },
  {
   "cell_type": "markdown",
   "metadata": {},
   "source": [
    "Мы получаем, что отношение классов примерно 80 на 20.\n",
    "\n",
    "Для решения данной задачи сначала посмотрим на метрики без устранение дизбаланса, а затем попробуем разные методы устранение дизбаланса классов"
   ]
  },
  {
   "cell_type": "markdown",
   "metadata": {},
   "source": [
    "### Разделение на train, valid и test"
   ]
  },
  {
   "cell_type": "markdown",
   "metadata": {},
   "source": [
    "Разделим наш датасет на train, valid и test в соотношении 70, 15, 15 и посмотрим на объем выборок"
   ]
  },
  {
   "cell_type": "code",
   "execution_count": 24,
   "metadata": {},
   "outputs": [],
   "source": [
    "features = df.drop(['exited'], axis=1)\n",
    "target = df['exited']"
   ]
  },
  {
   "cell_type": "code",
   "execution_count": 25,
   "metadata": {},
   "outputs": [],
   "source": [
    "X_train, X_test, y_train, y_test = train_test_split(features, target, test_size=0.3, random_state=RANDOM_STATE)\n",
    "X_test, X_valid, y_test, y_valid = train_test_split(X_test, y_test, test_size=0.5, random_state=RANDOM_STATE)\n",
    "\n"
   ]
  },
  {
   "cell_type": "code",
   "execution_count": 26,
   "metadata": {},
   "outputs": [
    {
     "name": "stdout",
     "output_type": "stream",
     "text": [
      "Размеры выборок:\n",
      "Train: X - (6363, 10), y - (6363,)\n",
      "Validation: X - (1364, 10), y - (1364,)\n",
      "Test: X - (1364, 10), y - (1364,)\n"
     ]
    }
   ],
   "source": [
    "print('Размеры выборок:')\n",
    "print(f'Train: X - {X_train.shape}, y - {y_train.shape}')\n",
    "print(f'Validation: X - {X_valid.shape}, y - {y_valid.shape}')\n",
    "print(f'Test: X - {X_test.shape}, y - {y_test.shape}')"
   ]
  },
  {
   "cell_type": "markdown",
   "metadata": {},
   "source": [
    "### Кодирование признаков"
   ]
  },
  {
   "cell_type": "raw",
   "metadata": {},
   "source": [
    "enc_features = ['geography', 'gender']\n",
    "\n",
    "X_train_ohe = pd.get_dummies(X_train, columns=enc_features, drop_first=True)\n",
    "\n",
    "X_valid_ohe = pd.get_dummies(X_valid, columns=enc_features, drop_first=True)\n",
    "\n",
    "X_test_ohe = pd.get_dummies(X_test, columns=enc_features, drop_first=True)"
   ]
  },
  {
   "cell_type": "code",
   "execution_count": 27,
   "metadata": {},
   "outputs": [],
   "source": [
    "enc_features = ['geography', 'gender']\n",
    "\n",
    "# Создание экземпляра OneHotEncoder\n",
    "encoder = OneHotEncoder(sparse=False, drop='first')\n",
    "\n",
    "# Обучение и преобразование обучающей выборки\n",
    "encoder.fit(X_train[enc_features])\n",
    "X_train_encoded = encoder.transform(X_train[enc_features])\n",
    "X_train_ohe = X_train.drop(enc_features, axis=1)\n",
    "X_train_ohe[encoder.get_feature_names_out(enc_features)] = X_train_encoded\n",
    "\n",
    "# Преобразование валидационной выборки\n",
    "X_valid_encoded = encoder.transform(X_valid[enc_features])\n",
    "X_valid_ohe = X_valid.drop(enc_features, axis=1)\n",
    "X_valid_ohe[encoder.get_feature_names_out(enc_features)] = X_valid_encoded\n",
    "\n",
    "# Преобразование тестовой выборки\n",
    "X_test_encoded = encoder.transform(X_test[enc_features])\n",
    "X_test_ohe = X_test.drop(enc_features, axis=1)\n",
    "X_test_ohe[encoder.get_feature_names_out(enc_features)] = X_test_encoded\n"
   ]
  },
  {
   "cell_type": "code",
   "execution_count": 28,
   "metadata": {},
   "outputs": [],
   "source": [
    "scaling_features = ['creditscore', 'age', 'tenure', 'balance', 'numofproducts', 'estimatedsalary']\n",
    "\n",
    "scaler = StandardScaler()\n",
    "\n",
    "X_train_ohe[scaling_features] = scaler.fit_transform(X_train_ohe[scaling_features])\n",
    "\n",
    "X_valid_ohe[scaling_features] = scaler.transform(X_valid_ohe[scaling_features])\n",
    "\n",
    "X_test_ohe[scaling_features] = scaler.transform(X_test_ohe[scaling_features])"
   ]
  },
  {
   "cell_type": "markdown",
   "metadata": {},
   "source": [
    "В итоге мы получаем следующий датасет, которым будем обучать модели:"
   ]
  },
  {
   "cell_type": "code",
   "execution_count": 29,
   "metadata": {},
   "outputs": [
    {
     "data": {
      "text/html": [
       "<div>\n",
       "<style scoped>\n",
       "    .dataframe tbody tr th:only-of-type {\n",
       "        vertical-align: middle;\n",
       "    }\n",
       "\n",
       "    .dataframe tbody tr th {\n",
       "        vertical-align: top;\n",
       "    }\n",
       "\n",
       "    .dataframe thead th {\n",
       "        text-align: right;\n",
       "    }\n",
       "</style>\n",
       "<table border=\"1\" class=\"dataframe\">\n",
       "  <thead>\n",
       "    <tr style=\"text-align: right;\">\n",
       "      <th></th>\n",
       "      <th>creditscore</th>\n",
       "      <th>age</th>\n",
       "      <th>tenure</th>\n",
       "      <th>balance</th>\n",
       "      <th>numofproducts</th>\n",
       "      <th>hascrcard</th>\n",
       "      <th>isactivemember</th>\n",
       "      <th>estimatedsalary</th>\n",
       "      <th>geography_Germany</th>\n",
       "      <th>geography_Spain</th>\n",
       "      <th>gender_Male</th>\n",
       "    </tr>\n",
       "  </thead>\n",
       "  <tbody>\n",
       "    <tr>\n",
       "      <th>6821</th>\n",
       "      <td>1.588399</td>\n",
       "      <td>0.009501</td>\n",
       "      <td>0.682749</td>\n",
       "      <td>0.696826</td>\n",
       "      <td>0.815762</td>\n",
       "      <td>0</td>\n",
       "      <td>1</td>\n",
       "      <td>-0.705192</td>\n",
       "      <td>0.0</td>\n",
       "      <td>0.0</td>\n",
       "      <td>0.0</td>\n",
       "    </tr>\n",
       "    <tr>\n",
       "      <th>1525</th>\n",
       "      <td>-0.833431</td>\n",
       "      <td>0.199903</td>\n",
       "      <td>-0.353755</td>\n",
       "      <td>1.013244</td>\n",
       "      <td>-0.901873</td>\n",
       "      <td>1</td>\n",
       "      <td>1</td>\n",
       "      <td>1.103936</td>\n",
       "      <td>0.0</td>\n",
       "      <td>1.0</td>\n",
       "      <td>0.0</td>\n",
       "    </tr>\n",
       "    <tr>\n",
       "      <th>321</th>\n",
       "      <td>0.320316</td>\n",
       "      <td>-0.847310</td>\n",
       "      <td>1.028250</td>\n",
       "      <td>1.038972</td>\n",
       "      <td>-0.901873</td>\n",
       "      <td>1</td>\n",
       "      <td>1</td>\n",
       "      <td>-1.456789</td>\n",
       "      <td>0.0</td>\n",
       "      <td>0.0</td>\n",
       "      <td>0.0</td>\n",
       "    </tr>\n",
       "    <tr>\n",
       "      <th>9786</th>\n",
       "      <td>1.598793</td>\n",
       "      <td>-0.466505</td>\n",
       "      <td>-0.353755</td>\n",
       "      <td>1.062869</td>\n",
       "      <td>0.815762</td>\n",
       "      <td>1</td>\n",
       "      <td>1</td>\n",
       "      <td>0.257783</td>\n",
       "      <td>1.0</td>\n",
       "      <td>0.0</td>\n",
       "      <td>1.0</td>\n",
       "    </tr>\n",
       "    <tr>\n",
       "      <th>9462</th>\n",
       "      <td>1.567610</td>\n",
       "      <td>0.675909</td>\n",
       "      <td>0.337248</td>\n",
       "      <td>-1.233482</td>\n",
       "      <td>0.815762</td>\n",
       "      <td>1</td>\n",
       "      <td>0</td>\n",
       "      <td>1.250077</td>\n",
       "      <td>0.0</td>\n",
       "      <td>1.0</td>\n",
       "      <td>0.0</td>\n",
       "    </tr>\n",
       "    <tr>\n",
       "      <th>...</th>\n",
       "      <td>...</td>\n",
       "      <td>...</td>\n",
       "      <td>...</td>\n",
       "      <td>...</td>\n",
       "      <td>...</td>\n",
       "      <td>...</td>\n",
       "      <td>...</td>\n",
       "      <td>...</td>\n",
       "      <td>...</td>\n",
       "      <td>...</td>\n",
       "      <td>...</td>\n",
       "    </tr>\n",
       "    <tr>\n",
       "      <th>6312</th>\n",
       "      <td>0.091646</td>\n",
       "      <td>-1.037712</td>\n",
       "      <td>1.373751</td>\n",
       "      <td>1.221660</td>\n",
       "      <td>-0.901873</td>\n",
       "      <td>1</td>\n",
       "      <td>0</td>\n",
       "      <td>1.158854</td>\n",
       "      <td>1.0</td>\n",
       "      <td>0.0</td>\n",
       "      <td>0.0</td>\n",
       "    </tr>\n",
       "    <tr>\n",
       "      <th>5722</th>\n",
       "      <td>0.330710</td>\n",
       "      <td>-0.466505</td>\n",
       "      <td>-0.699256</td>\n",
       "      <td>-1.233482</td>\n",
       "      <td>0.815762</td>\n",
       "      <td>0</td>\n",
       "      <td>0</td>\n",
       "      <td>-0.769204</td>\n",
       "      <td>0.0</td>\n",
       "      <td>0.0</td>\n",
       "      <td>1.0</td>\n",
       "    </tr>\n",
       "    <tr>\n",
       "      <th>5940</th>\n",
       "      <td>2.076922</td>\n",
       "      <td>0.199903</td>\n",
       "      <td>0.337248</td>\n",
       "      <td>-1.233482</td>\n",
       "      <td>0.815762</td>\n",
       "      <td>1</td>\n",
       "      <td>1</td>\n",
       "      <td>1.202695</td>\n",
       "      <td>0.0</td>\n",
       "      <td>0.0</td>\n",
       "      <td>0.0</td>\n",
       "    </tr>\n",
       "    <tr>\n",
       "      <th>966</th>\n",
       "      <td>-0.895796</td>\n",
       "      <td>-0.466505</td>\n",
       "      <td>0.337248</td>\n",
       "      <td>1.012761</td>\n",
       "      <td>-0.901873</td>\n",
       "      <td>1</td>\n",
       "      <td>1</td>\n",
       "      <td>0.910778</td>\n",
       "      <td>0.0</td>\n",
       "      <td>0.0</td>\n",
       "      <td>0.0</td>\n",
       "    </tr>\n",
       "    <tr>\n",
       "      <th>8005</th>\n",
       "      <td>-0.157813</td>\n",
       "      <td>-0.276103</td>\n",
       "      <td>-1.390258</td>\n",
       "      <td>-0.116566</td>\n",
       "      <td>-0.901873</td>\n",
       "      <td>1</td>\n",
       "      <td>0</td>\n",
       "      <td>0.281588</td>\n",
       "      <td>0.0</td>\n",
       "      <td>0.0</td>\n",
       "      <td>0.0</td>\n",
       "    </tr>\n",
       "  </tbody>\n",
       "</table>\n",
       "<p>6363 rows × 11 columns</p>\n",
       "</div>"
      ],
      "text/plain": [
       "      creditscore       age    tenure   balance  numofproducts  hascrcard  \\\n",
       "6821     1.588399  0.009501  0.682749  0.696826       0.815762          0   \n",
       "1525    -0.833431  0.199903 -0.353755  1.013244      -0.901873          1   \n",
       "321      0.320316 -0.847310  1.028250  1.038972      -0.901873          1   \n",
       "9786     1.598793 -0.466505 -0.353755  1.062869       0.815762          1   \n",
       "9462     1.567610  0.675909  0.337248 -1.233482       0.815762          1   \n",
       "...           ...       ...       ...       ...            ...        ...   \n",
       "6312     0.091646 -1.037712  1.373751  1.221660      -0.901873          1   \n",
       "5722     0.330710 -0.466505 -0.699256 -1.233482       0.815762          0   \n",
       "5940     2.076922  0.199903  0.337248 -1.233482       0.815762          1   \n",
       "966     -0.895796 -0.466505  0.337248  1.012761      -0.901873          1   \n",
       "8005    -0.157813 -0.276103 -1.390258 -0.116566      -0.901873          1   \n",
       "\n",
       "      isactivemember  estimatedsalary  geography_Germany  geography_Spain  \\\n",
       "6821               1        -0.705192                0.0              0.0   \n",
       "1525               1         1.103936                0.0              1.0   \n",
       "321                1        -1.456789                0.0              0.0   \n",
       "9786               1         0.257783                1.0              0.0   \n",
       "9462               0         1.250077                0.0              1.0   \n",
       "...              ...              ...                ...              ...   \n",
       "6312               0         1.158854                1.0              0.0   \n",
       "5722               0        -0.769204                0.0              0.0   \n",
       "5940               1         1.202695                0.0              0.0   \n",
       "966                1         0.910778                0.0              0.0   \n",
       "8005               0         0.281588                0.0              0.0   \n",
       "\n",
       "      gender_Male  \n",
       "6821          0.0  \n",
       "1525          0.0  \n",
       "321           0.0  \n",
       "9786          1.0  \n",
       "9462          0.0  \n",
       "...           ...  \n",
       "6312          0.0  \n",
       "5722          1.0  \n",
       "5940          0.0  \n",
       "966           0.0  \n",
       "8005          0.0  \n",
       "\n",
       "[6363 rows x 11 columns]"
      ]
     },
     "execution_count": 29,
     "metadata": {},
     "output_type": "execute_result"
    }
   ],
   "source": [
    "X_train_ohe"
   ]
  },
  {
   "cell_type": "markdown",
   "metadata": {},
   "source": [
    "## Исследование моделей"
   ]
  },
  {
   "cell_type": "markdown",
   "metadata": {},
   "source": [
    "### Исследование моделей без устранения дисбаланса классов"
   ]
  },
  {
   "cell_type": "markdown",
   "metadata": {},
   "source": [
    "\"Прогоним\" все наши базовые модели без устранения дизбаланса классов и посмотрим на метрики"
   ]
  },
  {
   "cell_type": "code",
   "execution_count": 30,
   "metadata": {
    "scrolled": true
   },
   "outputs": [
    {
     "name": "stdout",
     "output_type": "stream",
     "text": [
      "\n",
      "--------| Модель логистической регрессии |--------\n",
      "F1 Score на тестовой выборке 0.3226531759415402\n",
      "F1 Score на валидационной выборке 0.25936599423631124\n",
      "\n",
      "------------| Модель дерева решений |-------------\n",
      "F1 Score на тестовой выборке 1.0\n",
      "F1 Score на валидационной выборке 0.4746376811594203\n",
      "\n",
      "------------| Модель случайного леса |------------\n",
      "F1 Score на тестовой выборке 1.0\n",
      "F1 Score на валидационной выборке 0.557142857142857\n"
     ]
    },
    {
     "data": {
      "text/html": [
       "<div>\n",
       "<style scoped>\n",
       "    .dataframe tbody tr th:only-of-type {\n",
       "        vertical-align: middle;\n",
       "    }\n",
       "\n",
       "    .dataframe tbody tr th {\n",
       "        vertical-align: top;\n",
       "    }\n",
       "\n",
       "    .dataframe thead th {\n",
       "        text-align: right;\n",
       "    }\n",
       "</style>\n",
       "<table border=\"1\" class=\"dataframe\">\n",
       "  <thead>\n",
       "    <tr style=\"text-align: right;\">\n",
       "      <th></th>\n",
       "      <th>Accuracy_score</th>\n",
       "      <th>Precision_score</th>\n",
       "      <th>Recall_score</th>\n",
       "      <th>F1_score</th>\n",
       "      <th>AUC-ROC_score</th>\n",
       "    </tr>\n",
       "    <tr>\n",
       "      <th>Модель</th>\n",
       "      <th></th>\n",
       "      <th></th>\n",
       "      <th></th>\n",
       "      <th></th>\n",
       "      <th></th>\n",
       "    </tr>\n",
       "  </thead>\n",
       "  <tbody>\n",
       "    <tr>\n",
       "      <th>logreg_base</th>\n",
       "      <td>0.811584</td>\n",
       "      <td>0.166052</td>\n",
       "      <td>0.592105</td>\n",
       "      <td>0.259366</td>\n",
       "      <td>0.708320</td>\n",
       "    </tr>\n",
       "    <tr>\n",
       "      <th>tree_base</th>\n",
       "      <td>0.787390</td>\n",
       "      <td>0.483395</td>\n",
       "      <td>0.466192</td>\n",
       "      <td>0.474638</td>\n",
       "      <td>0.668461</td>\n",
       "    </tr>\n",
       "    <tr>\n",
       "      <th>forest_base</th>\n",
       "      <td>0.863636</td>\n",
       "      <td>0.431734</td>\n",
       "      <td>0.785235</td>\n",
       "      <td>0.557143</td>\n",
       "      <td>0.829243</td>\n",
       "    </tr>\n",
       "  </tbody>\n",
       "</table>\n",
       "</div>"
      ],
      "text/plain": [
       "             Accuracy_score  Precision_score  Recall_score  F1_score  \\\n",
       "Модель                                                                 \n",
       "logreg_base        0.811584         0.166052      0.592105  0.259366   \n",
       "tree_base          0.787390         0.483395      0.466192  0.474638   \n",
       "forest_base        0.863636         0.431734      0.785235  0.557143   \n",
       "\n",
       "             AUC-ROC_score  \n",
       "Модель                      \n",
       "logreg_base       0.708320  \n",
       "tree_base         0.668461  \n",
       "forest_base       0.829243  "
      ]
     },
     "metadata": {},
     "output_type": "display_data"
    }
   ],
   "source": [
    "get_logreg_model(X_train_ohe, X_valid_ohe, y_train, y_valid, 'logreg_base')\n",
    "get_tree_model(X_train_ohe, X_valid_ohe, y_train, y_valid, 'tree_base')\n",
    "get_forest_model(X_train_ohe, X_valid_ohe, y_train, y_valid, 'forest_base')\n",
    "\n",
    "display(experiments)"
   ]
  },
  {
   "cell_type": "markdown",
   "metadata": {},
   "source": [
    "По первым моделям можем сделать вывод, что наилучшее значение метрики f1 у модели случайного леса, но при этом они меньше нашего целевого значения 0.59. Однако модель Catboost получила лучше результаты"
   ]
  },
  {
   "cell_type": "markdown",
   "metadata": {},
   "source": [
    "### Исследование моделей без устранения дисбаланса классов с перебором гиперпараметров"
   ]
  },
  {
   "cell_type": "code",
   "execution_count": 31,
   "metadata": {},
   "outputs": [
    {
     "name": "stdout",
     "output_type": "stream",
     "text": [
      "\n",
      "--------| Модель логистической регрессии |--------\n",
      "Fitting 5 folds for each of 90 candidates, totalling 450 fits\n",
      "Лучшие гиперпараметры: {'C': 10, 'penalty': 'l1', 'solver': 'liblinear'}\n",
      "F1 Score на тестовой выборке 0.32323232323232326\n",
      "F1 Score на валидационной выборке 0.26436781609195403\n",
      "\n",
      "------------| Модель дерева решений |-------------\n",
      "Fitting 5 folds for each of 11880 candidates, totalling 59400 fits\n",
      "Лучшие гиперпараметры: {'criterion': 'gini', 'max_depth': 9, 'max_features': 'auto', 'min_samples_leaf': 3, 'min_samples_split': 9}\n",
      "F1 Score на тестовой выборке 0.5985542168674699\n",
      "F1 Score на валидационной выборке 0.5159817351598174\n",
      "\n",
      "------------| Модель случайного леса |------------\n",
      "Fitting 5 folds for each of 12600 candidates, totalling 63000 fits\n",
      "Лучшие гиперпараметры: {'criterion': 'entropy', 'max_depth': 10, 'min_samples_leaf': 5, 'min_samples_split': 2, 'n_estimators': 20}\n",
      "F1 Score на тестовой выборке 0.6438356164383562\n",
      "F1 Score на валидационной выборке 0.5463414634146341\n"
     ]
    },
    {
     "data": {
      "text/html": [
       "<div>\n",
       "<style scoped>\n",
       "    .dataframe tbody tr th:only-of-type {\n",
       "        vertical-align: middle;\n",
       "    }\n",
       "\n",
       "    .dataframe tbody tr th {\n",
       "        vertical-align: top;\n",
       "    }\n",
       "\n",
       "    .dataframe thead th {\n",
       "        text-align: right;\n",
       "    }\n",
       "</style>\n",
       "<table border=\"1\" class=\"dataframe\">\n",
       "  <thead>\n",
       "    <tr style=\"text-align: right;\">\n",
       "      <th></th>\n",
       "      <th>Accuracy_score</th>\n",
       "      <th>Precision_score</th>\n",
       "      <th>Recall_score</th>\n",
       "      <th>F1_score</th>\n",
       "      <th>AUC-ROC_score</th>\n",
       "    </tr>\n",
       "    <tr>\n",
       "      <th>Модель</th>\n",
       "      <th></th>\n",
       "      <th></th>\n",
       "      <th></th>\n",
       "      <th></th>\n",
       "      <th></th>\n",
       "    </tr>\n",
       "  </thead>\n",
       "  <tbody>\n",
       "    <tr>\n",
       "      <th>logreg_base</th>\n",
       "      <td>0.811584</td>\n",
       "      <td>0.166052</td>\n",
       "      <td>0.592105</td>\n",
       "      <td>0.259366</td>\n",
       "      <td>0.708320</td>\n",
       "    </tr>\n",
       "    <tr>\n",
       "      <th>tree_base</th>\n",
       "      <td>0.787390</td>\n",
       "      <td>0.483395</td>\n",
       "      <td>0.466192</td>\n",
       "      <td>0.474638</td>\n",
       "      <td>0.668461</td>\n",
       "    </tr>\n",
       "    <tr>\n",
       "      <th>forest_base</th>\n",
       "      <td>0.863636</td>\n",
       "      <td>0.431734</td>\n",
       "      <td>0.785235</td>\n",
       "      <td>0.557143</td>\n",
       "      <td>0.829243</td>\n",
       "    </tr>\n",
       "    <tr>\n",
       "      <th>logreg_base_with_GS</th>\n",
       "      <td>0.812317</td>\n",
       "      <td>0.169742</td>\n",
       "      <td>0.597403</td>\n",
       "      <td>0.264368</td>\n",
       "      <td>0.711289</td>\n",
       "    </tr>\n",
       "    <tr>\n",
       "      <th>tree_base_with_GS</th>\n",
       "      <td>0.844575</td>\n",
       "      <td>0.416974</td>\n",
       "      <td>0.676647</td>\n",
       "      <td>0.515982</td>\n",
       "      <td>0.772325</td>\n",
       "    </tr>\n",
       "    <tr>\n",
       "      <th>forest_base_with_GS</th>\n",
       "      <td>0.863636</td>\n",
       "      <td>0.413284</td>\n",
       "      <td>0.805755</td>\n",
       "      <td>0.546341</td>\n",
       "      <td>0.837980</td>\n",
       "    </tr>\n",
       "  </tbody>\n",
       "</table>\n",
       "</div>"
      ],
      "text/plain": [
       "                     Accuracy_score  Precision_score  Recall_score  F1_score  \\\n",
       "Модель                                                                         \n",
       "logreg_base                0.811584         0.166052      0.592105  0.259366   \n",
       "tree_base                  0.787390         0.483395      0.466192  0.474638   \n",
       "forest_base                0.863636         0.431734      0.785235  0.557143   \n",
       "logreg_base_with_GS        0.812317         0.169742      0.597403  0.264368   \n",
       "tree_base_with_GS          0.844575         0.416974      0.676647  0.515982   \n",
       "forest_base_with_GS        0.863636         0.413284      0.805755  0.546341   \n",
       "\n",
       "                     AUC-ROC_score  \n",
       "Модель                              \n",
       "logreg_base               0.708320  \n",
       "tree_base                 0.668461  \n",
       "forest_base               0.829243  \n",
       "logreg_base_with_GS       0.711289  \n",
       "tree_base_with_GS         0.772325  \n",
       "forest_base_with_GS       0.837980  "
      ]
     },
     "metadata": {},
     "output_type": "display_data"
    },
    {
     "name": "stdout",
     "output_type": "stream",
     "text": [
      "CPU times: user 1min 55s, sys: 19.9 s, total: 2min 14s\n",
      "Wall time: 23min 6s\n"
     ]
    }
   ],
   "source": [
    "%%time\n",
    "\n",
    "\n",
    "get_logreg_model_with_GS(X_train_ohe, X_valid_ohe, y_train, y_valid, 'logreg_base_with_GS')\n",
    "get_tree_model_with_GS(X_train_ohe, X_valid_ohe, y_train, y_valid, 'tree_base_with_GS')\n",
    "get_forest_model_with_GS(X_train_ohe, X_valid_ohe, y_train, y_valid, 'forest_base_with_GS')\n",
    "\n",
    "display(experiments)"
   ]
  },
  {
   "cell_type": "markdown",
   "metadata": {},
   "source": [
    "### Исследование моделей с устранением дизбаланса классов"
   ]
  },
  {
   "cell_type": "markdown",
   "metadata": {},
   "source": [
    "Попробуем устранить дизбаланс классов. Для этого будем использовать две техники - увеличение и уменьшение выборки. "
   ]
  },
  {
   "cell_type": "markdown",
   "metadata": {},
   "source": [
    "#### Upsamping"
   ]
  },
  {
   "cell_type": "markdown",
   "metadata": {},
   "source": [
    "Техника увеличения выборки заключается в повышении доли меток отрицательно класса путем копирования наблюдений.\n",
    "\n",
    "Преобразование проходит в несколько этапов:\n",
    "- Обучающая выборка разделяется на отрицательные и положительные объекты\n",
    "- Копируются несколько раз положительные объекты\n",
    "- С учётом полученных данных создается новая обучающая выборка\n",
    "- Данные перемешиваются"
   ]
  },
  {
   "cell_type": "code",
   "execution_count": 32,
   "metadata": {},
   "outputs": [],
   "source": [
    "def upsample_data(features, target, repeat):\n",
    "    features_zeros = features[target == 0]\n",
    "    features_ones = features[target == 1]\n",
    "    target_zeros = target[target == 0]\n",
    "    target_ones = target[target == 1]\n",
    "\n",
    "    features_up = pd.concat([features_zeros] + [features_ones] * repeat)\n",
    "    target_up = pd.concat([target_zeros] + [target_ones] * repeat)\n",
    "\n",
    "    features_up, target_up = shuffle(features_up, target_up, random_state=RANDOM_STATE)\n",
    "    \n",
    "    return features_up, target_up"
   ]
  },
  {
   "cell_type": "markdown",
   "metadata": {},
   "source": [
    "Запустим обучение моделей на разном кол-ве повторений. Оптимальным значением, которое бы уравнивала выборки явлется число 4, но я можно попробовать обучить модели на отрезке значений от 1 до 7 и сравнить качество моделей."
   ]
  },
  {
   "cell_type": "code",
   "execution_count": 33,
   "metadata": {
    "scrolled": true
   },
   "outputs": [
    {
     "name": "stderr",
     "output_type": "stream",
     "text": [
      "Upsampling | Расчет моделей по кол-ву повторений 1:   0%| | 0/7 [00:00<?, ?it/s]"
     ]
    },
    {
     "name": "stdout",
     "output_type": "stream",
     "text": [
      "\n",
      "--------| Модель логистической регрессии |--------\n",
      "F1 Score на тестовой выборке 0.3226531759415402\n",
      "F1 Score на валидационной выборке 0.25936599423631124\n",
      "\n",
      "------------| Модель дерева решений |-------------\n",
      "F1 Score на тестовой выборке 1.0\n",
      "F1 Score на валидационной выборке 0.4746376811594203\n",
      "\n",
      "------------| Модель случайного леса |------------\n"
     ]
    },
    {
     "name": "stderr",
     "output_type": "stream",
     "text": [
      "Upsampling | Расчет моделей по кол-ву повторений 2:  14%|▏| 1/7 [00:00<00:04,  1"
     ]
    },
    {
     "name": "stdout",
     "output_type": "stream",
     "text": [
      "F1 Score на тестовой выборке 1.0\n",
      "F1 Score на валидационной выборке 0.524822695035461\n",
      "\n",
      "--------| Модель логистической регрессии |--------\n",
      "F1 Score на тестовой выборке 0.5429159990844586\n",
      "F1 Score на валидационной выборке 0.4147286821705426\n",
      "\n",
      "------------| Модель дерева решений |-------------\n",
      "F1 Score на тестовой выборке 1.0\n",
      "F1 Score на валидационной выборке 0.4850746268656716\n",
      "\n",
      "------------| Модель случайного леса |------------\n"
     ]
    },
    {
     "name": "stderr",
     "output_type": "stream",
     "text": [
      "Upsampling | Расчет моделей по кол-ву повторений 3:  29%|▎| 2/7 [00:01<00:03,  1"
     ]
    },
    {
     "name": "stdout",
     "output_type": "stream",
     "text": [
      "F1 Score на тестовой выборке 1.0\n",
      "F1 Score на валидационной выборке 0.5732484076433122\n",
      "\n",
      "--------| Модель логистической регрессии |--------\n",
      "F1 Score на тестовой выборке 0.6411140217840893\n",
      "F1 Score на валидационной выборке 0.4757709251101322\n",
      "\n",
      "------------| Модель дерева решений |-------------\n",
      "F1 Score на тестовой выборке 1.0\n",
      "F1 Score на валидационной выборке 0.5\n",
      "\n",
      "------------| Модель случайного леса |------------\n"
     ]
    },
    {
     "name": "stderr",
     "output_type": "stream",
     "text": [
      "Upsampling | Расчет моделей по кол-ву повторений 4:  43%|▍| 3/7 [00:02<00:03,  1"
     ]
    },
    {
     "name": "stdout",
     "output_type": "stream",
     "text": [
      "F1 Score на тестовой выборке 1.0\n",
      "F1 Score на валидационной выборке 0.5896907216494846\n",
      "\n",
      "--------| Модель логистической регрессии |--------\n",
      "F1 Score на тестовой выборке 0.7123713342396581\n",
      "F1 Score на валидационной выборке 0.47524752475247517\n",
      "\n",
      "------------| Модель дерева решений |-------------\n",
      "F1 Score на тестовой выборке 1.0\n",
      "F1 Score на валидационной выборке 0.5149253731343283\n",
      "\n",
      "------------| Модель случайного леса |------------\n"
     ]
    },
    {
     "name": "stderr",
     "output_type": "stream",
     "text": [
      "Upsampling | Расчет моделей по кол-ву повторений 5:  57%|▌| 4/7 [00:03<00:02,  1"
     ]
    },
    {
     "name": "stdout",
     "output_type": "stream",
     "text": [
      "F1 Score на тестовой выборке 1.0\n",
      "F1 Score на валидационной выборке 0.5991902834008097\n",
      "\n",
      "--------| Модель логистической регрессии |--------\n",
      "F1 Score на тестовой выборке 0.7544489307611785\n",
      "F1 Score на валидационной выборке 0.45951859956236324\n",
      "\n",
      "------------| Модель дерева решений |-------------\n",
      "F1 Score на тестовой выборке 1.0\n",
      "F1 Score на валидационной выборке 0.4743833017077799\n",
      "\n",
      "------------| Модель случайного леса |------------\n"
     ]
    },
    {
     "name": "stderr",
     "output_type": "stream",
     "text": [
      "Upsampling | Расчет моделей по кол-ву повторений 6:  71%|▋| 5/7 [00:04<00:01,  1"
     ]
    },
    {
     "name": "stdout",
     "output_type": "stream",
     "text": [
      "F1 Score на тестовой выборке 1.0\n",
      "F1 Score на валидационной выборке 0.5835010060362174\n",
      "\n",
      "--------| Модель логистической регрессии |--------\n",
      "F1 Score на тестовой выборке 0.7869567852597128\n",
      "F1 Score на валидационной выборке 0.44023904382470114\n",
      "\n",
      "------------| Модель дерева решений |-------------\n",
      "F1 Score на тестовой выборке 1.0\n",
      "F1 Score на валидационной выборке 0.4912959381044487\n",
      "\n",
      "------------| Модель случайного леса |------------\n"
     ]
    },
    {
     "name": "stderr",
     "output_type": "stream",
     "text": [
      "Upsampling | Расчет моделей по кол-ву повторений 7:  86%|▊| 6/7 [00:05<00:00,  1"
     ]
    },
    {
     "name": "stdout",
     "output_type": "stream",
     "text": [
      "F1 Score на тестовой выборке 1.0\n",
      "F1 Score на валидационной выборке 0.5870445344129555\n",
      "\n",
      "--------| Модель логистической регрессии |--------\n",
      "F1 Score на тестовой выборке 0.8061282196288109\n",
      "F1 Score на валидационной выборке 0.43283582089552236\n",
      "\n",
      "------------| Модель дерева решений |-------------\n",
      "F1 Score на тестовой выборке 1.0\n",
      "F1 Score на валидационной выборке 0.48120300751879697\n",
      "\n",
      "------------| Модель случайного леса |------------\n"
     ]
    },
    {
     "name": "stderr",
     "output_type": "stream",
     "text": [
      "Upsampling | Расчет моделей по кол-ву повторений 7: 100%|█| 7/7 [00:06<00:00,  1"
     ]
    },
    {
     "name": "stdout",
     "output_type": "stream",
     "text": [
      "F1 Score на тестовой выборке 1.0\n",
      "F1 Score на валидационной выборке 0.5818181818181818\n"
     ]
    },
    {
     "name": "stderr",
     "output_type": "stream",
     "text": [
      "\n"
     ]
    }
   ],
   "source": [
    "pbar = tqdm([i for i in range(1, 8)])\n",
    "for i in pbar:\n",
    "    pbar.set_description(f'Upsampling | Расчет моделей по кол-ву повторений {i}')\n",
    "    X_train_up, y_train_up = upsample_data(X_train_ohe, y_train, i)\n",
    "    \n",
    "    y_train_up.value_counts()\n",
    "    \n",
    "    get_logreg_model(X_train_up, X_valid_ohe, y_train_up, y_valid, f'logreg_upsample_{i}_repeat')\n",
    "    get_tree_model(X_train_up, X_valid_ohe, y_train_up, y_valid, f'tree_upsample_{i}_repeat')\n",
    "    get_forest_model(X_train_up, X_valid_ohe, y_train_up, y_valid, f'forest_upsample_{i}_repeat')\n",
    "    "
   ]
  },
  {
   "cell_type": "code",
   "execution_count": 34,
   "metadata": {},
   "outputs": [
    {
     "data": {
      "text/html": [
       "<div>\n",
       "<style scoped>\n",
       "    .dataframe tbody tr th:only-of-type {\n",
       "        vertical-align: middle;\n",
       "    }\n",
       "\n",
       "    .dataframe tbody tr th {\n",
       "        vertical-align: top;\n",
       "    }\n",
       "\n",
       "    .dataframe thead th {\n",
       "        text-align: right;\n",
       "    }\n",
       "</style>\n",
       "<table border=\"1\" class=\"dataframe\">\n",
       "  <thead>\n",
       "    <tr style=\"text-align: right;\">\n",
       "      <th></th>\n",
       "      <th>Accuracy_score</th>\n",
       "      <th>Precision_score</th>\n",
       "      <th>Recall_score</th>\n",
       "      <th>F1_score</th>\n",
       "      <th>AUC-ROC_score</th>\n",
       "    </tr>\n",
       "    <tr>\n",
       "      <th>Модель</th>\n",
       "      <th></th>\n",
       "      <th></th>\n",
       "      <th></th>\n",
       "      <th></th>\n",
       "      <th></th>\n",
       "    </tr>\n",
       "  </thead>\n",
       "  <tbody>\n",
       "    <tr>\n",
       "      <th>forest_upsample_4_repeat</th>\n",
       "      <td>0.854839</td>\n",
       "      <td>0.546125</td>\n",
       "      <td>0.663677</td>\n",
       "      <td>0.59919</td>\n",
       "      <td>0.777938</td>\n",
       "    </tr>\n",
       "  </tbody>\n",
       "</table>\n",
       "</div>"
      ],
      "text/plain": [
       "                          Accuracy_score  Precision_score  Recall_score  \\\n",
       "Модель                                                                    \n",
       "forest_upsample_4_repeat        0.854839         0.546125      0.663677   \n",
       "\n",
       "                          F1_score  AUC-ROC_score  \n",
       "Модель                                             \n",
       "forest_upsample_4_repeat   0.59919       0.777938  "
      ]
     },
     "execution_count": 34,
     "metadata": {},
     "output_type": "execute_result"
    }
   ],
   "source": [
    "experiments.query('F1_score > 0.59')"
   ]
  },
  {
   "cell_type": "markdown",
   "metadata": {},
   "source": [
    "Таблица получилось большая, но нам подходят только значения выше 0.59, в данный срез попало всего 3 модели:\n",
    "\n",
    "- **forest_upsample_4_repeat**"
   ]
  },
  {
   "cell_type": "markdown",
   "metadata": {},
   "source": [
    "#### downsampling"
   ]
  },
  {
   "cell_type": "markdown",
   "metadata": {},
   "source": [
    "Техника уменьшения выборки явлется обратной предыдущей - мы уменьшаем кол-во наблюдений с отрицательной меткой класса.\n",
    "\n",
    "Преобразование проходит в несколько этапов:\n",
    "- Обучающая выборка разделяется на отрицательные и положительные объекты\n",
    "- Случайным образом отбрасывается часть из отрицательных объектов\n",
    "- С учётом полученных данных создается новая обучающая выборка\n",
    "- Данные перемешиваются"
   ]
  },
  {
   "cell_type": "code",
   "execution_count": 35,
   "metadata": {},
   "outputs": [],
   "source": [
    "def downsample_data(features, target, fraction):\n",
    "    features_zeros = features[target == 0]\n",
    "    features_ones = features[target == 1]\n",
    "    target_zeros = target[target == 0]\n",
    "    target_ones = target[target == 1]\n",
    "    \n",
    "    features_down = pd.concat([features_zeros.sample(frac=fraction, random_state=RANDOM_STATE)] + [features_ones])\n",
    "    target_down = pd.concat([target_zeros.sample(frac=fraction, random_state=RANDOM_STATE)] + [target_ones])\n",
    "    \n",
    "    features_down, target_down = shuffle(features_down, target_down, random_state=RANDOM_STATE)\n",
    "    \n",
    "    return features_down, target_down"
   ]
  },
  {
   "cell_type": "markdown",
   "metadata": {},
   "source": [
    "Запустим обучение. Для данной техники оптимальное значение - 0.25, но также как и в прошлой технике я обучу модели с разным значением `fraction`"
   ]
  },
  {
   "cell_type": "code",
   "execution_count": 36,
   "metadata": {
    "scrolled": true
   },
   "outputs": [
    {
     "name": "stderr",
     "output_type": "stream",
     "text": [
      "Downsampling | Расчет моделей со значением fraction 0.1:   0%| | 0/7 [00:00<?, ?"
     ]
    },
    {
     "name": "stdout",
     "output_type": "stream",
     "text": [
      "1    1299\n",
      "0     506\n",
      "Name: exited, dtype: int64\n",
      "\n",
      "--------| Модель логистической регрессии |--------\n",
      "F1 Score на тестовой выборке 0.848936170212766\n",
      "F1 Score на валидационной выборке 0.3977546110665598\n",
      "\n",
      "------------| Модель дерева решений |-------------\n",
      "F1 Score на тестовой выборке 1.0\n",
      "F1 Score на валидационной выборке 0.44422310756972117\n",
      "\n",
      "------------| Модель случайного леса |------------\n"
     ]
    },
    {
     "name": "stderr",
     "output_type": "stream",
     "text": [
      "Downsampling | Расчет моделей со значением fraction 0.15:  14%|▏| 1/7 [00:00<00:"
     ]
    },
    {
     "name": "stdout",
     "output_type": "stream",
     "text": [
      "F1 Score на тестовой выборке 1.0\n",
      "F1 Score на валидационной выборке 0.46081208687440983\n",
      "1    1299\n",
      "0     760\n",
      "Name: exited, dtype: int64\n",
      "\n",
      "--------| Модель логистической регрессии |--------\n",
      "F1 Score на тестовой выборке 0.7981288233177402\n",
      "F1 Score на валидационной выборке 0.43519394512771997\n",
      "\n",
      "------------| Модель дерева решений |-------------\n",
      "F1 Score на тестовой выборке 1.0\n",
      "F1 Score на валидационной выборке 0.4580152671755726\n",
      "\n",
      "------------| Модель случайного леса |------------\n"
     ]
    },
    {
     "name": "stderr",
     "output_type": "stream",
     "text": [
      "Downsampling | Расчет моделей со значением fraction 0.2:  29%|▎| 2/7 [00:00<00:0"
     ]
    },
    {
     "name": "stdout",
     "output_type": "stream",
     "text": [
      "F1 Score на тестовой выборке 1.0\n",
      "F1 Score на валидационной выборке 0.4978070175438596\n",
      "1    1299\n",
      "0    1013\n",
      "Name: exited, dtype: int64\n",
      "\n",
      "--------| Модель логистической регрессии |--------\n",
      "F1 Score на тестовой выборке 0.7589285714285714\n",
      "F1 Score на валидационной выборке 0.45869565217391306\n",
      "\n",
      "------------| Модель дерева решений |-------------\n",
      "F1 Score на тестовой выборке 1.0\n",
      "F1 Score на валидационной выборке 0.4457274826789838\n",
      "\n",
      "------------| Модель случайного леса |------------\n"
     ]
    },
    {
     "name": "stderr",
     "output_type": "stream",
     "text": [
      "Downsampling | Расчет моделей со значением fraction 0.25:  43%|▍| 3/7 [00:00<00:"
     ]
    },
    {
     "name": "stdout",
     "output_type": "stream",
     "text": [
      "F1 Score на тестовой выборке 1.0\n",
      "F1 Score на валидационной выборке 0.5408163265306123\n",
      "1    1299\n",
      "0    1266\n",
      "Name: exited, dtype: int64\n",
      "\n",
      "--------| Модель логистической регрессии |--------\n",
      "F1 Score на тестовой выборке 0.7179289026275116\n",
      "F1 Score на валидационной выборке 0.4747847478474785\n",
      "\n",
      "------------| Модель дерева решений |-------------\n",
      "F1 Score на тестовой выборке 1.0\n",
      "F1 Score на валидационной выборке 0.44333748443337484\n",
      "\n",
      "------------| Модель случайного леса |------------\n"
     ]
    },
    {
     "name": "stderr",
     "output_type": "stream",
     "text": [
      "Downsampling | Расчет моделей со значением fraction 0.3:  57%|▌| 4/7 [00:01<00:0"
     ]
    },
    {
     "name": "stdout",
     "output_type": "stream",
     "text": [
      "F1 Score на тестовой выборке 1.0\n",
      "F1 Score на валидационной выборке 0.5579399141630901\n",
      "0    1519\n",
      "1    1299\n",
      "Name: exited, dtype: int64\n",
      "\n",
      "--------| Модель логистической регрессии |--------\n",
      "F1 Score на тестовой выборке 0.6698911729141476\n",
      "F1 Score на валидационной выборке 0.4813278008298755\n",
      "\n",
      "------------| Модель дерева решений |-------------\n",
      "F1 Score на тестовой выборке 1.0\n",
      "F1 Score на валидационной выборке 0.4904701397712833\n",
      "\n",
      "------------| Модель случайного леса |------------\n"
     ]
    },
    {
     "name": "stderr",
     "output_type": "stream",
     "text": [
      "Downsampling | Расчет моделей со значением fraction 0.35:  71%|▋| 5/7 [00:01<00:"
     ]
    },
    {
     "name": "stdout",
     "output_type": "stream",
     "text": [
      "F1 Score на тестовой выборке 1.0\n",
      "F1 Score на валидационной выборке 0.5639445300462249\n",
      "0    1772\n",
      "1    1299\n",
      "Name: exited, dtype: int64\n",
      "\n",
      "--------| Модель логистической регрессии |--------\n",
      "F1 Score на тестовой выборке 0.6425301706200581\n",
      "F1 Score на валидационной выборке 0.46015037593984964\n",
      "\n",
      "------------| Модель дерева решений |-------------\n",
      "F1 Score на тестовой выборке 1.0\n",
      "F1 Score на валидационной выборке 0.4986149584487535\n",
      "\n",
      "------------| Модель случайного леса |------------\n"
     ]
    },
    {
     "name": "stderr",
     "output_type": "stream",
     "text": [
      "Downsampling | Расчет моделей со значением fraction 0.4:  86%|▊| 6/7 [00:01<00:0"
     ]
    },
    {
     "name": "stdout",
     "output_type": "stream",
     "text": [
      "F1 Score на тестовой выборке 0.9996152366294729\n",
      "F1 Score на валидационной выборке 0.5829307568438004\n",
      "0    2026\n",
      "1    1299\n",
      "Name: exited, dtype: int64\n",
      "\n",
      "--------| Модель логистической регрессии |--------\n",
      "F1 Score на тестовой выборке 0.6048317515099223\n",
      "F1 Score на валидационной выборке 0.4526484751203852\n",
      "\n",
      "------------| Модель дерева решений |-------------\n",
      "F1 Score на тестовой выборке 1.0\n",
      "F1 Score на валидационной выборке 0.5082417582417583\n",
      "\n",
      "------------| Модель случайного леса |------------\n"
     ]
    },
    {
     "name": "stderr",
     "output_type": "stream",
     "text": [
      "Downsampling | Расчет моделей со значением fraction 0.4: 100%|█| 7/7 [00:02<00:0"
     ]
    },
    {
     "name": "stdout",
     "output_type": "stream",
     "text": [
      "F1 Score на тестовой выборке 1.0\n",
      "F1 Score на валидационной выборке 0.5934819897084048\n"
     ]
    },
    {
     "name": "stderr",
     "output_type": "stream",
     "text": [
      "\n"
     ]
    }
   ],
   "source": [
    "pbar = tqdm([i for i in [0.1, 0.15, 0.2, 0.25, 0.3, 0.35, 0.4]])\n",
    "for i in pbar:\n",
    "    pbar.set_description(f'Downsampling | Расчет моделей со значением fraction {i}')\n",
    "    X_train_down, y_train_down = downsample_data(X_train_ohe, y_train, i)\n",
    "    \n",
    "    print(y_train_down.value_counts())\n",
    "    \n",
    "    get_logreg_model(X_train_down, X_valid_ohe, y_train_down, y_valid, f'logreg_downsample_{i}_frac')\n",
    "    get_tree_model(X_train_down, X_valid_ohe, y_train_down, y_valid, f'tree_downsample_{i}_frac')\n",
    "    get_forest_model(X_train_down, X_valid_ohe, y_train_down, y_valid, f'forest_downsample_{i}_frac')\n",
    "    "
   ]
  },
  {
   "cell_type": "markdown",
   "metadata": {},
   "source": [
    "Техника уменьшения выборки показывает где-то лучший, где-то худший результат"
   ]
  },
  {
   "cell_type": "code",
   "execution_count": 37,
   "metadata": {},
   "outputs": [
    {
     "data": {
      "text/html": [
       "<div>\n",
       "<style scoped>\n",
       "    .dataframe tbody tr th:only-of-type {\n",
       "        vertical-align: middle;\n",
       "    }\n",
       "\n",
       "    .dataframe tbody tr th {\n",
       "        vertical-align: top;\n",
       "    }\n",
       "\n",
       "    .dataframe thead th {\n",
       "        text-align: right;\n",
       "    }\n",
       "</style>\n",
       "<table border=\"1\" class=\"dataframe\">\n",
       "  <thead>\n",
       "    <tr style=\"text-align: right;\">\n",
       "      <th></th>\n",
       "      <th>Accuracy_score</th>\n",
       "      <th>Precision_score</th>\n",
       "      <th>Recall_score</th>\n",
       "      <th>F1_score</th>\n",
       "      <th>AUC-ROC_score</th>\n",
       "    </tr>\n",
       "    <tr>\n",
       "      <th>Модель</th>\n",
       "      <th></th>\n",
       "      <th></th>\n",
       "      <th></th>\n",
       "      <th></th>\n",
       "      <th></th>\n",
       "    </tr>\n",
       "  </thead>\n",
       "  <tbody>\n",
       "    <tr>\n",
       "      <th>forest_upsample_4_repeat</th>\n",
       "      <td>0.854839</td>\n",
       "      <td>0.546125</td>\n",
       "      <td>0.663677</td>\n",
       "      <td>0.599190</td>\n",
       "      <td>0.777938</td>\n",
       "    </tr>\n",
       "    <tr>\n",
       "      <th>forest_downsample_0.4_frac</th>\n",
       "      <td>0.826246</td>\n",
       "      <td>0.638376</td>\n",
       "      <td>0.554487</td>\n",
       "      <td>0.593482</td>\n",
       "      <td>0.730666</td>\n",
       "    </tr>\n",
       "    <tr>\n",
       "      <th>forest_upsample_3_repeat</th>\n",
       "      <td>0.854106</td>\n",
       "      <td>0.527675</td>\n",
       "      <td>0.668224</td>\n",
       "      <td>0.589691</td>\n",
       "      <td>0.778460</td>\n",
       "    </tr>\n",
       "    <tr>\n",
       "      <th>forest_upsample_6_repeat</th>\n",
       "      <td>0.850440</td>\n",
       "      <td>0.535055</td>\n",
       "      <td>0.650224</td>\n",
       "      <td>0.587045</td>\n",
       "      <td>0.769897</td>\n",
       "    </tr>\n",
       "    <tr>\n",
       "      <th>forest_upsample_5_repeat</th>\n",
       "      <td>0.848240</td>\n",
       "      <td>0.535055</td>\n",
       "      <td>0.641593</td>\n",
       "      <td>0.583501</td>\n",
       "      <td>0.765436</td>\n",
       "    </tr>\n",
       "    <tr>\n",
       "      <th>forest_downsample_0.35_frac</th>\n",
       "      <td>0.810117</td>\n",
       "      <td>0.667897</td>\n",
       "      <td>0.517143</td>\n",
       "      <td>0.582931</td>\n",
       "      <td>0.714193</td>\n",
       "    </tr>\n",
       "    <tr>\n",
       "      <th>forest_upsample_7_repeat</th>\n",
       "      <td>0.848240</td>\n",
       "      <td>0.531365</td>\n",
       "      <td>0.642857</td>\n",
       "      <td>0.581818</td>\n",
       "      <td>0.765727</td>\n",
       "    </tr>\n",
       "    <tr>\n",
       "      <th>forest_upsample_2_repeat</th>\n",
       "      <td>0.852639</td>\n",
       "      <td>0.498155</td>\n",
       "      <td>0.675000</td>\n",
       "      <td>0.573248</td>\n",
       "      <td>0.779081</td>\n",
       "    </tr>\n",
       "    <tr>\n",
       "      <th>forest_downsample_0.3_frac</th>\n",
       "      <td>0.792522</td>\n",
       "      <td>0.675277</td>\n",
       "      <td>0.484127</td>\n",
       "      <td>0.563945</td>\n",
       "      <td>0.697439</td>\n",
       "    </tr>\n",
       "    <tr>\n",
       "      <th>forest_downsample_0.25_frac</th>\n",
       "      <td>0.773460</td>\n",
       "      <td>0.719557</td>\n",
       "      <td>0.455607</td>\n",
       "      <td>0.557940</td>\n",
       "      <td>0.687205</td>\n",
       "    </tr>\n",
       "    <tr>\n",
       "      <th>forest_base</th>\n",
       "      <td>0.863636</td>\n",
       "      <td>0.431734</td>\n",
       "      <td>0.785235</td>\n",
       "      <td>0.557143</td>\n",
       "      <td>0.829243</td>\n",
       "    </tr>\n",
       "    <tr>\n",
       "      <th>forest_base_with_GS</th>\n",
       "      <td>0.863636</td>\n",
       "      <td>0.413284</td>\n",
       "      <td>0.805755</td>\n",
       "      <td>0.546341</td>\n",
       "      <td>0.837980</td>\n",
       "    </tr>\n",
       "    <tr>\n",
       "      <th>forest_downsample_0.2_frac</th>\n",
       "      <td>0.736070</td>\n",
       "      <td>0.782288</td>\n",
       "      <td>0.413255</td>\n",
       "      <td>0.540816</td>\n",
       "      <td>0.671963</td>\n",
       "    </tr>\n",
       "    <tr>\n",
       "      <th>forest_upsample_1_repeat</th>\n",
       "      <td>0.852639</td>\n",
       "      <td>0.409594</td>\n",
       "      <td>0.730263</td>\n",
       "      <td>0.524823</td>\n",
       "      <td>0.799125</td>\n",
       "    </tr>\n",
       "    <tr>\n",
       "      <th>tree_base_with_GS</th>\n",
       "      <td>0.844575</td>\n",
       "      <td>0.416974</td>\n",
       "      <td>0.676647</td>\n",
       "      <td>0.515982</td>\n",
       "      <td>0.772325</td>\n",
       "    </tr>\n",
       "    <tr>\n",
       "      <th>tree_upsample_4_repeat</th>\n",
       "      <td>0.809384</td>\n",
       "      <td>0.509225</td>\n",
       "      <td>0.520755</td>\n",
       "      <td>0.514925</td>\n",
       "      <td>0.699868</td>\n",
       "    </tr>\n",
       "    <tr>\n",
       "      <th>tree_downsample_0.4_frac</th>\n",
       "      <td>0.737537</td>\n",
       "      <td>0.682657</td>\n",
       "      <td>0.404814</td>\n",
       "      <td>0.508242</td>\n",
       "      <td>0.654998</td>\n",
       "    </tr>\n",
       "  </tbody>\n",
       "</table>\n",
       "</div>"
      ],
      "text/plain": [
       "                             Accuracy_score  Precision_score  Recall_score  \\\n",
       "Модель                                                                       \n",
       "forest_upsample_4_repeat           0.854839         0.546125      0.663677   \n",
       "forest_downsample_0.4_frac         0.826246         0.638376      0.554487   \n",
       "forest_upsample_3_repeat           0.854106         0.527675      0.668224   \n",
       "forest_upsample_6_repeat           0.850440         0.535055      0.650224   \n",
       "forest_upsample_5_repeat           0.848240         0.535055      0.641593   \n",
       "forest_downsample_0.35_frac        0.810117         0.667897      0.517143   \n",
       "forest_upsample_7_repeat           0.848240         0.531365      0.642857   \n",
       "forest_upsample_2_repeat           0.852639         0.498155      0.675000   \n",
       "forest_downsample_0.3_frac         0.792522         0.675277      0.484127   \n",
       "forest_downsample_0.25_frac        0.773460         0.719557      0.455607   \n",
       "forest_base                        0.863636         0.431734      0.785235   \n",
       "forest_base_with_GS                0.863636         0.413284      0.805755   \n",
       "forest_downsample_0.2_frac         0.736070         0.782288      0.413255   \n",
       "forest_upsample_1_repeat           0.852639         0.409594      0.730263   \n",
       "tree_base_with_GS                  0.844575         0.416974      0.676647   \n",
       "tree_upsample_4_repeat             0.809384         0.509225      0.520755   \n",
       "tree_downsample_0.4_frac           0.737537         0.682657      0.404814   \n",
       "\n",
       "                             F1_score  AUC-ROC_score  \n",
       "Модель                                                \n",
       "forest_upsample_4_repeat     0.599190       0.777938  \n",
       "forest_downsample_0.4_frac   0.593482       0.730666  \n",
       "forest_upsample_3_repeat     0.589691       0.778460  \n",
       "forest_upsample_6_repeat     0.587045       0.769897  \n",
       "forest_upsample_5_repeat     0.583501       0.765436  \n",
       "forest_downsample_0.35_frac  0.582931       0.714193  \n",
       "forest_upsample_7_repeat     0.581818       0.765727  \n",
       "forest_upsample_2_repeat     0.573248       0.779081  \n",
       "forest_downsample_0.3_frac   0.563945       0.697439  \n",
       "forest_downsample_0.25_frac  0.557940       0.687205  \n",
       "forest_base                  0.557143       0.829243  \n",
       "forest_base_with_GS          0.546341       0.837980  \n",
       "forest_downsample_0.2_frac   0.540816       0.671963  \n",
       "forest_upsample_1_repeat     0.524823       0.799125  \n",
       "tree_base_with_GS            0.515982       0.772325  \n",
       "tree_upsample_4_repeat       0.514925       0.699868  \n",
       "tree_downsample_0.4_frac     0.508242       0.654998  "
      ]
     },
     "execution_count": 37,
     "metadata": {},
     "output_type": "execute_result"
    }
   ],
   "source": [
    "experiments.query('F1_score > 0.5').sort_values(by = 'F1_score',ascending = False)"
   ]
  },
  {
   "cell_type": "markdown",
   "metadata": {},
   "source": [
    "Для улучшения качества моделей подберем для них гиперпараметры. "
   ]
  },
  {
   "cell_type": "markdown",
   "metadata": {},
   "source": [
    "#### Выделим лучшие экземпляры по каждой модели"
   ]
  },
  {
   "cell_type": "markdown",
   "metadata": {},
   "source": [
    " Logistic Regression:\n",
    "- **logreg_downsample_0.3_frac**\n",
    "- **logreg_upsample_4_repeat**\n",
    "- **logreg_upsample_3_repeat**\n",
    "\n",
    "Decision Tree Classifier:\n",
    "- **tree_upsample_4_repeat**\n",
    "- **tree_downsample_0.4_frac**\n",
    "- **tree_upsample_3_repeat**\n",
    "\n",
    "Random Forest Classifier:\n",
    "- **forest_upsample_4_repeat**\n",
    "- **forest_downsample_0.4_frac**\n",
    "- **forest_upsample_3_repeat**"
   ]
  },
  {
   "cell_type": "markdown",
   "metadata": {},
   "source": [
    "#### Подбор гиперпараметров для модели Логистической регрессии"
   ]
  },
  {
   "cell_type": "markdown",
   "metadata": {},
   "source": [
    "Создаем похожую фунцию для подбора гиперпараметров логистической регрессии. В качестве перебираемых гиперпараметров будут:\n",
    "\n",
    "- C - сила регуляризации\n",
    "- penalty - используется для указания типа используемой нормализации"
   ]
  },
  {
   "cell_type": "code",
   "execution_count": 38,
   "metadata": {},
   "outputs": [],
   "source": [
    "def logreg_with_opt(X_train, X_valid, y_train, y_valid, exp_name):\n",
    "    \n",
    "    logreg = LogisticRegression(random_state=RANDOM_STATE)\n",
    "    \n",
    "    param_grid = {'C': [0.001, 0.01, 0.1, 1, 10, 100, 1000], 'penalty': ['l1', 'l2']}\n",
    "    logreg_search = GridSearchCV(logreg, param_grid, verbose=True)\n",
    "    logreg_search.fit(X_train, y_train)\n",
    "    \n",
    "    params = logreg_search.best_params_\n",
    "    \n",
    "    print(params)\n",
    "    \n",
    "    logred_tuned = LogisticRegression(random_state=RANDOM_STATE, **params)\n",
    "    \n",
    "    logred_tuned.fit(X_train, y_train)\n",
    "    \n",
    "    predicted = logred_tuned.predict(X_valid)\n",
    "    \n",
    "    score = f1_score(predicted, y_valid)\n",
    "    \n",
    "    add_experiment(predicted, y_valid, exp_name)\n",
    "    \n",
    "    print('f1 score', score)"
   ]
  },
  {
   "cell_type": "markdown",
   "metadata": {},
   "source": [
    "##### logreg_upsample_3_repeat"
   ]
  },
  {
   "cell_type": "code",
   "execution_count": 39,
   "metadata": {},
   "outputs": [],
   "source": [
    "X_train_logreg_model_1, y_train_logreg_model_1 = upsample_data(X_train_ohe, y_train, 3) "
   ]
  },
  {
   "cell_type": "code",
   "execution_count": 40,
   "metadata": {},
   "outputs": [
    {
     "name": "stdout",
     "output_type": "stream",
     "text": [
      "Fitting 5 folds for each of 14 candidates, totalling 70 fits\n",
      "{'C': 0.01, 'penalty': 'l2'}\n",
      "f1 score 0.47058823529411764\n"
     ]
    }
   ],
   "source": [
    "logreg_with_opt(X_train_logreg_model_1, X_valid_ohe, y_train_logreg_model_1, y_valid, 'logreg_upsample_0.3_frac_HYPER')"
   ]
  },
  {
   "cell_type": "markdown",
   "metadata": {},
   "source": [
    "##### logreg_upsample_4_repeat "
   ]
  },
  {
   "cell_type": "code",
   "execution_count": 41,
   "metadata": {},
   "outputs": [],
   "source": [
    "X_train_logreg_model_2, y_train_logreg_model_2 = upsample_data(X_train_ohe, y_train, 4) "
   ]
  },
  {
   "cell_type": "code",
   "execution_count": 42,
   "metadata": {
    "scrolled": true
   },
   "outputs": [
    {
     "name": "stdout",
     "output_type": "stream",
     "text": [
      "Fitting 5 folds for each of 14 candidates, totalling 70 fits\n",
      "{'C': 0.1, 'penalty': 'l2'}\n",
      "f1 score 0.47524752475247517\n"
     ]
    }
   ],
   "source": [
    "logreg_with_opt(X_train_logreg_model_2, X_valid_ohe, y_train_logreg_model_2, y_valid, 'logreg_upsample_0.4_frac_HYPER')\n",
    "\n"
   ]
  },
  {
   "cell_type": "markdown",
   "metadata": {},
   "source": [
    "##### logreg_downsample_0.3_frac"
   ]
  },
  {
   "cell_type": "code",
   "execution_count": 43,
   "metadata": {},
   "outputs": [],
   "source": [
    "X_train_logreg_model_3, y_train_logreg_model_3 = downsample_data(X_train_ohe, y_train, 0.3) "
   ]
  },
  {
   "cell_type": "code",
   "execution_count": 44,
   "metadata": {},
   "outputs": [
    {
     "name": "stdout",
     "output_type": "stream",
     "text": [
      "Fitting 5 folds for each of 14 candidates, totalling 70 fits\n",
      "{'C': 0.01, 'penalty': 'l2'}\n",
      "f1 score 0.47058823529411764\n"
     ]
    }
   ],
   "source": [
    "logreg_with_opt(X_train_logreg_model_1, X_valid_ohe, y_train_logreg_model_1, y_valid, ' logreg_downsample_0.3_frac_HYPER')"
   ]
  },
  {
   "cell_type": "markdown",
   "metadata": {},
   "source": [
    "#### Подбор гиперпараметров для модели Дерево решений"
   ]
  },
  {
   "cell_type": "markdown",
   "metadata": {},
   "source": [
    "- tree_upsample_4_repeat\n",
    "- tree_downsample_0.4_frac\n",
    "- tree_upsample_3_repeat"
   ]
  },
  {
   "cell_type": "code",
   "execution_count": 45,
   "metadata": {},
   "outputs": [],
   "source": [
    "def objective(trial: Trial, X_train, y_train, X_valid, y_valid):\n",
    "    params = {\n",
    "        'max_depth': trial.suggest_int('max_depth', 1, 50),\n",
    "        'min_samples_split': trial.suggest_int('min_samples_split', 2, 10),\n",
    "        'min_samples_leaf': trial.suggest_int('min_samples_leaf', 1, 10)\n",
    "    }\n",
    "    \n",
    "    model = DecisionTreeClassifier(random_state=RANDOM_STATE, **params)\n",
    "    model.fit(X_train, y_train)\n",
    "    \n",
    "    preds = model.predict(X_valid)\n",
    "    f1 = f1_score(y_valid, preds)\n",
    "    \n",
    "    return f1\n",
    "\n",
    "def dtree_with_opt(X_train, X_valid, y_train, y_valid, exp_name):\n",
    "    sampler = TPESampler(seed=RANDOM_STATE)\n",
    "    study = optuna.create_study(sampler=sampler, direction='maximize')\n",
    "    study.optimize(lambda trial: objective(trial, X_train, y_train, X_valid, y_valid), n_trials=20)\n",
    "\n",
    "    best_params = study.best_params\n",
    "    print(\"Best parameters:\", best_params)\n",
    "    \n",
    "    best_dtree = DecisionTreeClassifier(random_state=RANDOM_STATE, **best_params)\n",
    "    best_dtree.fit(X_train, y_train)\n",
    "    \n",
    "    predicted = best_dtree.predict(X_valid)\n",
    "    f1_best_model = f1_score(y_valid, predicted)\n",
    "\n",
    "    print(f'F1-score of the best model: {f1_best_model}')\n",
    "    add_experiment(predicted, y_valid, exp_name)\n"
   ]
  },
  {
   "cell_type": "markdown",
   "metadata": {},
   "source": [
    "##### tree_upsample_4_repeat"
   ]
  },
  {
   "cell_type": "code",
   "execution_count": 46,
   "metadata": {},
   "outputs": [],
   "source": [
    "X_train_tree_model_1, y_train_tree_model_1 = upsample_data(X_train_ohe, y_train, 4) "
   ]
  },
  {
   "cell_type": "code",
   "execution_count": 47,
   "metadata": {
    "scrolled": true
   },
   "outputs": [
    {
     "name": "stderr",
     "output_type": "stream",
     "text": [
      "\u001b[32m[I 2023-04-24 08:09:28,116]\u001b[0m A new study created in memory with name: no-name-384efe05-0775-466f-be62-a17d4c039487\u001b[0m\n",
      "\u001b[32m[I 2023-04-24 08:09:28,147]\u001b[0m Trial 0 finished with value: 0.5224358974358975 and parameters: {'max_depth': 19, 'min_samples_split': 10, 'min_samples_leaf': 8}. Best is trial 0 with value: 0.5224358974358975.\u001b[0m\n",
      "\u001b[32m[I 2023-04-24 08:09:28,178]\u001b[0m Trial 1 finished with value: 0.5191637630662022 and parameters: {'max_depth': 30, 'min_samples_split': 3, 'min_samples_leaf': 2}. Best is trial 0 with value: 0.5224358974358975.\u001b[0m\n",
      "\u001b[32m[I 2023-04-24 08:09:28,191]\u001b[0m Trial 2 finished with value: 0.4826666666666667 and parameters: {'max_depth': 3, 'min_samples_split': 9, 'min_samples_leaf': 7}. Best is trial 0 with value: 0.5224358974358975.\u001b[0m\n",
      "\u001b[32m[I 2023-04-24 08:09:28,220]\u001b[0m Trial 3 finished with value: 0.5429864253393666 and parameters: {'max_depth': 36, 'min_samples_split': 2, 'min_samples_leaf': 10}. Best is trial 3 with value: 0.5429864253393666.\u001b[0m\n",
      "\u001b[32m[I 2023-04-24 08:09:28,252]\u001b[0m Trial 4 finished with value: 0.5191637630662022 and parameters: {'max_depth': 42, 'min_samples_split': 3, 'min_samples_leaf': 2}. Best is trial 3 with value: 0.5429864253393666.\u001b[0m\n",
      "\u001b[32m[I 2023-04-24 08:09:28,278]\u001b[0m Trial 5 finished with value: 0.547455295735901 and parameters: {'max_depth': 10, 'min_samples_split': 4, 'min_samples_leaf': 6}. Best is trial 5 with value: 0.547455295735901.\u001b[0m\n",
      "\u001b[32m[I 2023-04-24 08:09:28,308]\u001b[0m Trial 6 finished with value: 0.5225225225225225 and parameters: {'max_depth': 22, 'min_samples_split': 4, 'min_samples_leaf': 7}. Best is trial 5 with value: 0.547455295735901.\u001b[0m\n",
      "\u001b[32m[I 2023-04-24 08:09:28,329]\u001b[0m Trial 7 finished with value: 0.5625 and parameters: {'max_depth': 7, 'min_samples_split': 4, 'min_samples_leaf': 4}. Best is trial 7 with value: 0.5625.\u001b[0m\n",
      "\u001b[32m[I 2023-04-24 08:09:28,361]\u001b[0m Trial 8 finished with value: 0.5392156862745099 and parameters: {'max_depth': 23, 'min_samples_split': 9, 'min_samples_leaf': 2}. Best is trial 7 with value: 0.5625.\u001b[0m\n",
      "\u001b[32m[I 2023-04-24 08:09:28,392]\u001b[0m Trial 9 finished with value: 0.5173041894353371 and parameters: {'max_depth': 26, 'min_samples_split': 7, 'min_samples_leaf': 1}. Best is trial 7 with value: 0.5625.\u001b[0m\n",
      "\u001b[32m[I 2023-04-24 08:09:28,409]\u001b[0m Trial 10 finished with value: 0.4826666666666667 and parameters: {'max_depth': 2, 'min_samples_split': 6, 'min_samples_leaf': 4}. Best is trial 7 with value: 0.5625.\u001b[0m\n",
      "\u001b[32m[I 2023-04-24 08:09:28,446]\u001b[0m Trial 11 finished with value: 0.5200594353640415 and parameters: {'max_depth': 13, 'min_samples_split': 5, 'min_samples_leaf': 5}. Best is trial 7 with value: 0.5625.\u001b[0m\n",
      "\u001b[32m[I 2023-04-24 08:09:28,479]\u001b[0m Trial 12 finished with value: 0.5697674418604651 and parameters: {'max_depth': 9, 'min_samples_split': 5, 'min_samples_leaf': 4}. Best is trial 12 with value: 0.5697674418604651.\u001b[0m\n",
      "\u001b[32m[I 2023-04-24 08:09:28,513]\u001b[0m Trial 13 finished with value: 0.5592011412268189 and parameters: {'max_depth': 11, 'min_samples_split': 7, 'min_samples_leaf': 4}. Best is trial 12 with value: 0.5697674418604651.\u001b[0m\n",
      "\u001b[32m[I 2023-04-24 08:09:28,542]\u001b[0m Trial 14 finished with value: 0.5625 and parameters: {'max_depth': 7, 'min_samples_split': 5, 'min_samples_leaf': 4}. Best is trial 12 with value: 0.5697674418604651.\u001b[0m\n",
      "\u001b[32m[I 2023-04-24 08:09:28,579]\u001b[0m Trial 15 finished with value: 0.5357142857142858 and parameters: {'max_depth': 16, 'min_samples_split': 6, 'min_samples_leaf': 3}. Best is trial 12 with value: 0.5697674418604651.\u001b[0m\n",
      "\u001b[32m[I 2023-04-24 08:09:28,594]\u001b[0m Trial 16 finished with value: 0.46612466124661245 and parameters: {'max_depth': 1, 'min_samples_split': 2, 'min_samples_leaf': 5}. Best is trial 12 with value: 0.5697674418604651.\u001b[0m\n",
      "\u001b[32m[I 2023-04-24 08:09:28,622]\u001b[0m Trial 17 finished with value: 0.5506493506493505 and parameters: {'max_depth': 6, 'min_samples_split': 4, 'min_samples_leaf': 6}. Best is trial 12 with value: 0.5697674418604651.\u001b[0m\n",
      "\u001b[32m[I 2023-04-24 08:09:28,659]\u001b[0m Trial 18 finished with value: 0.5206349206349206 and parameters: {'max_depth': 15, 'min_samples_split': 7, 'min_samples_leaf': 3}. Best is trial 12 with value: 0.5697674418604651.\u001b[0m\n",
      "\u001b[32m[I 2023-04-24 08:09:28,696]\u001b[0m Trial 19 finished with value: 0.5179407176287052 and parameters: {'max_depth': 50, 'min_samples_split': 5, 'min_samples_leaf': 9}. Best is trial 12 with value: 0.5697674418604651.\u001b[0m\n"
     ]
    },
    {
     "name": "stdout",
     "output_type": "stream",
     "text": [
      "Best parameters: {'max_depth': 9, 'min_samples_split': 5, 'min_samples_leaf': 4}\n",
      "F1-score of the best model: 0.5697674418604651\n"
     ]
    }
   ],
   "source": [
    "dtree_with_opt(X_train_tree_model_1, X_valid_ohe, y_train_tree_model_1, y_valid, ' tree_upsample_4_repeat_HYPER')"
   ]
  },
  {
   "cell_type": "markdown",
   "metadata": {},
   "source": [
    "##### tree_downsample_0.4_frac"
   ]
  },
  {
   "cell_type": "code",
   "execution_count": 48,
   "metadata": {},
   "outputs": [],
   "source": [
    "X_train_tree_model_2, y_train_tree_model_2 = downsample_data(X_train_ohe, y_train, 0.4) "
   ]
  },
  {
   "cell_type": "code",
   "execution_count": 49,
   "metadata": {
    "scrolled": true
   },
   "outputs": [
    {
     "name": "stderr",
     "output_type": "stream",
     "text": [
      "\u001b[32m[I 2023-04-24 08:09:28,735]\u001b[0m A new study created in memory with name: no-name-cf96abf8-e207-470e-80d8-a850087110b9\u001b[0m\n",
      "\u001b[32m[I 2023-04-24 08:09:28,748]\u001b[0m Trial 0 finished with value: 0.5512048192771084 and parameters: {'max_depth': 19, 'min_samples_split': 10, 'min_samples_leaf': 8}. Best is trial 0 with value: 0.5512048192771084.\u001b[0m\n",
      "\u001b[32m[I 2023-04-24 08:09:28,762]\u001b[0m Trial 1 finished with value: 0.5074626865671642 and parameters: {'max_depth': 30, 'min_samples_split': 3, 'min_samples_leaf': 2}. Best is trial 0 with value: 0.5512048192771084.\u001b[0m\n",
      "\u001b[32m[I 2023-04-24 08:09:28,769]\u001b[0m Trial 2 finished with value: 0.5176470588235295 and parameters: {'max_depth': 3, 'min_samples_split': 9, 'min_samples_leaf': 7}. Best is trial 0 with value: 0.5512048192771084.\u001b[0m\n",
      "\u001b[32m[I 2023-04-24 08:09:28,782]\u001b[0m Trial 3 finished with value: 0.5754276827371695 and parameters: {'max_depth': 36, 'min_samples_split': 2, 'min_samples_leaf': 10}. Best is trial 3 with value: 0.5754276827371695.\u001b[0m\n",
      "\u001b[32m[I 2023-04-24 08:09:28,796]\u001b[0m Trial 4 finished with value: 0.5074626865671642 and parameters: {'max_depth': 42, 'min_samples_split': 3, 'min_samples_leaf': 2}. Best is trial 3 with value: 0.5754276827371695.\u001b[0m\n",
      "\u001b[32m[I 2023-04-24 08:09:28,808]\u001b[0m Trial 5 finished with value: 0.5538461538461539 and parameters: {'max_depth': 10, 'min_samples_split': 4, 'min_samples_leaf': 6}. Best is trial 3 with value: 0.5754276827371695.\u001b[0m\n",
      "\u001b[32m[I 2023-04-24 08:09:28,821]\u001b[0m Trial 6 finished with value: 0.5393939393939393 and parameters: {'max_depth': 22, 'min_samples_split': 4, 'min_samples_leaf': 7}. Best is trial 3 with value: 0.5754276827371695.\u001b[0m\n",
      "\u001b[32m[I 2023-04-24 08:09:28,832]\u001b[0m Trial 7 finished with value: 0.5700325732899022 and parameters: {'max_depth': 7, 'min_samples_split': 4, 'min_samples_leaf': 4}. Best is trial 3 with value: 0.5754276827371695.\u001b[0m\n",
      "\u001b[32m[I 2023-04-24 08:09:28,846]\u001b[0m Trial 8 finished with value: 0.5275707898658718 and parameters: {'max_depth': 23, 'min_samples_split': 9, 'min_samples_leaf': 2}. Best is trial 3 with value: 0.5754276827371695.\u001b[0m\n",
      "\u001b[32m[I 2023-04-24 08:09:28,861]\u001b[0m Trial 9 finished with value: 0.5219858156028369 and parameters: {'max_depth': 26, 'min_samples_split': 7, 'min_samples_leaf': 1}. Best is trial 3 with value: 0.5754276827371695.\u001b[0m\n",
      "\u001b[32m[I 2023-04-24 08:09:28,881]\u001b[0m Trial 10 finished with value: 0.5754276827371695 and parameters: {'max_depth': 49, 'min_samples_split': 6, 'min_samples_leaf': 10}. Best is trial 3 with value: 0.5754276827371695.\u001b[0m\n",
      "\u001b[32m[I 2023-04-24 08:09:28,902]\u001b[0m Trial 11 finished with value: 0.5754276827371695 and parameters: {'max_depth': 47, 'min_samples_split': 6, 'min_samples_leaf': 10}. Best is trial 3 with value: 0.5754276827371695.\u001b[0m\n",
      "\u001b[32m[I 2023-04-24 08:09:28,922]\u001b[0m Trial 12 finished with value: 0.5754276827371695 and parameters: {'max_depth': 38, 'min_samples_split': 6, 'min_samples_leaf': 10}. Best is trial 3 with value: 0.5754276827371695.\u001b[0m\n",
      "\u001b[32m[I 2023-04-24 08:09:28,942]\u001b[0m Trial 13 finished with value: 0.5548961424332344 and parameters: {'max_depth': 50, 'min_samples_split': 2, 'min_samples_leaf': 9}. Best is trial 3 with value: 0.5754276827371695.\u001b[0m\n",
      "\u001b[32m[I 2023-04-24 08:09:28,962]\u001b[0m Trial 14 finished with value: 0.5548961424332344 and parameters: {'max_depth': 36, 'min_samples_split': 7, 'min_samples_leaf': 9}. Best is trial 3 with value: 0.5754276827371695.\u001b[0m\n",
      "\u001b[32m[I 2023-04-24 08:09:28,984]\u001b[0m Trial 15 finished with value: 0.5294964028776978 and parameters: {'max_depth': 44, 'min_samples_split': 2, 'min_samples_leaf': 5}. Best is trial 3 with value: 0.5754276827371695.\u001b[0m\n",
      "\u001b[32m[I 2023-04-24 08:09:29,004]\u001b[0m Trial 16 finished with value: 0.5754276827371695 and parameters: {'max_depth': 35, 'min_samples_split': 5, 'min_samples_leaf': 10}. Best is trial 3 with value: 0.5754276827371695.\u001b[0m\n",
      "\u001b[32m[I 2023-04-24 08:09:29,024]\u001b[0m Trial 17 finished with value: 0.5512048192771084 and parameters: {'max_depth': 40, 'min_samples_split': 8, 'min_samples_leaf': 8}. Best is trial 3 with value: 0.5754276827371695.\u001b[0m\n",
      "\u001b[32m[I 2023-04-24 08:09:29,044]\u001b[0m Trial 18 finished with value: 0.5548961424332344 and parameters: {'max_depth': 32, 'min_samples_split': 5, 'min_samples_leaf': 9}. Best is trial 3 with value: 0.5754276827371695.\u001b[0m\n",
      "\u001b[32m[I 2023-04-24 08:09:29,065]\u001b[0m Trial 19 finished with value: 0.5120481927710843 and parameters: {'max_depth': 50, 'min_samples_split': 7, 'min_samples_leaf': 4}. Best is trial 3 with value: 0.5754276827371695.\u001b[0m\n"
     ]
    },
    {
     "name": "stdout",
     "output_type": "stream",
     "text": [
      "Best parameters: {'max_depth': 36, 'min_samples_split': 2, 'min_samples_leaf': 10}\n",
      "F1-score of the best model: 0.5754276827371695\n"
     ]
    }
   ],
   "source": [
    "dtree_with_opt(X_train_tree_model_2, X_valid_ohe, y_train_tree_model_2, y_valid, 'tree_downsample_0.4_frac_HYPER')\n",
    "\n"
   ]
  },
  {
   "cell_type": "markdown",
   "metadata": {},
   "source": [
    "##### tree_upsample_3_repeat"
   ]
  },
  {
   "cell_type": "code",
   "execution_count": 50,
   "metadata": {},
   "outputs": [],
   "source": [
    "X_train_tree_model_3, y_train_tree_model_3 = upsample_data(X_train_ohe, y_train, 3) "
   ]
  },
  {
   "cell_type": "code",
   "execution_count": 51,
   "metadata": {
    "scrolled": true
   },
   "outputs": [
    {
     "name": "stderr",
     "output_type": "stream",
     "text": [
      "\u001b[32m[I 2023-04-24 08:09:29,091]\u001b[0m A new study created in memory with name: no-name-449285f5-ffd9-467c-82ce-d4a828836950\u001b[0m\n",
      "\u001b[32m[I 2023-04-24 08:09:29,119]\u001b[0m Trial 0 finished with value: 0.5454545454545454 and parameters: {'max_depth': 19, 'min_samples_split': 10, 'min_samples_leaf': 8}. Best is trial 0 with value: 0.5454545454545454.\u001b[0m\n",
      "\u001b[32m[I 2023-04-24 08:09:29,147]\u001b[0m Trial 1 finished with value: 0.5406360424028268 and parameters: {'max_depth': 30, 'min_samples_split': 3, 'min_samples_leaf': 2}. Best is trial 0 with value: 0.5454545454545454.\u001b[0m\n",
      "\u001b[32m[I 2023-04-24 08:09:29,158]\u001b[0m Trial 2 finished with value: 0.5194274028629857 and parameters: {'max_depth': 3, 'min_samples_split': 9, 'min_samples_leaf': 7}. Best is trial 0 with value: 0.5454545454545454.\u001b[0m\n",
      "\u001b[32m[I 2023-04-24 08:09:29,184]\u001b[0m Trial 3 finished with value: 0.5352564102564102 and parameters: {'max_depth': 36, 'min_samples_split': 2, 'min_samples_leaf': 10}. Best is trial 0 with value: 0.5454545454545454.\u001b[0m\n",
      "\u001b[32m[I 2023-04-24 08:09:29,213]\u001b[0m Trial 4 finished with value: 0.5406360424028268 and parameters: {'max_depth': 42, 'min_samples_split': 3, 'min_samples_leaf': 2}. Best is trial 0 with value: 0.5454545454545454.\u001b[0m\n",
      "\u001b[32m[I 2023-04-24 08:09:29,238]\u001b[0m Trial 5 finished with value: 0.5379746835443038 and parameters: {'max_depth': 10, 'min_samples_split': 4, 'min_samples_leaf': 6}. Best is trial 0 with value: 0.5454545454545454.\u001b[0m\n",
      "\u001b[32m[I 2023-04-24 08:09:29,265]\u001b[0m Trial 6 finished with value: 0.5230769230769231 and parameters: {'max_depth': 22, 'min_samples_split': 4, 'min_samples_leaf': 7}. Best is trial 0 with value: 0.5454545454545454.\u001b[0m\n",
      "\u001b[32m[I 2023-04-24 08:09:29,285]\u001b[0m Trial 7 finished with value: 0.5597667638483964 and parameters: {'max_depth': 7, 'min_samples_split': 4, 'min_samples_leaf': 4}. Best is trial 7 with value: 0.5597667638483964.\u001b[0m\n",
      "\u001b[32m[I 2023-04-24 08:09:29,314]\u001b[0m Trial 8 finished with value: 0.5543859649122806 and parameters: {'max_depth': 23, 'min_samples_split': 9, 'min_samples_leaf': 2}. Best is trial 7 with value: 0.5597667638483964.\u001b[0m\n",
      "\u001b[32m[I 2023-04-24 08:09:29,343]\u001b[0m Trial 9 finished with value: 0.5267034990791898 and parameters: {'max_depth': 26, 'min_samples_split': 7, 'min_samples_leaf': 1}. Best is trial 7 with value: 0.5597667638483964.\u001b[0m\n",
      "\u001b[32m[I 2023-04-24 08:09:29,359]\u001b[0m Trial 10 finished with value: 0.48801128349788436 and parameters: {'max_depth': 2, 'min_samples_split': 6, 'min_samples_leaf': 4}. Best is trial 7 with value: 0.5597667638483964.\u001b[0m\n",
      "\u001b[32m[I 2023-04-24 08:09:29,394]\u001b[0m Trial 11 finished with value: 0.5304777594728171 and parameters: {'max_depth': 14, 'min_samples_split': 7, 'min_samples_leaf': 4}. Best is trial 7 with value: 0.5597667638483964.\u001b[0m\n",
      "\u001b[32m[I 2023-04-24 08:09:29,427]\u001b[0m Trial 12 finished with value: 0.542319749216301 and parameters: {'max_depth': 11, 'min_samples_split': 6, 'min_samples_leaf': 4}. Best is trial 7 with value: 0.5597667638483964.\u001b[0m\n",
      "\u001b[32m[I 2023-04-24 08:09:29,463]\u001b[0m Trial 13 finished with value: 0.5407279029462738 and parameters: {'max_depth': 49, 'min_samples_split': 8, 'min_samples_leaf': 3}. Best is trial 7 with value: 0.5597667638483964.\u001b[0m\n",
      "\u001b[32m[I 2023-04-24 08:09:29,500]\u001b[0m Trial 14 finished with value: 0.5083487940630798 and parameters: {'max_depth': 33, 'min_samples_split': 5, 'min_samples_leaf': 1}. Best is trial 7 with value: 0.5597667638483964.\u001b[0m\n",
      "\u001b[32m[I 2023-04-24 08:09:29,535]\u001b[0m Trial 15 finished with value: 0.5342465753424657 and parameters: {'max_depth': 16, 'min_samples_split': 10, 'min_samples_leaf': 3}. Best is trial 7 with value: 0.5597667638483964.\u001b[0m\n",
      "\u001b[32m[I 2023-04-24 08:09:29,564]\u001b[0m Trial 16 finished with value: 0.5660377358490565 and parameters: {'max_depth': 8, 'min_samples_split': 8, 'min_samples_leaf': 5}. Best is trial 16 with value: 0.5660377358490565.\u001b[0m\n",
      "\u001b[32m[I 2023-04-24 08:09:29,590]\u001b[0m Trial 17 finished with value: 0.5579399141630901 and parameters: {'max_depth': 6, 'min_samples_split': 5, 'min_samples_leaf': 5}. Best is trial 16 with value: 0.5660377358490565.\u001b[0m\n",
      "\u001b[32m[I 2023-04-24 08:09:29,619]\u001b[0m Trial 18 finished with value: 0.5669291338582677 and parameters: {'max_depth': 8, 'min_samples_split': 8, 'min_samples_leaf': 6}. Best is trial 18 with value: 0.5669291338582677.\u001b[0m\n",
      "\u001b[32m[I 2023-04-24 08:09:29,634]\u001b[0m Trial 19 finished with value: 0.46397694524495675 and parameters: {'max_depth': 1, 'min_samples_split': 8, 'min_samples_leaf': 9}. Best is trial 18 with value: 0.5669291338582677.\u001b[0m\n"
     ]
    },
    {
     "name": "stdout",
     "output_type": "stream",
     "text": [
      "Best parameters: {'max_depth': 8, 'min_samples_split': 8, 'min_samples_leaf': 6}\n",
      "F1-score of the best model: 0.5669291338582677\n"
     ]
    }
   ],
   "source": [
    "dtree_with_opt(X_train_tree_model_3, X_valid_ohe, y_train_tree_model_3, y_valid, ' tree_upsample_3_repeat_HYPER')"
   ]
  },
  {
   "cell_type": "markdown",
   "metadata": {},
   "source": [
    "#### Подбор гиперпараметров для модели Случайного леса"
   ]
  },
  {
   "cell_type": "markdown",
   "metadata": {},
   "source": [
    "И наконец, улучшим модель случайного леса\n",
    "\n",
    "Подберем для модели гиперпараметры:\n",
    "\n",
    "- n_estimators - количество деревьев в лесу модели\n",
    "- max_depth - максимальная глубина каждого дерева\n",
    "- min_samples_split - количество выборок, необходимых для разделения внутреннего конечного узла\n",
    "- min_samples_leaf - минимальное количество выборок, которое требуется для конечного узла"
   ]
  },
  {
   "cell_type": "code",
   "execution_count": 52,
   "metadata": {},
   "outputs": [],
   "source": [
    "def objective(trial, X_train, y_train, X_valid, y_valid):\n",
    "    n_estimators = trial.suggest_int(\"n_estimators\", 10, 1000)\n",
    "    max_depth = trial.suggest_int(\"max_depth\", 10, 50)\n",
    "    min_samples_split = trial.suggest_int(\"min_samples_split\", 2, 10)\n",
    "    min_samples_leaf = trial.suggest_int(\"min_samples_leaf\", 1, 10)\n",
    "\n",
    "    forest = RandomForestClassifier(n_estimators=n_estimators,\n",
    "                                    max_depth=max_depth,\n",
    "                                    min_samples_split=min_samples_split,\n",
    "                                    min_samples_leaf=min_samples_leaf,\n",
    "                                    random_state=RANDOM_STATE)\n",
    "    forest.fit(X_train, y_train)\n",
    "    return f1_score(y_valid, forest.predict(X_valid))\n",
    "\n",
    "def forest_with_opt(X_train, X_valid, y_train, y_valid, exp_name):\n",
    "    study = optuna.create_study(direction='maximize')\n",
    "    study.optimize(lambda trial: objective(trial, X_train, y_train, X_valid, y_valid), n_trials=100)\n",
    "\n",
    "    params = study.best_params\n",
    "    print(params)\n",
    "\n",
    "    forest_tuned = RandomForestClassifier(random_state=RANDOM_STATE, **params)\n",
    "    forest_tuned.fit(X_train, y_train)\n",
    "\n",
    "    predicted = forest_tuned.predict(X_valid)\n",
    "    score = f1_score(predicted, y_valid)\n",
    "    \n",
    "    add_experiment(predicted, y_valid, exp_name)\n",
    "    print('f1 score', score)"
   ]
  },
  {
   "cell_type": "markdown",
   "metadata": {},
   "source": [
    "- forest_upsample_4_repeat\n",
    "- forest_downsample_0.4_frac\n",
    "- forest_upsample_3_repeat"
   ]
  },
  {
   "cell_type": "markdown",
   "metadata": {},
   "source": [
    "##### forest_upsample_4_repeat"
   ]
  },
  {
   "cell_type": "code",
   "execution_count": 53,
   "metadata": {},
   "outputs": [],
   "source": [
    "X_train_forest_model_1, y_train_forest_model_1 = upsample_data(X_train_ohe, y_train, 4) "
   ]
  },
  {
   "cell_type": "code",
   "execution_count": 54,
   "metadata": {
    "scrolled": true
   },
   "outputs": [
    {
     "name": "stderr",
     "output_type": "stream",
     "text": [
      "\u001b[32m[I 2023-04-24 08:09:29,675]\u001b[0m A new study created in memory with name: no-name-e823d040-fa81-4d57-8460-3b79c1d0e734\u001b[0m\n",
      "\u001b[32m[I 2023-04-24 08:09:32,757]\u001b[0m Trial 0 finished with value: 0.608843537414966 and parameters: {'n_estimators': 444, 'max_depth': 24, 'min_samples_split': 4, 'min_samples_leaf': 5}. Best is trial 0 with value: 0.608843537414966.\u001b[0m\n",
      "\u001b[32m[I 2023-04-24 08:09:38,347]\u001b[0m Trial 1 finished with value: 0.6104868913857678 and parameters: {'n_estimators': 757, 'max_depth': 21, 'min_samples_split': 9, 'min_samples_leaf': 1}. Best is trial 1 with value: 0.6104868913857678.\u001b[0m\n",
      "\u001b[32m[I 2023-04-24 08:09:39,595]\u001b[0m Trial 2 finished with value: 0.6148409893992932 and parameters: {'n_estimators': 173, 'max_depth': 41, 'min_samples_split': 6, 'min_samples_leaf': 3}. Best is trial 2 with value: 0.6148409893992932.\u001b[0m\n",
      "\u001b[32m[I 2023-04-24 08:09:44,972]\u001b[0m Trial 3 finished with value: 0.6121739130434782 and parameters: {'n_estimators': 753, 'max_depth': 48, 'min_samples_split': 3, 'min_samples_leaf': 4}. Best is trial 2 with value: 0.6148409893992932.\u001b[0m\n",
      "\u001b[32m[I 2023-04-24 08:09:46,349]\u001b[0m Trial 4 finished with value: 0.6040268456375838 and parameters: {'n_estimators': 208, 'max_depth': 18, 'min_samples_split': 5, 'min_samples_leaf': 7}. Best is trial 2 with value: 0.6148409893992932.\u001b[0m\n",
      "\u001b[32m[I 2023-04-24 08:09:52,431]\u001b[0m Trial 5 finished with value: 0.6200716845878136 and parameters: {'n_estimators': 860, 'max_depth': 42, 'min_samples_split': 10, 'min_samples_leaf': 2}. Best is trial 5 with value: 0.6200716845878136.\u001b[0m\n",
      "\u001b[32m[I 2023-04-24 08:09:56,107]\u001b[0m Trial 6 finished with value: 0.607843137254902 and parameters: {'n_estimators': 498, 'max_depth': 33, 'min_samples_split': 5, 'min_samples_leaf': 1}. Best is trial 5 with value: 0.6200716845878136.\u001b[0m\n",
      "\u001b[32m[I 2023-04-24 08:09:59,542]\u001b[0m Trial 7 finished with value: 0.5973597359735974 and parameters: {'n_estimators': 517, 'max_depth': 18, 'min_samples_split': 2, 'min_samples_leaf': 8}. Best is trial 5 with value: 0.6200716845878136.\u001b[0m\n",
      "\u001b[32m[I 2023-04-24 08:10:05,876]\u001b[0m Trial 8 finished with value: 0.6057529610829103 and parameters: {'n_estimators': 943, 'max_depth': 22, 'min_samples_split': 8, 'min_samples_leaf': 6}. Best is trial 5 with value: 0.6200716845878136.\u001b[0m\n",
      "\u001b[32m[I 2023-04-24 08:10:11,990]\u001b[0m Trial 9 finished with value: 0.6206896551724137 and parameters: {'n_estimators': 863, 'max_depth': 44, 'min_samples_split': 9, 'min_samples_leaf': 2}. Best is trial 9 with value: 0.6206896551724137.\u001b[0m\n",
      "\u001b[32m[I 2023-04-24 08:10:15,825]\u001b[0m Trial 10 finished with value: 0.5914149443561207 and parameters: {'n_estimators': 654, 'max_depth': 10, 'min_samples_split': 8, 'min_samples_leaf': 10}. Best is trial 9 with value: 0.6206896551724137.\u001b[0m\n",
      "\u001b[32m[I 2023-04-24 08:10:22,578]\u001b[0m Trial 11 finished with value: 0.6137566137566137 and parameters: {'n_estimators': 966, 'max_depth': 41, 'min_samples_split': 10, 'min_samples_leaf': 3}. Best is trial 9 with value: 0.6206896551724137.\u001b[0m\n",
      "\u001b[32m[I 2023-04-24 08:10:28,464]\u001b[0m Trial 12 finished with value: 0.6200716845878136 and parameters: {'n_estimators': 832, 'max_depth': 50, 'min_samples_split': 10, 'min_samples_leaf': 2}. Best is trial 9 with value: 0.6206896551724137.\u001b[0m\n",
      "\u001b[32m[I 2023-04-24 08:10:33,037]\u001b[0m Trial 13 finished with value: 0.6156583629893237 and parameters: {'n_estimators': 645, 'max_depth': 40, 'min_samples_split': 8, 'min_samples_leaf': 3}. Best is trial 9 with value: 0.6206896551724137.\u001b[0m\n",
      "\u001b[32m[I 2023-04-24 08:10:40,286]\u001b[0m Trial 14 finished with value: 0.6080305927342257 and parameters: {'n_estimators': 997, 'max_depth': 34, 'min_samples_split': 7, 'min_samples_leaf': 1}. Best is trial 9 with value: 0.6206896551724137.\u001b[0m\n",
      "\u001b[32m[I 2023-04-24 08:10:42,573]\u001b[0m Trial 15 finished with value: 0.6081081081081081 and parameters: {'n_estimators': 334, 'max_depth': 45, 'min_samples_split': 10, 'min_samples_leaf': 5}. Best is trial 9 with value: 0.6206896551724137.\u001b[0m\n",
      "\u001b[32m[I 2023-04-24 08:10:48,623]\u001b[0m Trial 16 finished with value: 0.6206896551724137 and parameters: {'n_estimators': 847, 'max_depth': 36, 'min_samples_split': 9, 'min_samples_leaf': 2}. Best is trial 9 with value: 0.6206896551724137.\u001b[0m\n",
      "\u001b[32m[I 2023-04-24 08:10:53,296]\u001b[0m Trial 17 finished with value: 0.6145833333333333 and parameters: {'n_estimators': 675, 'max_depth': 35, 'min_samples_split': 7, 'min_samples_leaf': 4}. Best is trial 9 with value: 0.6206896551724137.\u001b[0m\n",
      "\u001b[32m[I 2023-04-24 08:10:53,805]\u001b[0m Trial 18 finished with value: 0.6086956521739131 and parameters: {'n_estimators': 69, 'max_depth': 28, 'min_samples_split': 9, 'min_samples_leaf': 2}. Best is trial 9 with value: 0.6206896551724137.\u001b[0m\n",
      "\u001b[32m[I 2023-04-24 08:10:59,682]\u001b[0m Trial 19 finished with value: 0.6111111111111112 and parameters: {'n_estimators': 849, 'max_depth': 36, 'min_samples_split': 7, 'min_samples_leaf': 4}. Best is trial 9 with value: 0.6206896551724137.\u001b[0m\n",
      "\u001b[32m[I 2023-04-24 08:11:03,845]\u001b[0m Trial 20 finished with value: 0.5868852459016393 and parameters: {'n_estimators': 581, 'max_depth': 30, 'min_samples_split': 9, 'min_samples_leaf': 9}. Best is trial 9 with value: 0.6206896551724137.\u001b[0m\n",
      "\u001b[32m[I 2023-04-24 08:11:10,116]\u001b[0m Trial 21 finished with value: 0.6206896551724137 and parameters: {'n_estimators': 863, 'max_depth': 45, 'min_samples_split': 9, 'min_samples_leaf': 2}. Best is trial 9 with value: 0.6206896551724137.\u001b[0m\n",
      "\u001b[32m[I 2023-04-24 08:11:15,556]\u001b[0m Trial 22 finished with value: 0.6206896551724137 and parameters: {'n_estimators': 764, 'max_depth': 46, 'min_samples_split': 9, 'min_samples_leaf': 2}. Best is trial 9 with value: 0.6206896551724137.\u001b[0m\n",
      "\u001b[32m[I 2023-04-24 08:11:21,968]\u001b[0m Trial 23 finished with value: 0.6142857142857142 and parameters: {'n_estimators': 903, 'max_depth': 38, 'min_samples_split': 8, 'min_samples_leaf': 3}. Best is trial 9 with value: 0.6206896551724137.\u001b[0m\n",
      "\u001b[32m[I 2023-04-24 08:11:27,574]\u001b[0m Trial 24 finished with value: 0.6097087378640778 and parameters: {'n_estimators': 763, 'max_depth': 44, 'min_samples_split': 6, 'min_samples_leaf': 1}. Best is trial 9 with value: 0.6206896551724137.\u001b[0m\n",
      "\u001b[32m[I 2023-04-24 08:11:33,617]\u001b[0m Trial 25 finished with value: 0.6057529610829103 and parameters: {'n_estimators': 891, 'max_depth': 49, 'min_samples_split': 9, 'min_samples_leaf': 6}. Best is trial 9 with value: 0.6206896551724137.\u001b[0m\n",
      "\u001b[32m[I 2023-04-24 08:11:36,361]\u001b[0m Trial 26 finished with value: 0.6106032906764168 and parameters: {'n_estimators': 381, 'max_depth': 37, 'min_samples_split': 8, 'min_samples_leaf': 2}. Best is trial 9 with value: 0.6206896551724137.\u001b[0m\n",
      "\u001b[32m[I 2023-04-24 08:11:41,979]\u001b[0m Trial 27 finished with value: 0.6132404181184669 and parameters: {'n_estimators': 809, 'max_depth': 45, 'min_samples_split': 7, 'min_samples_leaf': 4}. Best is trial 9 with value: 0.6206896551724137.\u001b[0m\n",
      "\u001b[32m[I 2023-04-24 08:11:46,801]\u001b[0m Trial 28 finished with value: 0.6210526315789474 and parameters: {'n_estimators': 694, 'max_depth': 31, 'min_samples_split': 10, 'min_samples_leaf': 3}. Best is trial 28 with value: 0.6210526315789474.\u001b[0m\n",
      "\u001b[32m[I 2023-04-24 08:11:51,608]\u001b[0m Trial 29 finished with value: 0.6078098471986417 and parameters: {'n_estimators': 697, 'max_depth': 27, 'min_samples_split': 10, 'min_samples_leaf': 5}. Best is trial 28 with value: 0.6210526315789474.\u001b[0m\n",
      "\u001b[32m[I 2023-04-24 08:11:55,428]\u001b[0m Trial 30 finished with value: 0.6126760563380281 and parameters: {'n_estimators': 548, 'max_depth': 32, 'min_samples_split': 10, 'min_samples_leaf': 3}. Best is trial 28 with value: 0.6210526315789474.\u001b[0m\n",
      "\u001b[32m[I 2023-04-24 08:11:59,775]\u001b[0m Trial 31 finished with value: 0.6184448462929476 and parameters: {'n_estimators': 615, 'max_depth': 38, 'min_samples_split': 9, 'min_samples_leaf': 2}. Best is trial 28 with value: 0.6210526315789474.\u001b[0m\n",
      "\u001b[32m[I 2023-04-24 08:12:04,957]\u001b[0m Trial 32 finished with value: 0.6070763500931099 and parameters: {'n_estimators': 716, 'max_depth': 25, 'min_samples_split': 9, 'min_samples_leaf': 1}. Best is trial 28 with value: 0.6210526315789474.\u001b[0m\n",
      "\u001b[32m[I 2023-04-24 08:12:11,435]\u001b[0m Trial 33 finished with value: 0.6123893805309735 and parameters: {'n_estimators': 923, 'max_depth': 31, 'min_samples_split': 9, 'min_samples_leaf': 3}. Best is trial 28 with value: 0.6210526315789474.\u001b[0m\n",
      "\u001b[32m[I 2023-04-24 08:12:17,294]\u001b[0m Trial 34 finished with value: 0.6151012891344382 and parameters: {'n_estimators': 820, 'max_depth': 43, 'min_samples_split': 10, 'min_samples_leaf': 1}. Best is trial 28 with value: 0.6210526315789474.\u001b[0m\n",
      "\u001b[32m[I 2023-04-24 08:12:22,770]\u001b[0m Trial 35 finished with value: 0.610909090909091 and parameters: {'n_estimators': 759, 'max_depth': 47, 'min_samples_split': 8, 'min_samples_leaf': 2}. Best is trial 28 with value: 0.6210526315789474.\u001b[0m\n",
      "\u001b[32m[I 2023-04-24 08:12:28,251]\u001b[0m Trial 36 finished with value: 0.608843537414966 and parameters: {'n_estimators': 802, 'max_depth': 40, 'min_samples_split': 6, 'min_samples_leaf': 5}. Best is trial 28 with value: 0.6210526315789474.\u001b[0m\n",
      "\u001b[32m[I 2023-04-24 08:12:35,367]\u001b[0m Trial 37 finished with value: 0.6120996441281139 and parameters: {'n_estimators': 999, 'max_depth': 28, 'min_samples_split': 4, 'min_samples_leaf': 3}. Best is trial 28 with value: 0.6210526315789474.\u001b[0m\n",
      "\u001b[32m[I 2023-04-24 08:12:41,466]\u001b[0m Trial 38 finished with value: 0.6079447322970639 and parameters: {'n_estimators': 875, 'max_depth': 39, 'min_samples_split': 10, 'min_samples_leaf': 4}. Best is trial 28 with value: 0.6210526315789474.\u001b[0m\n",
      "\u001b[32m[I 2023-04-24 08:12:46,598]\u001b[0m Trial 39 finished with value: 0.6070763500931099 and parameters: {'n_estimators': 715, 'max_depth': 42, 'min_samples_split': 9, 'min_samples_leaf': 1}. Best is trial 28 with value: 0.6210526315789474.\u001b[0m\n",
      "\u001b[32m[I 2023-04-24 08:12:49,843]\u001b[0m Trial 40 finished with value: 0.620817843866171 and parameters: {'n_estimators': 446, 'max_depth': 47, 'min_samples_split': 2, 'min_samples_leaf': 2}. Best is trial 28 with value: 0.6210526315789474.\u001b[0m\n",
      "\u001b[32m[I 2023-04-24 08:12:53,149]\u001b[0m Trial 41 finished with value: 0.620817843866171 and parameters: {'n_estimators': 448, 'max_depth': 48, 'min_samples_split': 2, 'min_samples_leaf': 2}. Best is trial 28 with value: 0.6210526315789474.\u001b[0m\n",
      "\u001b[32m[I 2023-04-24 08:12:56,326]\u001b[0m Trial 42 finished with value: 0.6194029850746269 and parameters: {'n_estimators': 432, 'max_depth': 48, 'min_samples_split': 2, 'min_samples_leaf': 2}. Best is trial 28 with value: 0.6210526315789474.\u001b[0m\n",
      "\u001b[32m[I 2023-04-24 08:12:58,670]\u001b[0m Trial 43 finished with value: 0.6181172291296625 and parameters: {'n_estimators': 329, 'max_depth': 50, 'min_samples_split': 3, 'min_samples_leaf': 3}. Best is trial 28 with value: 0.6210526315789474.\u001b[0m\n",
      "\u001b[32m[I 2023-04-24 08:13:01,983]\u001b[0m Trial 44 finished with value: 0.593186372745491 and parameters: {'n_estimators': 443, 'max_depth': 47, 'min_samples_split': 2, 'min_samples_leaf': 1}. Best is trial 28 with value: 0.6210526315789474.\u001b[0m\n",
      "\u001b[32m[I 2023-04-24 08:13:03,362]\u001b[0m Trial 45 finished with value: 0.5935483870967742 and parameters: {'n_estimators': 223, 'max_depth': 11, 'min_samples_split': 3, 'min_samples_leaf': 7}. Best is trial 28 with value: 0.6210526315789474.\u001b[0m\n",
      "\u001b[32m[I 2023-04-24 08:13:06,946]\u001b[0m Trial 46 finished with value: 0.6194029850746269 and parameters: {'n_estimators': 492, 'max_depth': 43, 'min_samples_split': 3, 'min_samples_leaf': 2}. Best is trial 28 with value: 0.6210526315789474.\u001b[0m\n",
      "\u001b[32m[I 2023-04-24 08:13:08,993]\u001b[0m Trial 47 finished with value: 0.6214285714285713 and parameters: {'n_estimators': 283, 'max_depth': 34, 'min_samples_split': 4, 'min_samples_leaf': 3}. Best is trial 47 with value: 0.6214285714285713.\u001b[0m\n",
      "\u001b[32m[I 2023-04-24 08:13:10,958]\u001b[0m Trial 48 finished with value: 0.6153846153846154 and parameters: {'n_estimators': 271, 'max_depth': 23, 'min_samples_split': 4, 'min_samples_leaf': 3}. Best is trial 47 with value: 0.6214285714285713.\u001b[0m\n",
      "\u001b[32m[I 2023-04-24 08:13:11,721]\u001b[0m Trial 49 finished with value: 0.6153846153846155 and parameters: {'n_estimators': 107, 'max_depth': 34, 'min_samples_split': 5, 'min_samples_leaf': 4}. Best is trial 47 with value: 0.6214285714285713.\u001b[0m\n",
      "\u001b[32m[I 2023-04-24 08:13:14,443]\u001b[0m Trial 50 finished with value: 0.6145833333333333 and parameters: {'n_estimators': 390, 'max_depth': 48, 'min_samples_split': 2, 'min_samples_leaf': 4}. Best is trial 47 with value: 0.6214285714285713.\u001b[0m\n",
      "\u001b[32m[I 2023-04-24 08:13:17,969]\u001b[0m Trial 51 finished with value: 0.6051660516605166 and parameters: {'n_estimators': 487, 'max_depth': 30, 'min_samples_split': 5, 'min_samples_leaf': 2}. Best is trial 47 with value: 0.6214285714285713.\u001b[0m\n",
      "\u001b[32m[I 2023-04-24 08:13:19,119]\u001b[0m Trial 52 finished with value: 0.6192170818505338 and parameters: {'n_estimators': 160, 'max_depth': 19, 'min_samples_split': 4, 'min_samples_leaf': 3}. Best is trial 47 with value: 0.6214285714285713.\u001b[0m\n",
      "\u001b[32m[I 2023-04-24 08:13:21,348]\u001b[0m Trial 53 finished with value: 0.5939393939393939 and parameters: {'n_estimators': 296, 'max_depth': 41, 'min_samples_split': 3, 'min_samples_leaf': 1}. Best is trial 47 with value: 0.6214285714285713.\u001b[0m\n",
      "\u001b[32m[I 2023-04-24 08:13:25,447]\u001b[0m Trial 54 finished with value: 0.6133828996282528 and parameters: {'n_estimators': 551, 'max_depth': 36, 'min_samples_split': 2, 'min_samples_leaf': 2}. Best is trial 47 with value: 0.6214285714285713.\u001b[0m\n",
      "\u001b[32m[I 2023-04-24 08:13:28,422]\u001b[0m Trial 55 finished with value: 0.6203208556149733 and parameters: {'n_estimators': 415, 'max_depth': 50, 'min_samples_split': 3, 'min_samples_leaf': 3}. Best is trial 47 with value: 0.6214285714285713.\u001b[0m\n",
      "\u001b[32m[I 2023-04-24 08:13:35,423]\u001b[0m Trial 56 finished with value: 0.6136783733826248 and parameters: {'n_estimators': 961, 'max_depth': 33, 'min_samples_split': 5, 'min_samples_leaf': 2}. Best is trial 47 with value: 0.6214285714285713.\u001b[0m\n",
      "\u001b[32m[I 2023-04-24 08:13:39,809]\u001b[0m Trial 57 finished with value: 0.6099009900990099 and parameters: {'n_estimators': 592, 'max_depth': 25, 'min_samples_split': 4, 'min_samples_leaf': 1}. Best is trial 47 with value: 0.6214285714285713.\u001b[0m\n",
      "\u001b[32m[I 2023-04-24 08:13:42,151]\u001b[0m Trial 58 finished with value: 0.597063621533442 and parameters: {'n_estimators': 359, 'max_depth': 35, 'min_samples_split': 2, 'min_samples_leaf': 10}. Best is trial 47 with value: 0.6214285714285713.\u001b[0m\n",
      "\u001b[32m[I 2023-04-24 08:13:45,513]\u001b[0m Trial 59 finished with value: 0.621973929236499 and parameters: {'n_estimators': 462, 'max_depth': 46, 'min_samples_split': 2, 'min_samples_leaf': 2}. Best is trial 59 with value: 0.621973929236499.\u001b[0m\n",
      "\u001b[32m[I 2023-04-24 08:13:48,882]\u001b[0m Trial 60 finished with value: 0.6214285714285713 and parameters: {'n_estimators': 473, 'max_depth': 45, 'min_samples_split': 2, 'min_samples_leaf': 3}. Best is trial 59 with value: 0.621973929236499.\u001b[0m\n",
      "\u001b[32m[I 2023-04-24 08:13:52,532]\u001b[0m Trial 61 finished with value: 0.6236559139784946 and parameters: {'n_estimators': 515, 'max_depth': 46, 'min_samples_split': 2, 'min_samples_leaf': 3}. Best is trial 61 with value: 0.6236559139784946.\u001b[0m\n",
      "\u001b[32m[I 2023-04-24 08:13:55,964]\u001b[0m Trial 62 finished with value: 0.6214285714285713 and parameters: {'n_estimators': 482, 'max_depth': 46, 'min_samples_split': 2, 'min_samples_leaf': 3}. Best is trial 61 with value: 0.6236559139784946.\u001b[0m\n",
      "\u001b[32m[I 2023-04-24 08:13:59,661]\u001b[0m Trial 63 finished with value: 0.613518197573657 and parameters: {'n_estimators': 525, 'max_depth': 46, 'min_samples_split': 2, 'min_samples_leaf': 4}. Best is trial 61 with value: 0.6236559139784946.\u001b[0m\n",
      "\u001b[32m[I 2023-04-24 08:14:02,964]\u001b[0m Trial 64 finished with value: 0.6249999999999999 and parameters: {'n_estimators': 465, 'max_depth': 44, 'min_samples_split': 2, 'min_samples_leaf': 3}. Best is trial 64 with value: 0.6249999999999999.\u001b[0m\n",
      "\u001b[32m[I 2023-04-24 08:14:07,501]\u001b[0m Trial 65 finished with value: 0.6175942549371634 and parameters: {'n_estimators': 635, 'max_depth': 43, 'min_samples_split': 3, 'min_samples_leaf': 3}. Best is trial 64 with value: 0.6249999999999999.\u001b[0m\n",
      "\u001b[32m[I 2023-04-24 08:14:11,201]\u001b[0m Trial 66 finished with value: 0.613518197573657 and parameters: {'n_estimators': 527, 'max_depth': 44, 'min_samples_split': 3, 'min_samples_leaf': 4}. Best is trial 64 with value: 0.6249999999999999.\u001b[0m\n",
      "\u001b[32m[I 2023-04-24 08:14:14,573]\u001b[0m Trial 67 finished with value: 0.6214285714285713 and parameters: {'n_estimators': 461, 'max_depth': 46, 'min_samples_split': 2, 'min_samples_leaf': 3}. Best is trial 64 with value: 0.6249999999999999.\u001b[0m\n",
      "\u001b[32m[I 2023-04-24 08:14:17,924]\u001b[0m Trial 68 finished with value: 0.6214285714285713 and parameters: {'n_estimators': 474, 'max_depth': 42, 'min_samples_split': 2, 'min_samples_leaf': 3}. Best is trial 64 with value: 0.6249999999999999.\u001b[0m\n",
      "\u001b[32m[I 2023-04-24 08:14:20,611]\u001b[0m Trial 69 finished with value: 0.6084033613445378 and parameters: {'n_estimators': 401, 'max_depth': 46, 'min_samples_split': 2, 'min_samples_leaf': 6}. Best is trial 64 with value: 0.6249999999999999.\u001b[0m\n",
      "\u001b[32m[I 2023-04-24 08:14:24,499]\u001b[0m Trial 70 finished with value: 0.6097560975609756 and parameters: {'n_estimators': 562, 'max_depth': 45, 'min_samples_split': 3, 'min_samples_leaf': 4}. Best is trial 64 with value: 0.6249999999999999.\u001b[0m\n",
      "\u001b[32m[I 2023-04-24 08:14:27,800]\u001b[0m Trial 71 finished with value: 0.6249999999999999 and parameters: {'n_estimators': 464, 'max_depth': 41, 'min_samples_split': 2, 'min_samples_leaf': 3}. Best is trial 64 with value: 0.6249999999999999.\u001b[0m\n",
      "\u001b[32m[I 2023-04-24 08:14:31,193]\u001b[0m Trial 72 finished with value: 0.6214285714285713 and parameters: {'n_estimators': 472, 'max_depth': 41, 'min_samples_split': 2, 'min_samples_leaf': 3}. Best is trial 64 with value: 0.6249999999999999.\u001b[0m\n",
      "\u001b[32m[I 2023-04-24 08:14:34,774]\u001b[0m Trial 73 finished with value: 0.6145833333333333 and parameters: {'n_estimators': 513, 'max_depth': 44, 'min_samples_split': 2, 'min_samples_leaf': 4}. Best is trial 64 with value: 0.6249999999999999.\u001b[0m\n",
      "\u001b[32m[I 2023-04-24 08:14:37,340]\u001b[0m Trial 74 finished with value: 0.6170212765957446 and parameters: {'n_estimators': 362, 'max_depth': 40, 'min_samples_split': 3, 'min_samples_leaf': 3}. Best is trial 64 with value: 0.6249999999999999.\u001b[0m\n",
      "\u001b[32m[I 2023-04-24 08:14:42,081]\u001b[0m Trial 75 finished with value: 0.6132879045996593 and parameters: {'n_estimators': 602, 'max_depth': 49, 'min_samples_split': 2, 'min_samples_leaf': 5}. Best is trial 64 with value: 0.6249999999999999.\u001b[0m\n",
      "\u001b[32m[I 2023-04-24 08:14:46,848]\u001b[0m Trial 76 finished with value: 0.6167557932263815 and parameters: {'n_estimators': 569, 'max_depth': 46, 'min_samples_split': 2, 'min_samples_leaf': 3}. Best is trial 64 with value: 0.6249999999999999.\u001b[0m\n",
      "\u001b[32m[I 2023-04-24 08:14:50,582]\u001b[0m Trial 77 finished with value: 0.6227758007117438 and parameters: {'n_estimators': 420, 'max_depth': 42, 'min_samples_split': 3, 'min_samples_leaf': 3}. Best is trial 64 with value: 0.6249999999999999.\u001b[0m\n",
      "\u001b[32m[I 2023-04-24 08:14:53,425]\u001b[0m Trial 78 finished with value: 0.6191304347826087 and parameters: {'n_estimators': 309, 'max_depth': 39, 'min_samples_split': 3, 'min_samples_leaf': 4}. Best is trial 64 with value: 0.6249999999999999.\u001b[0m\n",
      "\u001b[32m[I 2023-04-24 08:14:56,081]\u001b[0m Trial 79 finished with value: 0.6216696269982238 and parameters: {'n_estimators': 252, 'max_depth': 42, 'min_samples_split': 3, 'min_samples_leaf': 3}. Best is trial 64 with value: 0.6249999999999999.\u001b[0m\n",
      "\u001b[32m[I 2023-04-24 08:14:57,812]\u001b[0m Trial 80 finished with value: 0.6067796610169491 and parameters: {'n_estimators': 248, 'max_depth': 42, 'min_samples_split': 3, 'min_samples_leaf': 5}. Best is trial 64 with value: 0.6249999999999999.\u001b[0m\n",
      "\u001b[32m[I 2023-04-24 08:14:58,951]\u001b[0m Trial 81 finished with value: 0.61101243339254 and parameters: {'n_estimators': 156, 'max_depth': 44, 'min_samples_split': 2, 'min_samples_leaf': 3}. Best is trial 64 with value: 0.6249999999999999.\u001b[0m\n",
      "\u001b[32m[I 2023-04-24 08:15:01,977]\u001b[0m Trial 82 finished with value: 0.6227758007117438 and parameters: {'n_estimators': 420, 'max_depth': 38, 'min_samples_split': 3, 'min_samples_leaf': 3}. Best is trial 64 with value: 0.6249999999999999.\u001b[0m\n",
      "\u001b[32m[I 2023-04-24 08:15:03,340]\u001b[0m Trial 83 finished with value: 0.6167247386759582 and parameters: {'n_estimators': 191, 'max_depth': 39, 'min_samples_split': 4, 'min_samples_leaf': 4}. Best is trial 64 with value: 0.6249999999999999.\u001b[0m\n",
      "\u001b[32m[I 2023-04-24 08:15:06,477]\u001b[0m Trial 84 finished with value: 0.6194029850746269 and parameters: {'n_estimators': 423, 'max_depth': 38, 'min_samples_split': 3, 'min_samples_leaf': 2}. Best is trial 64 with value: 0.6249999999999999.\u001b[0m\n",
      "\u001b[32m[I 2023-04-24 08:15:09,073]\u001b[0m Trial 85 finished with value: 0.6181172291296625 and parameters: {'n_estimators': 359, 'max_depth': 37, 'min_samples_split': 3, 'min_samples_leaf': 3}. Best is trial 64 with value: 0.6249999999999999.\u001b[0m\n",
      "\u001b[32m[I 2023-04-24 08:15:11,476]\u001b[0m Trial 86 finished with value: 0.6240601503759399 and parameters: {'n_estimators': 328, 'max_depth': 41, 'min_samples_split': 4, 'min_samples_leaf': 2}. Best is trial 64 with value: 0.6249999999999999.\u001b[0m\n",
      "\u001b[32m[I 2023-04-24 08:15:13,675]\u001b[0m Trial 87 finished with value: 0.626641651031895 and parameters: {'n_estimators': 284, 'max_depth': 41, 'min_samples_split': 4, 'min_samples_leaf': 2}. Best is trial 87 with value: 0.626641651031895.\u001b[0m\n",
      "\u001b[32m[I 2023-04-24 08:15:16,131]\u001b[0m Trial 88 finished with value: 0.6025878003696858 and parameters: {'n_estimators': 330, 'max_depth': 43, 'min_samples_split': 5, 'min_samples_leaf': 2}. Best is trial 87 with value: 0.626641651031895.\u001b[0m\n",
      "\u001b[32m[I 2023-04-24 08:15:19,132]\u001b[0m Trial 89 finished with value: 0.6153846153846154 and parameters: {'n_estimators': 385, 'max_depth': 40, 'min_samples_split': 4, 'min_samples_leaf': 2}. Best is trial 87 with value: 0.626641651031895.\u001b[0m\n",
      "\u001b[32m[I 2023-04-24 08:15:21,080]\u001b[0m Trial 90 finished with value: 0.626641651031895 and parameters: {'n_estimators': 252, 'max_depth': 41, 'min_samples_split': 4, 'min_samples_leaf': 2}. Best is trial 87 with value: 0.626641651031895.\u001b[0m\n",
      "\u001b[32m[I 2023-04-24 08:15:22,877]\u001b[0m Trial 91 finished with value: 0.626641651031895 and parameters: {'n_estimators': 240, 'max_depth': 42, 'min_samples_split': 4, 'min_samples_leaf': 2}. Best is trial 87 with value: 0.626641651031895.\u001b[0m\n",
      "\u001b[32m[I 2023-04-24 08:15:24,549]\u001b[0m Trial 92 finished with value: 0.6043737574552683 and parameters: {'n_estimators': 220, 'max_depth': 40, 'min_samples_split': 4, 'min_samples_leaf': 1}. Best is trial 87 with value: 0.626641651031895.\u001b[0m\n",
      "\u001b[32m[I 2023-04-24 08:15:26,541]\u001b[0m Trial 93 finished with value: 0.6037037037037036 and parameters: {'n_estimators': 262, 'max_depth': 43, 'min_samples_split': 5, 'min_samples_leaf': 2}. Best is trial 87 with value: 0.626641651031895.\u001b[0m\n",
      "\u001b[32m[I 2023-04-24 08:15:28,764]\u001b[0m Trial 94 finished with value: 0.6275992438563328 and parameters: {'n_estimators': 296, 'max_depth': 41, 'min_samples_split': 4, 'min_samples_leaf': 2}. Best is trial 94 with value: 0.6275992438563328.\u001b[0m\n",
      "\u001b[32m[I 2023-04-24 08:15:31,125]\u001b[0m Trial 95 finished with value: 0.6019801980198021 and parameters: {'n_estimators': 305, 'max_depth': 41, 'min_samples_split': 4, 'min_samples_leaf': 1}. Best is trial 94 with value: 0.6275992438563328.\u001b[0m\n",
      "\u001b[32m[I 2023-04-24 08:15:32,983]\u001b[0m Trial 96 finished with value: 0.626641651031895 and parameters: {'n_estimators': 240, 'max_depth': 38, 'min_samples_split': 4, 'min_samples_leaf': 2}. Best is trial 94 with value: 0.6275992438563328.\u001b[0m\n",
      "\u001b[32m[I 2023-04-24 08:15:33,899]\u001b[0m Trial 97 finished with value: 0.6142322097378278 and parameters: {'n_estimators': 118, 'max_depth': 41, 'min_samples_split': 4, 'min_samples_leaf': 2}. Best is trial 94 with value: 0.6275992438563328.\u001b[0m\n",
      "\u001b[32m[I 2023-04-24 08:15:35,656]\u001b[0m Trial 98 finished with value: 0.601593625498008 and parameters: {'n_estimators': 232, 'max_depth': 37, 'min_samples_split': 4, 'min_samples_leaf': 1}. Best is trial 94 with value: 0.6275992438563328.\u001b[0m\n",
      "\u001b[32m[I 2023-04-24 08:15:36,998]\u001b[0m Trial 99 finished with value: 0.6179775280898876 and parameters: {'n_estimators': 177, 'max_depth': 39, 'min_samples_split': 4, 'min_samples_leaf': 2}. Best is trial 94 with value: 0.6275992438563328.\u001b[0m\n"
     ]
    },
    {
     "name": "stdout",
     "output_type": "stream",
     "text": [
      "{'n_estimators': 296, 'max_depth': 41, 'min_samples_split': 4, 'min_samples_leaf': 2}\n",
      "f1 score 0.6275992438563328\n"
     ]
    }
   ],
   "source": [
    "forest_with_opt(X_train_forest_model_1, X_valid_ohe, y_train_forest_model_1, y_valid, ' forest_upsample_4_repeat_HYPER')"
   ]
  },
  {
   "cell_type": "markdown",
   "metadata": {},
   "source": [
    "##### forest_downsample_0.4_frac"
   ]
  },
  {
   "cell_type": "code",
   "execution_count": 55,
   "metadata": {},
   "outputs": [],
   "source": [
    "X_train_forest_model_2, y_train_forest_model_2 = downsample_data(X_train_ohe, y_train, 0.4) "
   ]
  },
  {
   "cell_type": "code",
   "execution_count": 56,
   "metadata": {
    "scrolled": true
   },
   "outputs": [
    {
     "name": "stderr",
     "output_type": "stream",
     "text": [
      "\u001b[32m[I 2023-04-24 08:15:39,205]\u001b[0m A new study created in memory with name: no-name-ec515e2f-f383-43e6-b290-3a3361c96eab\u001b[0m\n",
      "\u001b[32m[I 2023-04-24 08:15:40,459]\u001b[0m Trial 0 finished with value: 0.5909090909090908 and parameters: {'n_estimators': 488, 'max_depth': 21, 'min_samples_split': 2, 'min_samples_leaf': 6}. Best is trial 0 with value: 0.5909090909090908.\u001b[0m\n",
      "\u001b[32m[I 2023-04-24 08:15:41,283]\u001b[0m Trial 1 finished with value: 0.5927209705372618 and parameters: {'n_estimators': 311, 'max_depth': 41, 'min_samples_split': 7, 'min_samples_leaf': 5}. Best is trial 1 with value: 0.5927209705372618.\u001b[0m\n",
      "\u001b[32m[I 2023-04-24 08:15:42,312]\u001b[0m Trial 2 finished with value: 0.5906735751295337 and parameters: {'n_estimators': 391, 'max_depth': 41, 'min_samples_split': 5, 'min_samples_leaf': 5}. Best is trial 1 with value: 0.5927209705372618.\u001b[0m\n",
      "\u001b[32m[I 2023-04-24 08:15:44,674]\u001b[0m Trial 3 finished with value: 0.5934819897084048 and parameters: {'n_estimators': 876, 'max_depth': 33, 'min_samples_split': 10, 'min_samples_leaf': 3}. Best is trial 3 with value: 0.5934819897084048.\u001b[0m\n",
      "\u001b[32m[I 2023-04-24 08:15:46,448]\u001b[0m Trial 4 finished with value: 0.5927209705372618 and parameters: {'n_estimators': 726, 'max_depth': 30, 'min_samples_split': 3, 'min_samples_leaf': 7}. Best is trial 3 with value: 0.5934819897084048.\u001b[0m\n",
      "\u001b[32m[I 2023-04-24 08:15:46,839]\u001b[0m Trial 5 finished with value: 0.595446584938704 and parameters: {'n_estimators': 158, 'max_depth': 34, 'min_samples_split': 8, 'min_samples_leaf': 7}. Best is trial 5 with value: 0.595446584938704.\u001b[0m\n",
      "\u001b[32m[I 2023-04-24 08:15:47,687]\u001b[0m Trial 6 finished with value: 0.5898778359511344 and parameters: {'n_estimators': 333, 'max_depth': 31, 'min_samples_split': 6, 'min_samples_leaf': 6}. Best is trial 5 with value: 0.595446584938704.\u001b[0m\n",
      "\u001b[32m[I 2023-04-24 08:15:48,657]\u001b[0m Trial 7 finished with value: 0.5982905982905983 and parameters: {'n_estimators': 345, 'max_depth': 13, 'min_samples_split': 5, 'min_samples_leaf': 1}. Best is trial 7 with value: 0.5982905982905983.\u001b[0m\n",
      "\u001b[32m[I 2023-04-24 08:15:49,105]\u001b[0m Trial 8 finished with value: 0.591304347826087 and parameters: {'n_estimators': 177, 'max_depth': 43, 'min_samples_split': 7, 'min_samples_leaf': 8}. Best is trial 7 with value: 0.5982905982905983.\u001b[0m\n",
      "\u001b[32m[I 2023-04-24 08:15:50,823]\u001b[0m Trial 9 finished with value: 0.5965517241379311 and parameters: {'n_estimators': 639, 'max_depth': 36, 'min_samples_split': 2, 'min_samples_leaf': 4}. Best is trial 7 with value: 0.5982905982905983.\u001b[0m\n",
      "\u001b[32m[I 2023-04-24 08:15:51,075]\u001b[0m Trial 10 finished with value: 0.5880281690140846 and parameters: {'n_estimators': 89, 'max_depth': 11, 'min_samples_split': 4, 'min_samples_leaf': 1}. Best is trial 7 with value: 0.5982905982905983.\u001b[0m\n",
      "\u001b[32m[I 2023-04-24 08:15:52,804]\u001b[0m Trial 11 finished with value: 0.6024518388791594 and parameters: {'n_estimators': 661, 'max_depth': 10, 'min_samples_split': 2, 'min_samples_leaf': 1}. Best is trial 11 with value: 0.6024518388791594.\u001b[0m\n",
      "\u001b[32m[I 2023-04-24 08:15:55,364]\u001b[0m Trial 12 finished with value: 0.5892547660311959 and parameters: {'n_estimators': 997, 'max_depth': 10, 'min_samples_split': 4, 'min_samples_leaf': 1}. Best is trial 11 with value: 0.6024518388791594.\u001b[0m\n",
      "\u001b[32m[I 2023-04-24 08:15:56,874]\u001b[0m Trial 13 finished with value: 0.5799648506151143 and parameters: {'n_estimators': 636, 'max_depth': 18, 'min_samples_split': 4, 'min_samples_leaf': 10}. Best is trial 11 with value: 0.6024518388791594.\u001b[0m\n",
      "\u001b[32m[I 2023-04-24 08:15:58,333]\u001b[0m Trial 14 finished with value: 0.595890410958904 and parameters: {'n_estimators': 531, 'max_depth': 18, 'min_samples_split': 9, 'min_samples_leaf': 2}. Best is trial 11 with value: 0.6024518388791594.\u001b[0m\n",
      "\u001b[32m[I 2023-04-24 08:16:00,526]\u001b[0m Trial 15 finished with value: 0.5924657534246576 and parameters: {'n_estimators': 795, 'max_depth': 50, 'min_samples_split': 5, 'min_samples_leaf': 3}. Best is trial 11 with value: 0.6024518388791594.\u001b[0m\n",
      "\u001b[32m[I 2023-04-24 08:16:01,987]\u001b[0m Trial 16 finished with value: 0.5846153846153846 and parameters: {'n_estimators': 501, 'max_depth': 24, 'min_samples_split': 3, 'min_samples_leaf': 2}. Best is trial 11 with value: 0.6024518388791594.\u001b[0m\n",
      "\u001b[32m[I 2023-04-24 08:16:02,772]\u001b[0m Trial 17 finished with value: 0.5888324873096447 and parameters: {'n_estimators': 259, 'max_depth': 14, 'min_samples_split': 2, 'min_samples_leaf': 1}. Best is trial 11 with value: 0.6024518388791594.\u001b[0m\n",
      "\u001b[32m[I 2023-04-24 08:16:02,880]\u001b[0m Trial 18 finished with value: 0.5616438356164385 and parameters: {'n_estimators': 32, 'max_depth': 25, 'min_samples_split': 6, 'min_samples_leaf': 3}. Best is trial 11 with value: 0.6024518388791594.\u001b[0m\n",
      "\u001b[32m[I 2023-04-24 08:16:04,086]\u001b[0m Trial 19 finished with value: 0.5806451612903225 and parameters: {'n_estimators': 422, 'max_depth': 15, 'min_samples_split': 3, 'min_samples_leaf': 2}. Best is trial 11 with value: 0.6024518388791594.\u001b[0m\n",
      "\u001b[32m[I 2023-04-24 08:16:05,771]\u001b[0m Trial 20 finished with value: 0.5975820379965457 and parameters: {'n_estimators': 613, 'max_depth': 14, 'min_samples_split': 5, 'min_samples_leaf': 4}. Best is trial 11 with value: 0.6024518388791594.\u001b[0m\n",
      "\u001b[32m[I 2023-04-24 08:16:07,530]\u001b[0m Trial 21 finished with value: 0.6 and parameters: {'n_estimators': 623, 'max_depth': 14, 'min_samples_split': 5, 'min_samples_leaf': 4}. Best is trial 11 with value: 0.6024518388791594.\u001b[0m\n",
      "\u001b[32m[I 2023-04-24 08:16:09,454]\u001b[0m Trial 22 finished with value: 0.5972222222222222 and parameters: {'n_estimators': 725, 'max_depth': 10, 'min_samples_split': 7, 'min_samples_leaf': 1}. Best is trial 11 with value: 0.6024518388791594.\u001b[0m\n",
      "\u001b[32m[I 2023-04-24 08:16:11,969]\u001b[0m Trial 23 finished with value: 0.5910652920962198 and parameters: {'n_estimators': 878, 'max_depth': 19, 'min_samples_split': 5, 'min_samples_leaf': 4}. Best is trial 11 with value: 0.6024518388791594.\u001b[0m\n",
      "\u001b[32m[I 2023-04-24 08:16:13,793]\u001b[0m Trial 24 finished with value: 0.5836177474402731 and parameters: {'n_estimators': 580, 'max_depth': 24, 'min_samples_split': 4, 'min_samples_leaf': 2}. Best is trial 11 with value: 0.6024518388791594.\u001b[0m\n",
      "\u001b[32m[I 2023-04-24 08:16:15,824]\u001b[0m Trial 25 finished with value: 0.5884353741496599 and parameters: {'n_estimators': 710, 'max_depth': 14, 'min_samples_split': 6, 'min_samples_leaf': 3}. Best is trial 11 with value: 0.6024518388791594.\u001b[0m\n",
      "\u001b[32m[I 2023-04-24 08:16:17,089]\u001b[0m Trial 26 finished with value: 0.5969125214408234 and parameters: {'n_estimators': 423, 'max_depth': 16, 'min_samples_split': 8, 'min_samples_leaf': 2}. Best is trial 11 with value: 0.6024518388791594.\u001b[0m\n",
      "\u001b[32m[I 2023-04-24 08:16:19,149]\u001b[0m Trial 27 finished with value: 0.5898778359511344 and parameters: {'n_estimators': 807, 'max_depth': 22, 'min_samples_split': 3, 'min_samples_leaf': 9}. Best is trial 11 with value: 0.6024518388791594.\u001b[0m\n",
      "\u001b[32m[I 2023-04-24 08:16:20,802]\u001b[0m Trial 28 finished with value: 0.595890410958904 and parameters: {'n_estimators': 549, 'max_depth': 27, 'min_samples_split': 6, 'min_samples_leaf': 1}. Best is trial 11 with value: 0.6024518388791594.\u001b[0m\n",
      "\u001b[32m[I 2023-04-24 08:16:22,021]\u001b[0m Trial 29 finished with value: 0.5878260869565217 and parameters: {'n_estimators': 463, 'max_depth': 12, 'min_samples_split': 2, 'min_samples_leaf': 5}. Best is trial 11 with value: 0.6024518388791594.\u001b[0m\n",
      "\u001b[32m[I 2023-04-24 08:16:22,641]\u001b[0m Trial 30 finished with value: 0.6017094017094017 and parameters: {'n_estimators': 230, 'max_depth': 20, 'min_samples_split': 5, 'min_samples_leaf': 4}. Best is trial 11 with value: 0.6024518388791594.\u001b[0m\n",
      "\u001b[32m[I 2023-04-24 08:16:23,213]\u001b[0m Trial 31 finished with value: 0.5993150684931506 and parameters: {'n_estimators': 213, 'max_depth': 20, 'min_samples_split': 5, 'min_samples_leaf': 4}. Best is trial 11 with value: 0.6024518388791594.\u001b[0m\n",
      "\u001b[32m[I 2023-04-24 08:16:23,847]\u001b[0m Trial 32 finished with value: 0.5993150684931506 and parameters: {'n_estimators': 234, 'max_depth': 21, 'min_samples_split': 4, 'min_samples_leaf': 4}. Best is trial 11 with value: 0.6024518388791594.\u001b[0m\n",
      "\u001b[32m[I 2023-04-24 08:16:24,250]\u001b[0m Trial 33 finished with value: 0.5886402753872634 and parameters: {'n_estimators': 151, 'max_depth': 20, 'min_samples_split': 7, 'min_samples_leaf': 5}. Best is trial 11 with value: 0.6024518388791594.\u001b[0m\n",
      "\u001b[32m[I 2023-04-24 08:16:24,935]\u001b[0m Trial 34 finished with value: 0.5929824561403508 and parameters: {'n_estimators': 270, 'max_depth': 17, 'min_samples_split': 5, 'min_samples_leaf': 6}. Best is trial 11 with value: 0.6024518388791594.\u001b[0m\n",
      "\u001b[32m[I 2023-04-24 08:16:26,654]\u001b[0m Trial 35 finished with value: 0.5882352941176471 and parameters: {'n_estimators': 671, 'max_depth': 27, 'min_samples_split': 5, 'min_samples_leaf': 5}. Best is trial 11 with value: 0.6024518388791594.\u001b[0m\n",
      "\u001b[32m[I 2023-04-24 08:16:26,902]\u001b[0m Trial 36 finished with value: 0.5824561403508772 and parameters: {'n_estimators': 93, 'max_depth': 16, 'min_samples_split': 8, 'min_samples_leaf': 7}. Best is trial 11 with value: 0.6024518388791594.\u001b[0m\n",
      "\u001b[32m[I 2023-04-24 08:16:27,895]\u001b[0m Trial 37 finished with value: 0.5993031358885017 and parameters: {'n_estimators': 380, 'max_depth': 22, 'min_samples_split': 10, 'min_samples_leaf': 4}. Best is trial 11 with value: 0.6024518388791594.\u001b[0m\n",
      "\u001b[32m[I 2023-04-24 08:16:28,488]\u001b[0m Trial 38 finished with value: 0.5961871750433275 and parameters: {'n_estimators': 220, 'max_depth': 12, 'min_samples_split': 3, 'min_samples_leaf': 3}. Best is trial 11 with value: 0.6024518388791594.\u001b[0m\n",
      "\u001b[32m[I 2023-04-24 08:16:30,540]\u001b[0m Trial 39 finished with value: 0.5896551724137932 and parameters: {'n_estimators': 798, 'max_depth': 20, 'min_samples_split': 6, 'min_samples_leaf': 5}. Best is trial 11 with value: 0.6024518388791594.\u001b[0m\n",
      "\u001b[32m[I 2023-04-24 08:16:30,588]\u001b[0m Trial 40 finished with value: 0.5724137931034482 and parameters: {'n_estimators': 12, 'max_depth': 30, 'min_samples_split': 4, 'min_samples_leaf': 6}. Best is trial 11 with value: 0.6024518388791594.\u001b[0m\n",
      "\u001b[32m[I 2023-04-24 08:16:31,382]\u001b[0m Trial 41 finished with value: 0.5951557093425605 and parameters: {'n_estimators': 293, 'max_depth': 22, 'min_samples_split': 4, 'min_samples_leaf': 4}. Best is trial 11 with value: 0.6024518388791594.\u001b[0m\n",
      "\u001b[32m[I 2023-04-24 08:16:31,839]\u001b[0m Trial 42 finished with value: 0.5972222222222222 and parameters: {'n_estimators': 167, 'max_depth': 17, 'min_samples_split': 5, 'min_samples_leaf': 4}. Best is trial 11 with value: 0.6024518388791594.\u001b[0m\n",
      "\u001b[32m[I 2023-04-24 08:16:32,449]\u001b[0m Trial 43 finished with value: 0.5902777777777777 and parameters: {'n_estimators': 231, 'max_depth': 26, 'min_samples_split': 4, 'min_samples_leaf': 5}. Best is trial 11 with value: 0.6024518388791594.\u001b[0m\n",
      "\u001b[32m[I 2023-04-24 08:16:32,756]\u001b[0m Trial 44 finished with value: 0.5902777777777777 and parameters: {'n_estimators': 109, 'max_depth': 12, 'min_samples_split': 6, 'min_samples_leaf': 3}. Best is trial 11 with value: 0.6024518388791594.\u001b[0m\n",
      "\u001b[32m[I 2023-04-24 08:16:33,670]\u001b[0m Trial 45 finished with value: 0.5982608695652174 and parameters: {'n_estimators': 341, 'max_depth': 20, 'min_samples_split': 2, 'min_samples_leaf': 4}. Best is trial 11 with value: 0.6024518388791594.\u001b[0m\n",
      "\u001b[32m[I 2023-04-24 08:16:34,218]\u001b[0m Trial 46 finished with value: 0.5900514579759862 and parameters: {'n_estimators': 195, 'max_depth': 28, 'min_samples_split': 3, 'min_samples_leaf': 3}. Best is trial 11 with value: 0.6024518388791594.\u001b[0m\n",
      "\u001b[32m[I 2023-04-24 08:16:35,596]\u001b[0m Trial 47 finished with value: 0.5915492957746478 and parameters: {'n_estimators': 584, 'max_depth': 10, 'min_samples_split': 4, 'min_samples_leaf': 7}. Best is trial 11 with value: 0.6024518388791594.\u001b[0m\n",
      "\u001b[32m[I 2023-04-24 08:16:36,797]\u001b[0m Trial 48 finished with value: 0.5898778359511344 and parameters: {'n_estimators': 472, 'max_depth': 36, 'min_samples_split': 5, 'min_samples_leaf': 6}. Best is trial 11 with value: 0.6024518388791594.\u001b[0m\n",
      "\u001b[32m[I 2023-04-24 08:16:37,596]\u001b[0m Trial 49 finished with value: 0.5972222222222222 and parameters: {'n_estimators': 309, 'max_depth': 18, 'min_samples_split': 6, 'min_samples_leaf': 8}. Best is trial 11 with value: 0.6024518388791594.\u001b[0m\n",
      "\u001b[32m[I 2023-04-24 08:16:38,615]\u001b[0m Trial 50 finished with value: 0.5944055944055944 and parameters: {'n_estimators': 383, 'max_depth': 23, 'min_samples_split': 3, 'min_samples_leaf': 4}. Best is trial 11 with value: 0.6024518388791594.\u001b[0m\n",
      "\u001b[32m[I 2023-04-24 08:16:39,623]\u001b[0m Trial 51 finished with value: 0.5972222222222222 and parameters: {'n_estimators': 385, 'max_depth': 21, 'min_samples_split': 10, 'min_samples_leaf': 4}. Best is trial 11 with value: 0.6024518388791594.\u001b[0m\n",
      "\u001b[32m[I 2023-04-24 08:16:39,966]\u001b[0m Trial 52 finished with value: 0.5866209262435679 and parameters: {'n_estimators': 126, 'max_depth': 22, 'min_samples_split': 10, 'min_samples_leaf': 5}. Best is trial 11 with value: 0.6024518388791594.\u001b[0m\n",
      "\u001b[32m[I 2023-04-24 08:16:40,606]\u001b[0m Trial 53 finished with value: 0.5975820379965457 and parameters: {'n_estimators': 234, 'max_depth': 15, 'min_samples_split': 9, 'min_samples_leaf': 3}. Best is trial 11 with value: 0.6024518388791594.\u001b[0m\n",
      "\u001b[32m[I 2023-04-24 08:16:40,768]\u001b[0m Trial 54 finished with value: 0.5843478260869565 and parameters: {'n_estimators': 55, 'max_depth': 13, 'min_samples_split': 5, 'min_samples_leaf': 4}. Best is trial 11 with value: 0.6024518388791594.\u001b[0m\n",
      "\u001b[32m[I 2023-04-24 08:16:42,606]\u001b[0m Trial 55 finished with value: 0.5920826161790017 and parameters: {'n_estimators': 679, 'max_depth': 19, 'min_samples_split': 9, 'min_samples_leaf': 2}. Best is trial 11 with value: 0.6024518388791594.\u001b[0m\n",
      "\u001b[32m[I 2023-04-24 08:16:43,585]\u001b[0m Trial 56 finished with value: 0.597623089983022 and parameters: {'n_estimators': 360, 'max_depth': 45, 'min_samples_split': 7, 'min_samples_leaf': 3}. Best is trial 11 with value: 0.6024518388791594.\u001b[0m\n",
      "\u001b[32m[I 2023-04-24 08:16:44,275]\u001b[0m Trial 57 finished with value: 0.5909090909090908 and parameters: {'n_estimators': 271, 'max_depth': 33, 'min_samples_split': 4, 'min_samples_leaf': 6}. Best is trial 11 with value: 0.6024518388791594.\u001b[0m\n",
      "\u001b[32m[I 2023-04-24 08:16:45,714]\u001b[0m Trial 58 finished with value: 0.5961871750433275 and parameters: {'n_estimators': 544, 'max_depth': 24, 'min_samples_split': 5, 'min_samples_leaf': 4}. Best is trial 11 with value: 0.6024518388791594.\u001b[0m\n",
      "\u001b[32m[I 2023-04-24 08:16:47,688]\u001b[0m Trial 59 finished with value: 0.5931034482758621 and parameters: {'n_estimators': 756, 'max_depth': 16, 'min_samples_split': 6, 'min_samples_leaf': 5}. Best is trial 11 with value: 0.6024518388791594.\u001b[0m\n",
      "\u001b[32m[I 2023-04-24 08:16:48,265]\u001b[0m Trial 60 finished with value: 0.5972696245733788 and parameters: {'n_estimators': 204, 'max_depth': 29, 'min_samples_split': 7, 'min_samples_leaf': 2}. Best is trial 11 with value: 0.6024518388791594.\u001b[0m\n",
      "\u001b[32m[I 2023-04-24 08:16:49,224]\u001b[0m Trial 61 finished with value: 0.6027397260273973 and parameters: {'n_estimators': 340, 'max_depth': 13, 'min_samples_split': 5, 'min_samples_leaf': 1}. Best is trial 61 with value: 0.6027397260273973.\u001b[0m\n",
      "\u001b[32m[I 2023-04-24 08:16:50,304]\u001b[0m Trial 62 finished with value: 0.5972222222222222 and parameters: {'n_estimators': 407, 'max_depth': 11, 'min_samples_split': 5, 'min_samples_leaf': 1}. Best is trial 61 with value: 0.6027397260273973.\u001b[0m\n",
      "\u001b[32m[I 2023-04-24 08:16:51,168]\u001b[0m Trial 63 finished with value: 0.5834738617200675 and parameters: {'n_estimators': 304, 'max_depth': 13, 'min_samples_split': 4, 'min_samples_leaf': 1}. Best is trial 61 with value: 0.6027397260273973.\u001b[0m\n",
      "\u001b[32m[I 2023-04-24 08:16:52,104]\u001b[0m Trial 64 finished with value: 0.5928449744463373 and parameters: {'n_estimators': 335, 'max_depth': 14, 'min_samples_split': 5, 'min_samples_leaf': 2}. Best is trial 61 with value: 0.6027397260273973.\u001b[0m\n",
      "\u001b[32m[I 2023-04-24 08:16:53,363]\u001b[0m Trial 65 finished with value: 0.589041095890411 and parameters: {'n_estimators': 449, 'max_depth': 17, 'min_samples_split': 6, 'min_samples_leaf': 3}. Best is trial 61 with value: 0.6027397260273973.\u001b[0m\n",
      "\u001b[32m[I 2023-04-24 08:16:54,130]\u001b[0m Trial 66 finished with value: 0.5918367346938775 and parameters: {'n_estimators': 255, 'max_depth': 19, 'min_samples_split': 4, 'min_samples_leaf': 1}. Best is trial 61 with value: 0.6027397260273973.\u001b[0m\n",
      "\u001b[32m[I 2023-04-24 08:16:55,382]\u001b[0m Trial 67 finished with value: 0.593368237347295 and parameters: {'n_estimators': 496, 'max_depth': 10, 'min_samples_split': 2, 'min_samples_leaf': 2}. Best is trial 61 with value: 0.6027397260273973.\u001b[0m\n",
      "\u001b[32m[I 2023-04-24 08:16:57,019]\u001b[0m Trial 68 finished with value: 0.5870307167235495 and parameters: {'n_estimators': 600, 'max_depth': 25, 'min_samples_split': 5, 'min_samples_leaf': 3}. Best is trial 61 with value: 0.6027397260273973.\u001b[0m\n",
      "\u001b[32m[I 2023-04-24 08:16:58,691]\u001b[0m Trial 69 finished with value: 0.5965517241379311 and parameters: {'n_estimators': 634, 'max_depth': 15, 'min_samples_split': 8, 'min_samples_leaf': 4}. Best is trial 61 with value: 0.6027397260273973.\u001b[0m\n",
      "\u001b[32m[I 2023-04-24 08:16:59,052]\u001b[0m Trial 70 finished with value: 0.5896551724137932 and parameters: {'n_estimators': 133, 'max_depth': 18, 'min_samples_split': 6, 'min_samples_leaf': 5}. Best is trial 61 with value: 0.6027397260273973.\u001b[0m\n",
      "\u001b[32m[I 2023-04-24 08:17:00,088]\u001b[0m Trial 71 finished with value: 0.6040955631399317 and parameters: {'n_estimators': 367, 'max_depth': 13, 'min_samples_split': 5, 'min_samples_leaf': 1}. Best is trial 71 with value: 0.6040955631399317.\u001b[0m\n",
      "\u001b[32m[I 2023-04-24 08:17:01,073]\u001b[0m Trial 72 finished with value: 0.5972222222222222 and parameters: {'n_estimators': 367, 'max_depth': 11, 'min_samples_split': 5, 'min_samples_leaf': 1}. Best is trial 71 with value: 0.6040955631399317.\u001b[0m\n",
      "\u001b[32m[I 2023-04-24 08:17:02,300]\u001b[0m Trial 73 finished with value: 0.6027397260273973 and parameters: {'n_estimators': 437, 'max_depth': 13, 'min_samples_split': 5, 'min_samples_leaf': 1}. Best is trial 71 with value: 0.6040955631399317.\u001b[0m\n",
      "\u001b[32m[I 2023-04-24 08:17:03,489]\u001b[0m Trial 74 finished with value: 0.5996533795493934 and parameters: {'n_estimators': 434, 'max_depth': 12, 'min_samples_split': 5, 'min_samples_leaf': 1}. Best is trial 71 with value: 0.6040955631399317.\u001b[0m\n",
      "\u001b[32m[I 2023-04-24 08:17:04,682]\u001b[0m Trial 75 finished with value: 0.5986159169550174 and parameters: {'n_estimators': 435, 'max_depth': 12, 'min_samples_split': 5, 'min_samples_leaf': 1}. Best is trial 71 with value: 0.6040955631399317.\u001b[0m\n",
      "\u001b[32m[I 2023-04-24 08:17:06,159]\u001b[0m Trial 76 finished with value: 0.5900514579759862 and parameters: {'n_estimators': 521, 'max_depth': 14, 'min_samples_split': 5, 'min_samples_leaf': 1}. Best is trial 71 with value: 0.6040955631399317.\u001b[0m\n",
      "\u001b[32m[I 2023-04-24 08:17:07,235]\u001b[0m Trial 77 finished with value: 0.5975820379965457 and parameters: {'n_estimators': 411, 'max_depth': 11, 'min_samples_split': 6, 'min_samples_leaf': 2}. Best is trial 71 with value: 0.6040955631399317.\u001b[0m\n",
      "\u001b[32m[I 2023-04-24 08:17:08,817]\u001b[0m Trial 78 finished with value: 0.5989672977624785 and parameters: {'n_estimators': 568, 'max_depth': 13, 'min_samples_split': 6, 'min_samples_leaf': 1}. Best is trial 71 with value: 0.6040955631399317.\u001b[0m\n",
      "\u001b[32m[I 2023-04-24 08:17:10,066]\u001b[0m Trial 79 finished with value: 0.5968586387434556 and parameters: {'n_estimators': 481, 'max_depth': 10, 'min_samples_split': 5, 'min_samples_leaf': 1}. Best is trial 71 with value: 0.6040955631399317.\u001b[0m\n",
      "\u001b[32m[I 2023-04-24 08:17:10,992]\u001b[0m Trial 80 finished with value: 0.5932203389830508 and parameters: {'n_estimators': 324, 'max_depth': 15, 'min_samples_split': 4, 'min_samples_leaf': 2}. Best is trial 71 with value: 0.6040955631399317.\u001b[0m\n",
      "\u001b[32m[I 2023-04-24 08:17:11,791]\u001b[0m Trial 81 finished with value: 0.6027397260273973 and parameters: {'n_estimators': 282, 'max_depth': 13, 'min_samples_split': 5, 'min_samples_leaf': 1}. Best is trial 71 with value: 0.6040955631399317.\u001b[0m\n",
      "\u001b[32m[I 2023-04-24 08:17:12,573]\u001b[0m Trial 82 finished with value: 0.5902777777777777 and parameters: {'n_estimators': 281, 'max_depth': 12, 'min_samples_split': 5, 'min_samples_leaf': 1}. Best is trial 71 with value: 0.6040955631399317.\u001b[0m\n",
      "\u001b[32m[I 2023-04-24 08:17:14,502]\u001b[0m Trial 83 finished with value: 0.5935919055649241 and parameters: {'n_estimators': 673, 'max_depth': 16, 'min_samples_split': 5, 'min_samples_leaf': 1}. Best is trial 71 with value: 0.6040955631399317.\u001b[0m\n",
      "\u001b[32m[I 2023-04-24 08:17:15,211]\u001b[0m Trial 84 finished with value: 0.5923344947735192 and parameters: {'n_estimators': 252, 'max_depth': 13, 'min_samples_split': 4, 'min_samples_leaf': 2}. Best is trial 71 with value: 0.6040955631399317.\u001b[0m\n",
      "\u001b[32m[I 2023-04-24 08:17:16,212]\u001b[0m Trial 85 finished with value: 0.5938566552901025 and parameters: {'n_estimators': 353, 'max_depth': 14, 'min_samples_split': 6, 'min_samples_leaf': 1}. Best is trial 71 with value: 0.6040955631399317.\u001b[0m\n",
      "\u001b[32m[I 2023-04-24 08:17:16,644]\u001b[0m Trial 86 finished with value: 0.5785714285714286 and parameters: {'n_estimators': 180, 'max_depth': 11, 'min_samples_split': 5, 'min_samples_leaf': 10}. Best is trial 71 with value: 0.6040955631399317.\u001b[0m\n",
      "\u001b[32m[I 2023-04-24 08:17:17,872]\u001b[0m Trial 87 finished with value: 0.5886402753872634 and parameters: {'n_estimators': 449, 'max_depth': 13, 'min_samples_split': 6, 'min_samples_leaf': 2}. Best is trial 71 with value: 0.6040955631399317.\u001b[0m\n",
      "\u001b[32m[I 2023-04-24 08:17:20,724]\u001b[0m Trial 88 finished with value: 0.5932203389830508 and parameters: {'n_estimators': 988, 'max_depth': 17, 'min_samples_split': 5, 'min_samples_leaf': 1}. Best is trial 71 with value: 0.6040955631399317.\u001b[0m\n",
      "\u001b[32m[I 2023-04-24 08:17:22,174]\u001b[0m Trial 89 finished with value: 0.5868465430016864 and parameters: {'n_estimators': 513, 'max_depth': 15, 'min_samples_split': 4, 'min_samples_leaf': 2}. Best is trial 71 with value: 0.6040955631399317.\u001b[0m\n",
      "\u001b[32m[I 2023-04-24 08:17:23,315]\u001b[0m Trial 90 finished with value: 0.6006944444444444 and parameters: {'n_estimators': 415, 'max_depth': 12, 'min_samples_split': 5, 'min_samples_leaf': 1}. Best is trial 71 with value: 0.6040955631399317.\u001b[0m\n",
      "\u001b[32m[I 2023-04-24 08:17:24,203]\u001b[0m Trial 91 finished with value: 0.5892547660311959 and parameters: {'n_estimators': 321, 'max_depth': 12, 'min_samples_split': 5, 'min_samples_leaf': 1}. Best is trial 71 with value: 0.6040955631399317.\u001b[0m\n",
      "\u001b[32m[I 2023-04-24 08:17:25,315]\u001b[0m Trial 92 finished with value: 0.5982608695652174 and parameters: {'n_estimators': 408, 'max_depth': 11, 'min_samples_split': 5, 'min_samples_leaf': 1}. Best is trial 71 with value: 0.6040955631399317.\u001b[0m\n",
      "\u001b[32m[I 2023-04-24 08:17:26,082]\u001b[0m Trial 93 finished with value: 0.6024518388791594 and parameters: {'n_estimators': 292, 'max_depth': 10, 'min_samples_split': 5, 'min_samples_leaf': 1}. Best is trial 71 with value: 0.6040955631399317.\u001b[0m\n",
      "\u001b[32m[I 2023-04-24 08:17:26,818]\u001b[0m Trial 94 finished with value: 0.6031746031746031 and parameters: {'n_estimators': 287, 'max_depth': 10, 'min_samples_split': 5, 'min_samples_leaf': 1}. Best is trial 71 with value: 0.6040955631399317.\u001b[0m\n",
      "\u001b[32m[I 2023-04-24 08:17:27,752]\u001b[0m Trial 95 finished with value: 0.5964912280701754 and parameters: {'n_estimators': 364, 'max_depth': 10, 'min_samples_split': 4, 'min_samples_leaf': 1}. Best is trial 71 with value: 0.6040955631399317.\u001b[0m\n",
      "\u001b[32m[I 2023-04-24 08:17:28,509]\u001b[0m Trial 96 finished with value: 0.5944055944055944 and parameters: {'n_estimators': 298, 'max_depth': 10, 'min_samples_split': 5, 'min_samples_leaf': 2}. Best is trial 71 with value: 0.6040955631399317.\u001b[0m\n",
      "\u001b[32m[I 2023-04-24 08:17:30,489]\u001b[0m Trial 97 finished with value: 0.5938566552901025 and parameters: {'n_estimators': 704, 'max_depth': 14, 'min_samples_split': 6, 'min_samples_leaf': 1}. Best is trial 71 with value: 0.6040955631399317.\u001b[0m\n",
      "\u001b[32m[I 2023-04-24 08:17:31,335]\u001b[0m Trial 98 finished with value: 0.5918367346938775 and parameters: {'n_estimators': 294, 'max_depth': 13, 'min_samples_split': 3, 'min_samples_leaf': 1}. Best is trial 71 with value: 0.6040955631399317.\u001b[0m\n",
      "\u001b[32m[I 2023-04-24 08:17:32,264]\u001b[0m Trial 99 finished with value: 0.59375 and parameters: {'n_estimators': 339, 'max_depth': 12, 'min_samples_split': 4, 'min_samples_leaf': 2}. Best is trial 71 with value: 0.6040955631399317.\u001b[0m\n"
     ]
    },
    {
     "name": "stdout",
     "output_type": "stream",
     "text": [
      "{'n_estimators': 367, 'max_depth': 13, 'min_samples_split': 5, 'min_samples_leaf': 1}\n",
      "f1 score 0.6040955631399317\n"
     ]
    }
   ],
   "source": [
    "forest_with_opt(X_train_forest_model_2, X_valid_ohe, y_train_forest_model_2, y_valid, 'forest_downsample_0.4_frac_HYPER')"
   ]
  },
  {
   "cell_type": "markdown",
   "metadata": {},
   "source": [
    "##### forest_upsample_3_repeat"
   ]
  },
  {
   "cell_type": "code",
   "execution_count": 57,
   "metadata": {},
   "outputs": [],
   "source": [
    "X_train_forest_model_3, y_train_forest_model_3 = upsample_data(X_train_ohe, y_train, 3) "
   ]
  },
  {
   "cell_type": "code",
   "execution_count": 58,
   "metadata": {
    "scrolled": true
   },
   "outputs": [
    {
     "name": "stderr",
     "output_type": "stream",
     "text": [
      "\u001b[32m[I 2023-04-24 08:17:33,302]\u001b[0m A new study created in memory with name: no-name-8f00f267-800d-4696-a665-5ecfadc1beaf\u001b[0m\n",
      "\u001b[32m[I 2023-04-24 08:17:37,668]\u001b[0m Trial 0 finished with value: 0.6192170818505338 and parameters: {'n_estimators': 748, 'max_depth': 37, 'min_samples_split': 2, 'min_samples_leaf': 9}. Best is trial 0 with value: 0.6192170818505338.\u001b[0m\n",
      "\u001b[32m[I 2023-04-24 08:17:42,547]\u001b[0m Trial 1 finished with value: 0.6167883211678832 and parameters: {'n_estimators': 764, 'max_depth': 21, 'min_samples_split': 5, 'min_samples_leaf': 4}. Best is trial 0 with value: 0.6192170818505338.\u001b[0m\n",
      "\u001b[32m[I 2023-04-24 08:17:45,270]\u001b[0m Trial 2 finished with value: 0.6222222222222222 and parameters: {'n_estimators': 421, 'max_depth': 50, 'min_samples_split': 5, 'min_samples_leaf': 3}. Best is trial 2 with value: 0.6222222222222222.\u001b[0m\n",
      "\u001b[32m[I 2023-04-24 08:17:46,678]\u001b[0m Trial 3 finished with value: 0.6134301270417423 and parameters: {'n_estimators': 230, 'max_depth': 15, 'min_samples_split': 5, 'min_samples_leaf': 5}. Best is trial 2 with value: 0.6222222222222222.\u001b[0m\n",
      "\u001b[32m[I 2023-04-24 08:17:51,706]\u001b[0m Trial 4 finished with value: 0.6142857142857142 and parameters: {'n_estimators': 838, 'max_depth': 20, 'min_samples_split': 3, 'min_samples_leaf': 7}. Best is trial 2 with value: 0.6222222222222222.\u001b[0m\n",
      "\u001b[32m[I 2023-04-24 08:17:55,653]\u001b[0m Trial 5 finished with value: 0.6148282097649186 and parameters: {'n_estimators': 650, 'max_depth': 25, 'min_samples_split': 5, 'min_samples_leaf': 6}. Best is trial 2 with value: 0.6222222222222222.\u001b[0m\n",
      "\u001b[32m[I 2023-04-24 08:18:01,235]\u001b[0m Trial 6 finished with value: 0.6134751773049645 and parameters: {'n_estimators': 949, 'max_depth': 16, 'min_samples_split': 9, 'min_samples_leaf': 9}. Best is trial 2 with value: 0.6222222222222222.\u001b[0m\n",
      "\u001b[32m[I 2023-04-24 08:18:04,851]\u001b[0m Trial 7 finished with value: 0.6145648312611013 and parameters: {'n_estimators': 623, 'max_depth': 17, 'min_samples_split': 9, 'min_samples_leaf': 9}. Best is trial 2 with value: 0.6222222222222222.\u001b[0m\n",
      "\u001b[32m[I 2023-04-24 08:18:06,995]\u001b[0m Trial 8 finished with value: 0.6125461254612546 and parameters: {'n_estimators': 332, 'max_depth': 49, 'min_samples_split': 5, 'min_samples_leaf': 3}. Best is trial 2 with value: 0.6222222222222222.\u001b[0m\n",
      "\u001b[32m[I 2023-04-24 08:18:11,121]\u001b[0m Trial 9 finished with value: 0.6162162162162161 and parameters: {'n_estimators': 668, 'max_depth': 39, 'min_samples_split': 10, 'min_samples_leaf': 5}. Best is trial 2 with value: 0.6222222222222222.\u001b[0m\n",
      "\u001b[32m[I 2023-04-24 08:18:11,203]\u001b[0m Trial 10 finished with value: 0.5758157389635316 and parameters: {'n_estimators': 10, 'max_depth': 50, 'min_samples_split': 7, 'min_samples_leaf': 1}. Best is trial 2 with value: 0.6222222222222222.\u001b[0m\n",
      "\u001b[32m[I 2023-04-24 08:18:14,182]\u001b[0m Trial 11 finished with value: 0.614503816793893 and parameters: {'n_estimators': 438, 'max_depth': 36, 'min_samples_split': 2, 'min_samples_leaf': 2}. Best is trial 2 with value: 0.6222222222222222.\u001b[0m\n",
      "\u001b[32m[I 2023-04-24 08:18:16,975]\u001b[0m Trial 12 finished with value: 0.608540925266904 and parameters: {'n_estimators': 486, 'max_depth': 42, 'min_samples_split': 3, 'min_samples_leaf': 10}. Best is trial 2 with value: 0.6222222222222222.\u001b[0m\n",
      "\u001b[32m[I 2023-04-24 08:18:18,361]\u001b[0m Trial 13 finished with value: 0.6182495344506518 and parameters: {'n_estimators': 213, 'max_depth': 32, 'min_samples_split': 7, 'min_samples_leaf': 3}. Best is trial 2 with value: 0.6222222222222222.\u001b[0m\n",
      "\u001b[32m[I 2023-04-24 08:18:23,970]\u001b[0m Trial 14 finished with value: 0.6129032258064516 and parameters: {'n_estimators': 936, 'max_depth': 44, 'min_samples_split': 2, 'min_samples_leaf': 7}. Best is trial 2 with value: 0.6222222222222222.\u001b[0m\n",
      "\u001b[32m[I 2023-04-24 08:18:27,243]\u001b[0m Trial 15 finished with value: 0.6120996441281139 and parameters: {'n_estimators': 554, 'max_depth': 30, 'min_samples_split': 3, 'min_samples_leaf': 8}. Best is trial 2 with value: 0.6222222222222222.\u001b[0m\n",
      "\u001b[32m[I 2023-04-24 08:18:32,576]\u001b[0m Trial 16 finished with value: 0.6120857699805069 and parameters: {'n_estimators': 795, 'max_depth': 45, 'min_samples_split': 7, 'min_samples_leaf': 1}. Best is trial 2 with value: 0.6222222222222222.\u001b[0m\n",
      "\u001b[32m[I 2023-04-24 08:18:35,116]\u001b[0m Trial 17 finished with value: 0.6218181818181818 and parameters: {'n_estimators': 399, 'max_depth': 35, 'min_samples_split': 4, 'min_samples_leaf': 4}. Best is trial 2 with value: 0.6222222222222222.\u001b[0m\n",
      "\u001b[32m[I 2023-04-24 08:18:37,540]\u001b[0m Trial 18 finished with value: 0.6196660482374768 and parameters: {'n_estimators': 374, 'max_depth': 26, 'min_samples_split': 4, 'min_samples_leaf': 3}. Best is trial 2 with value: 0.6222222222222222.\u001b[0m\n",
      "\u001b[32m[I 2023-04-24 08:18:38,649]\u001b[0m Trial 19 finished with value: 0.6115107913669064 and parameters: {'n_estimators': 202, 'max_depth': 10, 'min_samples_split': 6, 'min_samples_leaf': 4}. Best is trial 2 with value: 0.6222222222222222.\u001b[0m\n",
      "\u001b[32m[I 2023-04-24 08:18:39,388]\u001b[0m Trial 20 finished with value: 0.598095238095238 and parameters: {'n_estimators': 108, 'max_depth': 34, 'min_samples_split': 4, 'min_samples_leaf': 2}. Best is trial 2 with value: 0.6222222222222222.\u001b[0m\n",
      "\u001b[32m[I 2023-04-24 08:18:41,817]\u001b[0m Trial 21 finished with value: 0.6196660482374768 and parameters: {'n_estimators': 373, 'max_depth': 26, 'min_samples_split': 4, 'min_samples_leaf': 3}. Best is trial 2 with value: 0.6222222222222222.\u001b[0m\n",
      "\u001b[32m[I 2023-04-24 08:18:43,870]\u001b[0m Trial 22 finished with value: 0.6238532110091745 and parameters: {'n_estimators': 324, 'max_depth': 26, 'min_samples_split': 4, 'min_samples_leaf': 4}. Best is trial 22 with value: 0.6238532110091745.\u001b[0m\n",
      "\u001b[32m[I 2023-04-24 08:18:45,702]\u001b[0m Trial 23 finished with value: 0.6187845303867404 and parameters: {'n_estimators': 282, 'max_depth': 29, 'min_samples_split': 6, 'min_samples_leaf': 4}. Best is trial 22 with value: 0.6238532110091745.\u001b[0m\n",
      "\u001b[32m[I 2023-04-24 08:18:48,658]\u001b[0m Trial 24 finished with value: 0.6184448462929476 and parameters: {'n_estimators': 477, 'max_depth': 39, 'min_samples_split': 6, 'min_samples_leaf': 5}. Best is trial 22 with value: 0.6238532110091745.\u001b[0m\n",
      "\u001b[32m[I 2023-04-24 08:18:52,105]\u001b[0m Trial 25 finished with value: 0.617059891107078 and parameters: {'n_estimators': 566, 'max_depth': 47, 'min_samples_split': 4, 'min_samples_leaf': 6}. Best is trial 22 with value: 0.6238532110091745.\u001b[0m\n",
      "\u001b[32m[I 2023-04-24 08:18:54,859]\u001b[0m Trial 26 finished with value: 0.6183206106870228 and parameters: {'n_estimators': 411, 'max_depth': 22, 'min_samples_split': 3, 'min_samples_leaf': 2}. Best is trial 22 with value: 0.6238532110091745.\u001b[0m\n",
      "\u001b[32m[I 2023-04-24 08:18:55,689]\u001b[0m Trial 27 finished with value: 0.6263736263736265 and parameters: {'n_estimators': 129, 'max_depth': 41, 'min_samples_split': 4, 'min_samples_leaf': 4}. Best is trial 27 with value: 0.6263736263736265.\u001b[0m\n",
      "\u001b[32m[I 2023-04-24 08:18:56,263]\u001b[0m Trial 28 finished with value: 0.5966228893058161 and parameters: {'n_estimators': 84, 'max_depth': 42, 'min_samples_split': 6, 'min_samples_leaf': 2}. Best is trial 27 with value: 0.6263736263736265.\u001b[0m\n",
      "\u001b[32m[I 2023-04-24 08:18:58,134]\u001b[0m Trial 29 finished with value: 0.6131907308377896 and parameters: {'n_estimators': 306, 'max_depth': 47, 'min_samples_split': 5, 'min_samples_leaf': 6}. Best is trial 27 with value: 0.6263736263736265.\u001b[0m\n",
      "\u001b[32m[I 2023-04-24 08:18:58,728]\u001b[0m Trial 30 finished with value: 0.6263736263736265 and parameters: {'n_estimators': 91, 'max_depth': 39, 'min_samples_split': 2, 'min_samples_leaf': 4}. Best is trial 27 with value: 0.6263736263736265.\u001b[0m\n",
      "\u001b[32m[I 2023-04-24 08:18:59,547]\u001b[0m Trial 31 finished with value: 0.6286764705882352 and parameters: {'n_estimators': 127, 'max_depth': 40, 'min_samples_split': 2, 'min_samples_leaf': 4}. Best is trial 31 with value: 0.6286764705882352.\u001b[0m\n",
      "\u001b[32m[I 2023-04-24 08:19:00,371]\u001b[0m Trial 32 finished with value: 0.6275229357798165 and parameters: {'n_estimators': 128, 'max_depth': 39, 'min_samples_split': 2, 'min_samples_leaf': 4}. Best is trial 31 with value: 0.6286764705882352.\u001b[0m\n",
      "\u001b[32m[I 2023-04-24 08:19:01,270]\u001b[0m Trial 33 finished with value: 0.6159420289855074 and parameters: {'n_estimators': 137, 'max_depth': 39, 'min_samples_split': 2, 'min_samples_leaf': 5}. Best is trial 31 with value: 0.6286764705882352.\u001b[0m\n",
      "\u001b[32m[I 2023-04-24 08:19:01,395]\u001b[0m Trial 34 finished with value: 0.6230088495575221 and parameters: {'n_estimators': 16, 'max_depth': 41, 'min_samples_split': 2, 'min_samples_leaf': 4}. Best is trial 31 with value: 0.6286764705882352.\u001b[0m\n",
      "\u001b[32m[I 2023-04-24 08:19:02,276]\u001b[0m Trial 35 finished with value: 0.6148282097649186 and parameters: {'n_estimators': 138, 'max_depth': 33, 'min_samples_split': 2, 'min_samples_leaf': 5}. Best is trial 31 with value: 0.6286764705882352.\u001b[0m\n",
      "\u001b[32m[I 2023-04-24 08:19:02,736]\u001b[0m Trial 36 finished with value: 0.6075471698113206 and parameters: {'n_estimators': 68, 'max_depth': 38, 'min_samples_split': 3, 'min_samples_leaf': 3}. Best is trial 31 with value: 0.6286764705882352.\u001b[0m\n",
      "\u001b[32m[I 2023-04-24 08:19:03,932]\u001b[0m Trial 37 finished with value: 0.6236162361623616 and parameters: {'n_estimators': 187, 'max_depth': 45, 'min_samples_split': 2, 'min_samples_leaf': 4}. Best is trial 31 with value: 0.6286764705882352.\u001b[0m\n",
      "\u001b[32m[I 2023-04-24 08:19:05,484]\u001b[0m Trial 38 finished with value: 0.6151079136690647 and parameters: {'n_estimators': 257, 'max_depth': 41, 'min_samples_split': 3, 'min_samples_leaf': 7}. Best is trial 31 with value: 0.6286764705882352.\u001b[0m\n",
      "\u001b[32m[I 2023-04-24 08:19:06,520]\u001b[0m Trial 39 finished with value: 0.6247755834829443 and parameters: {'n_estimators': 165, 'max_depth': 37, 'min_samples_split': 3, 'min_samples_leaf': 5}. Best is trial 31 with value: 0.6286764705882352.\u001b[0m\n",
      "\u001b[32m[I 2023-04-24 08:19:06,944]\u001b[0m Trial 40 finished with value: 0.6014492753623188 and parameters: {'n_estimators': 67, 'max_depth': 43, 'min_samples_split': 2, 'min_samples_leaf': 6}. Best is trial 31 with value: 0.6286764705882352.\u001b[0m\n",
      "\u001b[32m[I 2023-04-24 08:19:08,040]\u001b[0m Trial 41 finished with value: 0.624548736462094 and parameters: {'n_estimators': 174, 'max_depth': 37, 'min_samples_split': 3, 'min_samples_leaf': 5}. Best is trial 31 with value: 0.6286764705882352.\u001b[0m\n",
      "\u001b[32m[I 2023-04-24 08:19:08,991]\u001b[0m Trial 42 finished with value: 0.6261510128913444 and parameters: {'n_estimators': 148, 'max_depth': 40, 'min_samples_split': 3, 'min_samples_leaf': 4}. Best is trial 31 with value: 0.6286764705882352.\u001b[0m\n",
      "\u001b[32m[I 2023-04-24 08:19:10,506]\u001b[0m Trial 43 finished with value: 0.6224677716390423 and parameters: {'n_estimators': 238, 'max_depth': 40, 'min_samples_split': 2, 'min_samples_leaf': 4}. Best is trial 31 with value: 0.6286764705882352.\u001b[0m\n",
      "\u001b[32m[I 2023-04-24 08:19:10,901]\u001b[0m Trial 44 finished with value: 0.6145251396648045 and parameters: {'n_estimators': 58, 'max_depth': 46, 'min_samples_split': 3, 'min_samples_leaf': 3}. Best is trial 31 with value: 0.6286764705882352.\u001b[0m\n",
      "\u001b[32m[I 2023-04-24 08:19:11,692]\u001b[0m Trial 45 finished with value: 0.6300366300366301 and parameters: {'n_estimators': 122, 'max_depth': 35, 'min_samples_split': 2, 'min_samples_leaf': 4}. Best is trial 45 with value: 0.6300366300366301.\u001b[0m\n",
      "\u001b[32m[I 2023-04-24 08:19:12,423]\u001b[0m Trial 46 finished with value: 0.6104868913857678 and parameters: {'n_estimators': 109, 'max_depth': 32, 'min_samples_split': 2, 'min_samples_leaf': 3}. Best is trial 45 with value: 0.6300366300366301.\u001b[0m\n",
      "\u001b[32m[I 2023-04-24 08:19:12,562]\u001b[0m Trial 47 finished with value: 0.6159292035398231 and parameters: {'n_estimators': 19, 'max_depth': 35, 'min_samples_split': 2, 'min_samples_leaf': 5}. Best is trial 45 with value: 0.6300366300366301.\u001b[0m\n",
      "\u001b[32m[I 2023-04-24 08:19:13,918]\u001b[0m Trial 48 finished with value: 0.6173285198555957 and parameters: {'n_estimators': 221, 'max_depth': 36, 'min_samples_split': 2, 'min_samples_leaf': 6}. Best is trial 45 with value: 0.6300366300366301.\u001b[0m\n",
      "\u001b[32m[I 2023-04-24 08:19:14,672]\u001b[0m Trial 49 finished with value: 0.6240875912408759 and parameters: {'n_estimators': 116, 'max_depth': 43, 'min_samples_split': 3, 'min_samples_leaf': 4}. Best is trial 45 with value: 0.6300366300366301.\u001b[0m\n",
      "\u001b[32m[I 2023-04-24 08:19:16,425]\u001b[0m Trial 50 finished with value: 0.6133828996282528 and parameters: {'n_estimators': 270, 'max_depth': 31, 'min_samples_split': 9, 'min_samples_leaf': 2}. Best is trial 45 with value: 0.6300366300366301.\u001b[0m\n",
      "\u001b[32m[I 2023-04-24 08:19:17,475]\u001b[0m Trial 51 finished with value: 0.6263736263736265 and parameters: {'n_estimators': 158, 'max_depth': 40, 'min_samples_split': 3, 'min_samples_leaf': 4}. Best is trial 45 with value: 0.6300366300366301.\u001b[0m\n",
      "\u001b[32m[I 2023-04-24 08:19:17,767]\u001b[0m Trial 52 finished with value: 0.5936920222634507 and parameters: {'n_estimators': 41, 'max_depth': 38, 'min_samples_split': 2, 'min_samples_leaf': 3}. Best is trial 45 with value: 0.6300366300366301.\u001b[0m\n",
      "\u001b[32m[I 2023-04-24 08:19:18,408]\u001b[0m Trial 53 finished with value: 0.6265938069216758 and parameters: {'n_estimators': 98, 'max_depth': 34, 'min_samples_split': 2, 'min_samples_leaf': 4}. Best is trial 45 with value: 0.6300366300366301.\u001b[0m\n",
      "\u001b[32m[I 2023-04-24 08:19:19,007]\u001b[0m Trial 54 finished with value: 0.6167883211678832 and parameters: {'n_estimators': 93, 'max_depth': 29, 'min_samples_split': 8, 'min_samples_leaf': 5}. Best is trial 45 with value: 0.6300366300366301.\u001b[0m\n",
      "\u001b[32m[I 2023-04-24 08:19:19,337]\u001b[0m Trial 55 finished with value: 0.6048237476808905 and parameters: {'n_estimators': 48, 'max_depth': 34, 'min_samples_split': 2, 'min_samples_leaf': 3}. Best is trial 45 with value: 0.6300366300366301.\u001b[0m\n",
      "\u001b[32m[I 2023-04-24 08:19:20,587]\u001b[0m Trial 56 finished with value: 0.6261510128913444 and parameters: {'n_estimators': 194, 'max_depth': 36, 'min_samples_split': 2, 'min_samples_leaf': 4}. Best is trial 45 with value: 0.6300366300366301.\u001b[0m\n",
      "\u001b[32m[I 2023-04-24 08:19:21,409]\u001b[0m Trial 57 finished with value: 0.6082089552238805 and parameters: {'n_estimators': 124, 'max_depth': 33, 'min_samples_split': 3, 'min_samples_leaf': 3}. Best is trial 45 with value: 0.6300366300366301.\u001b[0m\n",
      "\u001b[32m[I 2023-04-24 08:19:25,854]\u001b[0m Trial 58 finished with value: 0.6184448462929476 and parameters: {'n_estimators': 718, 'max_depth': 38, 'min_samples_split': 5, 'min_samples_leaf': 5}. Best is trial 45 with value: 0.6300366300366301.\u001b[0m\n",
      "\u001b[32m[I 2023-04-24 08:19:31,495]\u001b[0m Trial 59 finished with value: 0.6153846153846154 and parameters: {'n_estimators': 888, 'max_depth': 43, 'min_samples_split': 4, 'min_samples_leaf': 4}. Best is trial 45 with value: 0.6300366300366301.\u001b[0m\n",
      "\u001b[32m[I 2023-04-24 08:19:33,068]\u001b[0m Trial 60 finished with value: 0.6185185185185185 and parameters: {'n_estimators': 237, 'max_depth': 35, 'min_samples_split': 2, 'min_samples_leaf': 3}. Best is trial 45 with value: 0.6300366300366301.\u001b[0m\n",
      "\u001b[32m[I 2023-04-24 08:19:34,037]\u001b[0m Trial 61 finished with value: 0.6286764705882352 and parameters: {'n_estimators': 147, 'max_depth': 41, 'min_samples_split': 3, 'min_samples_leaf': 4}. Best is trial 45 with value: 0.6300366300366301.\u001b[0m\n",
      "\u001b[32m[I 2023-04-24 08:19:34,651]\u001b[0m Trial 62 finished with value: 0.6288848263254113 and parameters: {'n_estimators': 94, 'max_depth': 41, 'min_samples_split': 2, 'min_samples_leaf': 4}. Best is trial 45 with value: 0.6300366300366301.\u001b[0m\n",
      "\u001b[32m[I 2023-04-24 08:19:35,935]\u001b[0m Trial 63 finished with value: 0.625 and parameters: {'n_estimators': 201, 'max_depth': 41, 'min_samples_split': 3, 'min_samples_leaf': 4}. Best is trial 45 with value: 0.6300366300366301.\u001b[0m\n",
      "\u001b[32m[I 2023-04-24 08:19:36,996]\u001b[0m Trial 64 finished with value: 0.625 and parameters: {'n_estimators': 165, 'max_depth': 49, 'min_samples_split': 2, 'min_samples_leaf': 4}. Best is trial 45 with value: 0.6300366300366301.\u001b[0m\n",
      "\u001b[32m[I 2023-04-24 08:19:37,224]\u001b[0m Trial 65 finished with value: 0.6035087719298246 and parameters: {'n_estimators': 36, 'max_depth': 42, 'min_samples_split': 3, 'min_samples_leaf': 10}. Best is trial 45 with value: 0.6300366300366301.\u001b[0m\n",
      "\u001b[32m[I 2023-04-24 08:19:43,371]\u001b[0m Trial 66 finished with value: 0.6206896551724137 and parameters: {'n_estimators': 991, 'max_depth': 44, 'min_samples_split': 4, 'min_samples_leaf': 5}. Best is trial 45 with value: 0.6300366300366301.\u001b[0m\n",
      "\u001b[32m[I 2023-04-24 08:19:45,359]\u001b[0m Trial 67 finished with value: 0.6197718631178706 and parameters: {'n_estimators': 295, 'max_depth': 37, 'min_samples_split': 2, 'min_samples_leaf': 2}. Best is trial 45 with value: 0.6300366300366301.\u001b[0m\n",
      "\u001b[32m[I 2023-04-24 08:19:47,569]\u001b[0m Trial 68 finished with value: 0.6227106227106227 and parameters: {'n_estimators': 346, 'max_depth': 45, 'min_samples_split': 3, 'min_samples_leaf': 4}. Best is trial 45 with value: 0.6300366300366301.\u001b[0m\n",
      "\u001b[32m[I 2023-04-24 08:19:48,208]\u001b[0m Trial 69 finished with value: 0.6056074766355141 and parameters: {'n_estimators': 94, 'max_depth': 28, 'min_samples_split': 2, 'min_samples_leaf': 3}. Best is trial 45 with value: 0.6300366300366301.\u001b[0m\n",
      "\u001b[32m[I 2023-04-24 08:19:49,160]\u001b[0m Trial 70 finished with value: 0.6300366300366301 and parameters: {'n_estimators': 144, 'max_depth': 34, 'min_samples_split': 3, 'min_samples_leaf': 4}. Best is trial 45 with value: 0.6300366300366301.\u001b[0m\n",
      "\u001b[32m[I 2023-04-24 08:19:50,030]\u001b[0m Trial 71 finished with value: 0.6311926605504588 and parameters: {'n_estimators': 131, 'max_depth': 34, 'min_samples_split': 3, 'min_samples_leaf': 4}. Best is trial 71 with value: 0.6311926605504588.\u001b[0m\n",
      "\u001b[32m[I 2023-04-24 08:19:50,526]\u001b[0m Trial 72 finished with value: 0.6229508196721312 and parameters: {'n_estimators': 75, 'max_depth': 31, 'min_samples_split': 3, 'min_samples_leaf': 4}. Best is trial 71 with value: 0.6311926605504588.\u001b[0m\n",
      "\u001b[32m[I 2023-04-24 08:19:51,385]\u001b[0m Trial 73 finished with value: 0.616822429906542 and parameters: {'n_estimators': 130, 'max_depth': 34, 'min_samples_split': 2, 'min_samples_leaf': 3}. Best is trial 71 with value: 0.6311926605504588.\u001b[0m\n",
      "\u001b[32m[I 2023-04-24 08:19:52,535]\u001b[0m Trial 74 finished with value: 0.624548736462094 and parameters: {'n_estimators': 183, 'max_depth': 32, 'min_samples_split': 3, 'min_samples_leaf': 5}. Best is trial 71 with value: 0.6311926605504588.\u001b[0m\n",
      "\u001b[32m[I 2023-04-24 08:19:53,952]\u001b[0m Trial 75 finished with value: 0.6234234234234234 and parameters: {'n_estimators': 226, 'max_depth': 36, 'min_samples_split': 10, 'min_samples_leaf': 5}. Best is trial 71 with value: 0.6311926605504588.\u001b[0m\n",
      "\u001b[32m[I 2023-04-24 08:19:54,555]\u001b[0m Trial 76 finished with value: 0.6104129263913824 and parameters: {'n_estimators': 96, 'max_depth': 33, 'min_samples_split': 2, 'min_samples_leaf': 6}. Best is trial 71 with value: 0.6311926605504588.\u001b[0m\n",
      "\u001b[32m[I 2023-04-24 08:19:55,593]\u001b[0m Trial 77 finished with value: 0.6236162361623616 and parameters: {'n_estimators': 162, 'max_depth': 39, 'min_samples_split': 4, 'min_samples_leaf': 4}. Best is trial 71 with value: 0.6311926605504588.\u001b[0m\n",
      "\u001b[32m[I 2023-04-24 08:19:55,728]\u001b[0m Trial 78 finished with value: 0.6265486725663717 and parameters: {'n_estimators': 18, 'max_depth': 35, 'min_samples_split': 3, 'min_samples_leaf': 4}. Best is trial 71 with value: 0.6311926605504588.\u001b[0m\n",
      "\u001b[32m[I 2023-04-24 08:19:57,390]\u001b[0m Trial 79 finished with value: 0.6196660482374768 and parameters: {'n_estimators': 255, 'max_depth': 37, 'min_samples_split': 2, 'min_samples_leaf': 3}. Best is trial 71 with value: 0.6311926605504588.\u001b[0m\n",
      "\u001b[32m[I 2023-04-24 08:19:58,255]\u001b[0m Trial 80 finished with value: 0.6134301270417423 and parameters: {'n_estimators': 136, 'max_depth': 38, 'min_samples_split': 5, 'min_samples_leaf': 5}. Best is trial 71 with value: 0.6311926605504588.\u001b[0m\n",
      "\u001b[32m[I 2023-04-24 08:19:58,345]\u001b[0m Trial 81 finished with value: 0.6151142355008788 and parameters: {'n_estimators': 11, 'max_depth': 35, 'min_samples_split': 3, 'min_samples_leaf': 4}. Best is trial 71 with value: 0.6311926605504588.\u001b[0m\n",
      "\u001b[32m[I 2023-04-24 08:19:58,783]\u001b[0m Trial 82 finished with value: 0.619047619047619 and parameters: {'n_estimators': 66, 'max_depth': 34, 'min_samples_split': 2, 'min_samples_leaf': 4}. Best is trial 71 with value: 0.6311926605504588.\u001b[0m\n",
      "\u001b[32m[I 2023-04-24 08:19:59,062]\u001b[0m Trial 83 finished with value: 0.6263736263736265 and parameters: {'n_estimators': 41, 'max_depth': 31, 'min_samples_split': 3, 'min_samples_leaf': 4}. Best is trial 71 with value: 0.6311926605504588.\u001b[0m\n",
      "\u001b[32m[I 2023-04-24 08:19:59,747]\u001b[0m Trial 84 finished with value: 0.6195652173913043 and parameters: {'n_estimators': 107, 'max_depth': 40, 'min_samples_split': 4, 'min_samples_leaf': 5}. Best is trial 71 with value: 0.6311926605504588.\u001b[0m\n",
      "\u001b[32m[I 2023-04-24 08:20:00,269]\u001b[0m Trial 85 finished with value: 0.6003752345215759 and parameters: {'n_estimators': 77, 'max_depth': 28, 'min_samples_split': 3, 'min_samples_leaf': 3}. Best is trial 71 with value: 0.6311926605504588.\u001b[0m\n",
      "\u001b[32m[I 2023-04-24 08:20:01,599]\u001b[0m Trial 86 finished with value: 0.6238532110091745 and parameters: {'n_estimators': 207, 'max_depth': 35, 'min_samples_split': 2, 'min_samples_leaf': 4}. Best is trial 71 with value: 0.6311926605504588.\u001b[0m\n",
      "\u001b[32m[I 2023-04-24 08:20:02,507]\u001b[0m Trial 87 finished with value: 0.6206896551724137 and parameters: {'n_estimators': 143, 'max_depth': 42, 'min_samples_split': 2, 'min_samples_leaf': 5}. Best is trial 71 with value: 0.6311926605504588.\u001b[0m\n",
      "\u001b[32m[I 2023-04-24 08:20:06,457]\u001b[0m Trial 88 finished with value: 0.5988023952095809 and parameters: {'n_estimators': 572, 'max_depth': 33, 'min_samples_split': 4, 'min_samples_leaf': 1}. Best is trial 71 with value: 0.6311926605504588.\u001b[0m\n",
      "\u001b[32m[I 2023-04-24 08:20:06,638]\u001b[0m Trial 89 finished with value: 0.6142857142857142 and parameters: {'n_estimators': 25, 'max_depth': 30, 'min_samples_split': 3, 'min_samples_leaf': 4}. Best is trial 71 with value: 0.6311926605504588.\u001b[0m\n",
      "\u001b[32m[I 2023-04-24 08:20:07,318]\u001b[0m Trial 90 finished with value: 0.6209386281588447 and parameters: {'n_estimators': 112, 'max_depth': 12, 'min_samples_split': 2, 'min_samples_leaf': 4}. Best is trial 71 with value: 0.6311926605504588.\u001b[0m\n",
      "\u001b[32m[I 2023-04-24 08:20:07,704]\u001b[0m Trial 91 finished with value: 0.6240875912408759 and parameters: {'n_estimators': 58, 'max_depth': 41, 'min_samples_split': 3, 'min_samples_leaf': 4}. Best is trial 71 with value: 0.6311926605504588.\u001b[0m\n",
      "\u001b[32m[I 2023-04-24 08:20:08,854]\u001b[0m Trial 92 finished with value: 0.6231343283582089 and parameters: {'n_estimators': 175, 'max_depth': 39, 'min_samples_split': 2, 'min_samples_leaf': 3}. Best is trial 71 with value: 0.6311926605504588.\u001b[0m\n",
      "\u001b[32m[I 2023-04-24 08:20:09,645]\u001b[0m Trial 93 finished with value: 0.6300366300366301 and parameters: {'n_estimators': 122, 'max_depth': 36, 'min_samples_split': 3, 'min_samples_leaf': 4}. Best is trial 71 with value: 0.6311926605504588.\u001b[0m\n",
      "\u001b[32m[I 2023-04-24 08:20:10,607]\u001b[0m Trial 94 finished with value: 0.6133828996282528 and parameters: {'n_estimators': 146, 'max_depth': 36, 'min_samples_split': 3, 'min_samples_leaf': 3}. Best is trial 71 with value: 0.6311926605504588.\u001b[0m\n",
      "\u001b[32m[I 2023-04-24 08:20:11,168]\u001b[0m Trial 95 finished with value: 0.6286764705882352 and parameters: {'n_estimators': 85, 'max_depth': 38, 'min_samples_split': 3, 'min_samples_leaf': 4}. Best is trial 71 with value: 0.6311926605504588.\u001b[0m\n",
      "\u001b[32m[I 2023-04-24 08:20:11,967]\u001b[0m Trial 96 finished with value: 0.6273062730627307 and parameters: {'n_estimators': 123, 'max_depth': 38, 'min_samples_split': 8, 'min_samples_leaf': 4}. Best is trial 71 with value: 0.6311926605504588.\u001b[0m\n",
      "\u001b[32m[I 2023-04-24 08:20:12,731]\u001b[0m Trial 97 finished with value: 0.6198198198198198 and parameters: {'n_estimators': 119, 'max_depth': 38, 'min_samples_split': 8, 'min_samples_leaf': 5}. Best is trial 71 with value: 0.6311926605504588.\u001b[0m\n",
      "\u001b[32m[I 2023-04-24 08:20:13,733]\u001b[0m Trial 98 finished with value: 0.6263736263736265 and parameters: {'n_estimators': 156, 'max_depth': 40, 'min_samples_split': 8, 'min_samples_leaf': 4}. Best is trial 71 with value: 0.6311926605504588.\u001b[0m\n",
      "\u001b[32m[I 2023-04-24 08:20:14,948]\u001b[0m Trial 99 finished with value: 0.6173752310536044 and parameters: {'n_estimators': 188, 'max_depth': 37, 'min_samples_split': 10, 'min_samples_leaf': 3}. Best is trial 71 with value: 0.6311926605504588.\u001b[0m\n"
     ]
    },
    {
     "name": "stdout",
     "output_type": "stream",
     "text": [
      "{'n_estimators': 131, 'max_depth': 34, 'min_samples_split': 3, 'min_samples_leaf': 4}\n",
      "f1 score 0.6311926605504588\n"
     ]
    }
   ],
   "source": [
    "forest_with_opt(X_train_forest_model_3, X_valid_ohe, y_train_forest_model_3, y_valid, ' forest_upsample_3_repeat_HYPER')"
   ]
  },
  {
   "cell_type": "markdown",
   "metadata": {},
   "source": [
    "#### Определение наилучшей модели"
   ]
  },
  {
   "cell_type": "markdown",
   "metadata": {},
   "source": [
    "Выведем результаты всех экспериментов и посмотрим на модель, которую мы будем проверять на тесте:"
   ]
  },
  {
   "cell_type": "code",
   "execution_count": 59,
   "metadata": {},
   "outputs": [
    {
     "data": {
      "text/html": [
       "<div>\n",
       "<style scoped>\n",
       "    .dataframe tbody tr th:only-of-type {\n",
       "        vertical-align: middle;\n",
       "    }\n",
       "\n",
       "    .dataframe tbody tr th {\n",
       "        vertical-align: top;\n",
       "    }\n",
       "\n",
       "    .dataframe thead th {\n",
       "        text-align: right;\n",
       "    }\n",
       "</style>\n",
       "<table border=\"1\" class=\"dataframe\">\n",
       "  <thead>\n",
       "    <tr style=\"text-align: right;\">\n",
       "      <th></th>\n",
       "      <th>Accuracy_score</th>\n",
       "      <th>Precision_score</th>\n",
       "      <th>Recall_score</th>\n",
       "      <th>F1_score</th>\n",
       "      <th>AUC-ROC_score</th>\n",
       "    </tr>\n",
       "    <tr>\n",
       "      <th>Модель</th>\n",
       "      <th></th>\n",
       "      <th></th>\n",
       "      <th></th>\n",
       "      <th></th>\n",
       "      <th></th>\n",
       "    </tr>\n",
       "  </thead>\n",
       "  <tbody>\n",
       "    <tr>\n",
       "      <th>forest_upsample_3_repeat_HYPER</th>\n",
       "      <td>0.852639</td>\n",
       "      <td>0.634686</td>\n",
       "      <td>0.627737</td>\n",
       "      <td>0.631193</td>\n",
       "      <td>0.768456</td>\n",
       "    </tr>\n",
       "    <tr>\n",
       "      <th>forest_upsample_4_repeat_HYPER</th>\n",
       "      <td>0.855572</td>\n",
       "      <td>0.612546</td>\n",
       "      <td>0.643411</td>\n",
       "      <td>0.627599</td>\n",
       "      <td>0.774237</td>\n",
       "    </tr>\n",
       "    <tr>\n",
       "      <th>forest_downsample_0.4_frac_HYPER</th>\n",
       "      <td>0.829912</td>\n",
       "      <td>0.653137</td>\n",
       "      <td>0.561905</td>\n",
       "      <td>0.604096</td>\n",
       "      <td>0.736148</td>\n",
       "    </tr>\n",
       "    <tr>\n",
       "      <th>forest_upsample_4_repeat</th>\n",
       "      <td>0.854839</td>\n",
       "      <td>0.546125</td>\n",
       "      <td>0.663677</td>\n",
       "      <td>0.599190</td>\n",
       "      <td>0.777938</td>\n",
       "    </tr>\n",
       "    <tr>\n",
       "      <th>forest_downsample_0.4_frac</th>\n",
       "      <td>0.826246</td>\n",
       "      <td>0.638376</td>\n",
       "      <td>0.554487</td>\n",
       "      <td>0.593482</td>\n",
       "      <td>0.730666</td>\n",
       "    </tr>\n",
       "  </tbody>\n",
       "</table>\n",
       "</div>"
      ],
      "text/plain": [
       "                                  Accuracy_score  Precision_score  \\\n",
       "Модель                                                              \n",
       " forest_upsample_3_repeat_HYPER         0.852639         0.634686   \n",
       " forest_upsample_4_repeat_HYPER         0.855572         0.612546   \n",
       "forest_downsample_0.4_frac_HYPER        0.829912         0.653137   \n",
       "forest_upsample_4_repeat                0.854839         0.546125   \n",
       "forest_downsample_0.4_frac              0.826246         0.638376   \n",
       "\n",
       "                                  Recall_score  F1_score  AUC-ROC_score  \n",
       "Модель                                                                   \n",
       " forest_upsample_3_repeat_HYPER       0.627737  0.631193       0.768456  \n",
       " forest_upsample_4_repeat_HYPER       0.643411  0.627599       0.774237  \n",
       "forest_downsample_0.4_frac_HYPER      0.561905  0.604096       0.736148  \n",
       "forest_upsample_4_repeat              0.663677  0.599190       0.777938  \n",
       "forest_downsample_0.4_frac            0.554487  0.593482       0.730666  "
      ]
     },
     "execution_count": 59,
     "metadata": {},
     "output_type": "execute_result"
    }
   ],
   "source": [
    "experiments.query('F1_score > 0.59').sort_values(by = 'F1_score',ascending = False)"
   ]
  },
  {
   "cell_type": "markdown",
   "metadata": {},
   "source": [
    "В результате наилучший результат показала модель forest_upsample_3_repeat_HYPER, ее я еще раз обучу и посмотрю на метрику f1 на тесте"
   ]
  },
  {
   "cell_type": "markdown",
   "metadata": {},
   "source": [
    "## Тестирование модели"
   ]
  },
  {
   "cell_type": "code",
   "execution_count": 60,
   "metadata": {},
   "outputs": [],
   "source": [
    "X_train_forest, y_train_forest = upsample_data(X_train_ohe, y_train, 3)\n"
   ]
  },
  {
   "cell_type": "code",
   "execution_count": 61,
   "metadata": {},
   "outputs": [
    {
     "data": {
      "text/plain": [
       "RandomForestClassifier(max_depth=28, min_samples_leaf=4, n_estimators=31,\n",
       "                       random_state=42)"
      ]
     },
     "execution_count": 61,
     "metadata": {},
     "output_type": "execute_result"
    }
   ],
   "source": [
    "params = {'n_estimators': 31, 'max_depth': 28, 'min_samples_split': 2, 'min_samples_leaf': 4}\n",
    "    \n",
    "model = RandomForestClassifier(random_state=RANDOM_STATE, **params)\n",
    "model.fit(X_train_forest, y_train_forest)\n"
   ]
  },
  {
   "cell_type": "code",
   "execution_count": 62,
   "metadata": {},
   "outputs": [
    {
     "name": "stdout",
     "output_type": "stream",
     "text": [
      "F1 score на валидационной выборке: 0.6293\n",
      "F1 score на тестовой выборке: 0.6007\n"
     ]
    }
   ],
   "source": [
    "# Evaluate on validation set\n",
    "preds_valid = model.predict(X_valid_ohe)\n",
    "f1_valid = f1_score(y_valid, preds_valid)\n",
    "print(f'F1 score на валидационной выборке: {f1_valid:.4f}')\n",
    "\n",
    "preds_test = model.predict(X_test_ohe)\n",
    "f1_test = f1_score(y_test, preds_test)\n",
    "print(f'F1 score на тестовой выборке: {f1_test:.4f}')"
   ]
  },
  {
   "cell_type": "code",
   "execution_count": 63,
   "metadata": {},
   "outputs": [
    {
     "name": "stdout",
     "output_type": "stream",
     "text": [
      "AUC-ROC score на валидационной выборке: 0.8438\n",
      "AUC-ROC на тестовой выборке: 0.8554\n"
     ]
    },
    {
     "data": {
      "image/png": "[encoded data removed]",
      "text/plain": [
       "<Figure size 800x600 with 1 Axes>"
      ]
     },
     "metadata": {},
     "output_type": "display_data"
    },
    {
     "data": {
      "image/png": "[encoded data removed]",
      "text/plain": [
       "<Figure size 800x600 with 1 Axes>"
      ]
     },
     "metadata": {},
     "output_type": "display_data"
    }
   ],
   "source": [
    "# вычисление AUC-ROC данных\n",
    "auc_valid = roc_auc_score(y_valid, model.predict_proba(X_valid_ohe)[:, 1])\n",
    "auc_test = roc_auc_score(y_test, model.predict_proba(X_test_ohe)[:, 1])\n",
    "\n",
    "\n",
    "print(f'AUC-ROC score на валидационной выборке: {auc_valid:.4f}')\n",
    "print(f'AUC-ROC на тестовой выборке: {auc_test:.4f}')\n",
    "\n",
    "# ROC кривая\n",
    "fpr_valid, tpr_valid, _ = roc_curve(y_valid, model.predict_proba(X_valid_ohe)[:, 1])\n",
    "fpr_test, tpr_test, _ = roc_curve(y_test, model.predict_proba(X_test_ohe)[:, 1])\n",
    "\n",
    "plt.figure(figsize=(8, 6))\n",
    "plt.plot(fpr_valid, tpr_valid, label=f'Validation (AUC = {auc_valid:.2f})')\n",
    "plt.plot(fpr_test, tpr_test, label=f'Test (AUC = {auc_test:.2f})')\n",
    "plt.plot([0, 1], [0, 1], linestyle='--')\n",
    "plt.xlabel('False Positive Rate')\n",
    "plt.ylabel('True Positive Rate')\n",
    "plt.title('ROC-кривая')\n",
    "plt.legend()\n",
    "plt.show()\n",
    "\n",
    "# FPR-FNR кривые\n",
    "tn_valid, fp_valid, fn_valid, tp_valid = confusion_matrix(y_valid, preds_valid).ravel()\n",
    "tn_test, fp_test, fn_test, tp_test = confusion_matrix(y_test, preds_test).ravel()\n",
    "\n",
    "fpr_valid = fp_valid / (fp_valid + tn_valid)\n",
    "fnr_valid = fn_valid / (fn_valid + tp_valid)\n",
    "fpr_test = fp_test / (fp_test + tn_test)\n",
    "fnr_test = fn_test / (fn_test + tp_test)\n",
    "\n",
    "plt.figure(figsize=(8, 6))\n",
    "plt.plot([0, 1], [fpr_valid, fpr_test], marker='o', label='FPR')\n",
    "plt.plot([0, 1], [fnr_valid, fnr_test], marker='o', label='FNR')\n",
    "plt.xlabel('Threshold')\n",
    "plt.ylabel('Rate')\n",
    "plt.title('FPR-FNR-кривая')\n",
    "plt.legend()\n",
    "plt.show()\n"
   ]
  },
  {
   "cell_type": "markdown",
   "metadata": {},
   "source": [
    "**Вывод по итогам проекта**\n",
    "\n",
    "В качестве цели данного проекта мы ставили построение модели для предсказания оттока клиентов банка и достижение F1-меры не менее 0.59.\n",
    "\n",
    "Для выполнения цели проекта я исследовал дисбаланс классов и выяснил, что у нас имеется сильный перекос в сторону меток отрицательного класса в соотношение 80 на 20. Для устранения дизбаланса классов было использовано 2 техники - уменьшение и увеличение меток отрицательного класса. По каждой из техника было построено 3 модели - логистическая регрессия, дерево решений, случайный лес и в итоге наиболее высокий результат показало ряд моделей:\n",
    "\n",
    "Модель - F1 мера\n",
    "\n",
    "- forest_upsample_3_repeat_HYPER\t0.630435\n",
    "- forest_upsample_4_repeat_HYPER\t0.630189\n",
    "- forest_downsample_0.4_frac_HYPER\t0.604811\n",
    "- forest_upsample_4_repeat\t0.599190\t\n",
    "- forest_downsample_0.4_frac\t0.595890\t\n",
    "\n",
    "\n",
    "Далее был осуществлен подбор гиперпараметров нескольких моделей и уже среди них удалось достичь результата в 0.6307 F1 на валидационной выборке.\n",
    "\n",
    "В конечном итоге, после финальной проверки модели на тестовой выборке мне удалось подтвердить эффективность модели и достичь значения F1-меры на тестовой выборке со значением в 0.6007 и с AUC-ROC 0.8553"
   ]
  }
 ],
 "metadata": {
  "ExecuteTimeLog": [
   {
    "duration": 420,
    "start_time": "2023-04-24T12:53:31.307Z"
   }
  ],
  "kernelspec": {
   "display_name": "Python 3 (ipykernel)",
   "language": "python",
   "name": "python3"
  },
  "language_info": {
   "codemirror_mode": {
    "name": "ipython",
    "version": 3
   },
   "file_extension": ".py",
   "mimetype": "text/x-python",
   "name": "python",
   "nbconvert_exporter": "python",
   "pygments_lexer": "ipython3",
   "version": "3.9.13"
  },
  "toc": {
   "base_numbering": 1,
   "nav_menu": {},
   "number_sections": true,
   "sideBar": true,
   "skip_h1_title": true,
   "title_cell": "Содержание",
   "title_sidebar": "Contents",
   "toc_cell": true,
   "toc_position": {
    "height": "calc(100% - 180px)",
    "left": "10px",
    "top": "150px",
    "width": "165px"
   },
   "toc_section_display": true,
   "toc_window_display": true
  }
 },
 "nbformat": 4,
 "nbformat_minor": 2
}
