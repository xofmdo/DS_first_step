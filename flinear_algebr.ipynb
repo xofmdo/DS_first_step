{
 "cells": [
  {
   "cell_type": "markdown",
   "metadata": {
    "toc": true
   },
   "source": [
    "<h1>Содержание<span class=\"tocSkip\"></span></h1>\n",
    "<div class=\"toc\"><ul class=\"toc-item\"><li><span><a href=\"#Загрузка-данных\" data-toc-modified-id=\"Загрузка-данных-1\"><span class=\"toc-item-num\">1&nbsp;&nbsp;</span>Загрузка данных</a></span></li><li><span><a href=\"#Умножение-матриц\" data-toc-modified-id=\"Умножение-матриц-2\"><span class=\"toc-item-num\">2&nbsp;&nbsp;</span>Умножение матриц</a></span></li><li><span><a href=\"#Алгоритм-преобразования\" data-toc-modified-id=\"Алгоритм-преобразования-3\"><span class=\"toc-item-num\">3&nbsp;&nbsp;</span>Алгоритм преобразования</a></span><ul class=\"toc-item\"><li><span><a href=\"#Загрузка-и-предобработка-данных\" data-toc-modified-id=\"Загрузка-и-предобработка-данных-3.1\"><span class=\"toc-item-num\">3.1&nbsp;&nbsp;</span>Загрузка и предобработка данных</a></span></li><li><span><a href=\"#Генерация-случайной-обратимой-матрицы\" data-toc-modified-id=\"Генерация-случайной-обратимой-матрицы-3.2\"><span class=\"toc-item-num\">3.2&nbsp;&nbsp;</span>Генерация случайной обратимой матрицы</a></span></li><li><span><a href=\"#Преобразование-данных\" data-toc-modified-id=\"Преобразование-данных-3.3\"><span class=\"toc-item-num\">3.3&nbsp;&nbsp;</span>Преобразование данных</a></span></li></ul></li><li><span><a href=\"#Проверка-алгоритма\" data-toc-modified-id=\"Проверка-алгоритма-4\"><span class=\"toc-item-num\">4&nbsp;&nbsp;</span>Проверка алгоритма</a></span><ul class=\"toc-item\"><li><span><a href=\"#Обучение-модели-и-оценка-качества\" data-toc-modified-id=\"Обучение-модели-и-оценка-качества-4.1\"><span class=\"toc-item-num\">4.1&nbsp;&nbsp;</span>Обучение модели и оценка качества</a></span></li><li><span><a href=\"#Вычисление-метрики-R2-на-исходных-данных-и-преобразованных-данных\" data-toc-modified-id=\"Вычисление-метрики-R2-на-исходных-данных-и-преобразованных-данных-4.2\"><span class=\"toc-item-num\">4.2&nbsp;&nbsp;</span>Вычисление метрики R2 на исходных данных и преобразованных данных</a></span></li></ul></li><li><span><a href=\"#Чек-лист-проверки\" data-toc-modified-id=\"Чек-лист-проверки-5\"><span class=\"toc-item-num\">5&nbsp;&nbsp;</span>Чек-лист проверки</a></span></li></ul></div>"
   ]
  },
  {
   "cell_type": "markdown",
   "metadata": {},
   "source": [
    "# Защита персональных данных клиентов"
   ]
  },
  {
   "cell_type": "markdown",
   "metadata": {},
   "source": [
    "Вам нужно защитить данные клиентов страховой компании «Хоть потоп». Разработайте такой метод преобразования данных, чтобы по ним было сложно восстановить персональную информацию. Обоснуйте корректность его работы.\n",
    "\n",
    "Нужно защитить данные, чтобы при преобразовании качество моделей машинного обучения не ухудшилось. Подбирать наилучшую модель не требуется."
   ]
  },
  {
   "cell_type": "code",
   "execution_count": 1,
   "metadata": {},
   "outputs": [],
   "source": [
    "import pandas as pd\n",
    "import numpy as np\n",
    "\n",
    "from sklearn.metrics import r2_score\n",
    "from sklearn.linear_model import LinearRegression"
   ]
  },
  {
   "cell_type": "markdown",
   "metadata": {},
   "source": [
    "## Загрузка данных"
   ]
  },
  {
   "cell_type": "code",
   "execution_count": 2,
   "metadata": {},
   "outputs": [],
   "source": [
    "#df = pd.read_csv('insurance.csv')\n",
    "df = pd.read_csv('/datasets/insurance.csv')"
   ]
  },
  {
   "cell_type": "code",
   "execution_count": 3,
   "metadata": {},
   "outputs": [
    {
     "data": {
      "text/html": [
       "<div>\n",
       "<style scoped>\n",
       "    .dataframe tbody tr th:only-of-type {\n",
       "        vertical-align: middle;\n",
       "    }\n",
       "\n",
       "    .dataframe tbody tr th {\n",
       "        vertical-align: top;\n",
       "    }\n",
       "\n",
       "    .dataframe thead th {\n",
       "        text-align: right;\n",
       "    }\n",
       "</style>\n",
       "<table border=\"1\" class=\"dataframe\">\n",
       "  <thead>\n",
       "    <tr style=\"text-align: right;\">\n",
       "      <th></th>\n",
       "      <th>Пол</th>\n",
       "      <th>Возраст</th>\n",
       "      <th>Зарплата</th>\n",
       "      <th>Члены семьи</th>\n",
       "      <th>Страховые выплаты</th>\n",
       "    </tr>\n",
       "  </thead>\n",
       "  <tbody>\n",
       "    <tr>\n",
       "      <th>0</th>\n",
       "      <td>1</td>\n",
       "      <td>41.0</td>\n",
       "      <td>49600.0</td>\n",
       "      <td>1</td>\n",
       "      <td>0</td>\n",
       "    </tr>\n",
       "    <tr>\n",
       "      <th>1</th>\n",
       "      <td>0</td>\n",
       "      <td>46.0</td>\n",
       "      <td>38000.0</td>\n",
       "      <td>1</td>\n",
       "      <td>1</td>\n",
       "    </tr>\n",
       "    <tr>\n",
       "      <th>2</th>\n",
       "      <td>0</td>\n",
       "      <td>29.0</td>\n",
       "      <td>21000.0</td>\n",
       "      <td>0</td>\n",
       "      <td>0</td>\n",
       "    </tr>\n",
       "    <tr>\n",
       "      <th>3</th>\n",
       "      <td>0</td>\n",
       "      <td>21.0</td>\n",
       "      <td>41700.0</td>\n",
       "      <td>2</td>\n",
       "      <td>0</td>\n",
       "    </tr>\n",
       "    <tr>\n",
       "      <th>4</th>\n",
       "      <td>1</td>\n",
       "      <td>28.0</td>\n",
       "      <td>26100.0</td>\n",
       "      <td>0</td>\n",
       "      <td>0</td>\n",
       "    </tr>\n",
       "    <tr>\n",
       "      <th>...</th>\n",
       "      <td>...</td>\n",
       "      <td>...</td>\n",
       "      <td>...</td>\n",
       "      <td>...</td>\n",
       "      <td>...</td>\n",
       "    </tr>\n",
       "    <tr>\n",
       "      <th>4995</th>\n",
       "      <td>0</td>\n",
       "      <td>28.0</td>\n",
       "      <td>35700.0</td>\n",
       "      <td>2</td>\n",
       "      <td>0</td>\n",
       "    </tr>\n",
       "    <tr>\n",
       "      <th>4996</th>\n",
       "      <td>0</td>\n",
       "      <td>34.0</td>\n",
       "      <td>52400.0</td>\n",
       "      <td>1</td>\n",
       "      <td>0</td>\n",
       "    </tr>\n",
       "    <tr>\n",
       "      <th>4997</th>\n",
       "      <td>0</td>\n",
       "      <td>20.0</td>\n",
       "      <td>33900.0</td>\n",
       "      <td>2</td>\n",
       "      <td>0</td>\n",
       "    </tr>\n",
       "    <tr>\n",
       "      <th>4998</th>\n",
       "      <td>1</td>\n",
       "      <td>22.0</td>\n",
       "      <td>32700.0</td>\n",
       "      <td>3</td>\n",
       "      <td>0</td>\n",
       "    </tr>\n",
       "    <tr>\n",
       "      <th>4999</th>\n",
       "      <td>1</td>\n",
       "      <td>28.0</td>\n",
       "      <td>40600.0</td>\n",
       "      <td>1</td>\n",
       "      <td>0</td>\n",
       "    </tr>\n",
       "  </tbody>\n",
       "</table>\n",
       "<p>5000 rows × 5 columns</p>\n",
       "</div>"
      ],
      "text/plain": [
       "      Пол  Возраст  Зарплата  Члены семьи  Страховые выплаты\n",
       "0       1     41.0   49600.0            1                  0\n",
       "1       0     46.0   38000.0            1                  1\n",
       "2       0     29.0   21000.0            0                  0\n",
       "3       0     21.0   41700.0            2                  0\n",
       "4       1     28.0   26100.0            0                  0\n",
       "...   ...      ...       ...          ...                ...\n",
       "4995    0     28.0   35700.0            2                  0\n",
       "4996    0     34.0   52400.0            1                  0\n",
       "4997    0     20.0   33900.0            2                  0\n",
       "4998    1     22.0   32700.0            3                  0\n",
       "4999    1     28.0   40600.0            1                  0\n",
       "\n",
       "[5000 rows x 5 columns]"
      ]
     },
     "execution_count": 3,
     "metadata": {},
     "output_type": "execute_result"
    }
   ],
   "source": [
    "df"
   ]
  },
  {
   "cell_type": "code",
   "execution_count": 4,
   "metadata": {},
   "outputs": [
    {
     "name": "stdout",
     "output_type": "stream",
     "text": [
      "<class 'pandas.core.frame.DataFrame'>\n",
      "RangeIndex: 5000 entries, 0 to 4999\n",
      "Data columns (total 5 columns):\n",
      " #   Column             Non-Null Count  Dtype  \n",
      "---  ------             --------------  -----  \n",
      " 0   Пол                5000 non-null   int64  \n",
      " 1   Возраст            5000 non-null   float64\n",
      " 2   Зарплата           5000 non-null   float64\n",
      " 3   Члены семьи        5000 non-null   int64  \n",
      " 4   Страховые выплаты  5000 non-null   int64  \n",
      "dtypes: float64(2), int64(3)\n",
      "memory usage: 195.4 KB\n"
     ]
    }
   ],
   "source": [
    "df.info()"
   ]
  },
  {
   "cell_type": "code",
   "execution_count": 5,
   "metadata": {},
   "outputs": [
    {
     "data": {
      "text/plain": [
       "0    4436\n",
       "1     423\n",
       "2     115\n",
       "3      18\n",
       "4       7\n",
       "5       1\n",
       "Name: Страховые выплаты, dtype: int64"
      ]
     },
     "execution_count": 5,
     "metadata": {},
     "output_type": "execute_result"
    }
   ],
   "source": [
    "df['Страховые выплаты'].value_counts()"
   ]
  },
  {
   "cell_type": "code",
   "execution_count": 6,
   "metadata": {},
   "outputs": [
    {
     "data": {
      "text/html": [
       "<div>\n",
       "<style scoped>\n",
       "    .dataframe tbody tr th:only-of-type {\n",
       "        vertical-align: middle;\n",
       "    }\n",
       "\n",
       "    .dataframe tbody tr th {\n",
       "        vertical-align: top;\n",
       "    }\n",
       "\n",
       "    .dataframe thead th {\n",
       "        text-align: right;\n",
       "    }\n",
       "</style>\n",
       "<table border=\"1\" class=\"dataframe\">\n",
       "  <thead>\n",
       "    <tr style=\"text-align: right;\">\n",
       "      <th></th>\n",
       "      <th>count</th>\n",
       "      <th>mean</th>\n",
       "      <th>std</th>\n",
       "      <th>min</th>\n",
       "      <th>25%</th>\n",
       "      <th>50%</th>\n",
       "      <th>75%</th>\n",
       "      <th>max</th>\n",
       "    </tr>\n",
       "  </thead>\n",
       "  <tbody>\n",
       "    <tr>\n",
       "      <th>Пол</th>\n",
       "      <td>5000.0</td>\n",
       "      <td>0.4990</td>\n",
       "      <td>0.500049</td>\n",
       "      <td>0.0</td>\n",
       "      <td>0.0</td>\n",
       "      <td>0.0</td>\n",
       "      <td>1.0</td>\n",
       "      <td>1.0</td>\n",
       "    </tr>\n",
       "    <tr>\n",
       "      <th>Возраст</th>\n",
       "      <td>5000.0</td>\n",
       "      <td>30.9528</td>\n",
       "      <td>8.440807</td>\n",
       "      <td>18.0</td>\n",
       "      <td>24.0</td>\n",
       "      <td>30.0</td>\n",
       "      <td>37.0</td>\n",
       "      <td>65.0</td>\n",
       "    </tr>\n",
       "    <tr>\n",
       "      <th>Зарплата</th>\n",
       "      <td>5000.0</td>\n",
       "      <td>39916.3600</td>\n",
       "      <td>9900.083569</td>\n",
       "      <td>5300.0</td>\n",
       "      <td>33300.0</td>\n",
       "      <td>40200.0</td>\n",
       "      <td>46600.0</td>\n",
       "      <td>79000.0</td>\n",
       "    </tr>\n",
       "    <tr>\n",
       "      <th>Члены семьи</th>\n",
       "      <td>5000.0</td>\n",
       "      <td>1.1942</td>\n",
       "      <td>1.091387</td>\n",
       "      <td>0.0</td>\n",
       "      <td>0.0</td>\n",
       "      <td>1.0</td>\n",
       "      <td>2.0</td>\n",
       "      <td>6.0</td>\n",
       "    </tr>\n",
       "    <tr>\n",
       "      <th>Страховые выплаты</th>\n",
       "      <td>5000.0</td>\n",
       "      <td>0.1480</td>\n",
       "      <td>0.463183</td>\n",
       "      <td>0.0</td>\n",
       "      <td>0.0</td>\n",
       "      <td>0.0</td>\n",
       "      <td>0.0</td>\n",
       "      <td>5.0</td>\n",
       "    </tr>\n",
       "  </tbody>\n",
       "</table>\n",
       "</div>"
      ],
      "text/plain": [
       "                    count        mean          std     min      25%      50%  \\\n",
       "Пол                5000.0      0.4990     0.500049     0.0      0.0      0.0   \n",
       "Возраст            5000.0     30.9528     8.440807    18.0     24.0     30.0   \n",
       "Зарплата           5000.0  39916.3600  9900.083569  5300.0  33300.0  40200.0   \n",
       "Члены семьи        5000.0      1.1942     1.091387     0.0      0.0      1.0   \n",
       "Страховые выплаты  5000.0      0.1480     0.463183     0.0      0.0      0.0   \n",
       "\n",
       "                       75%      max  \n",
       "Пол                    1.0      1.0  \n",
       "Возраст               37.0     65.0  \n",
       "Зарплата           46600.0  79000.0  \n",
       "Члены семьи            2.0      6.0  \n",
       "Страховые выплаты      0.0      5.0  "
      ]
     },
     "execution_count": 6,
     "metadata": {},
     "output_type": "execute_result"
    }
   ],
   "source": [
    "df.describe().T\n"
   ]
  },
  {
   "cell_type": "code",
   "execution_count": 7,
   "metadata": {},
   "outputs": [
    {
     "data": {
      "image/png": "[encoded data removed]",
      "text/plain": [
       "<Figure size 576x432 with 4 Axes>"
      ]
     },
     "metadata": {
      "needs_background": "light"
     },
     "output_type": "display_data"
    }
   ],
   "source": [
    "df.iloc[:,1:].hist(figsize=(8, 6), bins=25);"
   ]
  },
  {
   "cell_type": "code",
   "execution_count": 8,
   "metadata": {},
   "outputs": [
    {
     "data": {
      "text/plain": [
       "153"
      ]
     },
     "execution_count": 8,
     "metadata": {},
     "output_type": "execute_result"
    }
   ],
   "source": [
    "df.duplicated().sum()"
   ]
  },
  {
   "cell_type": "markdown",
   "metadata": {},
   "source": [
    "Уберем дубликаты\n"
   ]
  },
  {
   "cell_type": "code",
   "execution_count": 9,
   "metadata": {},
   "outputs": [],
   "source": [
    "df = df.drop_duplicates()"
   ]
  },
  {
   "cell_type": "markdown",
   "metadata": {},
   "source": [
    "Данные впорядке, выглядят гармонично. Они представляют собой датафрейм размером 5000х5, без аномалий и выбросов."
   ]
  },
  {
   "cell_type": "markdown",
   "metadata": {},
   "source": [
    "## Умножение матриц"
   ]
  },
  {
   "cell_type": "markdown",
   "metadata": {},
   "source": [
    "В этом задании вы можете записывать формулы в *Jupyter Notebook.*\n",
    "\n",
    "Чтобы записать формулу внутри текста, окружите её символами доллара \\\\$; если снаружи —  двойными символами \\\\$\\\\$. Эти формулы записываются на языке вёрстки *LaTeX.* \n",
    "\n",
    "Для примера мы записали формулы линейной регрессии. Можете их скопировать и отредактировать, чтобы решить задачу.\n",
    "\n",
    "Работать в *LaTeX* необязательно."
   ]
  },
  {
   "cell_type": "markdown",
   "metadata": {},
   "source": [
    "Обозначения:\n",
    "\n",
    "- $X$ — матрица признаков (нулевой столбец состоит из единиц)\n",
    "\n",
    "- $y$ — вектор целевого признака\n",
    "\n",
    "- $P$ — матрица, на которую умножаются признаки\n",
    "\n",
    "- $w$ — вектор весов линейной регрессии (нулевой элемент равен сдвигу)"
   ]
  },
  {
   "cell_type": "markdown",
   "metadata": {},
   "source": [
    "Предсказания:\n",
    "\n",
    "$$\n",
    "a = Xw\n",
    "$$\n",
    "\n",
    "Задача обучения:\n",
    "\n",
    "$$\n",
    "w = \\arg\\min_w MSE(Xw, y)\n",
    "$$\n",
    "\n",
    "Формула обучения:\n",
    "\n",
    "$$\n",
    "w = (X^T X)^{-1} X^T y\n",
    "$$"
   ]
  },
  {
   "cell_type": "markdown",
   "metadata": {},
   "source": [
    "**Ответ:** Метрика не ухудшается\n",
    "\n",
    "**Обоснование:** \n",
    "Пусть\n",
    "$$\n",
    "X' = XP \n",
    "$$\n",
    "Если \n",
    "$$\n",
    "w = (X^T X)^{-1} X^T y \n",
    "$$\n",
    "То\n",
    "$$\n",
    "w' = ((XP)^T XP)^{-1} (XP)^T y = (P^T X^T XP)^{-1} P^T X^T y = P^{-1} (X^T X)^{-1} (P^T)^{-1} P^T X^T y =  P^{-1} (X^T X)^{-1}X^T y\n",
    "$$\n",
    "\n",
    "$$\n",
    "w' =  P^{-1} w\n",
    "$$\n",
    "Следовательно\n",
    "$$\n",
    "a' = X'w' = XPw' = XP P^{-1} w = Xw = a\n",
    "$$\n",
    "**Качество линейной регрессии не зависит от матрицы $P$, если она обратима**"
   ]
  },
  {
   "cell_type": "markdown",
   "metadata": {},
   "source": [
    "## Алгоритм преобразования"
   ]
  },
  {
   "cell_type": "markdown",
   "metadata": {},
   "source": [
    "**Алгоритм**\n",
    "\n",
    "Преобразуем умножением исходной матрицы признаков на случайную обратимую матрицу"
   ]
  },
  {
   "cell_type": "markdown",
   "metadata": {},
   "source": [
    "### Загрузка и предобработка данных"
   ]
  },
  {
   "cell_type": "code",
   "execution_count": 10,
   "metadata": {},
   "outputs": [],
   "source": [
    "features = df.drop(['Страховые выплаты'], axis=1)\n",
    "target = df['Страховые выплаты']"
   ]
  },
  {
   "cell_type": "code",
   "execution_count": 11,
   "metadata": {},
   "outputs": [],
   "source": [
    "# Преобразование матриц в массив NumPy\n",
    "X = features.values\n",
    "y = target.values"
   ]
  },
  {
   "cell_type": "markdown",
   "metadata": {},
   "source": [
    "### Генерация случайной обратимой матрицы"
   ]
  },
  {
   "cell_type": "code",
   "execution_count": 12,
   "metadata": {},
   "outputs": [],
   "source": [
    "P = np.random.randint(100, size=(X.shape[1], X.shape[1]))\n",
    "\n",
    "# Проводим проверку обратимости матрицы P\n",
    "while np.linalg.det(P) == 0:\n",
    "    P = np.random.randint(100, size=(X.shape[1], X.shape[1]))\n"
   ]
  },
  {
   "cell_type": "markdown",
   "metadata": {},
   "source": [
    "### Преобразование данных"
   ]
  },
  {
   "cell_type": "code",
   "execution_count": 13,
   "metadata": {},
   "outputs": [],
   "source": [
    "X_transformed = X.dot(P)\n",
    "X_transformed_ones = np.concatenate((np.ones((X_transformed.shape[0], 1)), X_transformed), axis=1)"
   ]
  },
  {
   "cell_type": "markdown",
   "metadata": {},
   "source": [
    "## Проверка алгоритма"
   ]
  },
  {
   "cell_type": "markdown",
   "metadata": {},
   "source": [
    "### Обучение модели и оценка качества"
   ]
  },
  {
   "cell_type": "code",
   "execution_count": 14,
   "metadata": {},
   "outputs": [],
   "source": [
    "# Создание и обучение модели линейной регрессии на исходных данных\n",
    "model_original = LinearRegression()\n",
    "model_original.fit(X, y)\n",
    "\n",
    "# Создание и обучение модели линейной регрессии на преобразованных данных\n",
    "model_transformed = LinearRegression()\n",
    "model_transformed.fit(X_transformed, y)\n",
    "\n",
    "y_pred_original = model_original.predict(X)\n",
    "y_pred_transformed = model_transformed.predict(X_transformed)"
   ]
  },
  {
   "cell_type": "markdown",
   "metadata": {},
   "source": [
    "Если наши гипотеза верна, то разница между предсказаниями будет нулевая (или почти нулевая)"
   ]
  },
  {
   "cell_type": "markdown",
   "metadata": {},
   "source": [
    "### Вычисление метрики R2 на исходных данных и преобразованных данных"
   ]
  },
  {
   "cell_type": "code",
   "execution_count": 15,
   "metadata": {},
   "outputs": [
    {
     "name": "stdout",
     "output_type": "stream",
     "text": [
      "R2 score (original): 0.4302010044852066\n",
      "R2 score (transformed): 0.4302010044852105\n"
     ]
    }
   ],
   "source": [
    "r2_original = r2_score(y, y_pred_original)\n",
    "r2_transformed = r2_score(y, y_pred_transformed)\n",
    "\n",
    "print('R2 score (original):', r2_original)\n",
    "print('R2 score (transformed):', r2_transformed)"
   ]
  },
  {
   "cell_type": "markdown",
   "metadata": {},
   "source": [
    "**Вывод**\n",
    "\n",
    "Как мы видим, метрика r2 не изменилась, соответственно, наш алгоритм преобразования работает и не ухудшается качество модели."
   ]
  }
 ],
 "metadata": {
  "ExecuteTimeLog": [
   {
    "duration": 1799,
    "start_time": "2023-07-12T04:30:53.358Z"
   },
   {
    "duration": 29,
    "start_time": "2023-07-12T04:30:55.159Z"
   },
   {
    "duration": 17,
    "start_time": "2023-07-12T04:30:55.189Z"
   },
   {
    "duration": 29,
    "start_time": "2023-07-12T04:30:55.208Z"
   },
   {
    "duration": 10,
    "start_time": "2023-07-12T04:30:55.238Z"
   },
   {
    "duration": 8,
    "start_time": "2023-07-12T04:30:55.249Z"
   },
   {
    "duration": 11,
    "start_time": "2023-07-12T04:30:55.259Z"
   },
   {
    "duration": 16,
    "start_time": "2023-07-12T04:30:55.272Z"
   },
   {
    "duration": 17,
    "start_time": "2023-07-12T04:30:55.289Z"
   },
   {
    "duration": 4,
    "start_time": "2023-07-12T04:30:55.333Z"
   },
   {
    "duration": 95,
    "start_time": "2023-07-12T04:30:55.338Z"
   },
   {
    "duration": 6,
    "start_time": "2023-07-12T04:30:55.434Z"
   },
   {
    "duration": 91,
    "start_time": "2023-07-12T04:30:55.442Z"
   },
   {
    "duration": 97,
    "start_time": "2023-07-12T04:30:55.536Z"
   },
   {
    "duration": 197,
    "start_time": "2023-07-12T04:30:55.636Z"
   },
   {
    "duration": 102,
    "start_time": "2023-07-12T04:30:55.836Z"
   },
   {
    "duration": 93,
    "start_time": "2023-07-12T04:30:55.942Z"
   },
   {
    "duration": 60,
    "start_time": "2023-07-12T04:30:56.037Z"
   },
   {
    "duration": 20,
    "start_time": "2023-07-12T04:30:56.099Z"
   },
   {
    "duration": 15,
    "start_time": "2023-07-12T04:30:56.121Z"
   },
   {
    "duration": 194,
    "start_time": "2023-07-12T04:30:56.138Z"
   },
   {
    "duration": 98,
    "start_time": "2023-07-12T04:30:56.334Z"
   },
   {
    "duration": 6,
    "start_time": "2023-07-12T05:07:16.652Z"
   },
   {
    "duration": 51,
    "start_time": "2023-07-15T10:17:31.348Z"
   },
   {
    "duration": 1497,
    "start_time": "2023-07-15T10:17:35.557Z"
   },
   {
    "duration": 96,
    "start_time": "2023-07-15T10:17:37.510Z"
   },
   {
    "duration": 18,
    "start_time": "2023-07-15T10:17:38.370Z"
   },
   {
    "duration": 11,
    "start_time": "2023-07-15T10:17:39.108Z"
   },
   {
    "duration": 5,
    "start_time": "2023-07-15T10:17:40.064Z"
   },
   {
    "duration": 77,
    "start_time": "2023-07-15T10:17:41.311Z"
   },
   {
    "duration": 26,
    "start_time": "2023-07-15T10:17:48.389Z"
   },
   {
    "duration": 1084,
    "start_time": "2023-07-15T10:18:15.781Z"
   },
   {
    "duration": 20,
    "start_time": "2023-07-15T10:18:38.806Z"
   },
   {
    "duration": 5,
    "start_time": "2023-07-15T10:18:42.624Z"
   },
   {
    "duration": 9,
    "start_time": "2023-07-15T10:18:59.571Z"
   },
   {
    "duration": 9,
    "start_time": "2023-07-15T10:19:04.727Z"
   },
   {
    "duration": 93,
    "start_time": "2023-07-15T10:21:16.322Z"
   },
   {
    "duration": 276,
    "start_time": "2023-07-15T10:22:23.837Z"
   },
   {
    "duration": 128,
    "start_time": "2023-07-15T10:23:12.388Z"
   },
   {
    "duration": 10,
    "start_time": "2023-07-15T10:48:05.891Z"
   },
   {
    "duration": 11,
    "start_time": "2023-07-15T10:48:19.742Z"
   },
   {
    "duration": 7,
    "start_time": "2023-07-15T10:48:20.247Z"
   },
   {
    "duration": 4,
    "start_time": "2023-07-15T10:48:21.111Z"
   },
   {
    "duration": 8,
    "start_time": "2023-07-15T10:48:29.056Z"
   },
   {
    "duration": 3,
    "start_time": "2023-07-15T10:48:59.769Z"
   },
   {
    "duration": 2,
    "start_time": "2023-07-15T10:49:09.797Z"
   },
   {
    "duration": 3,
    "start_time": "2023-07-15T10:49:23.109Z"
   },
   {
    "duration": 3,
    "start_time": "2023-07-15T10:49:34.308Z"
   },
   {
    "duration": 3,
    "start_time": "2023-07-15T10:50:05.549Z"
   },
   {
    "duration": 8,
    "start_time": "2023-07-15T10:50:12.352Z"
   },
   {
    "duration": 20,
    "start_time": "2023-07-15T10:50:18.843Z"
   },
   {
    "duration": 337,
    "start_time": "2023-07-15T10:50:44.828Z"
   },
   {
    "duration": 163,
    "start_time": "2023-07-15T10:50:54.388Z"
   },
   {
    "duration": 102,
    "start_time": "2023-07-15T10:51:46.830Z"
   },
   {
    "duration": 4,
    "start_time": "2023-07-15T10:52:27.219Z"
   },
   {
    "duration": 4,
    "start_time": "2023-07-15T10:53:07.199Z"
   },
   {
    "duration": 11,
    "start_time": "2023-07-15T10:53:20.310Z"
   },
   {
    "duration": 5,
    "start_time": "2023-07-15T10:53:24.514Z"
   },
   {
    "duration": 7,
    "start_time": "2023-07-15T10:53:32.658Z"
   },
   {
    "duration": 4,
    "start_time": "2023-07-15T10:53:33.121Z"
   },
   {
    "duration": 4,
    "start_time": "2023-07-15T10:53:34.020Z"
   },
   {
    "duration": 6,
    "start_time": "2023-07-15T10:53:34.598Z"
   },
   {
    "duration": 4,
    "start_time": "2023-07-15T10:53:35.739Z"
   },
   {
    "duration": 5,
    "start_time": "2023-07-15T10:53:36.218Z"
   },
   {
    "duration": 8,
    "start_time": "2023-07-15T10:53:37.058Z"
   },
   {
    "duration": 5,
    "start_time": "2023-07-15T10:53:38.064Z"
   },
   {
    "duration": 10,
    "start_time": "2023-07-15T10:53:39.160Z"
   },
   {
    "duration": 10,
    "start_time": "2023-07-15T10:54:32.861Z"
   },
   {
    "duration": 12,
    "start_time": "2023-07-15T10:54:39.344Z"
   },
   {
    "duration": 5,
    "start_time": "2023-07-15T10:54:53.381Z"
   },
   {
    "duration": 3,
    "start_time": "2023-07-15T11:14:18.270Z"
   },
   {
    "duration": 3,
    "start_time": "2023-07-15T11:14:37.589Z"
   },
   {
    "duration": 4,
    "start_time": "2023-07-15T11:15:18.447Z"
   },
   {
    "duration": 4,
    "start_time": "2023-07-15T11:15:49.066Z"
   },
   {
    "duration": 3,
    "start_time": "2023-07-15T11:16:15.010Z"
   },
   {
    "duration": 10,
    "start_time": "2023-07-15T11:17:28.147Z"
   },
   {
    "duration": 14,
    "start_time": "2023-07-15T11:17:28.237Z"
   },
   {
    "duration": 150,
    "start_time": "2023-07-15T11:17:33.109Z"
   },
   {
    "duration": 5,
    "start_time": "2023-07-15T11:17:35.553Z"
   },
   {
    "duration": 2,
    "start_time": "2023-07-15T11:18:42.025Z"
   },
   {
    "duration": 9,
    "start_time": "2023-07-15T11:18:46.132Z"
   },
   {
    "duration": 141,
    "start_time": "2023-07-15T11:21:06.075Z"
   },
   {
    "duration": 3,
    "start_time": "2023-07-15T11:22:25.161Z"
   },
   {
    "duration": 32,
    "start_time": "2023-07-15T11:22:25.165Z"
   },
   {
    "duration": 12,
    "start_time": "2023-07-15T11:22:25.198Z"
   },
   {
    "duration": 20,
    "start_time": "2023-07-15T11:22:25.212Z"
   },
   {
    "duration": 10,
    "start_time": "2023-07-15T11:22:25.235Z"
   },
   {
    "duration": 56,
    "start_time": "2023-07-15T11:22:25.250Z"
   },
   {
    "duration": 539,
    "start_time": "2023-07-15T11:22:25.308Z"
   },
   {
    "duration": 6,
    "start_time": "2023-07-15T11:22:25.848Z"
   },
   {
    "duration": 7,
    "start_time": "2023-07-15T11:22:25.856Z"
   },
   {
    "duration": 17,
    "start_time": "2023-07-15T11:22:25.865Z"
   },
   {
    "duration": 21,
    "start_time": "2023-07-15T11:22:25.883Z"
   },
   {
    "duration": 5,
    "start_time": "2023-07-15T11:22:25.906Z"
   },
   {
    "duration": 15,
    "start_time": "2023-07-15T11:22:25.912Z"
   },
   {
    "duration": 32,
    "start_time": "2023-07-15T11:22:25.929Z"
   },
   {
    "duration": 168,
    "start_time": "2023-07-15T11:22:25.966Z"
   },
   {
    "duration": 1188,
    "start_time": "2023-07-15T11:23:40.011Z"
   },
   {
    "duration": 29,
    "start_time": "2023-07-15T11:23:41.201Z"
   },
   {
    "duration": 37,
    "start_time": "2023-07-15T11:23:41.232Z"
   },
   {
    "duration": 20,
    "start_time": "2023-07-15T11:23:41.270Z"
   },
   {
    "duration": 6,
    "start_time": "2023-07-15T11:23:41.293Z"
   },
   {
    "duration": 34,
    "start_time": "2023-07-15T11:23:41.301Z"
   },
   {
    "duration": 862,
    "start_time": "2023-07-15T11:23:41.336Z"
   },
   {
    "duration": 6,
    "start_time": "2023-07-15T11:23:42.199Z"
   },
   {
    "duration": 13,
    "start_time": "2023-07-15T11:23:42.206Z"
   },
   {
    "duration": 19,
    "start_time": "2023-07-15T11:23:42.220Z"
   },
   {
    "duration": 40,
    "start_time": "2023-07-15T11:23:42.241Z"
   },
   {
    "duration": 9,
    "start_time": "2023-07-15T11:23:42.282Z"
   },
   {
    "duration": 11,
    "start_time": "2023-07-15T11:23:42.293Z"
   },
   {
    "duration": 9,
    "start_time": "2023-07-15T11:23:42.307Z"
   },
   {
    "duration": 52,
    "start_time": "2023-07-15T11:23:42.318Z"
   },
   {
    "duration": 1746,
    "start_time": "2023-07-15T11:59:20.200Z"
   },
   {
    "duration": 80,
    "start_time": "2023-07-15T11:59:21.948Z"
   },
   {
    "duration": 31,
    "start_time": "2023-07-15T11:59:22.029Z"
   },
   {
    "duration": 18,
    "start_time": "2023-07-15T11:59:22.062Z"
   },
   {
    "duration": 5,
    "start_time": "2023-07-15T11:59:22.082Z"
   },
   {
    "duration": 38,
    "start_time": "2023-07-15T11:59:22.090Z"
   },
   {
    "duration": 1045,
    "start_time": "2023-07-15T11:59:22.130Z"
   },
   {
    "duration": 6,
    "start_time": "2023-07-15T11:59:23.177Z"
   },
   {
    "duration": 19,
    "start_time": "2023-07-15T11:59:23.185Z"
   },
   {
    "duration": 20,
    "start_time": "2023-07-15T11:59:23.207Z"
   },
   {
    "duration": 13,
    "start_time": "2023-07-15T11:59:23.229Z"
   },
   {
    "duration": 26,
    "start_time": "2023-07-15T11:59:23.244Z"
   },
   {
    "duration": 14,
    "start_time": "2023-07-15T11:59:23.272Z"
   },
   {
    "duration": 20,
    "start_time": "2023-07-15T11:59:23.288Z"
   },
   {
    "duration": 119,
    "start_time": "2023-07-15T11:59:23.352Z"
   },
   {
    "duration": 50,
    "start_time": "2023-07-15T15:43:58.938Z"
   },
   {
    "duration": 6,
    "start_time": "2023-07-15T15:43:59.134Z"
   },
   {
    "duration": 6,
    "start_time": "2023-07-15T15:43:59.338Z"
   },
   {
    "duration": 6,
    "start_time": "2023-07-15T15:43:59.534Z"
   },
   {
    "duration": 9,
    "start_time": "2023-07-15T15:43:59.695Z"
   },
   {
    "duration": 1074,
    "start_time": "2023-07-15T15:44:05.066Z"
   },
   {
    "duration": 84,
    "start_time": "2023-07-15T15:44:06.143Z"
   },
   {
    "duration": 19,
    "start_time": "2023-07-15T15:44:06.229Z"
   },
   {
    "duration": 11,
    "start_time": "2023-07-15T15:44:06.250Z"
   },
   {
    "duration": 5,
    "start_time": "2023-07-15T15:44:06.289Z"
   },
   {
    "duration": 27,
    "start_time": "2023-07-15T15:44:06.457Z"
   },
   {
    "duration": 959,
    "start_time": "2023-07-15T15:44:06.654Z"
   },
   {
    "duration": 8,
    "start_time": "2023-07-15T15:44:07.616Z"
   },
   {
    "duration": 39,
    "start_time": "2023-07-15T15:44:07.626Z"
   },
   {
    "duration": 4,
    "start_time": "2023-07-15T15:44:16.334Z"
   },
   {
    "duration": 4,
    "start_time": "2023-07-15T15:44:17.236Z"
   },
   {
    "duration": 4,
    "start_time": "2023-07-15T15:44:19.068Z"
   },
   {
    "duration": 3,
    "start_time": "2023-07-15T15:44:21.480Z"
   },
   {
    "duration": 3,
    "start_time": "2023-07-15T15:44:58.434Z"
   },
   {
    "duration": 8,
    "start_time": "2023-07-15T15:45:01.320Z"
   },
   {
    "duration": 4,
    "start_time": "2023-07-15T15:45:08.923Z"
   },
   {
    "duration": 7,
    "start_time": "2023-07-15T15:45:10.996Z"
   },
   {
    "duration": 5,
    "start_time": "2023-07-15T15:45:15.130Z"
   },
   {
    "duration": 118,
    "start_time": "2023-07-15T15:45:54.240Z"
   },
   {
    "duration": 1121,
    "start_time": "2023-07-15T15:46:14.336Z"
   },
   {
    "duration": 28,
    "start_time": "2023-07-15T15:46:15.459Z"
   },
   {
    "duration": 20,
    "start_time": "2023-07-15T15:46:15.488Z"
   },
   {
    "duration": 11,
    "start_time": "2023-07-15T15:46:15.510Z"
   },
   {
    "duration": 5,
    "start_time": "2023-07-15T15:46:15.523Z"
   },
   {
    "duration": 40,
    "start_time": "2023-07-15T15:46:15.530Z"
   },
   {
    "duration": 774,
    "start_time": "2023-07-15T15:46:15.572Z"
   },
   {
    "duration": 6,
    "start_time": "2023-07-15T15:46:16.348Z"
   },
   {
    "duration": 72,
    "start_time": "2023-07-15T15:46:16.356Z"
   },
   {
    "duration": 33,
    "start_time": "2023-07-15T15:46:16.431Z"
   },
   {
    "duration": 82,
    "start_time": "2023-07-15T15:46:16.465Z"
   },
   {
    "duration": 25,
    "start_time": "2023-07-15T15:46:16.548Z"
   },
   {
    "duration": 28,
    "start_time": "2023-07-15T15:46:16.574Z"
   },
   {
    "duration": 25,
    "start_time": "2023-07-15T15:46:16.603Z"
   },
   {
    "duration": 88,
    "start_time": "2023-07-15T15:46:16.630Z"
   },
   {
    "duration": 1706,
    "start_time": "2023-07-15T16:29:53.349Z"
   },
   {
    "duration": 75,
    "start_time": "2023-07-15T16:29:55.057Z"
   },
   {
    "duration": 18,
    "start_time": "2023-07-15T16:29:55.133Z"
   },
   {
    "duration": 27,
    "start_time": "2023-07-15T16:29:55.152Z"
   },
   {
    "duration": 10,
    "start_time": "2023-07-15T16:29:55.181Z"
   },
   {
    "duration": 154,
    "start_time": "2023-07-15T16:29:55.192Z"
   },
   {
    "duration": 834,
    "start_time": "2023-07-15T16:29:55.347Z"
   },
   {
    "duration": 6,
    "start_time": "2023-07-15T16:29:56.183Z"
   },
   {
    "duration": 32,
    "start_time": "2023-07-15T16:29:56.191Z"
   },
   {
    "duration": 10,
    "start_time": "2023-07-15T16:29:56.225Z"
   },
   {
    "duration": 7,
    "start_time": "2023-07-15T16:29:56.237Z"
   },
   {
    "duration": 10,
    "start_time": "2023-07-15T16:29:56.245Z"
   },
   {
    "duration": 59,
    "start_time": "2023-07-15T16:29:56.257Z"
   },
   {
    "duration": 108,
    "start_time": "2023-07-15T16:29:56.317Z"
   },
   {
    "duration": 104,
    "start_time": "2023-07-15T16:29:56.427Z"
   },
   {
    "duration": 4,
    "start_time": "2023-07-15T16:33:07.460Z"
   }
  ],
  "kernelspec": {
   "display_name": "Python 3 (ipykernel)",
   "language": "python",
   "name": "python3"
  },
  "language_info": {
   "codemirror_mode": {
    "name": "ipython",
    "version": 3
   },
   "file_extension": ".py",
   "mimetype": "text/x-python",
   "name": "python",
   "nbconvert_exporter": "python",
   "pygments_lexer": "ipython3",
   "version": "3.9.13"
  },
  "toc": {
   "base_numbering": 1,
   "nav_menu": {},
   "number_sections": true,
   "sideBar": true,
   "skip_h1_title": true,
   "title_cell": "Содержание",
   "title_sidebar": "Contents",
   "toc_cell": true,
   "toc_position": {},
   "toc_section_display": true,
   "toc_window_display": true
  }
 },
 "nbformat": 4,
 "nbformat_minor": 2
}
