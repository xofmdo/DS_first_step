{
 "cells": [
  {
   "cell_type": "markdown",
   "metadata": {
    "id": "5-O6uuk26-jA"
   },
   "source": [
    "# Определение стоимости автомобилей"
   ]
  },
  {
   "cell_type": "markdown",
   "metadata": {
    "id": "CXoIIgid6-jC"
   },
   "source": [
    "Сервис по продаже автомобилей с пробегом «Не бит, не крашен» разрабатывает приложение для привлечения новых клиентов. В нём можно быстро узнать рыночную стоимость своего автомобиля. В вашем распоряжении исторические данные: технические характеристики, комплектации и цены автомобилей. Вам нужно построить модель для определения стоимости.\n",
    "\n",
    "Заказчику важны:\n",
    "\n",
    "- качество предсказания;\n",
    "- скорость предсказания;\n",
    "- время обучения."
   ]
  },
  {
   "cell_type": "markdown",
   "metadata": {
    "id": "05thG_DU6-jC"
   },
   "source": [
    "## Подготовка данных"
   ]
  },
  {
   "cell_type": "markdown",
   "metadata": {
    "id": "woeldL3Y6-jC"
   },
   "source": [
    "### Установки библиотек"
   ]
  },
  {
   "cell_type": "code",
   "execution_count": 114,
   "metadata": {
    "colab": {
     "base_uri": "https://localhost:8080/"
    },
    "id": "m9ghdgBF6-jD",
    "outputId": "46d554f1-91a2-4a1d-b65d-18886251660e",
    "scrolled": true
   },
   "outputs": [
    {
     "name": "stdout",
     "output_type": "stream",
     "text": [
      "Requirement already satisfied: optuna in /usr/local/lib/python3.10/dist-packages (3.2.0)\n",
      "Requirement already satisfied: alembic>=1.5.0 in /usr/local/lib/python3.10/dist-packages (from optuna) (1.11.1)\n",
      "Requirement already satisfied: cmaes>=0.9.1 in /usr/local/lib/python3.10/dist-packages (from optuna) (0.10.0)\n",
      "Requirement already satisfied: colorlog in /usr/local/lib/python3.10/dist-packages (from optuna) (6.7.0)\n",
      "Requirement already satisfied: numpy in /usr/local/lib/python3.10/dist-packages (from optuna) (1.22.4)\n",
      "Requirement already satisfied: packaging>=20.0 in /usr/local/lib/python3.10/dist-packages (from optuna) (23.1)\n",
      "Requirement already satisfied: sqlalchemy>=1.3.0 in /usr/local/lib/python3.10/dist-packages (from optuna) (2.0.18)\n",
      "Requirement already satisfied: tqdm in /usr/local/lib/python3.10/dist-packages (from optuna) (4.65.0)\n",
      "Requirement already satisfied: PyYAML in /usr/local/lib/python3.10/dist-packages (from optuna) (6.0)\n",
      "Requirement already satisfied: Mako in /usr/local/lib/python3.10/dist-packages (from alembic>=1.5.0->optuna) (1.2.4)\n",
      "Requirement already satisfied: typing-extensions>=4 in /usr/local/lib/python3.10/dist-packages (from alembic>=1.5.0->optuna) (4.7.1)\n",
      "Requirement already satisfied: greenlet!=0.4.17 in /usr/local/lib/python3.10/dist-packages (from sqlalchemy>=1.3.0->optuna) (2.0.2)\n",
      "Requirement already satisfied: MarkupSafe>=0.9.2 in /usr/local/lib/python3.10/dist-packages (from Mako->alembic>=1.5.0->optuna) (2.1.3)\n",
      "Requirement already satisfied: lightgbm in /usr/local/lib/python3.10/dist-packages (3.3.5)\n",
      "Requirement already satisfied: wheel in /usr/local/lib/python3.10/dist-packages (from lightgbm) (0.40.0)\n",
      "Requirement already satisfied: numpy in /usr/local/lib/python3.10/dist-packages (from lightgbm) (1.22.4)\n",
      "Requirement already satisfied: scipy in /usr/local/lib/python3.10/dist-packages (from lightgbm) (1.10.1)\n",
      "Requirement already satisfied: scikit-learn!=0.22.0 in /usr/local/lib/python3.10/dist-packages (from lightgbm) (1.2.2)\n",
      "Requirement already satisfied: joblib>=1.1.1 in /usr/local/lib/python3.10/dist-packages (from scikit-learn!=0.22.0->lightgbm) (1.3.1)\n",
      "Requirement already satisfied: threadpoolctl>=2.0.0 in /usr/local/lib/python3.10/dist-packages (from scikit-learn!=0.22.0->lightgbm) (3.1.0)\n",
      "Requirement already satisfied: xgboost in /usr/local/lib/python3.10/dist-packages (1.7.6)\n",
      "Requirement already satisfied: numpy in /usr/local/lib/python3.10/dist-packages (from xgboost) (1.22.4)\n",
      "Requirement already satisfied: scipy in /usr/local/lib/python3.10/dist-packages (from xgboost) (1.10.1)\n",
      "Requirement already satisfied: catboost in /usr/local/lib/python3.10/dist-packages (1.2)\n",
      "Requirement already satisfied: graphviz in /usr/local/lib/python3.10/dist-packages (from catboost) (0.20.1)\n",
      "Requirement already satisfied: matplotlib in /usr/local/lib/python3.10/dist-packages (from catboost) (3.7.1)\n",
      "Requirement already satisfied: numpy>=1.16.0 in /usr/local/lib/python3.10/dist-packages (from catboost) (1.22.4)\n",
      "Requirement already satisfied: pandas>=0.24 in /usr/local/lib/python3.10/dist-packages (from catboost) (1.5.3)\n",
      "Requirement already satisfied: scipy in /usr/local/lib/python3.10/dist-packages (from catboost) (1.10.1)\n",
      "Requirement already satisfied: plotly in /usr/local/lib/python3.10/dist-packages (from catboost) (5.13.1)\n",
      "Requirement already satisfied: six in /usr/local/lib/python3.10/dist-packages (from catboost) (1.16.0)\n",
      "Requirement already satisfied: python-dateutil>=2.8.1 in /usr/local/lib/python3.10/dist-packages (from pandas>=0.24->catboost) (2.8.2)\n",
      "Requirement already satisfied: pytz>=2020.1 in /usr/local/lib/python3.10/dist-packages (from pandas>=0.24->catboost) (2022.7.1)\n",
      "Requirement already satisfied: contourpy>=1.0.1 in /usr/local/lib/python3.10/dist-packages (from matplotlib->catboost) (1.1.0)\n",
      "Requirement already satisfied: cycler>=0.10 in /usr/local/lib/python3.10/dist-packages (from matplotlib->catboost) (0.11.0)\n",
      "Requirement already satisfied: fonttools>=4.22.0 in /usr/local/lib/python3.10/dist-packages (from matplotlib->catboost) (4.41.0)\n",
      "Requirement already satisfied: kiwisolver>=1.0.1 in /usr/local/lib/python3.10/dist-packages (from matplotlib->catboost) (1.4.4)\n",
      "Requirement already satisfied: packaging>=20.0 in /usr/local/lib/python3.10/dist-packages (from matplotlib->catboost) (23.1)\n",
      "Requirement already satisfied: pillow>=6.2.0 in /usr/local/lib/python3.10/dist-packages (from matplotlib->catboost) (8.4.0)\n",
      "Requirement already satisfied: pyparsing>=2.3.1 in /usr/local/lib/python3.10/dist-packages (from matplotlib->catboost) (3.1.0)\n",
      "Requirement already satisfied: tenacity>=6.2.0 in /usr/local/lib/python3.10/dist-packages (from plotly->catboost) (8.2.2)\n",
      "Requirement already satisfied: category_encoders in /usr/local/lib/python3.10/dist-packages (2.6.1)\n",
      "Requirement already satisfied: numpy>=1.14.0 in /usr/local/lib/python3.10/dist-packages (from category_encoders) (1.22.4)\n",
      "Requirement already satisfied: scikit-learn>=0.20.0 in /usr/local/lib/python3.10/dist-packages (from category_encoders) (1.2.2)\n",
      "Requirement already satisfied: scipy>=1.0.0 in /usr/local/lib/python3.10/dist-packages (from category_encoders) (1.10.1)\n",
      "Requirement already satisfied: statsmodels>=0.9.0 in /usr/local/lib/python3.10/dist-packages (from category_encoders) (0.13.5)\n",
      "Requirement already satisfied: pandas>=1.0.5 in /usr/local/lib/python3.10/dist-packages (from category_encoders) (1.5.3)\n",
      "Requirement already satisfied: patsy>=0.5.1 in /usr/local/lib/python3.10/dist-packages (from category_encoders) (0.5.3)\n",
      "Requirement already satisfied: python-dateutil>=2.8.1 in /usr/local/lib/python3.10/dist-packages (from pandas>=1.0.5->category_encoders) (2.8.2)\n",
      "Requirement already satisfied: pytz>=2020.1 in /usr/local/lib/python3.10/dist-packages (from pandas>=1.0.5->category_encoders) (2022.7.1)\n",
      "Requirement already satisfied: six in /usr/local/lib/python3.10/dist-packages (from patsy>=0.5.1->category_encoders) (1.16.0)\n",
      "Requirement already satisfied: joblib>=1.1.1 in /usr/local/lib/python3.10/dist-packages (from scikit-learn>=0.20.0->category_encoders) (1.3.1)\n",
      "Requirement already satisfied: threadpoolctl>=2.0.0 in /usr/local/lib/python3.10/dist-packages (from scikit-learn>=0.20.0->category_encoders) (3.1.0)\n",
      "Requirement already satisfied: packaging>=21.3 in /usr/local/lib/python3.10/dist-packages (from statsmodels>=0.9.0->category_encoders) (23.1)\n"
     ]
    }
   ],
   "source": [
    "!pip install optuna\n",
    "!pip install lightgbm\n",
    "!pip install xgboost\n",
    "!pip install catboost\n",
    "!pip install category_encoders"
   ]
  },
  {
   "cell_type": "markdown",
   "metadata": {
    "id": "DOC32Iie6-jE"
   },
   "source": [
    "### Импорты библиотек"
   ]
  },
  {
   "cell_type": "code",
   "execution_count": 115,
   "metadata": {
    "id": "DmmQLElM6-jE"
   },
   "outputs": [],
   "source": [
    "# Built-in libraries\n",
    "import warnings\n",
    "from datetime import datetime\n",
    "\n",
    "# Data manipulation libraries\n",
    "import numpy as np\n",
    "import pandas as pd\n",
    "\n",
    "# Data visualization libraries\n",
    "import matplotlib.pyplot as plt\n",
    "import seaborn as sns\n",
    "\n",
    "# Machine Learning: helpers\n",
    "from sklearn.model_selection import train_test_split\n",
    "\n",
    "# Machine Learning: data preprocessing\n",
    "from sklearn.preprocessing import StandardScaler, OneHotEncoder\n",
    "from sklearn.impute import SimpleImputer\n",
    "from category_encoders import MEstimateEncoder\n",
    "\n",
    "# Machine Learning: models\n",
    "from sklearn.linear_model import Ridge\n",
    "from sklearn.dummy import DummyRegressor\n",
    "from catboost import CatBoostRegressor\n",
    "import lightgbm as lgb\n",
    "import xgboost as xgb\n",
    "\n",
    "# Machine Learning: metrics\n",
    "from sklearn.metrics import mean_squared_error\n",
    "\n",
    "# Optimization library\n",
    "import optuna\n",
    "from optuna.study import create_study\n",
    "\n",
    "# Display settings\n",
    "%matplotlib inline\n",
    "pd.set_option('display.max_columns', 999)\n",
    "\n",
    "# Ignoring warnings\n",
    "warnings.filterwarnings(\"ignore\")\n"
   ]
  },
  {
   "cell_type": "markdown",
   "metadata": {
    "id": "SXtV9ZnU6-jF"
   },
   "source": [
    "### Импорт данных\n"
   ]
  },
  {
   "cell_type": "code",
   "execution_count": 116,
   "metadata": {
    "id": "vFICDCyP6-jF"
   },
   "outputs": [],
   "source": [
    "try:\n",
    "    df = pd.read_csv('autos.csv')\n",
    "except:\n",
    "    try:\n",
    "        df = pd.read_csv('https://code.s3.yandex.net/datasets/autos.csv')\n",
    "    except:\n",
    "        df = pd.read_csv('/datasets/autos.csv')"
   ]
  },
  {
   "cell_type": "markdown",
   "metadata": {
    "id": "rAQWD8l96-jF"
   },
   "source": [
    "### Создание констан\n"
   ]
  },
  {
   "cell_type": "code",
   "execution_count": 117,
   "metadata": {
    "id": "UtaegfR36-jF"
   },
   "outputs": [],
   "source": [
    "RANDOM_STATE=12345"
   ]
  },
  {
   "cell_type": "markdown",
   "metadata": {
    "id": "777Mj_V76-jG"
   },
   "source": [
    "### Оценка датасета\n"
   ]
  },
  {
   "cell_type": "code",
   "execution_count": 118,
   "metadata": {
    "colab": {
     "base_uri": "https://localhost:8080/"
    },
    "id": "AaPJZ8eN6-jG",
    "outputId": "89e9f8d5-df3c-42df-866c-8e2ee5cb6aec"
   },
   "outputs": [
    {
     "data": {
      "text/plain": [
       "354369"
      ]
     },
     "execution_count": 118,
     "metadata": {},
     "output_type": "execute_result"
    }
   ],
   "source": [
    "row_count = df.shape[0]\n",
    "row_count"
   ]
  },
  {
   "cell_type": "code",
   "execution_count": 119,
   "metadata": {
    "colab": {
     "base_uri": "https://localhost:8080/"
    },
    "id": "5ZnF8n9M6-jG",
    "outputId": "176f3d02-4f3a-4829-c993-86bbfd245ce1"
   },
   "outputs": [
    {
     "name": "stdout",
     "output_type": "stream",
     "text": [
      "Average memory usage for float columns: 0.00 MB\n",
      "Average memory usage for int columns: 2.37 MB\n",
      "Average memory usage for object columns: 19.81 MB\n",
      "<class 'pandas.core.frame.DataFrame'>\n",
      "RangeIndex: 354369 entries, 0 to 354368\n",
      "Data columns (total 16 columns):\n",
      " #   Column             Non-Null Count   Dtype \n",
      "---  ------             --------------   ----- \n",
      " 0   DateCrawled        354369 non-null  object\n",
      " 1   Price              354369 non-null  int64 \n",
      " 2   VehicleType        316879 non-null  object\n",
      " 3   RegistrationYear   354369 non-null  int64 \n",
      " 4   Gearbox            334536 non-null  object\n",
      " 5   Power              354369 non-null  int64 \n",
      " 6   Model              334664 non-null  object\n",
      " 7   Kilometer          354369 non-null  int64 \n",
      " 8   RegistrationMonth  354369 non-null  int64 \n",
      " 9   FuelType           321474 non-null  object\n",
      " 10  Brand              354369 non-null  object\n",
      " 11  Repaired           283215 non-null  object\n",
      " 12  DateCreated        354369 non-null  object\n",
      " 13  NumberOfPictures   354369 non-null  int64 \n",
      " 14  PostalCode         354369 non-null  int64 \n",
      " 15  LastSeen           354369 non-null  object\n",
      "dtypes: int64(7), object(9)\n",
      "memory usage: 217.0 MB\n"
     ]
    }
   ],
   "source": [
    "for dtype in ['float','int','object']:\n",
    "    selected_dtype = df.select_dtypes(include=[dtype])\n",
    "    mean_usage_b = selected_dtype.memory_usage(deep=True).mean()\n",
    "    mean_usage_mb = mean_usage_b / 1024 ** 2\n",
    "    print(\"Average memory usage for {} columns: {:03.2f} MB\".format(dtype,mean_usage_mb))\n",
    "\n",
    "df.info(memory_usage='deep')"
   ]
  },
  {
   "cell_type": "code",
   "execution_count": 120,
   "metadata": {
    "colab": {
     "base_uri": "https://localhost:8080/",
     "height": 545
    },
    "id": "mul6xySv6-jG",
    "outputId": "e5656a4c-3474-44b9-96b6-0bfd4fd225d1",
    "scrolled": false
   },
   "outputs": [
    {
     "data": {
      "text/html": [
       "\n",
       "\n",
       "  <div id=\"df-b842b718-04ab-49dd-8a0a-5a8e43d3345b\">\n",
       "    <div class=\"colab-df-container\">\n",
       "      <div>\n",
       "<style scoped>\n",
       "    .dataframe tbody tr th:only-of-type {\n",
       "        vertical-align: middle;\n",
       "    }\n",
       "\n",
       "    .dataframe tbody tr th {\n",
       "        vertical-align: top;\n",
       "    }\n",
       "\n",
       "    .dataframe thead th {\n",
       "        text-align: right;\n",
       "    }\n",
       "</style>\n",
       "<table border=\"1\" class=\"dataframe\">\n",
       "  <thead>\n",
       "    <tr style=\"text-align: right;\">\n",
       "      <th></th>\n",
       "      <th>column</th>\n",
       "      <th>count_values</th>\n",
       "      <th>unique_values</th>\n",
       "      <th>% unique</th>\n",
       "      <th>missing</th>\n",
       "      <th>% missing</th>\n",
       "      <th>dtype</th>\n",
       "      <th>var_variance</th>\n",
       "    </tr>\n",
       "  </thead>\n",
       "  <tbody>\n",
       "    <tr>\n",
       "      <th>11</th>\n",
       "      <td>Repaired</td>\n",
       "      <td>283215</td>\n",
       "      <td>2</td>\n",
       "      <td>0.0%</td>\n",
       "      <td>71154</td>\n",
       "      <td>20.08%</td>\n",
       "      <td>object</td>\n",
       "      <td>2</td>\n",
       "    </tr>\n",
       "    <tr>\n",
       "      <th>2</th>\n",
       "      <td>VehicleType</td>\n",
       "      <td>316879</td>\n",
       "      <td>8</td>\n",
       "      <td>0.0%</td>\n",
       "      <td>37490</td>\n",
       "      <td>10.58%</td>\n",
       "      <td>object</td>\n",
       "      <td>8</td>\n",
       "    </tr>\n",
       "    <tr>\n",
       "      <th>9</th>\n",
       "      <td>FuelType</td>\n",
       "      <td>321474</td>\n",
       "      <td>7</td>\n",
       "      <td>0.0%</td>\n",
       "      <td>32895</td>\n",
       "      <td>9.28%</td>\n",
       "      <td>object</td>\n",
       "      <td>7</td>\n",
       "    </tr>\n",
       "    <tr>\n",
       "      <th>4</th>\n",
       "      <td>Gearbox</td>\n",
       "      <td>334536</td>\n",
       "      <td>2</td>\n",
       "      <td>0.0%</td>\n",
       "      <td>19833</td>\n",
       "      <td>5.6%</td>\n",
       "      <td>object</td>\n",
       "      <td>2</td>\n",
       "    </tr>\n",
       "    <tr>\n",
       "      <th>6</th>\n",
       "      <td>Model</td>\n",
       "      <td>334664</td>\n",
       "      <td>250</td>\n",
       "      <td>0.07%</td>\n",
       "      <td>19705</td>\n",
       "      <td>5.56%</td>\n",
       "      <td>object</td>\n",
       "      <td>250</td>\n",
       "    </tr>\n",
       "    <tr>\n",
       "      <th>0</th>\n",
       "      <td>DateCrawled</td>\n",
       "      <td>354369</td>\n",
       "      <td>271174</td>\n",
       "      <td>76.52%</td>\n",
       "      <td>0</td>\n",
       "      <td>0.0%</td>\n",
       "      <td>object</td>\n",
       "      <td>271174</td>\n",
       "    </tr>\n",
       "    <tr>\n",
       "      <th>1</th>\n",
       "      <td>Price</td>\n",
       "      <td>354369</td>\n",
       "      <td>3731</td>\n",
       "      <td>1.05%</td>\n",
       "      <td>0</td>\n",
       "      <td>0.0%</td>\n",
       "      <td>int64</td>\n",
       "      <td>3731</td>\n",
       "    </tr>\n",
       "    <tr>\n",
       "      <th>3</th>\n",
       "      <td>RegistrationYear</td>\n",
       "      <td>354369</td>\n",
       "      <td>151</td>\n",
       "      <td>0.04%</td>\n",
       "      <td>0</td>\n",
       "      <td>0.0%</td>\n",
       "      <td>int64</td>\n",
       "      <td>151</td>\n",
       "    </tr>\n",
       "    <tr>\n",
       "      <th>5</th>\n",
       "      <td>Power</td>\n",
       "      <td>354369</td>\n",
       "      <td>712</td>\n",
       "      <td>0.2%</td>\n",
       "      <td>0</td>\n",
       "      <td>0.0%</td>\n",
       "      <td>int64</td>\n",
       "      <td>712</td>\n",
       "    </tr>\n",
       "    <tr>\n",
       "      <th>7</th>\n",
       "      <td>Kilometer</td>\n",
       "      <td>354369</td>\n",
       "      <td>13</td>\n",
       "      <td>0.0%</td>\n",
       "      <td>0</td>\n",
       "      <td>0.0%</td>\n",
       "      <td>int64</td>\n",
       "      <td>13</td>\n",
       "    </tr>\n",
       "    <tr>\n",
       "      <th>8</th>\n",
       "      <td>RegistrationMonth</td>\n",
       "      <td>354369</td>\n",
       "      <td>13</td>\n",
       "      <td>0.0%</td>\n",
       "      <td>0</td>\n",
       "      <td>0.0%</td>\n",
       "      <td>int64</td>\n",
       "      <td>13</td>\n",
       "    </tr>\n",
       "    <tr>\n",
       "      <th>10</th>\n",
       "      <td>Brand</td>\n",
       "      <td>354369</td>\n",
       "      <td>40</td>\n",
       "      <td>0.01%</td>\n",
       "      <td>0</td>\n",
       "      <td>0.0%</td>\n",
       "      <td>object</td>\n",
       "      <td>40</td>\n",
       "    </tr>\n",
       "    <tr>\n",
       "      <th>12</th>\n",
       "      <td>DateCreated</td>\n",
       "      <td>354369</td>\n",
       "      <td>109</td>\n",
       "      <td>0.03%</td>\n",
       "      <td>0</td>\n",
       "      <td>0.0%</td>\n",
       "      <td>object</td>\n",
       "      <td>109</td>\n",
       "    </tr>\n",
       "    <tr>\n",
       "      <th>13</th>\n",
       "      <td>NumberOfPictures</td>\n",
       "      <td>354369</td>\n",
       "      <td>1</td>\n",
       "      <td>0.0%</td>\n",
       "      <td>0</td>\n",
       "      <td>0.0%</td>\n",
       "      <td>int64</td>\n",
       "      <td>1</td>\n",
       "    </tr>\n",
       "    <tr>\n",
       "      <th>14</th>\n",
       "      <td>PostalCode</td>\n",
       "      <td>354369</td>\n",
       "      <td>8143</td>\n",
       "      <td>2.3%</td>\n",
       "      <td>0</td>\n",
       "      <td>0.0%</td>\n",
       "      <td>int64</td>\n",
       "      <td>8143</td>\n",
       "    </tr>\n",
       "    <tr>\n",
       "      <th>15</th>\n",
       "      <td>LastSeen</td>\n",
       "      <td>354369</td>\n",
       "      <td>179150</td>\n",
       "      <td>50.55%</td>\n",
       "      <td>0</td>\n",
       "      <td>0.0%</td>\n",
       "      <td>object</td>\n",
       "      <td>179150</td>\n",
       "    </tr>\n",
       "  </tbody>\n",
       "</table>\n",
       "</div>\n",
       "      <button class=\"colab-df-convert\" onclick=\"convertToInteractive('df-b842b718-04ab-49dd-8a0a-5a8e43d3345b')\"\n",
       "              title=\"Convert this dataframe to an interactive table.\"\n",
       "              style=\"display:none;\">\n",
       "\n",
       "  <svg xmlns=\"http://www.w3.org/2000/svg\" height=\"24px\"viewBox=\"0 0 24 24\"\n",
       "       width=\"24px\">\n",
       "    <path d=\"M0 0h24v24H0V0z\" fill=\"none\"/>\n",
       "    <path d=\"M18.56 5.44l.94 2.06.94-2.06 2.06-.94-2.06-.94-.94-2.06-.94 2.06-2.06.94zm-11 1L8.5 8.5l.94-2.06 2.06-.94-2.06-.94L8.5 2.5l-.94 2.06-2.06.94zm10 10l.94 2.06.94-2.06 2.06-.94-2.06-.94-.94-2.06-.94 2.06-2.06.94z\"/><path d=\"M17.41 7.96l-1.37-1.37c-.4-.4-.92-.59-1.43-.59-.52 0-1.04.2-1.43.59L10.3 9.45l-7.72 7.72c-.78.78-.78 2.05 0 2.83L4 21.41c.39.39.9.59 1.41.59.51 0 1.02-.2 1.41-.59l7.78-7.78 2.81-2.81c.8-.78.8-2.07 0-2.86zM5.41 20L4 18.59l7.72-7.72 1.47 1.35L5.41 20z\"/>\n",
       "  </svg>\n",
       "      </button>\n",
       "\n",
       "\n",
       "\n",
       "    <div id=\"df-2e4e7ea7-b67b-4c63-8d72-9c8a0e1c2ee5\">\n",
       "      <button class=\"colab-df-quickchart\" onclick=\"quickchart('df-2e4e7ea7-b67b-4c63-8d72-9c8a0e1c2ee5')\"\n",
       "              title=\"Suggest charts.\"\n",
       "              style=\"display:none;\">\n",
       "\n",
       "<svg xmlns=\"http://www.w3.org/2000/svg\" height=\"24px\"viewBox=\"0 0 24 24\"\n",
       "     width=\"24px\">\n",
       "    <g>\n",
       "        <path d=\"M19 3H5c-1.1 0-2 .9-2 2v14c0 1.1.9 2 2 2h14c1.1 0 2-.9 2-2V5c0-1.1-.9-2-2-2zM9 17H7v-7h2v7zm4 0h-2V7h2v10zm4 0h-2v-4h2v4z\"/>\n",
       "    </g>\n",
       "</svg>\n",
       "      </button>\n",
       "    </div>\n",
       "\n",
       "<style>\n",
       "  .colab-df-quickchart {\n",
       "    background-color: #E8F0FE;\n",
       "    border: none;\n",
       "    border-radius: 50%;\n",
       "    cursor: pointer;\n",
       "    display: none;\n",
       "    fill: #1967D2;\n",
       "    height: 32px;\n",
       "    padding: 0 0 0 0;\n",
       "    width: 32px;\n",
       "  }\n",
       "\n",
       "  .colab-df-quickchart:hover {\n",
       "    background-color: #E2EBFA;\n",
       "    box-shadow: 0px 1px 2px rgba(60, 64, 67, 0.3), 0px 1px 3px 1px rgba(60, 64, 67, 0.15);\n",
       "    fill: #174EA6;\n",
       "  }\n",
       "\n",
       "  [theme=dark] .colab-df-quickchart {\n",
       "    background-color: #3B4455;\n",
       "    fill: #D2E3FC;\n",
       "  }\n",
       "\n",
       "  [theme=dark] .colab-df-quickchart:hover {\n",
       "    background-color: #434B5C;\n",
       "    box-shadow: 0px 1px 3px 1px rgba(0, 0, 0, 0.15);\n",
       "    filter: drop-shadow(0px 1px 2px rgba(0, 0, 0, 0.3));\n",
       "    fill: #FFFFFF;\n",
       "  }\n",
       "</style>\n",
       "\n",
       "    <script>\n",
       "      async function quickchart(key) {\n",
       "        const containerElement = document.querySelector('#' + key);\n",
       "        const charts = await google.colab.kernel.invokeFunction(\n",
       "            'suggestCharts', [key], {});\n",
       "      }\n",
       "    </script>\n",
       "\n",
       "      <script>\n",
       "\n",
       "function displayQuickchartButton(domScope) {\n",
       "  let quickchartButtonEl =\n",
       "    domScope.querySelector('#df-2e4e7ea7-b67b-4c63-8d72-9c8a0e1c2ee5 button.colab-df-quickchart');\n",
       "  quickchartButtonEl.style.display =\n",
       "    google.colab.kernel.accessAllowed ? 'block' : 'none';\n",
       "}\n",
       "\n",
       "        displayQuickchartButton(document);\n",
       "      </script>\n",
       "      <style>\n",
       "    .colab-df-container {\n",
       "      display:flex;\n",
       "      flex-wrap:wrap;\n",
       "      gap: 12px;\n",
       "    }\n",
       "\n",
       "    .colab-df-convert {\n",
       "      background-color: #E8F0FE;\n",
       "      border: none;\n",
       "      border-radius: 50%;\n",
       "      cursor: pointer;\n",
       "      display: none;\n",
       "      fill: #1967D2;\n",
       "      height: 32px;\n",
       "      padding: 0 0 0 0;\n",
       "      width: 32px;\n",
       "    }\n",
       "\n",
       "    .colab-df-convert:hover {\n",
       "      background-color: #E2EBFA;\n",
       "      box-shadow: 0px 1px 2px rgba(60, 64, 67, 0.3), 0px 1px 3px 1px rgba(60, 64, 67, 0.15);\n",
       "      fill: #174EA6;\n",
       "    }\n",
       "\n",
       "    [theme=dark] .colab-df-convert {\n",
       "      background-color: #3B4455;\n",
       "      fill: #D2E3FC;\n",
       "    }\n",
       "\n",
       "    [theme=dark] .colab-df-convert:hover {\n",
       "      background-color: #434B5C;\n",
       "      box-shadow: 0px 1px 3px 1px rgba(0, 0, 0, 0.15);\n",
       "      filter: drop-shadow(0px 1px 2px rgba(0, 0, 0, 0.3));\n",
       "      fill: #FFFFFF;\n",
       "    }\n",
       "  </style>\n",
       "\n",
       "      <script>\n",
       "        const buttonEl =\n",
       "          document.querySelector('#df-b842b718-04ab-49dd-8a0a-5a8e43d3345b button.colab-df-convert');\n",
       "        buttonEl.style.display =\n",
       "          google.colab.kernel.accessAllowed ? 'block' : 'none';\n",
       "\n",
       "        async function convertToInteractive(key) {\n",
       "          const element = document.querySelector('#df-b842b718-04ab-49dd-8a0a-5a8e43d3345b');\n",
       "          const dataTable =\n",
       "            await google.colab.kernel.invokeFunction('convertToInteractive',\n",
       "                                                     [key], {});\n",
       "          if (!dataTable) return;\n",
       "\n",
       "          const docLinkHtml = 'Like what you see? Visit the ' +\n",
       "            '<a target=\"_blank\" href=https://colab.research.google.com/notebooks/data_table.ipynb>data table notebook</a>'\n",
       "            + ' to learn more about interactive tables.';\n",
       "          element.innerHTML = '';\n",
       "          dataTable['output_type'] = 'display_data';\n",
       "          await google.colab.output.renderOutput(dataTable, element);\n",
       "          const docLink = document.createElement('div');\n",
       "          docLink.innerHTML = docLinkHtml;\n",
       "          element.appendChild(docLink);\n",
       "        }\n",
       "      </script>\n",
       "    </div>\n",
       "  </div>\n"
      ],
      "text/plain": [
       "               column  count_values  unique_values % unique  missing  \\\n",
       "11           Repaired        283215              2     0.0%    71154   \n",
       "2         VehicleType        316879              8     0.0%    37490   \n",
       "9            FuelType        321474              7     0.0%    32895   \n",
       "4             Gearbox        334536              2     0.0%    19833   \n",
       "6               Model        334664            250    0.07%    19705   \n",
       "0         DateCrawled        354369         271174   76.52%        0   \n",
       "1               Price        354369           3731    1.05%        0   \n",
       "3    RegistrationYear        354369            151    0.04%        0   \n",
       "5               Power        354369            712     0.2%        0   \n",
       "7           Kilometer        354369             13     0.0%        0   \n",
       "8   RegistrationMonth        354369             13     0.0%        0   \n",
       "10              Brand        354369             40    0.01%        0   \n",
       "12        DateCreated        354369            109    0.03%        0   \n",
       "13   NumberOfPictures        354369              1     0.0%        0   \n",
       "14         PostalCode        354369           8143     2.3%        0   \n",
       "15           LastSeen        354369         179150   50.55%        0   \n",
       "\n",
       "   % missing   dtype  var_variance  \n",
       "11    20.08%  object             2  \n",
       "2     10.58%  object             8  \n",
       "9      9.28%  object             7  \n",
       "4       5.6%  object             2  \n",
       "6      5.56%  object           250  \n",
       "0       0.0%  object        271174  \n",
       "1       0.0%   int64          3731  \n",
       "3       0.0%   int64           151  \n",
       "5       0.0%   int64           712  \n",
       "7       0.0%   int64            13  \n",
       "8       0.0%   int64            13  \n",
       "10      0.0%  object            40  \n",
       "12      0.0%  object           109  \n",
       "13      0.0%   int64             1  \n",
       "14      0.0%   int64          8143  \n",
       "15      0.0%  object        179150  "
      ]
     },
     "execution_count": 120,
     "metadata": {},
     "output_type": "execute_result"
    }
   ],
   "source": [
    "def get_dataset_short_info(df: pd.DataFrame) -> pd.DataFrame:\n",
    "\n",
    "    \"\"\"\n",
    "    Функция для отображения короткой информации по датасету. Аналог функции df.info()\n",
    "\n",
    "    Args:\n",
    "        df (pd.DataFrame): Датафрейм с исходным датасетом\n",
    "\n",
    "    Returns:\n",
    "        pd.DataFrame: Возвращает датафрейм с описанием данных\n",
    "    \"\"\"\n",
    "\n",
    "    shape = df.shape[0]\n",
    "    columns = ['column', 'count_values','unique_values', '% unique', 'missing', '% missing','dtype', 'var_variance']\n",
    "    rows = []\n",
    "    for col in df.columns:\n",
    "        rows.extend([[\n",
    "            col, # название столбца\n",
    "            df[col].count(), # кол-во НЕ пустых значений\n",
    "            df[col].nunique(), # кол-во уникальных значений\n",
    "            str(round(df[col].nunique() * 100 / df[col].count(), 2))+'%', # доля уникальных значений\n",
    "            df[col].isna().sum(), # кол-во пропущенных значений\n",
    "            round(df[col].isna().sum() / shape * 100, 2), # доля пропущенных значений\n",
    "            str(df[col].dtype), # тип данных\n",
    "            df[col].value_counts().count()]]) # вариативность значений атрибута\n",
    "    info = pd.DataFrame(data=rows, columns=columns)\n",
    "    info = info.sort_values(by=['% missing', 'missing'], ascending=False).round(4)\n",
    "    info['% missing'] = info['% missing'].astype(str) + '%'\n",
    "    return info\n",
    "\n",
    "\n",
    "get_dataset_short_info(df)"
   ]
  },
  {
   "cell_type": "markdown",
   "metadata": {
    "id": "SiKYfoku6-jG"
   },
   "source": [
    "Согласно предоставленной таблице, мы можем сделать следующие выводы:\n",
    "\n",
    "1. **Пропущенные значения**: Колонки Repaired, VehicleType, FuelType, Gearbox, и Model имеют пропущенные значения, причем колонка Repaired имеет наибольшее количество пропусков - 20% данных. Это требует внимания при обработке данных, так как пропуски могут повлиять на качество предсказания модели.\n",
    "\n",
    "2. **Категориальные признаки**: Колонки Repaired, VehicleType, FuelType, Gearbox, Model, и Brand являются категориальными переменными.\n",
    "\n",
    "3. **Непрерывные / числовые признаки**: Price, RegistrationYear, Power, Kilometer, RegistrationMonth, NumberOfPictures, и PostalCode являются числовыми переменными.\n",
    "Уникальность: Колонки DateCrawled, Price, PostalCode, и LastSeen имеют большое количество уникальных значений.\n",
    "**В частности, NumberOfPictures имеет всего одно уникальное значение, что делает его бесполезным для модели.**\n",
    "\n",
    "4. **Временные признаки**: DateCrawled, RegistrationYear, RegistrationMonth, DateCreated, и LastSeen - это временные признаки. Они могут потребовать дополнительной предварительной обработки, в зависимости от того, как они будут использоваться в модели.\n"
   ]
  },
  {
   "cell_type": "code",
   "execution_count": 121,
   "metadata": {
    "colab": {
     "base_uri": "https://localhost:8080/"
    },
    "id": "cBLRVZKO6-jH",
    "outputId": "611cffea-a683-47ef-e491-f13f104e8f3e"
   },
   "outputs": [
    {
     "name": "stdout",
     "output_type": "stream",
     "text": [
      "Пропущено во всех 5 признаках: 2237\n"
     ]
    }
   ],
   "source": [
    "missing_rows = df[df[['Repaired', 'VehicleType', 'FuelType', 'Gearbox', 'Model']].isnull().all(axis=1)].shape[0]\n",
    "print(f\"Пропущено во всех 5 признаках: {missing_rows}\")\n"
   ]
  },
  {
   "cell_type": "code",
   "execution_count": 122,
   "metadata": {
    "colab": {
     "base_uri": "https://localhost:8080/"
    },
    "id": "e0m5HY-T6-jH",
    "outputId": "4db1e71f-5960-4edb-83bf-b5841ed61efb"
   },
   "outputs": [
    {
     "name": "stdout",
     "output_type": "stream",
     "text": [
      "Пропущено хотя бы в 3 признаках: 18028\n"
     ]
    }
   ],
   "source": [
    "missing_rows = df[df[['Repaired', 'VehicleType', 'FuelType', 'Gearbox', 'Model']].isnull().sum(axis=1) >= 3].shape[0]\n",
    "print(f\"Пропущено хотя бы в 3 признаках: {missing_rows}\")\n"
   ]
  },
  {
   "cell_type": "markdown",
   "metadata": {
    "id": "WQ5rB39L6-jH"
   },
   "source": [
    "Эти 5% данных можно удалить для улучшения качества данных, даже с учетом наших заглушек в дальнейшем."
   ]
  },
  {
   "cell_type": "code",
   "execution_count": 123,
   "metadata": {
    "colab": {
     "base_uri": "https://localhost:8080/",
     "height": 297
    },
    "id": "aQ8S-4nA6-jH",
    "outputId": "b809d2bb-341f-42c7-8b6f-1e68bb8a6530"
   },
   "outputs": [
    {
     "data": {
      "text/html": [
       "\n",
       "\n",
       "  <div id=\"df-ee260af8-64f5-4a0b-a8a9-eefd25ea6cb6\">\n",
       "    <div class=\"colab-df-container\">\n",
       "      <div>\n",
       "<style scoped>\n",
       "    .dataframe tbody tr th:only-of-type {\n",
       "        vertical-align: middle;\n",
       "    }\n",
       "\n",
       "    .dataframe tbody tr th {\n",
       "        vertical-align: top;\n",
       "    }\n",
       "\n",
       "    .dataframe thead th {\n",
       "        text-align: right;\n",
       "    }\n",
       "</style>\n",
       "<table border=\"1\" class=\"dataframe\">\n",
       "  <thead>\n",
       "    <tr style=\"text-align: right;\">\n",
       "      <th></th>\n",
       "      <th>Price</th>\n",
       "      <th>RegistrationYear</th>\n",
       "      <th>Power</th>\n",
       "      <th>Kilometer</th>\n",
       "      <th>RegistrationMonth</th>\n",
       "      <th>NumberOfPictures</th>\n",
       "      <th>PostalCode</th>\n",
       "    </tr>\n",
       "  </thead>\n",
       "  <tbody>\n",
       "    <tr>\n",
       "      <th>count</th>\n",
       "      <td>354369.000000</td>\n",
       "      <td>354369.000000</td>\n",
       "      <td>354369.000000</td>\n",
       "      <td>354369.000000</td>\n",
       "      <td>354369.000000</td>\n",
       "      <td>354369.0</td>\n",
       "      <td>354369.000000</td>\n",
       "    </tr>\n",
       "    <tr>\n",
       "      <th>mean</th>\n",
       "      <td>4416.656776</td>\n",
       "      <td>2004.234448</td>\n",
       "      <td>110.094337</td>\n",
       "      <td>128211.172535</td>\n",
       "      <td>5.714645</td>\n",
       "      <td>0.0</td>\n",
       "      <td>50508.689087</td>\n",
       "    </tr>\n",
       "    <tr>\n",
       "      <th>std</th>\n",
       "      <td>4514.158514</td>\n",
       "      <td>90.227958</td>\n",
       "      <td>189.850405</td>\n",
       "      <td>37905.341530</td>\n",
       "      <td>3.726421</td>\n",
       "      <td>0.0</td>\n",
       "      <td>25783.096248</td>\n",
       "    </tr>\n",
       "    <tr>\n",
       "      <th>min</th>\n",
       "      <td>0.000000</td>\n",
       "      <td>1000.000000</td>\n",
       "      <td>0.000000</td>\n",
       "      <td>5000.000000</td>\n",
       "      <td>0.000000</td>\n",
       "      <td>0.0</td>\n",
       "      <td>1067.000000</td>\n",
       "    </tr>\n",
       "    <tr>\n",
       "      <th>25%</th>\n",
       "      <td>1050.000000</td>\n",
       "      <td>1999.000000</td>\n",
       "      <td>69.000000</td>\n",
       "      <td>125000.000000</td>\n",
       "      <td>3.000000</td>\n",
       "      <td>0.0</td>\n",
       "      <td>30165.000000</td>\n",
       "    </tr>\n",
       "    <tr>\n",
       "      <th>50%</th>\n",
       "      <td>2700.000000</td>\n",
       "      <td>2003.000000</td>\n",
       "      <td>105.000000</td>\n",
       "      <td>150000.000000</td>\n",
       "      <td>6.000000</td>\n",
       "      <td>0.0</td>\n",
       "      <td>49413.000000</td>\n",
       "    </tr>\n",
       "    <tr>\n",
       "      <th>75%</th>\n",
       "      <td>6400.000000</td>\n",
       "      <td>2008.000000</td>\n",
       "      <td>143.000000</td>\n",
       "      <td>150000.000000</td>\n",
       "      <td>9.000000</td>\n",
       "      <td>0.0</td>\n",
       "      <td>71083.000000</td>\n",
       "    </tr>\n",
       "    <tr>\n",
       "      <th>max</th>\n",
       "      <td>20000.000000</td>\n",
       "      <td>9999.000000</td>\n",
       "      <td>20000.000000</td>\n",
       "      <td>150000.000000</td>\n",
       "      <td>12.000000</td>\n",
       "      <td>0.0</td>\n",
       "      <td>99998.000000</td>\n",
       "    </tr>\n",
       "  </tbody>\n",
       "</table>\n",
       "</div>\n",
       "      <button class=\"colab-df-convert\" onclick=\"convertToInteractive('df-ee260af8-64f5-4a0b-a8a9-eefd25ea6cb6')\"\n",
       "              title=\"Convert this dataframe to an interactive table.\"\n",
       "              style=\"display:none;\">\n",
       "\n",
       "  <svg xmlns=\"http://www.w3.org/2000/svg\" height=\"24px\"viewBox=\"0 0 24 24\"\n",
       "       width=\"24px\">\n",
       "    <path d=\"M0 0h24v24H0V0z\" fill=\"none\"/>\n",
       "    <path d=\"M18.56 5.44l.94 2.06.94-2.06 2.06-.94-2.06-.94-.94-2.06-.94 2.06-2.06.94zm-11 1L8.5 8.5l.94-2.06 2.06-.94-2.06-.94L8.5 2.5l-.94 2.06-2.06.94zm10 10l.94 2.06.94-2.06 2.06-.94-2.06-.94-.94-2.06-.94 2.06-2.06.94z\"/><path d=\"M17.41 7.96l-1.37-1.37c-.4-.4-.92-.59-1.43-.59-.52 0-1.04.2-1.43.59L10.3 9.45l-7.72 7.72c-.78.78-.78 2.05 0 2.83L4 21.41c.39.39.9.59 1.41.59.51 0 1.02-.2 1.41-.59l7.78-7.78 2.81-2.81c.8-.78.8-2.07 0-2.86zM5.41 20L4 18.59l7.72-7.72 1.47 1.35L5.41 20z\"/>\n",
       "  </svg>\n",
       "      </button>\n",
       "\n",
       "\n",
       "\n",
       "    <div id=\"df-5b194cbb-d6e4-4795-a736-5ccdf3d69cd2\">\n",
       "      <button class=\"colab-df-quickchart\" onclick=\"quickchart('df-5b194cbb-d6e4-4795-a736-5ccdf3d69cd2')\"\n",
       "              title=\"Suggest charts.\"\n",
       "              style=\"display:none;\">\n",
       "\n",
       "<svg xmlns=\"http://www.w3.org/2000/svg\" height=\"24px\"viewBox=\"0 0 24 24\"\n",
       "     width=\"24px\">\n",
       "    <g>\n",
       "        <path d=\"M19 3H5c-1.1 0-2 .9-2 2v14c0 1.1.9 2 2 2h14c1.1 0 2-.9 2-2V5c0-1.1-.9-2-2-2zM9 17H7v-7h2v7zm4 0h-2V7h2v10zm4 0h-2v-4h2v4z\"/>\n",
       "    </g>\n",
       "</svg>\n",
       "      </button>\n",
       "    </div>\n",
       "\n",
       "<style>\n",
       "  .colab-df-quickchart {\n",
       "    background-color: #E8F0FE;\n",
       "    border: none;\n",
       "    border-radius: 50%;\n",
       "    cursor: pointer;\n",
       "    display: none;\n",
       "    fill: #1967D2;\n",
       "    height: 32px;\n",
       "    padding: 0 0 0 0;\n",
       "    width: 32px;\n",
       "  }\n",
       "\n",
       "  .colab-df-quickchart:hover {\n",
       "    background-color: #E2EBFA;\n",
       "    box-shadow: 0px 1px 2px rgba(60, 64, 67, 0.3), 0px 1px 3px 1px rgba(60, 64, 67, 0.15);\n",
       "    fill: #174EA6;\n",
       "  }\n",
       "\n",
       "  [theme=dark] .colab-df-quickchart {\n",
       "    background-color: #3B4455;\n",
       "    fill: #D2E3FC;\n",
       "  }\n",
       "\n",
       "  [theme=dark] .colab-df-quickchart:hover {\n",
       "    background-color: #434B5C;\n",
       "    box-shadow: 0px 1px 3px 1px rgba(0, 0, 0, 0.15);\n",
       "    filter: drop-shadow(0px 1px 2px rgba(0, 0, 0, 0.3));\n",
       "    fill: #FFFFFF;\n",
       "  }\n",
       "</style>\n",
       "\n",
       "    <script>\n",
       "      async function quickchart(key) {\n",
       "        const containerElement = document.querySelector('#' + key);\n",
       "        const charts = await google.colab.kernel.invokeFunction(\n",
       "            'suggestCharts', [key], {});\n",
       "      }\n",
       "    </script>\n",
       "\n",
       "      <script>\n",
       "\n",
       "function displayQuickchartButton(domScope) {\n",
       "  let quickchartButtonEl =\n",
       "    domScope.querySelector('#df-5b194cbb-d6e4-4795-a736-5ccdf3d69cd2 button.colab-df-quickchart');\n",
       "  quickchartButtonEl.style.display =\n",
       "    google.colab.kernel.accessAllowed ? 'block' : 'none';\n",
       "}\n",
       "\n",
       "        displayQuickchartButton(document);\n",
       "      </script>\n",
       "      <style>\n",
       "    .colab-df-container {\n",
       "      display:flex;\n",
       "      flex-wrap:wrap;\n",
       "      gap: 12px;\n",
       "    }\n",
       "\n",
       "    .colab-df-convert {\n",
       "      background-color: #E8F0FE;\n",
       "      border: none;\n",
       "      border-radius: 50%;\n",
       "      cursor: pointer;\n",
       "      display: none;\n",
       "      fill: #1967D2;\n",
       "      height: 32px;\n",
       "      padding: 0 0 0 0;\n",
       "      width: 32px;\n",
       "    }\n",
       "\n",
       "    .colab-df-convert:hover {\n",
       "      background-color: #E2EBFA;\n",
       "      box-shadow: 0px 1px 2px rgba(60, 64, 67, 0.3), 0px 1px 3px 1px rgba(60, 64, 67, 0.15);\n",
       "      fill: #174EA6;\n",
       "    }\n",
       "\n",
       "    [theme=dark] .colab-df-convert {\n",
       "      background-color: #3B4455;\n",
       "      fill: #D2E3FC;\n",
       "    }\n",
       "\n",
       "    [theme=dark] .colab-df-convert:hover {\n",
       "      background-color: #434B5C;\n",
       "      box-shadow: 0px 1px 3px 1px rgba(0, 0, 0, 0.15);\n",
       "      filter: drop-shadow(0px 1px 2px rgba(0, 0, 0, 0.3));\n",
       "      fill: #FFFFFF;\n",
       "    }\n",
       "  </style>\n",
       "\n",
       "      <script>\n",
       "        const buttonEl =\n",
       "          document.querySelector('#df-ee260af8-64f5-4a0b-a8a9-eefd25ea6cb6 button.colab-df-convert');\n",
       "        buttonEl.style.display =\n",
       "          google.colab.kernel.accessAllowed ? 'block' : 'none';\n",
       "\n",
       "        async function convertToInteractive(key) {\n",
       "          const element = document.querySelector('#df-ee260af8-64f5-4a0b-a8a9-eefd25ea6cb6');\n",
       "          const dataTable =\n",
       "            await google.colab.kernel.invokeFunction('convertToInteractive',\n",
       "                                                     [key], {});\n",
       "          if (!dataTable) return;\n",
       "\n",
       "          const docLinkHtml = 'Like what you see? Visit the ' +\n",
       "            '<a target=\"_blank\" href=https://colab.research.google.com/notebooks/data_table.ipynb>data table notebook</a>'\n",
       "            + ' to learn more about interactive tables.';\n",
       "          element.innerHTML = '';\n",
       "          dataTable['output_type'] = 'display_data';\n",
       "          await google.colab.output.renderOutput(dataTable, element);\n",
       "          const docLink = document.createElement('div');\n",
       "          docLink.innerHTML = docLinkHtml;\n",
       "          element.appendChild(docLink);\n",
       "        }\n",
       "      </script>\n",
       "    </div>\n",
       "  </div>\n"
      ],
      "text/plain": [
       "               Price  RegistrationYear          Power      Kilometer  \\\n",
       "count  354369.000000     354369.000000  354369.000000  354369.000000   \n",
       "mean     4416.656776       2004.234448     110.094337  128211.172535   \n",
       "std      4514.158514         90.227958     189.850405   37905.341530   \n",
       "min         0.000000       1000.000000       0.000000    5000.000000   \n",
       "25%      1050.000000       1999.000000      69.000000  125000.000000   \n",
       "50%      2700.000000       2003.000000     105.000000  150000.000000   \n",
       "75%      6400.000000       2008.000000     143.000000  150000.000000   \n",
       "max     20000.000000       9999.000000   20000.000000  150000.000000   \n",
       "\n",
       "       RegistrationMonth  NumberOfPictures     PostalCode  \n",
       "count      354369.000000          354369.0  354369.000000  \n",
       "mean            5.714645               0.0   50508.689087  \n",
       "std             3.726421               0.0   25783.096248  \n",
       "min             0.000000               0.0    1067.000000  \n",
       "25%             3.000000               0.0   30165.000000  \n",
       "50%             6.000000               0.0   49413.000000  \n",
       "75%             9.000000               0.0   71083.000000  \n",
       "max            12.000000               0.0   99998.000000  "
      ]
     },
     "execution_count": 123,
     "metadata": {},
     "output_type": "execute_result"
    }
   ],
   "source": [
    "df.describe()"
   ]
  },
  {
   "cell_type": "markdown",
   "metadata": {
    "id": "Z63rbqdk6-jH"
   },
   "source": [
    "- **Price**: Средняя цена автомобиля составляет около 4416 единиц, при этом минимальная цена равна 0 (что может быть ошибкой), а максимальная - 20000. Это целевая переменная для нашей задачи предсказания цены автомобиля, поэтому основное внимание следует уделить этому столбцу. Можно рассмотреть возможность удаления строк с аномально низкой или высокой ценой.\n",
    "\n",
    "- **RegistrationYear**: Минимальный год регистрации - 1000 (что очевидно является ошибкой, так как автомобили не существовали в том году), а максимальный год - 9999 (что также является ошибкой, так как это год далеко в будущем). Это указывает на наличие некорректных данных в этом столбце, которые необходимо исправить.\n",
    "- **Power**: Средняя мощность автомобиля составляет около 110, при этом минимальное значение - 0 и  максимальное - 20000 могут быть ошибками.\n",
    "- **Kilometer**: Максимальное и 75% квартиль значения совпадают, что указывает на возможное наличие выбросов в данных.\n",
    "- **NumberOfPictures**: Все значения равны 0, этот столбец не несет никакой информации, и его следует удалить.\n",
    "- **PostalCode**: Значения в этом столбце варьируются от 1067 до 99998. В зависимости от того, насколько значимым является этот признак для модели, его можно оставить или исключить.\n",
    "\n",
    "Помимо вышеупомянутого, с точки зрения машинного обучения, также стоит проверить, нет ли сильной корреляции между признаками, и в случае необходимости устранить ее.\n",
    "\n",
    "Важно также провести анализ выбросов, чтобы убедиться, что модель не будет переобучаться на аномальных данных. Например, автомобили с аномально высокой мощностью или стоимостью могут искажать результаты.\n",
    "\n",
    "Наконец, нам следует также проанализировать распределение целевого признака (Price). Если оно сильно искажено, это может влиять на производительность некоторых моделей машинного обучения, и нам может потребоваться преобразовать данные, чтобы улучшить производительность модели."
   ]
  },
  {
   "cell_type": "code",
   "execution_count": 124,
   "metadata": {
    "colab": {
     "base_uri": "https://localhost:8080/",
     "height": 735
    },
    "id": "grxQPNN16-jH",
    "outputId": "7e251f69-bb15-4148-c66b-42939cbf40af"
   },
   "outputs": [
    {
     "data": {
      "image/png": "[encoded data removed]",
      "text/plain": [
       "<Figure size 800x800 with 2 Axes>"
      ]
     },
     "metadata": {},
     "output_type": "display_data"
    }
   ],
   "source": [
    "correlation_matrix = df.corr()\n",
    "\n",
    "plt.figure(figsize=(8, 8))\n",
    "\n",
    "sns.heatmap(\n",
    "    correlation_matrix,\n",
    "    annot=True,\n",
    "    cmap=\"coolwarm\",\n",
    "    vmin=-1, vmax=1,\n",
    "    square=True,\n",
    "    linewidths=0.5,\n",
    ")\n",
    "\n",
    "\n",
    "plt.title(\"Тепловая карта корреляции признаков\")\n",
    "plt.show()"
   ]
  },
  {
   "cell_type": "markdown",
   "metadata": {
    "id": "g-AdX7856-jI"
   },
   "source": [
    "- **Price (Цена)**: Наиболее сильно коррелирует с признаком Power (Мощность). Это логично, поскольку мощные автомобили обычно стоят дороже. Также цена отрицательно коррелирует с признаком **Kilometer (Пробег)**, что также вполне ожидаемо, так как автомобили с большим пробегом обычно стоят дешевле.\n",
    "- **RegistrationYear (Год регистрации)**: Этот признак практически не коррелирует ни с одним из остальных признаков, включая целевой признак Price. Это может указывать на то, что год регистрации автомобиля не имеет большого влияния на его стоимость.\n",
    "- **Power (Мощность)**: Как уже было отмечено, этот признак наиболее сильно коррелирует с целевым признаком Price. Он также слабо коррелирует с признаком RegistrationMonth (Месяц регистрации), хотя эта корреляция, скорее всего, не имеет практического значения.\n",
    "- **RegistrationMonth (Месяц регистрации)** и **ostalCode (Почтовый индекс)**: Эти признаки слабо коррелируют с целевым признаком Price, что может указывать на то, что они не имеют большого влияния на стоимость автомобиля.\n"
   ]
  },
  {
   "cell_type": "code",
   "execution_count": 125,
   "metadata": {
    "colab": {
     "base_uri": "https://localhost:8080/"
    },
    "id": "VWA9-ItU6-jI",
    "outputId": "1bc6d4d0-ac4b-4698-eeaa-86cd5d50f158"
   },
   "outputs": [
    {
     "data": {
      "text/plain": [
       "4"
      ]
     },
     "execution_count": 125,
     "metadata": {},
     "output_type": "execute_result"
    }
   ],
   "source": [
    "df.duplicated().sum()"
   ]
  },
  {
   "cell_type": "code",
   "execution_count": 126,
   "metadata": {
    "colab": {
     "base_uri": "https://localhost:8080/",
     "height": 564
    },
    "id": "ZgWi2HNj6-jI",
    "outputId": "daff21d8-cd88-4e01-d18e-0480e7e5d668"
   },
   "outputs": [
    {
     "data": {
      "image/png": "[encoded data removed]",
      "text/plain": [
       "<Figure size 1000x600 with 1 Axes>"
      ]
     },
     "metadata": {},
     "output_type": "display_data"
    }
   ],
   "source": [
    "plt.figure(figsize=(10, 6))\n",
    "plt.hist(df['Price'], bins=50, alpha=0.5, color='g')\n",
    "plt.title('Распределение цены')\n",
    "plt.xlabel('Цена')\n",
    "plt.ylabel('Количество автомобилей')\n",
    "plt.show()"
   ]
  },
  {
   "cell_type": "code",
   "execution_count": 127,
   "metadata": {
    "colab": {
     "base_uri": "https://localhost:8080/",
     "height": 545
    },
    "id": "d4JHdxdJ6-jI",
    "outputId": "b856113d-88a4-425a-cb1c-a8944d92d6aa"
   },
   "outputs": [
    {
     "data": {
      "image/png": "[encoded data removed]",
      "text/plain": [
       "<Figure size 1000x600 with 1 Axes>"
      ]
     },
     "metadata": {},
     "output_type": "display_data"
    }
   ],
   "source": [
    "plt.figure(figsize=(10, 6))\n",
    "plt.boxplot(df['Price'])\n",
    "plt.title('Boxplot цены')\n",
    "plt.ylabel('Цена')\n",
    "plt.show()"
   ]
  },
  {
   "cell_type": "markdown",
   "metadata": {
    "id": "srcBwZrg6-jI"
   },
   "source": [
    "Наша целевая переменная имеет экспоненциальное распределение и в основном в нашем наборе данных преобладают достаточно низкие значения, в том числе очень низкие. Необходимо убрать слишком низкие значения (меньше 500), т.к. данные объявления несут ложную оценку реальной стоимости автомобиля, в следствии чего, наш прогноз по новым объявлениям может быть некорректным."
   ]
  },
  {
   "cell_type": "code",
   "execution_count": 128,
   "metadata": {
    "colab": {
     "base_uri": "https://localhost:8080/",
     "height": 204
    },
    "id": "atEcNEjk6-jI",
    "outputId": "97d96a6a-6516-436d-f3e8-4286d3489686"
   },
   "outputs": [
    {
     "data": {
      "text/html": [
       "\n",
       "\n",
       "  <div id=\"df-c574ee2a-e7f8-4bf8-8f2f-dc1eda7776da\">\n",
       "    <div class=\"colab-df-container\">\n",
       "      <div>\n",
       "<style scoped>\n",
       "    .dataframe tbody tr th:only-of-type {\n",
       "        vertical-align: middle;\n",
       "    }\n",
       "\n",
       "    .dataframe tbody tr th {\n",
       "        vertical-align: top;\n",
       "    }\n",
       "\n",
       "    .dataframe thead th {\n",
       "        text-align: right;\n",
       "    }\n",
       "</style>\n",
       "<table border=\"1\" class=\"dataframe\">\n",
       "  <thead>\n",
       "    <tr style=\"text-align: right;\">\n",
       "      <th></th>\n",
       "      <th>Repaired</th>\n",
       "      <th>VehicleType</th>\n",
       "      <th>FuelType</th>\n",
       "      <th>Gearbox</th>\n",
       "      <th>Model</th>\n",
       "    </tr>\n",
       "  </thead>\n",
       "  <tbody>\n",
       "    <tr>\n",
       "      <th>Repaired</th>\n",
       "      <td>1.000000</td>\n",
       "      <td>0.298733</td>\n",
       "      <td>0.242168</td>\n",
       "      <td>0.269865</td>\n",
       "      <td>0.156695</td>\n",
       "    </tr>\n",
       "    <tr>\n",
       "      <th>VehicleType</th>\n",
       "      <td>0.298733</td>\n",
       "      <td>1.000000</td>\n",
       "      <td>0.436779</td>\n",
       "      <td>0.314202</td>\n",
       "      <td>0.189908</td>\n",
       "    </tr>\n",
       "    <tr>\n",
       "      <th>FuelType</th>\n",
       "      <td>0.242168</td>\n",
       "      <td>0.436779</td>\n",
       "      <td>1.000000</td>\n",
       "      <td>0.299483</td>\n",
       "      <td>0.226342</td>\n",
       "    </tr>\n",
       "    <tr>\n",
       "      <th>Gearbox</th>\n",
       "      <td>0.269865</td>\n",
       "      <td>0.314202</td>\n",
       "      <td>0.299483</td>\n",
       "      <td>1.000000</td>\n",
       "      <td>0.162229</td>\n",
       "    </tr>\n",
       "    <tr>\n",
       "      <th>Model</th>\n",
       "      <td>0.156695</td>\n",
       "      <td>0.189908</td>\n",
       "      <td>0.226342</td>\n",
       "      <td>0.162229</td>\n",
       "      <td>1.000000</td>\n",
       "    </tr>\n",
       "  </tbody>\n",
       "</table>\n",
       "</div>\n",
       "      <button class=\"colab-df-convert\" onclick=\"convertToInteractive('df-c574ee2a-e7f8-4bf8-8f2f-dc1eda7776da')\"\n",
       "              title=\"Convert this dataframe to an interactive table.\"\n",
       "              style=\"display:none;\">\n",
       "\n",
       "  <svg xmlns=\"http://www.w3.org/2000/svg\" height=\"24px\"viewBox=\"0 0 24 24\"\n",
       "       width=\"24px\">\n",
       "    <path d=\"M0 0h24v24H0V0z\" fill=\"none\"/>\n",
       "    <path d=\"M18.56 5.44l.94 2.06.94-2.06 2.06-.94-2.06-.94-.94-2.06-.94 2.06-2.06.94zm-11 1L8.5 8.5l.94-2.06 2.06-.94-2.06-.94L8.5 2.5l-.94 2.06-2.06.94zm10 10l.94 2.06.94-2.06 2.06-.94-2.06-.94-.94-2.06-.94 2.06-2.06.94z\"/><path d=\"M17.41 7.96l-1.37-1.37c-.4-.4-.92-.59-1.43-.59-.52 0-1.04.2-1.43.59L10.3 9.45l-7.72 7.72c-.78.78-.78 2.05 0 2.83L4 21.41c.39.39.9.59 1.41.59.51 0 1.02-.2 1.41-.59l7.78-7.78 2.81-2.81c.8-.78.8-2.07 0-2.86zM5.41 20L4 18.59l7.72-7.72 1.47 1.35L5.41 20z\"/>\n",
       "  </svg>\n",
       "      </button>\n",
       "\n",
       "\n",
       "\n",
       "    <div id=\"df-ced671bd-791d-4ce4-af66-a8f43ab4aeb6\">\n",
       "      <button class=\"colab-df-quickchart\" onclick=\"quickchart('df-ced671bd-791d-4ce4-af66-a8f43ab4aeb6')\"\n",
       "              title=\"Suggest charts.\"\n",
       "              style=\"display:none;\">\n",
       "\n",
       "<svg xmlns=\"http://www.w3.org/2000/svg\" height=\"24px\"viewBox=\"0 0 24 24\"\n",
       "     width=\"24px\">\n",
       "    <g>\n",
       "        <path d=\"M19 3H5c-1.1 0-2 .9-2 2v14c0 1.1.9 2 2 2h14c1.1 0 2-.9 2-2V5c0-1.1-.9-2-2-2zM9 17H7v-7h2v7zm4 0h-2V7h2v10zm4 0h-2v-4h2v4z\"/>\n",
       "    </g>\n",
       "</svg>\n",
       "      </button>\n",
       "    </div>\n",
       "\n",
       "<style>\n",
       "  .colab-df-quickchart {\n",
       "    background-color: #E8F0FE;\n",
       "    border: none;\n",
       "    border-radius: 50%;\n",
       "    cursor: pointer;\n",
       "    display: none;\n",
       "    fill: #1967D2;\n",
       "    height: 32px;\n",
       "    padding: 0 0 0 0;\n",
       "    width: 32px;\n",
       "  }\n",
       "\n",
       "  .colab-df-quickchart:hover {\n",
       "    background-color: #E2EBFA;\n",
       "    box-shadow: 0px 1px 2px rgba(60, 64, 67, 0.3), 0px 1px 3px 1px rgba(60, 64, 67, 0.15);\n",
       "    fill: #174EA6;\n",
       "  }\n",
       "\n",
       "  [theme=dark] .colab-df-quickchart {\n",
       "    background-color: #3B4455;\n",
       "    fill: #D2E3FC;\n",
       "  }\n",
       "\n",
       "  [theme=dark] .colab-df-quickchart:hover {\n",
       "    background-color: #434B5C;\n",
       "    box-shadow: 0px 1px 3px 1px rgba(0, 0, 0, 0.15);\n",
       "    filter: drop-shadow(0px 1px 2px rgba(0, 0, 0, 0.3));\n",
       "    fill: #FFFFFF;\n",
       "  }\n",
       "</style>\n",
       "\n",
       "    <script>\n",
       "      async function quickchart(key) {\n",
       "        const containerElement = document.querySelector('#' + key);\n",
       "        const charts = await google.colab.kernel.invokeFunction(\n",
       "            'suggestCharts', [key], {});\n",
       "      }\n",
       "    </script>\n",
       "\n",
       "      <script>\n",
       "\n",
       "function displayQuickchartButton(domScope) {\n",
       "  let quickchartButtonEl =\n",
       "    domScope.querySelector('#df-ced671bd-791d-4ce4-af66-a8f43ab4aeb6 button.colab-df-quickchart');\n",
       "  quickchartButtonEl.style.display =\n",
       "    google.colab.kernel.accessAllowed ? 'block' : 'none';\n",
       "}\n",
       "\n",
       "        displayQuickchartButton(document);\n",
       "      </script>\n",
       "      <style>\n",
       "    .colab-df-container {\n",
       "      display:flex;\n",
       "      flex-wrap:wrap;\n",
       "      gap: 12px;\n",
       "    }\n",
       "\n",
       "    .colab-df-convert {\n",
       "      background-color: #E8F0FE;\n",
       "      border: none;\n",
       "      border-radius: 50%;\n",
       "      cursor: pointer;\n",
       "      display: none;\n",
       "      fill: #1967D2;\n",
       "      height: 32px;\n",
       "      padding: 0 0 0 0;\n",
       "      width: 32px;\n",
       "    }\n",
       "\n",
       "    .colab-df-convert:hover {\n",
       "      background-color: #E2EBFA;\n",
       "      box-shadow: 0px 1px 2px rgba(60, 64, 67, 0.3), 0px 1px 3px 1px rgba(60, 64, 67, 0.15);\n",
       "      fill: #174EA6;\n",
       "    }\n",
       "\n",
       "    [theme=dark] .colab-df-convert {\n",
       "      background-color: #3B4455;\n",
       "      fill: #D2E3FC;\n",
       "    }\n",
       "\n",
       "    [theme=dark] .colab-df-convert:hover {\n",
       "      background-color: #434B5C;\n",
       "      box-shadow: 0px 1px 3px 1px rgba(0, 0, 0, 0.15);\n",
       "      filter: drop-shadow(0px 1px 2px rgba(0, 0, 0, 0.3));\n",
       "      fill: #FFFFFF;\n",
       "    }\n",
       "  </style>\n",
       "\n",
       "      <script>\n",
       "        const buttonEl =\n",
       "          document.querySelector('#df-c574ee2a-e7f8-4bf8-8f2f-dc1eda7776da button.colab-df-convert');\n",
       "        buttonEl.style.display =\n",
       "          google.colab.kernel.accessAllowed ? 'block' : 'none';\n",
       "\n",
       "        async function convertToInteractive(key) {\n",
       "          const element = document.querySelector('#df-c574ee2a-e7f8-4bf8-8f2f-dc1eda7776da');\n",
       "          const dataTable =\n",
       "            await google.colab.kernel.invokeFunction('convertToInteractive',\n",
       "                                                     [key], {});\n",
       "          if (!dataTable) return;\n",
       "\n",
       "          const docLinkHtml = 'Like what you see? Visit the ' +\n",
       "            '<a target=\"_blank\" href=https://colab.research.google.com/notebooks/data_table.ipynb>data table notebook</a>'\n",
       "            + ' to learn more about interactive tables.';\n",
       "          element.innerHTML = '';\n",
       "          dataTable['output_type'] = 'display_data';\n",
       "          await google.colab.output.renderOutput(dataTable, element);\n",
       "          const docLink = document.createElement('div');\n",
       "          docLink.innerHTML = docLinkHtml;\n",
       "          element.appendChild(docLink);\n",
       "        }\n",
       "      </script>\n",
       "    </div>\n",
       "  </div>\n"
      ],
      "text/plain": [
       "             Repaired  VehicleType  FuelType   Gearbox     Model\n",
       "Repaired     1.000000     0.298733  0.242168  0.269865  0.156695\n",
       "VehicleType  0.298733     1.000000  0.436779  0.314202  0.189908\n",
       "FuelType     0.242168     0.436779  1.000000  0.299483  0.226342\n",
       "Gearbox      0.269865     0.314202  0.299483  1.000000  0.162229\n",
       "Model        0.156695     0.189908  0.226342  0.162229  1.000000"
      ]
     },
     "execution_count": 128,
     "metadata": {},
     "output_type": "execute_result"
    }
   ],
   "source": [
    "df[['Repaired', 'VehicleType', 'FuelType', 'Gearbox', 'Model']].isnull().corr()"
   ]
  },
  {
   "cell_type": "markdown",
   "metadata": {
    "id": "2Ok90iVc6-jJ"
   },
   "source": [
    "\n",
    "- FuelType и VehicleType имеют наибольшую корреляцию 0.44 среди всех пар, что указывает на достаточно сильную связь между пропусками в этих столбцах.\n",
    "- Пропуски в Gearbox и Model имеют наименьшую корреляцию, что указывает на отсутствие сильной связи между пропусками в этих столбцах."
   ]
  },
  {
   "cell_type": "markdown",
   "metadata": {
    "id": "an_zOuc36-jJ"
   },
   "source": [
    "## Предобработка данных\n"
   ]
  },
  {
   "cell_type": "code",
   "execution_count": 129,
   "metadata": {
    "id": "6oCZZikz6-jJ"
   },
   "outputs": [],
   "source": [
    "df = df.drop('NumberOfPictures', axis=1)"
   ]
  },
  {
   "cell_type": "code",
   "execution_count": 130,
   "metadata": {
    "id": "lJwaqjcQ6-jJ"
   },
   "outputs": [],
   "source": [
    "df = df.drop_duplicates()"
   ]
  },
  {
   "cell_type": "code",
   "execution_count": 131,
   "metadata": {
    "id": "ePE4cjIy6-jJ"
   },
   "outputs": [],
   "source": [
    "df = df[df[['Repaired', 'VehicleType', 'FuelType', 'Gearbox', 'Model']].isnull().sum(axis=1) < 3]"
   ]
  },
  {
   "cell_type": "code",
   "execution_count": 132,
   "metadata": {
    "colab": {
     "base_uri": "https://localhost:8080/"
    },
    "id": "slDz8g3C6-jJ",
    "outputId": "9bc516c0-b89a-49b2-c466-1d8ec380af44"
   },
   "outputs": [
    {
     "data": {
      "text/plain": [
       "no     0.730645\n",
       "NaN    0.163836\n",
       "yes    0.105519\n",
       "Name: Repaired, dtype: float64"
      ]
     },
     "execution_count": 132,
     "metadata": {},
     "output_type": "execute_result"
    }
   ],
   "source": [
    "# оценим признак Repaired\n",
    "df['Repaired'].value_counts(dropna=False, normalize=True)"
   ]
  },
  {
   "cell_type": "markdown",
   "metadata": {
    "id": "XgpQuqK16-jJ"
   },
   "source": [
    "По логике, если нет данных о ремонте, то машина в ремонте не была, но лучше все таки поставить тут заглушку, чем установить значение no\n"
   ]
  },
  {
   "cell_type": "code",
   "execution_count": 133,
   "metadata": {
    "id": "xj7xFbSE6-jJ"
   },
   "outputs": [],
   "source": [
    "df['Repaired'] = df['Repaired'].fillna('unknown')"
   ]
  },
  {
   "cell_type": "code",
   "execution_count": 134,
   "metadata": {
    "colab": {
     "base_uri": "https://localhost:8080/"
    },
    "id": "xEEER3Io6-jJ",
    "outputId": "c6580e82-4752-4658-97c7-ac1252da7f81"
   },
   "outputs": [
    {
     "data": {
      "text/plain": [
       "sedan          0.270175\n",
       "small          0.235056\n",
       "wagon          0.192313\n",
       "bus            0.084945\n",
       "NaN            0.065773\n",
       "convertible    0.059494\n",
       "coupe          0.047551\n",
       "suv            0.035369\n",
       "other          0.009324\n",
       "Name: VehicleType, dtype: float64"
      ]
     },
     "execution_count": 134,
     "metadata": {},
     "output_type": "execute_result"
    }
   ],
   "source": [
    "# оценим признак VehicleType\n",
    "df['VehicleType'].value_counts(dropna=False, normalize=True)"
   ]
  },
  {
   "cell_type": "markdown",
   "metadata": {
    "id": "jhof-86c6-jJ"
   },
   "source": [
    "Нет скрытых дубликатов в категориях признака, поэтому заменим пропуски заглушкой\n"
   ]
  },
  {
   "cell_type": "code",
   "execution_count": 135,
   "metadata": {
    "id": "mFKSAJoj6-jJ"
   },
   "outputs": [],
   "source": [
    "df['VehicleType'] = df['VehicleType'].fillna('unknown')"
   ]
  },
  {
   "cell_type": "code",
   "execution_count": 136,
   "metadata": {
    "colab": {
     "base_uri": "https://localhost:8080/"
    },
    "id": "mOmhNJOQ6-jK",
    "outputId": "26ea1ad5-2c36-43f4-d98e-7a8bc5205e26"
   },
   "outputs": [
    {
     "data": {
      "text/plain": [
       "petrol      0.635327\n",
       "gasoline    0.290818\n",
       "NaN         0.055123\n",
       "lpg         0.015621\n",
       "cng         0.001668\n",
       "hybrid      0.000684\n",
       "other       0.000502\n",
       "electric    0.000256\n",
       "Name: FuelType, dtype: float64"
      ]
     },
     "execution_count": 136,
     "metadata": {},
     "output_type": "execute_result"
    }
   ],
   "source": [
    "#оценим признак FuelType\n",
    "df['FuelType'].value_counts(dropna=False, normalize=True)"
   ]
  },
  {
   "cell_type": "markdown",
   "metadata": {
    "id": "U_AsEFhA6-jK"
   },
   "source": [
    "petrol и gasoline - имеют один смысл, заменим одно на другое"
   ]
  },
  {
   "cell_type": "code",
   "execution_count": 137,
   "metadata": {
    "id": "8S83arJU6-jK"
   },
   "outputs": [],
   "source": [
    "df.loc[df['FuelType'] == 'gasoline', 'FuelType'] = 'petrol'\n",
    "#заполним пропуски самым частым\n",
    "df['FuelType']  = df['FuelType'].fillna('petrol')"
   ]
  },
  {
   "cell_type": "code",
   "execution_count": 138,
   "metadata": {
    "colab": {
     "base_uri": "https://localhost:8080/"
    },
    "id": "OeCjE2q56-jK",
    "outputId": "2de35b35-5051-4e58-c949-b765dbba0f7b"
   },
   "outputs": [
    {
     "data": {
      "text/plain": [
       "manual    0.779834\n",
       "auto      0.193544\n",
       "NaN       0.026622\n",
       "Name: Gearbox, dtype: float64"
      ]
     },
     "execution_count": 138,
     "metadata": {},
     "output_type": "execute_result"
    }
   ],
   "source": [
    "#проверим Gearbox\n",
    "df['Gearbox'].value_counts(dropna=False, normalize=True)"
   ]
  },
  {
   "cell_type": "code",
   "execution_count": 139,
   "metadata": {
    "id": "Y449cuHv6-jK"
   },
   "outputs": [],
   "source": [
    "#заполним пропуски самым частым\n",
    "df['Gearbox'] = df['Gearbox'].fillna('manual')"
   ]
  },
  {
   "cell_type": "code",
   "execution_count": 140,
   "metadata": {
    "id": "Du_4FouW6-jK"
   },
   "outputs": [],
   "source": [
    "#заполним пропуски в моделях заглушкой, так как разумно заполнить тут проблематично\n",
    "df['Model'] = df['Model'].fillna('unknown')"
   ]
  },
  {
   "cell_type": "markdown",
   "metadata": {
    "id": "fT2ud1xo6-jK"
   },
   "source": [
    "**Посмотрели на объем пропусков. Мы заполнили пропуски вручную там, где это требовалось. Убрали неявные и явные дубликаты.**\n",
    "\n",
    "Разберемся теперь с аномалиями."
   ]
  },
  {
   "cell_type": "code",
   "execution_count": 141,
   "metadata": {
    "colab": {
     "base_uri": "https://localhost:8080/"
    },
    "id": "tKQ42JfB6-jK",
    "outputId": "34ab2616-f139-447b-b2d9-02164c8a4f7c"
   },
   "outputs": [
    {
     "data": {
      "text/plain": [
       "count    336337.000000\n",
       "mean       4553.640272\n",
       "std        4543.565743\n",
       "min           0.000000\n",
       "25%        1199.000000\n",
       "50%        2899.000000\n",
       "75%        6500.000000\n",
       "max       20000.000000\n",
       "Name: Price, dtype: float64"
      ]
     },
     "execution_count": 141,
     "metadata": {},
     "output_type": "execute_result"
    }
   ],
   "source": [
    "df['Price'].describe()"
   ]
  },
  {
   "cell_type": "code",
   "execution_count": 142,
   "metadata": {
    "colab": {
     "base_uri": "https://localhost:8080/"
    },
    "id": "TF3JkHyo6-jL",
    "outputId": "3cfb0649-84d7-432c-95cf-3834627723be"
   },
   "outputs": [
    {
     "data": {
      "text/plain": [
       "0.05300041327597023"
      ]
     },
     "execution_count": 142,
     "metadata": {},
     "output_type": "execute_result"
    }
   ],
   "source": [
    "len(df.loc[df['Price'] < 300])/len(df)"
   ]
  },
  {
   "cell_type": "code",
   "execution_count": 143,
   "metadata": {
    "id": "1BN05CT76-jL"
   },
   "outputs": [],
   "source": [
    "df = df.loc[df['Price'] >= 300]"
   ]
  },
  {
   "cell_type": "markdown",
   "metadata": {
    "id": "VrtlMhVc6-jL"
   },
   "source": [
    "Удалим строки, в которых машины дешевле 300 евро, даже для того времени это слишком низкая цена за бу мащину, а выбросы сверху оставим, так как бывают очень дорогие машины"
   ]
  },
  {
   "cell_type": "code",
   "execution_count": 144,
   "metadata": {
    "id": "DZkmN9ig6-jL"
   },
   "outputs": [],
   "source": [
    "#уберем все что выше 2016 (так как данные на этот год) и ниже 1910, эти данные сложно будет корректно исправить\n",
    "df = df[df['RegistrationYear'] < 2016]\n",
    "df = df[df['RegistrationYear'] > 1910]"
   ]
  },
  {
   "cell_type": "code",
   "execution_count": 145,
   "metadata": {
    "id": "KobiSKWj6-jL"
   },
   "outputs": [],
   "source": [
    "# удалим строки с мощностью двигателя меньше 30 и больше 1500 лс\n",
    "df = df.query('Power > 30 and Power < 1500')"
   ]
  },
  {
   "cell_type": "code",
   "execution_count": 146,
   "metadata": {
    "colab": {
     "base_uri": "https://localhost:8080/"
    },
    "id": "HmUXGWet6-jL",
    "outputId": "4c1c4a96-344e-4418-f507-18bb5465433c",
    "scrolled": true
   },
   "outputs": [
    {
     "data": {
      "text/plain": [
       "count    279769.000000\n",
       "mean     128099.557135\n",
       "std       36602.290856\n",
       "min        5000.000000\n",
       "25%      125000.000000\n",
       "50%      150000.000000\n",
       "75%      150000.000000\n",
       "max      150000.000000\n",
       "Name: Kilometer, dtype: float64"
      ]
     },
     "execution_count": 146,
     "metadata": {},
     "output_type": "execute_result"
    }
   ],
   "source": [
    "df['Kilometer'].describe()"
   ]
  },
  {
   "cell_type": "markdown",
   "metadata": {
    "id": "IpDm8Jk06-jL"
   },
   "source": [
    "в данных заметен верхний предел, так что данные не совсем точно отражают пробег."
   ]
  },
  {
   "cell_type": "code",
   "execution_count": 147,
   "metadata": {
    "colab": {
     "base_uri": "https://localhost:8080/",
     "height": 514
    },
    "id": "UWaiJzjq6-jL",
    "outputId": "c66686ba-4096-4747-ed14-51908d03565c",
    "scrolled": false
   },
   "outputs": [
    {
     "data": {
      "text/html": [
       "\n",
       "\n",
       "  <div id=\"df-1ca0ef6c-611e-4c44-abb4-08ec751f8bad\">\n",
       "    <div class=\"colab-df-container\">\n",
       "      <div>\n",
       "<style scoped>\n",
       "    .dataframe tbody tr th:only-of-type {\n",
       "        vertical-align: middle;\n",
       "    }\n",
       "\n",
       "    .dataframe tbody tr th {\n",
       "        vertical-align: top;\n",
       "    }\n",
       "\n",
       "    .dataframe thead th {\n",
       "        text-align: right;\n",
       "    }\n",
       "</style>\n",
       "<table border=\"1\" class=\"dataframe\">\n",
       "  <thead>\n",
       "    <tr style=\"text-align: right;\">\n",
       "      <th></th>\n",
       "      <th>column</th>\n",
       "      <th>count_values</th>\n",
       "      <th>unique_values</th>\n",
       "      <th>% unique</th>\n",
       "      <th>missing</th>\n",
       "      <th>% missing</th>\n",
       "      <th>dtype</th>\n",
       "      <th>var_variance</th>\n",
       "    </tr>\n",
       "  </thead>\n",
       "  <tbody>\n",
       "    <tr>\n",
       "      <th>0</th>\n",
       "      <td>DateCrawled</td>\n",
       "      <td>279769</td>\n",
       "      <td>226543</td>\n",
       "      <td>80.98%</td>\n",
       "      <td>0</td>\n",
       "      <td>0.0%</td>\n",
       "      <td>object</td>\n",
       "      <td>226543</td>\n",
       "    </tr>\n",
       "    <tr>\n",
       "      <th>1</th>\n",
       "      <td>Price</td>\n",
       "      <td>279769</td>\n",
       "      <td>3421</td>\n",
       "      <td>1.22%</td>\n",
       "      <td>0</td>\n",
       "      <td>0.0%</td>\n",
       "      <td>int64</td>\n",
       "      <td>3421</td>\n",
       "    </tr>\n",
       "    <tr>\n",
       "      <th>2</th>\n",
       "      <td>VehicleType</td>\n",
       "      <td>279769</td>\n",
       "      <td>9</td>\n",
       "      <td>0.0%</td>\n",
       "      <td>0</td>\n",
       "      <td>0.0%</td>\n",
       "      <td>object</td>\n",
       "      <td>9</td>\n",
       "    </tr>\n",
       "    <tr>\n",
       "      <th>3</th>\n",
       "      <td>RegistrationYear</td>\n",
       "      <td>279769</td>\n",
       "      <td>78</td>\n",
       "      <td>0.03%</td>\n",
       "      <td>0</td>\n",
       "      <td>0.0%</td>\n",
       "      <td>int64</td>\n",
       "      <td>78</td>\n",
       "    </tr>\n",
       "    <tr>\n",
       "      <th>4</th>\n",
       "      <td>Gearbox</td>\n",
       "      <td>279769</td>\n",
       "      <td>2</td>\n",
       "      <td>0.0%</td>\n",
       "      <td>0</td>\n",
       "      <td>0.0%</td>\n",
       "      <td>object</td>\n",
       "      <td>2</td>\n",
       "    </tr>\n",
       "    <tr>\n",
       "      <th>5</th>\n",
       "      <td>Power</td>\n",
       "      <td>279769</td>\n",
       "      <td>495</td>\n",
       "      <td>0.18%</td>\n",
       "      <td>0</td>\n",
       "      <td>0.0%</td>\n",
       "      <td>int64</td>\n",
       "      <td>495</td>\n",
       "    </tr>\n",
       "    <tr>\n",
       "      <th>6</th>\n",
       "      <td>Model</td>\n",
       "      <td>279769</td>\n",
       "      <td>250</td>\n",
       "      <td>0.09%</td>\n",
       "      <td>0</td>\n",
       "      <td>0.0%</td>\n",
       "      <td>object</td>\n",
       "      <td>250</td>\n",
       "    </tr>\n",
       "    <tr>\n",
       "      <th>7</th>\n",
       "      <td>Kilometer</td>\n",
       "      <td>279769</td>\n",
       "      <td>13</td>\n",
       "      <td>0.0%</td>\n",
       "      <td>0</td>\n",
       "      <td>0.0%</td>\n",
       "      <td>int64</td>\n",
       "      <td>13</td>\n",
       "    </tr>\n",
       "    <tr>\n",
       "      <th>8</th>\n",
       "      <td>RegistrationMonth</td>\n",
       "      <td>279769</td>\n",
       "      <td>13</td>\n",
       "      <td>0.0%</td>\n",
       "      <td>0</td>\n",
       "      <td>0.0%</td>\n",
       "      <td>int64</td>\n",
       "      <td>13</td>\n",
       "    </tr>\n",
       "    <tr>\n",
       "      <th>9</th>\n",
       "      <td>FuelType</td>\n",
       "      <td>279769</td>\n",
       "      <td>6</td>\n",
       "      <td>0.0%</td>\n",
       "      <td>0</td>\n",
       "      <td>0.0%</td>\n",
       "      <td>object</td>\n",
       "      <td>6</td>\n",
       "    </tr>\n",
       "    <tr>\n",
       "      <th>10</th>\n",
       "      <td>Brand</td>\n",
       "      <td>279769</td>\n",
       "      <td>40</td>\n",
       "      <td>0.01%</td>\n",
       "      <td>0</td>\n",
       "      <td>0.0%</td>\n",
       "      <td>object</td>\n",
       "      <td>40</td>\n",
       "    </tr>\n",
       "    <tr>\n",
       "      <th>11</th>\n",
       "      <td>Repaired</td>\n",
       "      <td>279769</td>\n",
       "      <td>3</td>\n",
       "      <td>0.0%</td>\n",
       "      <td>0</td>\n",
       "      <td>0.0%</td>\n",
       "      <td>object</td>\n",
       "      <td>3</td>\n",
       "    </tr>\n",
       "    <tr>\n",
       "      <th>12</th>\n",
       "      <td>DateCreated</td>\n",
       "      <td>279769</td>\n",
       "      <td>106</td>\n",
       "      <td>0.04%</td>\n",
       "      <td>0</td>\n",
       "      <td>0.0%</td>\n",
       "      <td>object</td>\n",
       "      <td>106</td>\n",
       "    </tr>\n",
       "    <tr>\n",
       "      <th>13</th>\n",
       "      <td>PostalCode</td>\n",
       "      <td>279769</td>\n",
       "      <td>8099</td>\n",
       "      <td>2.89%</td>\n",
       "      <td>0</td>\n",
       "      <td>0.0%</td>\n",
       "      <td>int64</td>\n",
       "      <td>8099</td>\n",
       "    </tr>\n",
       "    <tr>\n",
       "      <th>14</th>\n",
       "      <td>LastSeen</td>\n",
       "      <td>279769</td>\n",
       "      <td>146635</td>\n",
       "      <td>52.41%</td>\n",
       "      <td>0</td>\n",
       "      <td>0.0%</td>\n",
       "      <td>object</td>\n",
       "      <td>146635</td>\n",
       "    </tr>\n",
       "  </tbody>\n",
       "</table>\n",
       "</div>\n",
       "      <button class=\"colab-df-convert\" onclick=\"convertToInteractive('df-1ca0ef6c-611e-4c44-abb4-08ec751f8bad')\"\n",
       "              title=\"Convert this dataframe to an interactive table.\"\n",
       "              style=\"display:none;\">\n",
       "\n",
       "  <svg xmlns=\"http://www.w3.org/2000/svg\" height=\"24px\"viewBox=\"0 0 24 24\"\n",
       "       width=\"24px\">\n",
       "    <path d=\"M0 0h24v24H0V0z\" fill=\"none\"/>\n",
       "    <path d=\"M18.56 5.44l.94 2.06.94-2.06 2.06-.94-2.06-.94-.94-2.06-.94 2.06-2.06.94zm-11 1L8.5 8.5l.94-2.06 2.06-.94-2.06-.94L8.5 2.5l-.94 2.06-2.06.94zm10 10l.94 2.06.94-2.06 2.06-.94-2.06-.94-.94-2.06-.94 2.06-2.06.94z\"/><path d=\"M17.41 7.96l-1.37-1.37c-.4-.4-.92-.59-1.43-.59-.52 0-1.04.2-1.43.59L10.3 9.45l-7.72 7.72c-.78.78-.78 2.05 0 2.83L4 21.41c.39.39.9.59 1.41.59.51 0 1.02-.2 1.41-.59l7.78-7.78 2.81-2.81c.8-.78.8-2.07 0-2.86zM5.41 20L4 18.59l7.72-7.72 1.47 1.35L5.41 20z\"/>\n",
       "  </svg>\n",
       "      </button>\n",
       "\n",
       "\n",
       "\n",
       "    <div id=\"df-6ff2c75f-f267-4072-8f9c-06f66cea128b\">\n",
       "      <button class=\"colab-df-quickchart\" onclick=\"quickchart('df-6ff2c75f-f267-4072-8f9c-06f66cea128b')\"\n",
       "              title=\"Suggest charts.\"\n",
       "              style=\"display:none;\">\n",
       "\n",
       "<svg xmlns=\"http://www.w3.org/2000/svg\" height=\"24px\"viewBox=\"0 0 24 24\"\n",
       "     width=\"24px\">\n",
       "    <g>\n",
       "        <path d=\"M19 3H5c-1.1 0-2 .9-2 2v14c0 1.1.9 2 2 2h14c1.1 0 2-.9 2-2V5c0-1.1-.9-2-2-2zM9 17H7v-7h2v7zm4 0h-2V7h2v10zm4 0h-2v-4h2v4z\"/>\n",
       "    </g>\n",
       "</svg>\n",
       "      </button>\n",
       "    </div>\n",
       "\n",
       "<style>\n",
       "  .colab-df-quickchart {\n",
       "    background-color: #E8F0FE;\n",
       "    border: none;\n",
       "    border-radius: 50%;\n",
       "    cursor: pointer;\n",
       "    display: none;\n",
       "    fill: #1967D2;\n",
       "    height: 32px;\n",
       "    padding: 0 0 0 0;\n",
       "    width: 32px;\n",
       "  }\n",
       "\n",
       "  .colab-df-quickchart:hover {\n",
       "    background-color: #E2EBFA;\n",
       "    box-shadow: 0px 1px 2px rgba(60, 64, 67, 0.3), 0px 1px 3px 1px rgba(60, 64, 67, 0.15);\n",
       "    fill: #174EA6;\n",
       "  }\n",
       "\n",
       "  [theme=dark] .colab-df-quickchart {\n",
       "    background-color: #3B4455;\n",
       "    fill: #D2E3FC;\n",
       "  }\n",
       "\n",
       "  [theme=dark] .colab-df-quickchart:hover {\n",
       "    background-color: #434B5C;\n",
       "    box-shadow: 0px 1px 3px 1px rgba(0, 0, 0, 0.15);\n",
       "    filter: drop-shadow(0px 1px 2px rgba(0, 0, 0, 0.3));\n",
       "    fill: #FFFFFF;\n",
       "  }\n",
       "</style>\n",
       "\n",
       "    <script>\n",
       "      async function quickchart(key) {\n",
       "        const containerElement = document.querySelector('#' + key);\n",
       "        const charts = await google.colab.kernel.invokeFunction(\n",
       "            'suggestCharts', [key], {});\n",
       "      }\n",
       "    </script>\n",
       "\n",
       "      <script>\n",
       "\n",
       "function displayQuickchartButton(domScope) {\n",
       "  let quickchartButtonEl =\n",
       "    domScope.querySelector('#df-6ff2c75f-f267-4072-8f9c-06f66cea128b button.colab-df-quickchart');\n",
       "  quickchartButtonEl.style.display =\n",
       "    google.colab.kernel.accessAllowed ? 'block' : 'none';\n",
       "}\n",
       "\n",
       "        displayQuickchartButton(document);\n",
       "      </script>\n",
       "      <style>\n",
       "    .colab-df-container {\n",
       "      display:flex;\n",
       "      flex-wrap:wrap;\n",
       "      gap: 12px;\n",
       "    }\n",
       "\n",
       "    .colab-df-convert {\n",
       "      background-color: #E8F0FE;\n",
       "      border: none;\n",
       "      border-radius: 50%;\n",
       "      cursor: pointer;\n",
       "      display: none;\n",
       "      fill: #1967D2;\n",
       "      height: 32px;\n",
       "      padding: 0 0 0 0;\n",
       "      width: 32px;\n",
       "    }\n",
       "\n",
       "    .colab-df-convert:hover {\n",
       "      background-color: #E2EBFA;\n",
       "      box-shadow: 0px 1px 2px rgba(60, 64, 67, 0.3), 0px 1px 3px 1px rgba(60, 64, 67, 0.15);\n",
       "      fill: #174EA6;\n",
       "    }\n",
       "\n",
       "    [theme=dark] .colab-df-convert {\n",
       "      background-color: #3B4455;\n",
       "      fill: #D2E3FC;\n",
       "    }\n",
       "\n",
       "    [theme=dark] .colab-df-convert:hover {\n",
       "      background-color: #434B5C;\n",
       "      box-shadow: 0px 1px 3px 1px rgba(0, 0, 0, 0.15);\n",
       "      filter: drop-shadow(0px 1px 2px rgba(0, 0, 0, 0.3));\n",
       "      fill: #FFFFFF;\n",
       "    }\n",
       "  </style>\n",
       "\n",
       "      <script>\n",
       "        const buttonEl =\n",
       "          document.querySelector('#df-1ca0ef6c-611e-4c44-abb4-08ec751f8bad button.colab-df-convert');\n",
       "        buttonEl.style.display =\n",
       "          google.colab.kernel.accessAllowed ? 'block' : 'none';\n",
       "\n",
       "        async function convertToInteractive(key) {\n",
       "          const element = document.querySelector('#df-1ca0ef6c-611e-4c44-abb4-08ec751f8bad');\n",
       "          const dataTable =\n",
       "            await google.colab.kernel.invokeFunction('convertToInteractive',\n",
       "                                                     [key], {});\n",
       "          if (!dataTable) return;\n",
       "\n",
       "          const docLinkHtml = 'Like what you see? Visit the ' +\n",
       "            '<a target=\"_blank\" href=https://colab.research.google.com/notebooks/data_table.ipynb>data table notebook</a>'\n",
       "            + ' to learn more about interactive tables.';\n",
       "          element.innerHTML = '';\n",
       "          dataTable['output_type'] = 'display_data';\n",
       "          await google.colab.output.renderOutput(dataTable, element);\n",
       "          const docLink = document.createElement('div');\n",
       "          docLink.innerHTML = docLinkHtml;\n",
       "          element.appendChild(docLink);\n",
       "        }\n",
       "      </script>\n",
       "    </div>\n",
       "  </div>\n"
      ],
      "text/plain": [
       "               column  count_values  unique_values % unique  missing  \\\n",
       "0         DateCrawled        279769         226543   80.98%        0   \n",
       "1               Price        279769           3421    1.22%        0   \n",
       "2         VehicleType        279769              9     0.0%        0   \n",
       "3    RegistrationYear        279769             78    0.03%        0   \n",
       "4             Gearbox        279769              2     0.0%        0   \n",
       "5               Power        279769            495    0.18%        0   \n",
       "6               Model        279769            250    0.09%        0   \n",
       "7           Kilometer        279769             13     0.0%        0   \n",
       "8   RegistrationMonth        279769             13     0.0%        0   \n",
       "9            FuelType        279769              6     0.0%        0   \n",
       "10              Brand        279769             40    0.01%        0   \n",
       "11           Repaired        279769              3     0.0%        0   \n",
       "12        DateCreated        279769            106    0.04%        0   \n",
       "13         PostalCode        279769           8099    2.89%        0   \n",
       "14           LastSeen        279769         146635   52.41%        0   \n",
       "\n",
       "   % missing   dtype  var_variance  \n",
       "0       0.0%  object        226543  \n",
       "1       0.0%   int64          3421  \n",
       "2       0.0%  object             9  \n",
       "3       0.0%   int64            78  \n",
       "4       0.0%  object             2  \n",
       "5       0.0%   int64           495  \n",
       "6       0.0%  object           250  \n",
       "7       0.0%   int64            13  \n",
       "8       0.0%   int64            13  \n",
       "9       0.0%  object             6  \n",
       "10      0.0%  object            40  \n",
       "11      0.0%  object             3  \n",
       "12      0.0%  object           106  \n",
       "13      0.0%   int64          8099  \n",
       "14      0.0%  object        146635  "
      ]
     },
     "execution_count": 147,
     "metadata": {},
     "output_type": "execute_result"
    }
   ],
   "source": [
    "get_dataset_short_info(df)"
   ]
  },
  {
   "cell_type": "markdown",
   "metadata": {
    "id": "y4hnQYtr6-jL"
   },
   "source": [
    "Данных убрали достаточно, но качество данных важнее их количества."
   ]
  },
  {
   "cell_type": "code",
   "execution_count": 3,
   "metadata": {},
   "outputs": [
    {
     "data": {
      "text/html": [
       "<style>.container { width:70% !important; }</style>"
      ],
      "text/plain": [
       "<IPython.core.display.HTML object>"
      ]
     },
     "metadata": {},
     "output_type": "display_data"
    }
   ],
   "source": [
    "from IPython.core.display import display, HTML\n",
    "display(HTML(\"<style>.container { width:70% !important; }</style>\"))"
   ]
  },
  {
   "cell_type": "markdown",
   "metadata": {
    "id": "kAew4uqd6-jL"
   },
   "source": [
    "## Обработка данных"
   ]
  },
  {
   "cell_type": "markdown",
   "metadata": {
    "id": "Vy_BqImI6-jL"
   },
   "source": [
    "Разделим данные на обучающиеся и тестовые, при этом уберем из массива признаки, которые не влияют на модель.\n"
   ]
  },
  {
   "cell_type": "code",
   "execution_count": 148,
   "metadata": {
    "id": "pIa7rZwl6-jL"
   },
   "outputs": [],
   "source": [
    "features = df.drop(['Price', 'DateCrawled', 'DateCreated', 'LastSeen', 'PostalCode'], axis=1)\n",
    "target = df['Price']\n"
   ]
  },
  {
   "cell_type": "code",
   "execution_count": 149,
   "metadata": {
    "id": "8tOnYmOy6-jM"
   },
   "outputs": [],
   "source": [
    "# Разбиваем на тренировочную и тестовую выборки\n",
    "X_temp, X_test, y_temp, y_test = train_test_split(features, target, test_size=0.2, random_state=RANDOM_STATE)\n",
    "\n",
    "# Дальше разбиваем тренировочную выборку на обучающую и валидационную\n",
    "X_train, X_val, y_train, y_val = train_test_split(X_temp, y_temp, test_size=0.25, random_state=RANDOM_STATE)\n",
    "\n",
    "# Создание отдельных наборов данных для CatBoost\n",
    "X_train_catboost = X_train.copy()\n",
    "X_val_catboost = X_val.copy()\n",
    "X_test_catboost = X_test.copy()\n"
   ]
  },
  {
   "cell_type": "code",
   "execution_count": 150,
   "metadata": {
    "colab": {
     "base_uri": "https://localhost:8080/"
    },
    "id": "D0VgiShnoYMs",
    "outputId": "5dc3e3ce-5214-4f4e-9edf-6fc258d8683e"
   },
   "outputs": [
    {
     "name": "stdout",
     "output_type": "stream",
     "text": [
      "Размер обучающей выборки (X_train): (167861, 10)\n",
      "Размер тестовой выборки (X_test): (55954, 10)\n",
      "Размер валидационной выборки (X_val): (55954, 10)\n",
      "Размер целевого признака для обучающей выборки (y_train): (167861,)\n",
      "Размер целевого признака для тестовой выборки (y_test): (55954,)\n",
      "Размер целевого признака для валидационной выборки (y_val): (55954,)\n"
     ]
    }
   ],
   "source": [
    "print(\"Размер обучающей выборки (X_train):\", X_train.shape)\n",
    "print(\"Размер тестовой выборки (X_test):\", X_test.shape)\n",
    "print(\"Размер валидационной выборки (X_val):\", X_val.shape)\n",
    "print(\"Размер целевого признака для обучающей выборки (y_train):\", y_train.shape)\n",
    "print(\"Размер целевого признака для тестовой выборки (y_test):\", y_test.shape)\n",
    "print(\"Размер целевого признака для валидационной выборки (y_val):\", y_val.shape)"
   ]
  },
  {
   "cell_type": "markdown",
   "metadata": {
    "id": "2IbTnI1-6-jM"
   },
   "source": [
    "Построим пайплайн обработки данных, разделим данные и категориальные и количественные и для каждого типа сделаем свою обработку данных:\n",
    "- для категориальных сделаем импутацию на основе самых частых значений, а затем сделаем кодирование методом OHE\n",
    "- для количественных сделаем масштабирование признаков"
   ]
  },
  {
   "cell_type": "code",
   "execution_count": 151,
   "metadata": {
    "id": "GTi_Qw8B6-jM"
   },
   "outputs": [],
   "source": [
    "# Делим столбцы на категориальные и числовые\n",
    "cat_columns = X_train.select_dtypes(include='object').columns.tolist()\n",
    "num_columns = X_train.select_dtypes(exclude='object').columns.tolist()"
   ]
  },
  {
   "cell_type": "code",
   "execution_count": 152,
   "metadata": {
    "id": "Ybrzc7Du6-jM"
   },
   "outputs": [],
   "source": [
    "# Заполнение пропущенных значений\n",
    "cat_imputer = SimpleImputer(strategy='most_frequent')\n",
    "\n",
    "X_train_cat_impute = cat_imputer.fit_transform(X_train[cat_columns])\n",
    "X_val_cat_impute = cat_imputer.transform(X_val[cat_columns])\n",
    "X_test_cat_impute = cat_imputer.transform(X_test[cat_columns])\n",
    "\n",
    "X_train_cat_impute = pd.DataFrame(X_train_cat_impute, columns=cat_columns, index=X_train.index)\n",
    "X_val_cat_impute = pd.DataFrame(X_val_cat_impute, columns=cat_columns, index=X_val.index)\n",
    "X_test_cat_impute = pd.DataFrame(X_test_cat_impute, columns=cat_columns, index=X_test.index)\n",
    "\n",
    "X_train[cat_columns] = X_train_cat_impute\n",
    "X_val[cat_columns] = X_val_cat_impute\n",
    "X_test[cat_columns] = X_test_cat_impute\n",
    "\n",
    "X_train_catboost[cat_columns] = X_train_cat_impute\n",
    "X_val_catboost[cat_columns] = X_val_cat_impute\n",
    "X_test_catboost[cat_columns] = X_test_cat_impute"
   ]
  },
  {
   "cell_type": "code",
   "execution_count": 153,
   "metadata": {
    "id": "QQE6GDo3oYMt"
   },
   "outputs": [],
   "source": [
    "# Применение MEstimateEncoder\n",
    "encoder_cols = ['Brand', 'Model']\n",
    "encoder = MEstimateEncoder(cols=encoder_cols)\n",
    "\n",
    "X_train_encoded = encoder.fit_transform(X_train[encoder_cols], y_train)\n",
    "X_val_encoded = encoder.transform(X_val[encoder_cols])\n",
    "X_test_encoded = encoder.transform(X_test[encoder_cols])\n",
    "\n",
    "X_train = pd.concat([X_train.drop(encoder_cols, axis=1), X_train_encoded], axis=1)\n",
    "X_val = pd.concat([X_val.drop(encoder_cols, axis=1), X_val_encoded], axis=1)\n",
    "X_test = pd.concat([X_test.drop(encoder_cols, axis=1), X_test_encoded], axis=1)\n",
    "\n",
    "X_train_catboost = pd.concat([X_train_catboost.drop(encoder_cols, axis=1), X_train_encoded], axis=1)\n",
    "X_val_catboost = pd.concat([X_val_catboost.drop(encoder_cols, axis=1), X_val_encoded], axis=1)\n",
    "X_test_catboost = pd.concat([X_test_catboost.drop(encoder_cols, axis=1), X_test_encoded], axis=1)\n",
    "\n",
    "# Удаление 'Brand' и 'Model' из списка категориальных столбцов\n",
    "cat_columns.remove('Brand')\n",
    "cat_columns.remove('Model')"
   ]
  },
  {
   "cell_type": "code",
   "execution_count": 154,
   "metadata": {
    "id": "CcTOfepeoYMt"
   },
   "outputs": [],
   "source": [
    "# Применение OneHotEncoder\n",
    "\n",
    "ohe = OneHotEncoder(sparse=False, handle_unknown='ignore')\n",
    "\n",
    "X_train_ohe = ohe.fit_transform(X_train[cat_columns])\n",
    "X_val_ohe = ohe.transform(X_val[cat_columns])\n",
    "X_test_ohe = ohe.transform(X_test[cat_columns])\n",
    "\n",
    "try:\n",
    "    X_train_ohe = pd.DataFrame(X_train_ohe, columns=ohe.get_feature_names_out(), index=X_train.index)\n",
    "    X_val_ohe = pd.DataFrame(X_val_ohe, columns=ohe.get_feature_names_out(), index=X_val.index)\n",
    "    X_test_ohe = pd.DataFrame(X_test_ohe, columns=ohe.get_feature_names_out(), index=X_test.index)\n",
    "except:\n",
    "    X_train_ohe = pd.DataFrame(X_train_ohe, columns=ohe.get_feature_names(), index=X_train.index)\n",
    "    X_val_ohe = pd.DataFrame(X_val_ohe, columns=ohe.get_feature_names(), index=X_val.index)\n",
    "    X_test_ohe = pd.DataFrame(X_test_ohe, columns=ohe.get_feature_names(), index=X_test.index)\n",
    "\n",
    "X_train = pd.concat([X_train.drop(cat_columns, axis=1), X_train_ohe], axis=1)\n",
    "X_val = pd.concat([X_val.drop(cat_columns, axis=1), X_val_ohe], axis=1)\n",
    "X_test = pd.concat([X_test.drop(cat_columns, axis=1), X_test_ohe], axis=1)\n"
   ]
  },
  {
   "cell_type": "code",
   "execution_count": 155,
   "metadata": {
    "id": "OfPZL-UVoYMt"
   },
   "outputs": [],
   "source": [
    "# Применение StandardScaler\n",
    "scaler = StandardScaler()\n",
    "\n",
    "X_train[num_columns] = scaler.fit_transform(X_train[num_columns])\n",
    "X_val[num_columns] = scaler.transform(X_val[num_columns])\n",
    "X_test[num_columns] = scaler.transform(X_test[num_columns])\n",
    "\n",
    "# Применяем также StandardScaler к X_train_catboost, X_val_catboost и X_test_catboost\n",
    "X_train_catboost[num_columns] = scaler.transform(X_train_catboost[num_columns])\n",
    "X_val_catboost[num_columns] = scaler.transform(X_val_catboost[num_columns])\n",
    "X_test_catboost[num_columns] = scaler.transform(X_test_catboost[num_columns])"
   ]
  },
  {
   "cell_type": "markdown",
   "metadata": {
    "id": "x_aq8ZQf6-jM"
   },
   "source": [
    "## Обучение моделей"
   ]
  },
  {
   "cell_type": "markdown",
   "metadata": {
    "id": "yqJkbAFy6-jM"
   },
   "source": [
    "### Создание функция для базовых моделей"
   ]
  },
  {
   "cell_type": "markdown",
   "metadata": {
    "id": "OerqbMPr6-jM"
   },
   "source": [
    "Создадим функцию и датафрейм, куда будет записывать результаты выполнения всех моделей + метрики по результатам выполнения"
   ]
  },
  {
   "cell_type": "code",
   "execution_count": 156,
   "metadata": {
    "id": "I-UP5oJx6-jM"
   },
   "outputs": [],
   "source": [
    "# Инициализация DataFrame для хранения результатов экспериментов\n",
    "experiments = pd.DataFrame(columns=['Train RMSE', 'Validation RMSE', 'Test RMSE', 'Training time, sec', 'Predict on validation time, sec', 'Predict on test time, sec'])\n",
    "experiments.index.name = 'Model'"
   ]
  },
  {
   "cell_type": "code",
   "execution_count": 157,
   "metadata": {
    "id": "WE0Xc-Ba6-jM"
   },
   "outputs": [],
   "source": [
    "def add_experiment(est, X_train_data, X_val_data, X_test_data, y_train_data, y_val_data, y_test_data, exp_name):\n",
    "    model = est\n",
    "    start_train = datetime.now()\n",
    "    model.fit(X_train_data, y_train_data)\n",
    "    end_train = datetime.now()\n",
    "    delta_train = end_train - start_train\n",
    "    predict_on_train = model.predict(X_train_data)\n",
    "    start_val = datetime.now()\n",
    "    predict_on_val = model.predict(X_val_data)\n",
    "    end_val = datetime.now()\n",
    "    delta_val = end_val - start_val\n",
    "    start_test = datetime.now()\n",
    "    predict_on_test = model.predict(X_test_data)\n",
    "    end_test = datetime.now()\n",
    "    delta_test = end_test - start_test\n",
    "    rmse_on_train = np.round(((mean_squared_error(y_train_data, predict_on_train))**0.5), 1)\n",
    "    rmse_on_val = np.round(((mean_squared_error(y_val_data, predict_on_val))**0.5), 1)\n",
    "    rmse_on_test = np.round(((mean_squared_error(y_test_data, predict_on_test))**0.5), 1)\n",
    "    experiments.loc[exp_name] = [rmse_on_train, rmse_on_val, rmse_on_test, delta_train.total_seconds(), delta_val.total_seconds(), delta_test.total_seconds()]\n"
   ]
  },
  {
   "cell_type": "markdown",
   "metadata": {
    "id": "UVdqEjUj6-jM"
   },
   "source": [
    "### Обучение базовых моделей"
   ]
  },
  {
   "cell_type": "markdown",
   "metadata": {
    "id": "KfZvzE8U6-jN"
   },
   "source": [
    "#### Linear Regression (Ridge)"
   ]
  },
  {
   "cell_type": "code",
   "execution_count": 158,
   "metadata": {
    "id": "8Z_0v7dP6-jN"
   },
   "outputs": [],
   "source": [
    "lr = Ridge()"
   ]
  },
  {
   "cell_type": "code",
   "execution_count": 159,
   "metadata": {
    "id": "Or-Vle0s6-jN"
   },
   "outputs": [],
   "source": [
    "add_experiment(lr, X_train, X_val, X_test, y_train, y_val, y_test, 'LR')"
   ]
  },
  {
   "cell_type": "markdown",
   "metadata": {
    "id": "BP5MO89Q6-jN"
   },
   "source": [
    "#### CatBoost Regressor"
   ]
  },
  {
   "cell_type": "code",
   "execution_count": 160,
   "metadata": {
    "colab": {
     "base_uri": "https://localhost:8080/"
    },
    "id": "ZCP0MEM36-jN",
    "outputId": "eefffa92-1614-4f86-b776-95973150290c"
   },
   "outputs": [
    {
     "name": "stdout",
     "output_type": "stream",
     "text": [
      "Learning rate set to 0.091986\n",
      "0:\tlearn: 4336.7498151\ttotal: 170ms\tremaining: 2m 50s\n",
      "100:\tlearn: 1722.7966732\ttotal: 25.9s\tremaining: 3m 50s\n",
      "200:\tlearn: 1644.5700061\ttotal: 41.6s\tremaining: 2m 45s\n",
      "300:\tlearn: 1606.3496573\ttotal: 54.5s\tremaining: 2m 6s\n",
      "400:\tlearn: 1577.7995705\ttotal: 1m 7s\tremaining: 1m 41s\n",
      "500:\tlearn: 1555.0096698\ttotal: 1m 20s\tremaining: 1m 20s\n",
      "600:\tlearn: 1538.5772253\ttotal: 1m 33s\tremaining: 1m 2s\n",
      "700:\tlearn: 1524.5607038\ttotal: 1m 46s\tremaining: 45.6s\n",
      "800:\tlearn: 1512.4829521\ttotal: 1m 59s\tremaining: 29.7s\n",
      "900:\tlearn: 1501.6765908\ttotal: 2m 12s\tremaining: 14.6s\n",
      "999:\tlearn: 1491.1231473\ttotal: 2m 25s\tremaining: 0us\n"
     ]
    }
   ],
   "source": [
    "catboost = CatBoostRegressor(verbose=100, cat_features=cat_columns)\n",
    "\n",
    "# Вызываем функцию add_experiment с дополнительным параметром X_test и y_test\n",
    "add_experiment(catboost, X_train_catboost, X_val_catboost, X_test_catboost, y_train, y_val, y_test, 'CatBoost with default parameters')\n"
   ]
  },
  {
   "cell_type": "markdown",
   "metadata": {
    "id": "LEASttxu6-jN"
   },
   "source": [
    "#### LightGBM"
   ]
  },
  {
   "cell_type": "code",
   "execution_count": 163,
   "metadata": {
    "colab": {
     "base_uri": "https://localhost:8080/"
    },
    "id": "J-XOsGz86-jN",
    "outputId": "0bbf8f49-27ec-44a6-a89f-10f6f5db33e7"
   },
   "outputs": [
    {
     "name": "stdout",
     "output_type": "stream",
     "text": [
      "[LightGBM] [Warning] Auto-choosing col-wise multi-threading, the overhead of testing was 0.218899 seconds.\n",
      "You can set `force_col_wise=true` to remove the overhead.\n",
      "[LightGBM] [Info] Total Bins 663\n",
      "[LightGBM] [Info] Number of data points in the train set: 167861, number of used features: 10\n",
      "[LightGBM] [Info] Start training from score 5048.847213\n",
      "Training until validation scores don't improve for 100 rounds\n",
      "[500]\ttraining's rmse: 1411.54\tvalid_1's rmse: 1527.19\n",
      "[1000]\ttraining's rmse: 1316.85\tvalid_1's rmse: 1499.19\n",
      "Did not meet early stopping. Best iteration is:\n",
      "[1000]\ttraining's rmse: 1316.85\tvalid_1's rmse: 1499.19\n"
     ]
    }
   ],
   "source": [
    "for c in cat_columns:\n",
    "    X_train_catboost[c] = X_train_catboost[c].astype('category')\n",
    "    X_val_catboost[c] = X_val_catboost[c].astype('category')\n",
    "    X_test_catboost[c] = X_test_catboost[c].astype('category')\n",
    "\n",
    "train_data = lgb.Dataset(X_train_catboost, label=y_train, categorical_feature=cat_columns)\n",
    "val_data = lgb.Dataset(X_val_catboost, label=y_val, reference=train_data)\n",
    "\n",
    "num_round = 1000\n",
    "early_stopping_rounds = 100\n",
    "\n",
    "param_grid = {'objective': 'regression', 'metric': 'root_mean_squared_error'}\n",
    "\n",
    "start_train = datetime.now()\n",
    "\n",
    "model = lgb.train(param_grid, train_data, num_round, valid_sets = [train_data, val_data],\n",
    "                  verbose_eval=500, early_stopping_rounds=early_stopping_rounds)\n",
    "\n",
    "end_train = datetime.now()\n",
    "delta_train = end_train - start_train\n",
    "\n",
    "start_train_predict = datetime.now()\n",
    "predict_train = model.predict(X_train_catboost, num_iteration=model.best_iteration)\n",
    "end_train_predict = datetime.now()\n",
    "\n",
    "start_val_predict = datetime.now()\n",
    "predict_val = model.predict(X_val_catboost, num_iteration=model.best_iteration)\n",
    "end_val_predict = datetime.now()\n",
    "\n",
    "start_test_predict = datetime.now()\n",
    "predict_test = model.predict(X_test_catboost, num_iteration=model.best_iteration)\n",
    "end_test_predict = datetime.now()\n",
    "\n",
    "delta_train_predict = end_train_predict - start_train_predict\n",
    "delta_val_predict = end_val_predict - start_val_predict\n",
    "delta_test_predict = end_test_predict - start_test_predict\n",
    "\n",
    "rmse_train = np.round((mean_squared_error(y_train, predict_train))**0.5, 1)\n",
    "rmse_val = np.round((mean_squared_error(y_val, predict_val))**0.5, 1)\n",
    "rmse_test = np.round((mean_squared_error(y_test, predict_test))**0.5, 1)\n",
    "\n",
    "experiments.loc['LGBM'] = [rmse_train, rmse_val, rmse_test, delta_train.total_seconds(), delta_val_predict.total_seconds(), delta_test_predict.total_seconds()]\n"
   ]
  },
  {
   "cell_type": "markdown",
   "metadata": {
    "id": "ydHVwues6-jN"
   },
   "source": [
    "#### XGBoost"
   ]
  },
  {
   "cell_type": "markdown",
   "metadata": {
    "id": "kOiArXy9oYMw"
   },
   "source": [
    "XGBoost не умеет напрямую работать с категориальными признаками, но мы уже преобразовали их с помощью OneHotEncoder и MEstimateEncoder, поэтому просто передадим преобразованные данные в модель.\n"
   ]
  },
  {
   "cell_type": "code",
   "execution_count": 165,
   "metadata": {
    "id": "ITW5v6-u6-jN"
   },
   "outputs": [],
   "source": [
    "xgbr = xgb.XGBRegressor(verbosity=0)"
   ]
  },
  {
   "cell_type": "code",
   "execution_count": 166,
   "metadata": {
    "id": "JXpw__On6-jN"
   },
   "outputs": [],
   "source": [
    "add_experiment(xgbr, X_train, X_val, X_test, y_train, y_val, y_test, 'XGB')"
   ]
  },
  {
   "cell_type": "markdown",
   "metadata": {
    "id": "oj0Tp9YO6-jN"
   },
   "source": [
    "#### Dummy Regressor"
   ]
  },
  {
   "cell_type": "markdown",
   "metadata": {
    "id": "6F_E03mooYMx"
   },
   "source": [
    "DummyRegressor является простой моделью, которая не требует никаких особенностей в данных, так что мы просто передадим наши данные в модель."
   ]
  },
  {
   "cell_type": "code",
   "execution_count": 168,
   "metadata": {
    "id": "dBPljzGl6-jN"
   },
   "outputs": [],
   "source": [
    "dummy = DummyRegressor(strategy='median')"
   ]
  },
  {
   "cell_type": "code",
   "execution_count": 169,
   "metadata": {
    "id": "ILZ8bRYP6-jO"
   },
   "outputs": [],
   "source": [
    "add_experiment(dummy, X_train, X_val, X_test, y_train, y_val, y_test, 'Dummy')\n"
   ]
  },
  {
   "cell_type": "markdown",
   "metadata": {
    "id": "bI5UWz1k6-jO"
   },
   "source": [
    "### Результаты экспериментов"
   ]
  },
  {
   "cell_type": "code",
   "execution_count": 170,
   "metadata": {
    "colab": {
     "base_uri": "https://localhost:8080/",
     "height": 235
    },
    "id": "3HUXLqMc6-jO",
    "outputId": "cc3755d7-56cc-4f83-b96f-d1394f7abd71"
   },
   "outputs": [
    {
     "data": {
      "text/html": [
       "\n",
       "\n",
       "  <div id=\"df-0a815ea6-52a3-418d-9a24-35d3f4f9ae61\">\n",
       "    <div class=\"colab-df-container\">\n",
       "      <div>\n",
       "<style scoped>\n",
       "    .dataframe tbody tr th:only-of-type {\n",
       "        vertical-align: middle;\n",
       "    }\n",
       "\n",
       "    .dataframe tbody tr th {\n",
       "        vertical-align: top;\n",
       "    }\n",
       "\n",
       "    .dataframe thead th {\n",
       "        text-align: right;\n",
       "    }\n",
       "</style>\n",
       "<table border=\"1\" class=\"dataframe\">\n",
       "  <thead>\n",
       "    <tr style=\"text-align: right;\">\n",
       "      <th></th>\n",
       "      <th>Train RMSE</th>\n",
       "      <th>Validation RMSE</th>\n",
       "      <th>Test RMSE</th>\n",
       "      <th>Training time, sec</th>\n",
       "      <th>Predict on validation time, sec</th>\n",
       "      <th>Predict on test time, sec</th>\n",
       "    </tr>\n",
       "    <tr>\n",
       "      <th>Model</th>\n",
       "      <th></th>\n",
       "      <th></th>\n",
       "      <th></th>\n",
       "      <th></th>\n",
       "      <th></th>\n",
       "      <th></th>\n",
       "    </tr>\n",
       "  </thead>\n",
       "  <tbody>\n",
       "    <tr>\n",
       "      <th>LR</th>\n",
       "      <td>2782.4</td>\n",
       "      <td>2780.5</td>\n",
       "      <td>2786.1</td>\n",
       "      <td>0.071584</td>\n",
       "      <td>0.010233</td>\n",
       "      <td>0.035628</td>\n",
       "    </tr>\n",
       "    <tr>\n",
       "      <th>CatBoost with default parameters</th>\n",
       "      <td>1492.3</td>\n",
       "      <td>1562.4</td>\n",
       "      <td>1577.9</td>\n",
       "      <td>146.032359</td>\n",
       "      <td>0.162333</td>\n",
       "      <td>0.146253</td>\n",
       "    </tr>\n",
       "    <tr>\n",
       "      <th>LGBM</th>\n",
       "      <td>1316.9</td>\n",
       "      <td>1499.2</td>\n",
       "      <td>1516.8</td>\n",
       "      <td>15.937981</td>\n",
       "      <td>3.601253</td>\n",
       "      <td>3.640117</td>\n",
       "    </tr>\n",
       "    <tr>\n",
       "      <th>XGB</th>\n",
       "      <td>1454.6</td>\n",
       "      <td>1572.6</td>\n",
       "      <td>1583.4</td>\n",
       "      <td>25.195928</td>\n",
       "      <td>0.121176</td>\n",
       "      <td>0.115273</td>\n",
       "    </tr>\n",
       "    <tr>\n",
       "      <th>Dummy</th>\n",
       "      <td>4912.1</td>\n",
       "      <td>4888.9</td>\n",
       "      <td>4924.4</td>\n",
       "      <td>0.004093</td>\n",
       "      <td>0.000226</td>\n",
       "      <td>0.000178</td>\n",
       "    </tr>\n",
       "  </tbody>\n",
       "</table>\n",
       "</div>\n",
       "      <button class=\"colab-df-convert\" onclick=\"convertToInteractive('df-0a815ea6-52a3-418d-9a24-35d3f4f9ae61')\"\n",
       "              title=\"Convert this dataframe to an interactive table.\"\n",
       "              style=\"display:none;\">\n",
       "\n",
       "  <svg xmlns=\"http://www.w3.org/2000/svg\" height=\"24px\"viewBox=\"0 0 24 24\"\n",
       "       width=\"24px\">\n",
       "    <path d=\"M0 0h24v24H0V0z\" fill=\"none\"/>\n",
       "    <path d=\"M18.56 5.44l.94 2.06.94-2.06 2.06-.94-2.06-.94-.94-2.06-.94 2.06-2.06.94zm-11 1L8.5 8.5l.94-2.06 2.06-.94-2.06-.94L8.5 2.5l-.94 2.06-2.06.94zm10 10l.94 2.06.94-2.06 2.06-.94-2.06-.94-.94-2.06-.94 2.06-2.06.94z\"/><path d=\"M17.41 7.96l-1.37-1.37c-.4-.4-.92-.59-1.43-.59-.52 0-1.04.2-1.43.59L10.3 9.45l-7.72 7.72c-.78.78-.78 2.05 0 2.83L4 21.41c.39.39.9.59 1.41.59.51 0 1.02-.2 1.41-.59l7.78-7.78 2.81-2.81c.8-.78.8-2.07 0-2.86zM5.41 20L4 18.59l7.72-7.72 1.47 1.35L5.41 20z\"/>\n",
       "  </svg>\n",
       "      </button>\n",
       "\n",
       "\n",
       "\n",
       "    <div id=\"df-486f7bf0-4d94-4acc-8edf-b13782ba7498\">\n",
       "      <button class=\"colab-df-quickchart\" onclick=\"quickchart('df-486f7bf0-4d94-4acc-8edf-b13782ba7498')\"\n",
       "              title=\"Suggest charts.\"\n",
       "              style=\"display:none;\">\n",
       "\n",
       "<svg xmlns=\"http://www.w3.org/2000/svg\" height=\"24px\"viewBox=\"0 0 24 24\"\n",
       "     width=\"24px\">\n",
       "    <g>\n",
       "        <path d=\"M19 3H5c-1.1 0-2 .9-2 2v14c0 1.1.9 2 2 2h14c1.1 0 2-.9 2-2V5c0-1.1-.9-2-2-2zM9 17H7v-7h2v7zm4 0h-2V7h2v10zm4 0h-2v-4h2v4z\"/>\n",
       "    </g>\n",
       "</svg>\n",
       "      </button>\n",
       "    </div>\n",
       "\n",
       "<style>\n",
       "  .colab-df-quickchart {\n",
       "    background-color: #E8F0FE;\n",
       "    border: none;\n",
       "    border-radius: 50%;\n",
       "    cursor: pointer;\n",
       "    display: none;\n",
       "    fill: #1967D2;\n",
       "    height: 32px;\n",
       "    padding: 0 0 0 0;\n",
       "    width: 32px;\n",
       "  }\n",
       "\n",
       "  .colab-df-quickchart:hover {\n",
       "    background-color: #E2EBFA;\n",
       "    box-shadow: 0px 1px 2px rgba(60, 64, 67, 0.3), 0px 1px 3px 1px rgba(60, 64, 67, 0.15);\n",
       "    fill: #174EA6;\n",
       "  }\n",
       "\n",
       "  [theme=dark] .colab-df-quickchart {\n",
       "    background-color: #3B4455;\n",
       "    fill: #D2E3FC;\n",
       "  }\n",
       "\n",
       "  [theme=dark] .colab-df-quickchart:hover {\n",
       "    background-color: #434B5C;\n",
       "    box-shadow: 0px 1px 3px 1px rgba(0, 0, 0, 0.15);\n",
       "    filter: drop-shadow(0px 1px 2px rgba(0, 0, 0, 0.3));\n",
       "    fill: #FFFFFF;\n",
       "  }\n",
       "</style>\n",
       "\n",
       "    <script>\n",
       "      async function quickchart(key) {\n",
       "        const containerElement = document.querySelector('#' + key);\n",
       "        const charts = await google.colab.kernel.invokeFunction(\n",
       "            'suggestCharts', [key], {});\n",
       "      }\n",
       "    </script>\n",
       "\n",
       "      <script>\n",
       "\n",
       "function displayQuickchartButton(domScope) {\n",
       "  let quickchartButtonEl =\n",
       "    domScope.querySelector('#df-486f7bf0-4d94-4acc-8edf-b13782ba7498 button.colab-df-quickchart');\n",
       "  quickchartButtonEl.style.display =\n",
       "    google.colab.kernel.accessAllowed ? 'block' : 'none';\n",
       "}\n",
       "\n",
       "        displayQuickchartButton(document);\n",
       "      </script>\n",
       "      <style>\n",
       "    .colab-df-container {\n",
       "      display:flex;\n",
       "      flex-wrap:wrap;\n",
       "      gap: 12px;\n",
       "    }\n",
       "\n",
       "    .colab-df-convert {\n",
       "      background-color: #E8F0FE;\n",
       "      border: none;\n",
       "      border-radius: 50%;\n",
       "      cursor: pointer;\n",
       "      display: none;\n",
       "      fill: #1967D2;\n",
       "      height: 32px;\n",
       "      padding: 0 0 0 0;\n",
       "      width: 32px;\n",
       "    }\n",
       "\n",
       "    .colab-df-convert:hover {\n",
       "      background-color: #E2EBFA;\n",
       "      box-shadow: 0px 1px 2px rgba(60, 64, 67, 0.3), 0px 1px 3px 1px rgba(60, 64, 67, 0.15);\n",
       "      fill: #174EA6;\n",
       "    }\n",
       "\n",
       "    [theme=dark] .colab-df-convert {\n",
       "      background-color: #3B4455;\n",
       "      fill: #D2E3FC;\n",
       "    }\n",
       "\n",
       "    [theme=dark] .colab-df-convert:hover {\n",
       "      background-color: #434B5C;\n",
       "      box-shadow: 0px 1px 3px 1px rgba(0, 0, 0, 0.15);\n",
       "      filter: drop-shadow(0px 1px 2px rgba(0, 0, 0, 0.3));\n",
       "      fill: #FFFFFF;\n",
       "    }\n",
       "  </style>\n",
       "\n",
       "      <script>\n",
       "        const buttonEl =\n",
       "          document.querySelector('#df-0a815ea6-52a3-418d-9a24-35d3f4f9ae61 button.colab-df-convert');\n",
       "        buttonEl.style.display =\n",
       "          google.colab.kernel.accessAllowed ? 'block' : 'none';\n",
       "\n",
       "        async function convertToInteractive(key) {\n",
       "          const element = document.querySelector('#df-0a815ea6-52a3-418d-9a24-35d3f4f9ae61');\n",
       "          const dataTable =\n",
       "            await google.colab.kernel.invokeFunction('convertToInteractive',\n",
       "                                                     [key], {});\n",
       "          if (!dataTable) return;\n",
       "\n",
       "          const docLinkHtml = 'Like what you see? Visit the ' +\n",
       "            '<a target=\"_blank\" href=https://colab.research.google.com/notebooks/data_table.ipynb>data table notebook</a>'\n",
       "            + ' to learn more about interactive tables.';\n",
       "          element.innerHTML = '';\n",
       "          dataTable['output_type'] = 'display_data';\n",
       "          await google.colab.output.renderOutput(dataTable, element);\n",
       "          const docLink = document.createElement('div');\n",
       "          docLink.innerHTML = docLinkHtml;\n",
       "          element.appendChild(docLink);\n",
       "        }\n",
       "      </script>\n",
       "    </div>\n",
       "  </div>\n"
      ],
      "text/plain": [
       "                                  Train RMSE  Validation RMSE  Test RMSE  \\\n",
       "Model                                                                      \n",
       "LR                                    2782.4           2780.5     2786.1   \n",
       "CatBoost with default parameters      1492.3           1562.4     1577.9   \n",
       "LGBM                                  1316.9           1499.2     1516.8   \n",
       "XGB                                   1454.6           1572.6     1583.4   \n",
       "Dummy                                 4912.1           4888.9     4924.4   \n",
       "\n",
       "                                  Training time, sec  \\\n",
       "Model                                                  \n",
       "LR                                          0.071584   \n",
       "CatBoost with default parameters          146.032359   \n",
       "LGBM                                       15.937981   \n",
       "XGB                                        25.195928   \n",
       "Dummy                                       0.004093   \n",
       "\n",
       "                                  Predict on validation time, sec  \\\n",
       "Model                                                               \n",
       "LR                                                       0.010233   \n",
       "CatBoost with default parameters                         0.162333   \n",
       "LGBM                                                     3.601253   \n",
       "XGB                                                      0.121176   \n",
       "Dummy                                                    0.000226   \n",
       "\n",
       "                                  Predict on test time, sec  \n",
       "Model                                                        \n",
       "LR                                                 0.035628  \n",
       "CatBoost with default parameters                   0.146253  \n",
       "LGBM                                               3.640117  \n",
       "XGB                                                0.115273  \n",
       "Dummy                                              0.000178  "
      ]
     },
     "execution_count": 170,
     "metadata": {},
     "output_type": "execute_result"
    }
   ],
   "source": [
    "experiments"
   ]
  },
  {
   "cell_type": "markdown",
   "metadata": {
    "id": "IiItoq4j6-jO"
   },
   "source": [
    "Все модели показали достаточно высокий результат и метрика RMSE значительно ниже, чем у модели Dummy Regressor.\n",
    "\n",
    "Что же касается времени обучения и предикта, кто наиболее долго обучались как раз те модели, котороые и дали лушчий результат, при этом время предсказания достаточно быстрое. При желании, время обучениия катбуста можно сократить за счет реализации ранней остановк, чтобы не проходить всю 1000 итераций\n",
    "\n",
    "Рассмотрим дополнительно две модели с тюнингом гиперпараметров"
   ]
  },
  {
   "cell_type": "markdown",
   "metadata": {
    "id": "0CCLsNgq6-jO"
   },
   "source": [
    "### Подбор гиперпараметров"
   ]
  },
  {
   "cell_type": "markdown",
   "metadata": {
    "id": "KuTe01ED6-jO"
   },
   "source": [
    "#### Cat Boost"
   ]
  },
  {
   "cell_type": "markdown",
   "metadata": {
    "id": "nc4KtN9KkmAm"
   },
   "source": [
    "15 минут выполняется в colab, закомментировал, так как ниже попробовал ускорить, но время выполнения осталось таким же("
   ]
  },
  {
   "cell_type": "markdown",
   "metadata": {
    "colab": {
     "base_uri": "https://localhost:8080/"
    },
    "id": "eaWfEvyHfIiz",
    "outputId": "a4b777a5-6f7d-4aed-b919-402a00134454"
   },
   "source": [
    "def objective(trial):\n",
    "    param = {\n",
    "        \"objective\": 'RMSE',\n",
    "        'learning_rate': trial.suggest_categorical('learning_rate', [0.01,0.05,0.1,0.5]),\n",
    "        'max_depth': trial.suggest_int('max_depth', 6, 12),\n",
    "        'l2_leaf_reg': trial.suggest_float('l2_leaf_reg', 3.0, 60.0),\n",
    "        'random_strength': trial.suggest_float('random_strength', 0.0, 5.0),\n",
    "        'bagging_temperature': trial.suggest_float('bagging_temperature', 0.0, 5.0),\n",
    "        'border_count': trial.suggest_int('border_count', 64, 254)\n",
    "    }\n",
    "\n",
    "    model = CatBoostRegressor(**param, cat_features=cat_columns_idx)\n",
    "    model.fit(X_train_catboost, y_train, eval_set=[(X_val_catboost, y_val)], verbose=0, early_stopping_rounds=100)\n",
    "\n",
    "    preds = model.predict(X_val_catboost)\n",
    "    mse = mean_squared_error(y_val, preds)\n",
    "    rmse = mse**0.5\n",
    "\n",
    "    return rmse\n",
    "\n",
    "cat_columns_idx = [X_train_catboost.columns.get_loc(col) for col in cat_columns]\n",
    "\n",
    "start_study = datetime.now()\n",
    "cb_study = create_study(direction=\"minimize\")\n",
    "cb_study.optimize(objective, n_trials=10, timeout=600)\n",
    "print('Number of finished trials:', len(cb_study.trials))\n",
    "print('Best value:', cb_study.best_value)\n",
    "\n",
    "end_study = datetime.now()\n",
    "delta_study = (end_study - start_study).total_seconds()\n",
    "\n",
    "cb_model = CatBoostRegressor(**cb_study.best_trial.params, verbose=100, cat_features=cat_columns_idx)\n",
    "\n",
    "# Обучение модели и предсказание для обучающего, валидационного и тестового наборов данных\n",
    "add_experiment(cb_model, X_train_catboost, X_val_catboost, X_test_catboost, y_train, y_val, y_test, 'cb_tuned')\n"
   ]
  },
  {
   "cell_type": "code",
   "execution_count": 172,
   "metadata": {
    "colab": {
     "base_uri": "https://localhost:8080/",
     "height": 266
    },
    "id": "HDcTEqSUgCMj",
    "outputId": "fc589b22-e35f-4916-feab-afd2ab65a9ef"
   },
   "outputs": [
    {
     "data": {
      "text/html": [
       "\n",
       "\n",
       "  <div id=\"df-b90fd5ff-2fed-439b-be8d-f4147e861eb3\">\n",
       "    <div class=\"colab-df-container\">\n",
       "      <div>\n",
       "<style scoped>\n",
       "    .dataframe tbody tr th:only-of-type {\n",
       "        vertical-align: middle;\n",
       "    }\n",
       "\n",
       "    .dataframe tbody tr th {\n",
       "        vertical-align: top;\n",
       "    }\n",
       "\n",
       "    .dataframe thead th {\n",
       "        text-align: right;\n",
       "    }\n",
       "</style>\n",
       "<table border=\"1\" class=\"dataframe\">\n",
       "  <thead>\n",
       "    <tr style=\"text-align: right;\">\n",
       "      <th></th>\n",
       "      <th>Train RMSE</th>\n",
       "      <th>Validation RMSE</th>\n",
       "      <th>Test RMSE</th>\n",
       "      <th>Training time, sec</th>\n",
       "      <th>Predict on validation time, sec</th>\n",
       "      <th>Predict on test time, sec</th>\n",
       "    </tr>\n",
       "    <tr>\n",
       "      <th>Model</th>\n",
       "      <th></th>\n",
       "      <th></th>\n",
       "      <th></th>\n",
       "      <th></th>\n",
       "      <th></th>\n",
       "      <th></th>\n",
       "    </tr>\n",
       "  </thead>\n",
       "  <tbody>\n",
       "    <tr>\n",
       "      <th>LR</th>\n",
       "      <td>2782.4</td>\n",
       "      <td>2780.5</td>\n",
       "      <td>2786.1</td>\n",
       "      <td>0.071584</td>\n",
       "      <td>0.010233</td>\n",
       "      <td>0.035628</td>\n",
       "    </tr>\n",
       "    <tr>\n",
       "      <th>CatBoost with default parameters</th>\n",
       "      <td>1492.3</td>\n",
       "      <td>1562.4</td>\n",
       "      <td>1577.9</td>\n",
       "      <td>146.032359</td>\n",
       "      <td>0.162333</td>\n",
       "      <td>0.146253</td>\n",
       "    </tr>\n",
       "    <tr>\n",
       "      <th>LGBM</th>\n",
       "      <td>1316.9</td>\n",
       "      <td>1499.2</td>\n",
       "      <td>1516.8</td>\n",
       "      <td>15.937981</td>\n",
       "      <td>3.601253</td>\n",
       "      <td>3.640117</td>\n",
       "    </tr>\n",
       "    <tr>\n",
       "      <th>XGB</th>\n",
       "      <td>1454.6</td>\n",
       "      <td>1572.6</td>\n",
       "      <td>1583.4</td>\n",
       "      <td>25.195928</td>\n",
       "      <td>0.121176</td>\n",
       "      <td>0.115273</td>\n",
       "    </tr>\n",
       "    <tr>\n",
       "      <th>Dummy</th>\n",
       "      <td>4912.1</td>\n",
       "      <td>4888.9</td>\n",
       "      <td>4924.4</td>\n",
       "      <td>0.004093</td>\n",
       "      <td>0.000226</td>\n",
       "      <td>0.000178</td>\n",
       "    </tr>\n",
       "    <tr>\n",
       "      <th>cb_tuned</th>\n",
       "      <td>1279.0</td>\n",
       "      <td>1514.7</td>\n",
       "      <td>1531.5</td>\n",
       "      <td>206.847965</td>\n",
       "      <td>0.442703</td>\n",
       "      <td>0.470364</td>\n",
       "    </tr>\n",
       "  </tbody>\n",
       "</table>\n",
       "</div>\n",
       "      <button class=\"colab-df-convert\" onclick=\"convertToInteractive('df-b90fd5ff-2fed-439b-be8d-f4147e861eb3')\"\n",
       "              title=\"Convert this dataframe to an interactive table.\"\n",
       "              style=\"display:none;\">\n",
       "\n",
       "  <svg xmlns=\"http://www.w3.org/2000/svg\" height=\"24px\"viewBox=\"0 0 24 24\"\n",
       "       width=\"24px\">\n",
       "    <path d=\"M0 0h24v24H0V0z\" fill=\"none\"/>\n",
       "    <path d=\"M18.56 5.44l.94 2.06.94-2.06 2.06-.94-2.06-.94-.94-2.06-.94 2.06-2.06.94zm-11 1L8.5 8.5l.94-2.06 2.06-.94-2.06-.94L8.5 2.5l-.94 2.06-2.06.94zm10 10l.94 2.06.94-2.06 2.06-.94-2.06-.94-.94-2.06-.94 2.06-2.06.94z\"/><path d=\"M17.41 7.96l-1.37-1.37c-.4-.4-.92-.59-1.43-.59-.52 0-1.04.2-1.43.59L10.3 9.45l-7.72 7.72c-.78.78-.78 2.05 0 2.83L4 21.41c.39.39.9.59 1.41.59.51 0 1.02-.2 1.41-.59l7.78-7.78 2.81-2.81c.8-.78.8-2.07 0-2.86zM5.41 20L4 18.59l7.72-7.72 1.47 1.35L5.41 20z\"/>\n",
       "  </svg>\n",
       "      </button>\n",
       "\n",
       "\n",
       "\n",
       "    <div id=\"df-633a3668-4f2c-4076-82c8-f3cdce431c5d\">\n",
       "      <button class=\"colab-df-quickchart\" onclick=\"quickchart('df-633a3668-4f2c-4076-82c8-f3cdce431c5d')\"\n",
       "              title=\"Suggest charts.\"\n",
       "              style=\"display:none;\">\n",
       "\n",
       "<svg xmlns=\"http://www.w3.org/2000/svg\" height=\"24px\"viewBox=\"0 0 24 24\"\n",
       "     width=\"24px\">\n",
       "    <g>\n",
       "        <path d=\"M19 3H5c-1.1 0-2 .9-2 2v14c0 1.1.9 2 2 2h14c1.1 0 2-.9 2-2V5c0-1.1-.9-2-2-2zM9 17H7v-7h2v7zm4 0h-2V7h2v10zm4 0h-2v-4h2v4z\"/>\n",
       "    </g>\n",
       "</svg>\n",
       "      </button>\n",
       "    </div>\n",
       "\n",
       "<style>\n",
       "  .colab-df-quickchart {\n",
       "    background-color: #E8F0FE;\n",
       "    border: none;\n",
       "    border-radius: 50%;\n",
       "    cursor: pointer;\n",
       "    display: none;\n",
       "    fill: #1967D2;\n",
       "    height: 32px;\n",
       "    padding: 0 0 0 0;\n",
       "    width: 32px;\n",
       "  }\n",
       "\n",
       "  .colab-df-quickchart:hover {\n",
       "    background-color: #E2EBFA;\n",
       "    box-shadow: 0px 1px 2px rgba(60, 64, 67, 0.3), 0px 1px 3px 1px rgba(60, 64, 67, 0.15);\n",
       "    fill: #174EA6;\n",
       "  }\n",
       "\n",
       "  [theme=dark] .colab-df-quickchart {\n",
       "    background-color: #3B4455;\n",
       "    fill: #D2E3FC;\n",
       "  }\n",
       "\n",
       "  [theme=dark] .colab-df-quickchart:hover {\n",
       "    background-color: #434B5C;\n",
       "    box-shadow: 0px 1px 3px 1px rgba(0, 0, 0, 0.15);\n",
       "    filter: drop-shadow(0px 1px 2px rgba(0, 0, 0, 0.3));\n",
       "    fill: #FFFFFF;\n",
       "  }\n",
       "</style>\n",
       "\n",
       "    <script>\n",
       "      async function quickchart(key) {\n",
       "        const containerElement = document.querySelector('#' + key);\n",
       "        const charts = await google.colab.kernel.invokeFunction(\n",
       "            'suggestCharts', [key], {});\n",
       "      }\n",
       "    </script>\n",
       "\n",
       "      <script>\n",
       "\n",
       "function displayQuickchartButton(domScope) {\n",
       "  let quickchartButtonEl =\n",
       "    domScope.querySelector('#df-633a3668-4f2c-4076-82c8-f3cdce431c5d button.colab-df-quickchart');\n",
       "  quickchartButtonEl.style.display =\n",
       "    google.colab.kernel.accessAllowed ? 'block' : 'none';\n",
       "}\n",
       "\n",
       "        displayQuickchartButton(document);\n",
       "      </script>\n",
       "      <style>\n",
       "    .colab-df-container {\n",
       "      display:flex;\n",
       "      flex-wrap:wrap;\n",
       "      gap: 12px;\n",
       "    }\n",
       "\n",
       "    .colab-df-convert {\n",
       "      background-color: #E8F0FE;\n",
       "      border: none;\n",
       "      border-radius: 50%;\n",
       "      cursor: pointer;\n",
       "      display: none;\n",
       "      fill: #1967D2;\n",
       "      height: 32px;\n",
       "      padding: 0 0 0 0;\n",
       "      width: 32px;\n",
       "    }\n",
       "\n",
       "    .colab-df-convert:hover {\n",
       "      background-color: #E2EBFA;\n",
       "      box-shadow: 0px 1px 2px rgba(60, 64, 67, 0.3), 0px 1px 3px 1px rgba(60, 64, 67, 0.15);\n",
       "      fill: #174EA6;\n",
       "    }\n",
       "\n",
       "    [theme=dark] .colab-df-convert {\n",
       "      background-color: #3B4455;\n",
       "      fill: #D2E3FC;\n",
       "    }\n",
       "\n",
       "    [theme=dark] .colab-df-convert:hover {\n",
       "      background-color: #434B5C;\n",
       "      box-shadow: 0px 1px 3px 1px rgba(0, 0, 0, 0.15);\n",
       "      filter: drop-shadow(0px 1px 2px rgba(0, 0, 0, 0.3));\n",
       "      fill: #FFFFFF;\n",
       "    }\n",
       "  </style>\n",
       "\n",
       "      <script>\n",
       "        const buttonEl =\n",
       "          document.querySelector('#df-b90fd5ff-2fed-439b-be8d-f4147e861eb3 button.colab-df-convert');\n",
       "        buttonEl.style.display =\n",
       "          google.colab.kernel.accessAllowed ? 'block' : 'none';\n",
       "\n",
       "        async function convertToInteractive(key) {\n",
       "          const element = document.querySelector('#df-b90fd5ff-2fed-439b-be8d-f4147e861eb3');\n",
       "          const dataTable =\n",
       "            await google.colab.kernel.invokeFunction('convertToInteractive',\n",
       "                                                     [key], {});\n",
       "          if (!dataTable) return;\n",
       "\n",
       "          const docLinkHtml = 'Like what you see? Visit the ' +\n",
       "            '<a target=\"_blank\" href=https://colab.research.google.com/notebooks/data_table.ipynb>data table notebook</a>'\n",
       "            + ' to learn more about interactive tables.';\n",
       "          element.innerHTML = '';\n",
       "          dataTable['output_type'] = 'display_data';\n",
       "          await google.colab.output.renderOutput(dataTable, element);\n",
       "          const docLink = document.createElement('div');\n",
       "          docLink.innerHTML = docLinkHtml;\n",
       "          element.appendChild(docLink);\n",
       "        }\n",
       "      </script>\n",
       "    </div>\n",
       "  </div>\n"
      ],
      "text/plain": [
       "                                  Train RMSE  Validation RMSE  Test RMSE  \\\n",
       "Model                                                                      \n",
       "LR                                    2782.4           2780.5     2786.1   \n",
       "CatBoost with default parameters      1492.3           1562.4     1577.9   \n",
       "LGBM                                  1316.9           1499.2     1516.8   \n",
       "XGB                                   1454.6           1572.6     1583.4   \n",
       "Dummy                                 4912.1           4888.9     4924.4   \n",
       "cb_tuned                              1279.0           1514.7     1531.5   \n",
       "\n",
       "                                  Training time, sec  \\\n",
       "Model                                                  \n",
       "LR                                          0.071584   \n",
       "CatBoost with default parameters          146.032359   \n",
       "LGBM                                       15.937981   \n",
       "XGB                                        25.195928   \n",
       "Dummy                                       0.004093   \n",
       "cb_tuned                                  206.847965   \n",
       "\n",
       "                                  Predict on validation time, sec  \\\n",
       "Model                                                               \n",
       "LR                                                       0.010233   \n",
       "CatBoost with default parameters                         0.162333   \n",
       "LGBM                                                     3.601253   \n",
       "XGB                                                      0.121176   \n",
       "Dummy                                                    0.000226   \n",
       "cb_tuned                                                 0.442703   \n",
       "\n",
       "                                  Predict on test time, sec  \n",
       "Model                                                        \n",
       "LR                                                 0.035628  \n",
       "CatBoost with default parameters                   0.146253  \n",
       "LGBM                                               3.640117  \n",
       "XGB                                                0.115273  \n",
       "Dummy                                              0.000178  \n",
       "cb_tuned                                           0.470364  "
      ]
     },
     "execution_count": 172,
     "metadata": {},
     "output_type": "execute_result"
    }
   ],
   "source": [
    "experiments"
   ]
  },
  {
   "cell_type": "markdown",
   "metadata": {
    "id": "bw2g5FYom5v5"
   },
   "source": [
    "Попытался упростить, но все равно 15 минут выполняется в colab\n"
   ]
  },
  {
   "cell_type": "code",
   "execution_count": 173,
   "metadata": {
    "colab": {
     "base_uri": "https://localhost:8080/"
    },
    "id": "i3_WOsA1jLjF",
    "outputId": "3a925201-ee91-4120-ae0a-9ca5b0de85a1"
   },
   "outputs": [
    {
     "name": "stderr",
     "output_type": "stream",
     "text": [
      "[I 2023-07-20 18:25:47,292] A new study created in memory with name: no-name-b9b47db7-dcf9-4176-9139-bfc53140e4bf\n",
      "[I 2023-07-20 18:29:08,556] Trial 0 finished with value: 1528.4442481222688 and parameters: {'learning_rate': 0.5, 'max_depth': 8, 'l2_leaf_reg': 15.63992969908746, 'random_strength': 1.6699393554827013, 'bagging_temperature': 1.464440130575801, 'border_count': 97}. Best is trial 0 with value: 1528.4442481222688.\n",
      "[I 2023-07-20 18:32:31,678] Trial 1 finished with value: 1596.359061783254 and parameters: {'learning_rate': 0.05, 'max_depth': 8, 'l2_leaf_reg': 42.34630594749332, 'random_strength': 2.2453269784486354, 'bagging_temperature': 0.3165605892376233, 'border_count': 64}. Best is trial 0 with value: 1528.4442481222688.\n",
      "[I 2023-07-20 18:35:21,855] Trial 2 finished with value: 1723.1550284848313 and parameters: {'learning_rate': 0.01, 'max_depth': 7, 'l2_leaf_reg': 26.153856884301266, 'random_strength': 3.228941627514475, 'bagging_temperature': 2.6840774052700436, 'border_count': 167}. Best is trial 0 with value: 1528.4442481222688.\n",
      "[I 2023-07-20 18:37:57,609] Trial 3 finished with value: 1623.5253182346826 and parameters: {'learning_rate': 0.05, 'max_depth': 7, 'l2_leaf_reg': 54.71897843642701, 'random_strength': 4.9443224234051995, 'bagging_temperature': 4.748148071083419, 'border_count': 119}. Best is trial 0 with value: 1528.4442481222688.\n"
     ]
    },
    {
     "name": "stdout",
     "output_type": "stream",
     "text": [
      "Number of finished trials: 4\n",
      "Best value: 1528.4442481222688\n",
      "0:\tlearn: 3128.1329891\ttotal: 200ms\tremaining: 3m 20s\n",
      "100:\tlearn: 1528.9362714\ttotal: 17.6s\tremaining: 2m 36s\n",
      "200:\tlearn: 1456.0703745\ttotal: 34.7s\tremaining: 2m 17s\n",
      "300:\tlearn: 1412.9624279\ttotal: 52.9s\tremaining: 2m 2s\n",
      "400:\tlearn: 1376.3192022\ttotal: 1m 9s\tremaining: 1m 44s\n",
      "500:\tlearn: 1347.1909147\ttotal: 1m 26s\tremaining: 1m 26s\n",
      "600:\tlearn: 1325.0790598\ttotal: 1m 44s\tremaining: 1m 9s\n",
      "700:\tlearn: 1305.1291423\ttotal: 2m 2s\tremaining: 52.1s\n",
      "800:\tlearn: 1286.1649826\ttotal: 2m 19s\tremaining: 34.7s\n",
      "900:\tlearn: 1268.1637564\ttotal: 2m 38s\tremaining: 17.5s\n",
      "999:\tlearn: 1256.4895432\ttotal: 2m 56s\tremaining: 0us\n"
     ]
    }
   ],
   "source": [
    "def objective(trial):\n",
    "    param = {\n",
    "        \"objective\": 'RMSE',\n",
    "        'learning_rate': trial.suggest_categorical('learning_rate', [0.01,0.05,0.1,0.5]),\n",
    "        'max_depth': trial.suggest_int('max_depth', 6, 8),  # изменен диапазон глубины дерева\n",
    "        'l2_leaf_reg': trial.suggest_float('l2_leaf_reg', 3.0, 60.0),\n",
    "        'random_strength': trial.suggest_float('random_strength', 0.0, 5.0),\n",
    "        'bagging_temperature': trial.suggest_float('bagging_temperature', 0.0, 5.0),\n",
    "        'border_count': trial.suggest_int('border_count', 64, 254)\n",
    "    }\n",
    "\n",
    "    model = CatBoostRegressor(**param, cat_features=cat_columns_idx)\n",
    "    model.fit(X_train_catboost, y_train, eval_set=[(X_val_catboost, y_val)], verbose=0, early_stopping_rounds=100)\n",
    "\n",
    "    preds = model.predict(X_val_catboost)\n",
    "    mse = mean_squared_error(y_val, preds)\n",
    "    rmse = mse**0.5\n",
    "\n",
    "    return rmse\n",
    "\n",
    "cat_columns_idx = [X_train_catboost.columns.get_loc(col) for col in cat_columns]\n",
    "\n",
    "start_study = datetime.now()\n",
    "cb_study = create_study(direction=\"minimize\")\n",
    "cb_study.optimize(objective, n_trials=5, timeout=600)  # изменено количество испытаний\n",
    "print('Number of finished trials:', len(cb_study.trials))\n",
    "print('Best value:', cb_study.best_value)\n",
    "\n",
    "end_study = datetime.now()\n",
    "delta_study = (end_study - start_study).total_seconds()\n",
    "\n",
    "cb_model = CatBoostRegressor(**cb_study.best_trial.params, verbose=100, cat_features=cat_columns_idx)\n",
    "\n",
    "# Обучение модели и предсказание для обучающего, валидационного и тестового наборов данных\n",
    "add_experiment(cb_model, X_train_catboost, X_val_catboost, X_test_catboost, y_train, y_val, y_test, 'cb_tuned_short')\n"
   ]
  },
  {
   "cell_type": "code",
   "execution_count": 174,
   "metadata": {
    "colab": {
     "base_uri": "https://localhost:8080/",
     "height": 297
    },
    "id": "wajd2S9LmvEp",
    "outputId": "172e2f0f-5613-4a2e-ae34-c861db469649"
   },
   "outputs": [
    {
     "data": {
      "text/html": [
       "\n",
       "\n",
       "  <div id=\"df-1eae4ad8-f78d-4ae0-9e50-1c2d36640a00\">\n",
       "    <div class=\"colab-df-container\">\n",
       "      <div>\n",
       "<style scoped>\n",
       "    .dataframe tbody tr th:only-of-type {\n",
       "        vertical-align: middle;\n",
       "    }\n",
       "\n",
       "    .dataframe tbody tr th {\n",
       "        vertical-align: top;\n",
       "    }\n",
       "\n",
       "    .dataframe thead th {\n",
       "        text-align: right;\n",
       "    }\n",
       "</style>\n",
       "<table border=\"1\" class=\"dataframe\">\n",
       "  <thead>\n",
       "    <tr style=\"text-align: right;\">\n",
       "      <th></th>\n",
       "      <th>Train RMSE</th>\n",
       "      <th>Validation RMSE</th>\n",
       "      <th>Test RMSE</th>\n",
       "      <th>Training time, sec</th>\n",
       "      <th>Predict on validation time, sec</th>\n",
       "      <th>Predict on test time, sec</th>\n",
       "    </tr>\n",
       "    <tr>\n",
       "      <th>Model</th>\n",
       "      <th></th>\n",
       "      <th></th>\n",
       "      <th></th>\n",
       "      <th></th>\n",
       "      <th></th>\n",
       "      <th></th>\n",
       "    </tr>\n",
       "  </thead>\n",
       "  <tbody>\n",
       "    <tr>\n",
       "      <th>LR</th>\n",
       "      <td>2782.4</td>\n",
       "      <td>2780.5</td>\n",
       "      <td>2786.1</td>\n",
       "      <td>0.071584</td>\n",
       "      <td>0.010233</td>\n",
       "      <td>0.035628</td>\n",
       "    </tr>\n",
       "    <tr>\n",
       "      <th>CatBoost with default parameters</th>\n",
       "      <td>1492.3</td>\n",
       "      <td>1562.4</td>\n",
       "      <td>1577.9</td>\n",
       "      <td>146.032359</td>\n",
       "      <td>0.162333</td>\n",
       "      <td>0.146253</td>\n",
       "    </tr>\n",
       "    <tr>\n",
       "      <th>LGBM</th>\n",
       "      <td>1316.9</td>\n",
       "      <td>1499.2</td>\n",
       "      <td>1516.8</td>\n",
       "      <td>15.937981</td>\n",
       "      <td>3.601253</td>\n",
       "      <td>3.640117</td>\n",
       "    </tr>\n",
       "    <tr>\n",
       "      <th>XGB</th>\n",
       "      <td>1454.6</td>\n",
       "      <td>1572.6</td>\n",
       "      <td>1583.4</td>\n",
       "      <td>25.195928</td>\n",
       "      <td>0.121176</td>\n",
       "      <td>0.115273</td>\n",
       "    </tr>\n",
       "    <tr>\n",
       "      <th>Dummy</th>\n",
       "      <td>4912.1</td>\n",
       "      <td>4888.9</td>\n",
       "      <td>4924.4</td>\n",
       "      <td>0.004093</td>\n",
       "      <td>0.000226</td>\n",
       "      <td>0.000178</td>\n",
       "    </tr>\n",
       "    <tr>\n",
       "      <th>cb_tuned</th>\n",
       "      <td>1279.0</td>\n",
       "      <td>1514.7</td>\n",
       "      <td>1531.5</td>\n",
       "      <td>206.847965</td>\n",
       "      <td>0.442703</td>\n",
       "      <td>0.470364</td>\n",
       "    </tr>\n",
       "    <tr>\n",
       "      <th>cb_tuned_short</th>\n",
       "      <td>1268.3</td>\n",
       "      <td>1529.1</td>\n",
       "      <td>1545.7</td>\n",
       "      <td>177.312312</td>\n",
       "      <td>0.328014</td>\n",
       "      <td>0.333714</td>\n",
       "    </tr>\n",
       "  </tbody>\n",
       "</table>\n",
       "</div>\n",
       "      <button class=\"colab-df-convert\" onclick=\"convertToInteractive('df-1eae4ad8-f78d-4ae0-9e50-1c2d36640a00')\"\n",
       "              title=\"Convert this dataframe to an interactive table.\"\n",
       "              style=\"display:none;\">\n",
       "\n",
       "  <svg xmlns=\"http://www.w3.org/2000/svg\" height=\"24px\"viewBox=\"0 0 24 24\"\n",
       "       width=\"24px\">\n",
       "    <path d=\"M0 0h24v24H0V0z\" fill=\"none\"/>\n",
       "    <path d=\"M18.56 5.44l.94 2.06.94-2.06 2.06-.94-2.06-.94-.94-2.06-.94 2.06-2.06.94zm-11 1L8.5 8.5l.94-2.06 2.06-.94-2.06-.94L8.5 2.5l-.94 2.06-2.06.94zm10 10l.94 2.06.94-2.06 2.06-.94-2.06-.94-.94-2.06-.94 2.06-2.06.94z\"/><path d=\"M17.41 7.96l-1.37-1.37c-.4-.4-.92-.59-1.43-.59-.52 0-1.04.2-1.43.59L10.3 9.45l-7.72 7.72c-.78.78-.78 2.05 0 2.83L4 21.41c.39.39.9.59 1.41.59.51 0 1.02-.2 1.41-.59l7.78-7.78 2.81-2.81c.8-.78.8-2.07 0-2.86zM5.41 20L4 18.59l7.72-7.72 1.47 1.35L5.41 20z\"/>\n",
       "  </svg>\n",
       "      </button>\n",
       "\n",
       "\n",
       "\n",
       "    <div id=\"df-9f589a84-c3bc-4102-85e7-377dabb34e27\">\n",
       "      <button class=\"colab-df-quickchart\" onclick=\"quickchart('df-9f589a84-c3bc-4102-85e7-377dabb34e27')\"\n",
       "              title=\"Suggest charts.\"\n",
       "              style=\"display:none;\">\n",
       "\n",
       "<svg xmlns=\"http://www.w3.org/2000/svg\" height=\"24px\"viewBox=\"0 0 24 24\"\n",
       "     width=\"24px\">\n",
       "    <g>\n",
       "        <path d=\"M19 3H5c-1.1 0-2 .9-2 2v14c0 1.1.9 2 2 2h14c1.1 0 2-.9 2-2V5c0-1.1-.9-2-2-2zM9 17H7v-7h2v7zm4 0h-2V7h2v10zm4 0h-2v-4h2v4z\"/>\n",
       "    </g>\n",
       "</svg>\n",
       "      </button>\n",
       "    </div>\n",
       "\n",
       "<style>\n",
       "  .colab-df-quickchart {\n",
       "    background-color: #E8F0FE;\n",
       "    border: none;\n",
       "    border-radius: 50%;\n",
       "    cursor: pointer;\n",
       "    display: none;\n",
       "    fill: #1967D2;\n",
       "    height: 32px;\n",
       "    padding: 0 0 0 0;\n",
       "    width: 32px;\n",
       "  }\n",
       "\n",
       "  .colab-df-quickchart:hover {\n",
       "    background-color: #E2EBFA;\n",
       "    box-shadow: 0px 1px 2px rgba(60, 64, 67, 0.3), 0px 1px 3px 1px rgba(60, 64, 67, 0.15);\n",
       "    fill: #174EA6;\n",
       "  }\n",
       "\n",
       "  [theme=dark] .colab-df-quickchart {\n",
       "    background-color: #3B4455;\n",
       "    fill: #D2E3FC;\n",
       "  }\n",
       "\n",
       "  [theme=dark] .colab-df-quickchart:hover {\n",
       "    background-color: #434B5C;\n",
       "    box-shadow: 0px 1px 3px 1px rgba(0, 0, 0, 0.15);\n",
       "    filter: drop-shadow(0px 1px 2px rgba(0, 0, 0, 0.3));\n",
       "    fill: #FFFFFF;\n",
       "  }\n",
       "</style>\n",
       "\n",
       "    <script>\n",
       "      async function quickchart(key) {\n",
       "        const containerElement = document.querySelector('#' + key);\n",
       "        const charts = await google.colab.kernel.invokeFunction(\n",
       "            'suggestCharts', [key], {});\n",
       "      }\n",
       "    </script>\n",
       "\n",
       "      <script>\n",
       "\n",
       "function displayQuickchartButton(domScope) {\n",
       "  let quickchartButtonEl =\n",
       "    domScope.querySelector('#df-9f589a84-c3bc-4102-85e7-377dabb34e27 button.colab-df-quickchart');\n",
       "  quickchartButtonEl.style.display =\n",
       "    google.colab.kernel.accessAllowed ? 'block' : 'none';\n",
       "}\n",
       "\n",
       "        displayQuickchartButton(document);\n",
       "      </script>\n",
       "      <style>\n",
       "    .colab-df-container {\n",
       "      display:flex;\n",
       "      flex-wrap:wrap;\n",
       "      gap: 12px;\n",
       "    }\n",
       "\n",
       "    .colab-df-convert {\n",
       "      background-color: #E8F0FE;\n",
       "      border: none;\n",
       "      border-radius: 50%;\n",
       "      cursor: pointer;\n",
       "      display: none;\n",
       "      fill: #1967D2;\n",
       "      height: 32px;\n",
       "      padding: 0 0 0 0;\n",
       "      width: 32px;\n",
       "    }\n",
       "\n",
       "    .colab-df-convert:hover {\n",
       "      background-color: #E2EBFA;\n",
       "      box-shadow: 0px 1px 2px rgba(60, 64, 67, 0.3), 0px 1px 3px 1px rgba(60, 64, 67, 0.15);\n",
       "      fill: #174EA6;\n",
       "    }\n",
       "\n",
       "    [theme=dark] .colab-df-convert {\n",
       "      background-color: #3B4455;\n",
       "      fill: #D2E3FC;\n",
       "    }\n",
       "\n",
       "    [theme=dark] .colab-df-convert:hover {\n",
       "      background-color: #434B5C;\n",
       "      box-shadow: 0px 1px 3px 1px rgba(0, 0, 0, 0.15);\n",
       "      filter: drop-shadow(0px 1px 2px rgba(0, 0, 0, 0.3));\n",
       "      fill: #FFFFFF;\n",
       "    }\n",
       "  </style>\n",
       "\n",
       "      <script>\n",
       "        const buttonEl =\n",
       "          document.querySelector('#df-1eae4ad8-f78d-4ae0-9e50-1c2d36640a00 button.colab-df-convert');\n",
       "        buttonEl.style.display =\n",
       "          google.colab.kernel.accessAllowed ? 'block' : 'none';\n",
       "\n",
       "        async function convertToInteractive(key) {\n",
       "          const element = document.querySelector('#df-1eae4ad8-f78d-4ae0-9e50-1c2d36640a00');\n",
       "          const dataTable =\n",
       "            await google.colab.kernel.invokeFunction('convertToInteractive',\n",
       "                                                     [key], {});\n",
       "          if (!dataTable) return;\n",
       "\n",
       "          const docLinkHtml = 'Like what you see? Visit the ' +\n",
       "            '<a target=\"_blank\" href=https://colab.research.google.com/notebooks/data_table.ipynb>data table notebook</a>'\n",
       "            + ' to learn more about interactive tables.';\n",
       "          element.innerHTML = '';\n",
       "          dataTable['output_type'] = 'display_data';\n",
       "          await google.colab.output.renderOutput(dataTable, element);\n",
       "          const docLink = document.createElement('div');\n",
       "          docLink.innerHTML = docLinkHtml;\n",
       "          element.appendChild(docLink);\n",
       "        }\n",
       "      </script>\n",
       "    </div>\n",
       "  </div>\n"
      ],
      "text/plain": [
       "                                  Train RMSE  Validation RMSE  Test RMSE  \\\n",
       "Model                                                                      \n",
       "LR                                    2782.4           2780.5     2786.1   \n",
       "CatBoost with default parameters      1492.3           1562.4     1577.9   \n",
       "LGBM                                  1316.9           1499.2     1516.8   \n",
       "XGB                                   1454.6           1572.6     1583.4   \n",
       "Dummy                                 4912.1           4888.9     4924.4   \n",
       "cb_tuned                              1279.0           1514.7     1531.5   \n",
       "cb_tuned_short                        1268.3           1529.1     1545.7   \n",
       "\n",
       "                                  Training time, sec  \\\n",
       "Model                                                  \n",
       "LR                                          0.071584   \n",
       "CatBoost with default parameters          146.032359   \n",
       "LGBM                                       15.937981   \n",
       "XGB                                        25.195928   \n",
       "Dummy                                       0.004093   \n",
       "cb_tuned                                  206.847965   \n",
       "cb_tuned_short                            177.312312   \n",
       "\n",
       "                                  Predict on validation time, sec  \\\n",
       "Model                                                               \n",
       "LR                                                       0.010233   \n",
       "CatBoost with default parameters                         0.162333   \n",
       "LGBM                                                     3.601253   \n",
       "XGB                                                      0.121176   \n",
       "Dummy                                                    0.000226   \n",
       "cb_tuned                                                 0.442703   \n",
       "cb_tuned_short                                           0.328014   \n",
       "\n",
       "                                  Predict on test time, sec  \n",
       "Model                                                        \n",
       "LR                                                 0.035628  \n",
       "CatBoost with default parameters                   0.146253  \n",
       "LGBM                                               3.640117  \n",
       "XGB                                                0.115273  \n",
       "Dummy                                              0.000178  \n",
       "cb_tuned                                           0.470364  \n",
       "cb_tuned_short                                     0.333714  "
      ]
     },
     "execution_count": 174,
     "metadata": {},
     "output_type": "execute_result"
    }
   ],
   "source": [
    "experiments"
   ]
  },
  {
   "cell_type": "markdown",
   "metadata": {
    "id": "2kqBvMag6-jO"
   },
   "source": [
    "#### Light GBM"
   ]
  },
  {
   "cell_type": "markdown",
   "metadata": {},
   "source": [
    "Это минуты за 2-4 выполнялось."
   ]
  },
  {
   "cell_type": "code",
   "execution_count": 188,
   "metadata": {
    "colab": {
     "base_uri": "https://localhost:8080/"
    },
    "id": "jukgDNWUS0dk",
    "outputId": "88f06e82-4e1e-44ab-dff0-8bffe41bc105"
   },
   "outputs": [
    {
     "name": "stderr",
     "output_type": "stream",
     "text": [
      "[I 2023-07-20 19:48:22,710] A new study created in memory with name: no-name-fd01a8bc-b253-46ab-aed4-ae7c3eb32b64\n",
      "[I 2023-07-20 19:48:43,844] Trial 0 finished with value: 1640.9533689456666 and parameters: {'num_leaves': 52, 'max_depth': 6, 'learning_rate': 0.02727755370759792, 'lambda_l1': 0.0037661303640079617, 'lambda_l2': 2.938259325564902e-08, 'bagging_fraction': 0.5494591764694976, 'feature_fraction': 0.6357542102070146}. Best is trial 0 with value: 1640.9533689456666.\n",
      "[I 2023-07-20 19:48:44,210] Trial 1 finished with value: 1591.8072865761465 and parameters: {'num_leaves': 71, 'max_depth': 6, 'learning_rate': 0.06008424158735028, 'lambda_l1': 0.0009112961312784785, 'lambda_l2': 6.565940767725897e-06, 'bagging_fraction': 0.8035396852916441, 'feature_fraction': 0.8387577967953874}. Best is trial 1 with value: 1591.8072865761465.\n",
      "[I 2023-07-20 19:49:00,895] Trial 3 finished with value: 1649.0730505135343 and parameters: {'num_leaves': 30, 'max_depth': 8, 'learning_rate': 0.036011141992837024, 'lambda_l1': 1.4000604558413502e-06, 'lambda_l2': 0.0004435077772940608, 'bagging_fraction': 0.46708586550854475, 'feature_fraction': 0.48176300431818336}. Best is trial 1 with value: 1591.8072865761465.\n",
      "[I 2023-07-20 19:49:03,295] Trial 2 finished with value: 1644.0019612749047 and parameters: {'num_leaves': 57, 'max_depth': 7, 'learning_rate': 0.021242507857441466, 'lambda_l1': 0.03234723904894729, 'lambda_l2': 0.5042153475174269, 'bagging_fraction': 0.4297332105994417, 'feature_fraction': 0.5979972040592185}. Best is trial 1 with value: 1591.8072865761465.\n",
      "[I 2023-07-20 19:49:22,009] Trial 4 finished with value: 1626.5493089323422 and parameters: {'num_leaves': 69, 'max_depth': 7, 'learning_rate': 0.02167260091821694, 'lambda_l1': 1.291906801385978e-06, 'lambda_l2': 0.5689611711929888, 'bagging_fraction': 0.6924997182920952, 'feature_fraction': 0.7536693488656453}. Best is trial 1 with value: 1591.8072865761465.\n",
      "[I 2023-07-20 19:49:23,655] Trial 5 finished with value: 1594.0174551692692 and parameters: {'num_leaves': 74, 'max_depth': 7, 'learning_rate': 0.03677956292126242, 'lambda_l1': 0.05208581735203636, 'lambda_l2': 1.4087531891898468e-05, 'bagging_fraction': 0.7557393009473756, 'feature_fraction': 0.756772244974633}. Best is trial 1 with value: 1591.8072865761465.\n",
      "[I 2023-07-20 19:49:39,286] Trial 6 finished with value: 1712.37092957246 and parameters: {'num_leaves': 33, 'max_depth': 8, 'learning_rate': 0.022806736636193023, 'lambda_l1': 0.2678454548424648, 'lambda_l2': 1.3787057419500103e-07, 'bagging_fraction': 0.5555948689319447, 'feature_fraction': 0.4150816051739322}. Best is trial 1 with value: 1591.8072865761465.\n",
      "[I 2023-07-20 19:49:44,518] Trial 7 finished with value: 1667.4958215679653 and parameters: {'num_leaves': 59, 'max_depth': 6, 'learning_rate': 0.02560227975825122, 'lambda_l1': 0.012071701104234445, 'lambda_l2': 0.027567679630336753, 'bagging_fraction': 0.6986781096159947, 'feature_fraction': 0.4492285347413759}. Best is trial 1 with value: 1591.8072865761465.\n",
      "[I 2023-07-20 19:50:00,700] Trial 8 finished with value: 1550.9622857540937 and parameters: {'num_leaves': 59, 'max_depth': 8, 'learning_rate': 0.09527055864149185, 'lambda_l1': 0.042435455860587334, 'lambda_l2': 0.2031261204313503, 'bagging_fraction': 0.7322405171915692, 'feature_fraction': 0.7916613590401758}. Best is trial 8 with value: 1550.9622857540937.\n",
      "[I 2023-07-20 19:50:04,322] Trial 9 finished with value: 1662.4921385254736 and parameters: {'num_leaves': 47, 'max_depth': 7, 'learning_rate': 0.01825468945060165, 'lambda_l1': 1.626111169145155e-06, 'lambda_l2': 6.975429220165583e-06, 'bagging_fraction': 0.4962066466277226, 'feature_fraction': 0.8706214583746029}. Best is trial 8 with value: 1550.9622857540937.\n",
      "[I 2023-07-20 19:50:18,880] Trial 10 finished with value: 1673.8027388421556 and parameters: {'num_leaves': 56, 'max_depth': 8, 'learning_rate': 0.014641477975529388, 'lambda_l1': 0.11528040544479662, 'lambda_l2': 2.1787445668291143e-08, 'bagging_fraction': 0.4300413380163459, 'feature_fraction': 0.7365608156843702}. Best is trial 8 with value: 1550.9622857540937.\n",
      "[I 2023-07-20 19:50:21,581] Trial 11 finished with value: 1565.3289293808311 and parameters: {'num_leaves': 41, 'max_depth': 8, 'learning_rate': 0.08625411672227476, 'lambda_l1': 0.00015680359855056513, 'lambda_l2': 0.0033715264359415794, 'bagging_fraction': 0.8560001547629583, 'feature_fraction': 0.7422974482471465}. Best is trial 8 with value: 1550.9622857540937.\n",
      "[I 2023-07-20 19:50:37,563] Trial 12 finished with value: 1570.5706503165454 and parameters: {'num_leaves': 80, 'max_depth': 6, 'learning_rate': 0.08469128864235738, 'lambda_l1': 0.00043523997024188626, 'lambda_l2': 0.0012242201282957456, 'bagging_fraction': 0.8856577567523389, 'feature_fraction': 0.8943572440093129}. Best is trial 8 with value: 1550.9622857540937.\n",
      "[I 2023-07-20 19:50:39,723] Trial 13 finished with value: 1554.2850328357638 and parameters: {'num_leaves': 41, 'max_depth': 8, 'learning_rate': 0.08939838477398157, 'lambda_l1': 9.122274940606291e-05, 'lambda_l2': 0.006576213689857868, 'bagging_fraction': 0.8893202262528189, 'feature_fraction': 0.8887685926365192}. Best is trial 8 with value: 1550.9622857540937.\n",
      "[I 2023-07-20 19:50:55,516] Trial 14 finished with value: 1555.3349016422692 and parameters: {'num_leaves': 42, 'max_depth': 8, 'learning_rate': 0.09703827310340549, 'lambda_l1': 3.224459556747847e-05, 'lambda_l2': 0.01382634197673759, 'bagging_fraction': 0.8789836379958655, 'feature_fraction': 0.7995868722406333}. Best is trial 8 with value: 1550.9622857540937.\n",
      "[I 2023-07-20 19:50:56,709] Trial 15 finished with value: 1557.4762804064649 and parameters: {'num_leaves': 41, 'max_depth': 8, 'learning_rate': 0.09508882771547403, 'lambda_l1': 2.949687516953595e-05, 'lambda_l2': 0.036271454561747726, 'bagging_fraction': 0.8073707609211767, 'feature_fraction': 0.8371418799950028}. Best is trial 8 with value: 1550.9622857540937.\n",
      "[I 2023-07-20 19:51:16,183] Trial 17 finished with value: 1570.7584327993427 and parameters: {'num_leaves': 49, 'max_depth': 8, 'learning_rate': 0.061569608601882105, 'lambda_l1': 0.6614425763166565, 'lambda_l2': 0.09426876677503195, 'bagging_fraction': 0.6482973081129743, 'feature_fraction': 0.8816928671817396}. Best is trial 8 with value: 1550.9622857540937.\n",
      "[I 2023-07-20 19:51:17,645] Trial 16 finished with value: 1560.18133580108 and parameters: {'num_leaves': 65, 'max_depth': 8, 'learning_rate': 0.06186027428179165, 'lambda_l1': 0.8151415445387933, 'lambda_l2': 0.061695507982851026, 'bagging_fraction': 0.7853737928991702, 'feature_fraction': 0.82254192476455}. Best is trial 8 with value: 1550.9622857540937.\n",
      "[I 2023-07-20 19:51:36,021] Trial 18 finished with value: 1569.1678798777127 and parameters: {'num_leaves': 61, 'max_depth': 7, 'learning_rate': 0.06589195912665781, 'lambda_l1': 1.6580388092752587e-08, 'lambda_l2': 0.004610245486897687, 'bagging_fraction': 0.8266955359014541, 'feature_fraction': 0.8067271734242699}. Best is trial 8 with value: 1550.9622857540937.\n",
      "[I 2023-07-20 19:51:37,121] Trial 19 finished with value: 1587.2326319070444 and parameters: {'num_leaves': 62, 'max_depth': 7, 'learning_rate': 0.043359803894119774, 'lambda_l1': 1.1274335351387758e-08, 'lambda_l2': 0.004083267734423145, 'bagging_fraction': 0.8453100243938418, 'feature_fraction': 0.8963937705317828}. Best is trial 8 with value: 1550.9622857540937.\n"
     ]
    },
    {
     "name": "stdout",
     "output_type": "stream",
     "text": [
      "Number of finished trials: 20\n",
      "Best value: 1550.9622857540937\n",
      "[LightGBM] [Info] Total Bins 681\n",
      "[LightGBM] [Info] Number of data points in the train set: 167861, number of used features: 26\n",
      "[LightGBM] [Info] Start training from score 5048.847213\n",
      "Training until validation scores don't improve for 200 rounds\n",
      "[LightGBM] [Warning] No further splits with positive gain, best gain: -inf\n",
      "[LightGBM] [Warning] No further splits with positive gain, best gain: -inf\n",
      "[LightGBM] [Warning] No further splits with positive gain, best gain: -inf\n",
      "[LightGBM] [Warning] No further splits with positive gain, best gain: -inf\n",
      "[LightGBM] [Warning] No further splits with positive gain, best gain: -inf\n",
      "[LightGBM] [Warning] No further splits with positive gain, best gain: -inf\n",
      "[LightGBM] [Warning] No further splits with positive gain, best gain: -inf\n",
      "[LightGBM] [Warning] No further splits with positive gain, best gain: -inf\n",
      "[LightGBM] [Warning] No further splits with positive gain, best gain: -inf\n",
      "[LightGBM] [Warning] No further splits with positive gain, best gain: -inf\n",
      "[LightGBM] [Warning] No further splits with positive gain, best gain: -inf\n",
      "[LightGBM] [Warning] No further splits with positive gain, best gain: -inf\n",
      "[LightGBM] [Warning] No further splits with positive gain, best gain: -inf\n",
      "[LightGBM] [Warning] No further splits with positive gain, best gain: -inf\n",
      "[LightGBM] [Warning] No further splits with positive gain, best gain: -inf\n",
      "[LightGBM] [Warning] No further splits with positive gain, best gain: -inf\n",
      "[LightGBM] [Warning] No further splits with positive gain, best gain: -inf\n",
      "[LightGBM] [Warning] No further splits with positive gain, best gain: -inf\n",
      "[LightGBM] [Warning] No further splits with positive gain, best gain: -inf\n",
      "[LightGBM] [Warning] No further splits with positive gain, best gain: -inf\n",
      "[LightGBM] [Warning] No further splits with positive gain, best gain: -inf\n",
      "[LightGBM] [Warning] No further splits with positive gain, best gain: -inf\n",
      "[LightGBM] [Warning] No further splits with positive gain, best gain: -inf\n",
      "[LightGBM] [Warning] No further splits with positive gain, best gain: -inf\n",
      "[LightGBM] [Warning] No further splits with positive gain, best gain: -inf\n",
      "[LightGBM] [Warning] No further splits with positive gain, best gain: -inf\n",
      "[LightGBM] [Warning] No further splits with positive gain, best gain: -inf\n",
      "[LightGBM] [Warning] No further splits with positive gain, best gain: -inf\n",
      "[LightGBM] [Warning] No further splits with positive gain, best gain: -inf\n",
      "[LightGBM] [Warning] No further splits with positive gain, best gain: -inf\n",
      "[LightGBM] [Warning] No further splits with positive gain, best gain: -inf\n",
      "[LightGBM] [Warning] No further splits with positive gain, best gain: -inf\n",
      "[LightGBM] [Warning] No further splits with positive gain, best gain: -inf\n",
      "[LightGBM] [Warning] No further splits with positive gain, best gain: -inf\n",
      "[LightGBM] [Warning] No further splits with positive gain, best gain: -inf\n",
      "[LightGBM] [Warning] No further splits with positive gain, best gain: -inf\n",
      "[LightGBM] [Warning] No further splits with positive gain, best gain: -inf\n",
      "[LightGBM] [Warning] No further splits with positive gain, best gain: -inf\n",
      "[LightGBM] [Warning] No further splits with positive gain, best gain: -inf\n",
      "[LightGBM] [Warning] No further splits with positive gain, best gain: -inf\n",
      "[LightGBM] [Warning] No further splits with positive gain, best gain: -inf\n",
      "[LightGBM] [Warning] No further splits with positive gain, best gain: -inf\n",
      "[LightGBM] [Warning] No further splits with positive gain, best gain: -inf\n",
      "[LightGBM] [Warning] No further splits with positive gain, best gain: -inf\n",
      "[LightGBM] [Warning] No further splits with positive gain, best gain: -inf\n",
      "[LightGBM] [Warning] No further splits with positive gain, best gain: -inf\n",
      "[LightGBM] [Warning] No further splits with positive gain, best gain: -inf\n",
      "[LightGBM] [Warning] No further splits with positive gain, best gain: -inf\n",
      "[LightGBM] [Warning] No further splits with positive gain, best gain: -inf\n",
      "[LightGBM] [Warning] No further splits with positive gain, best gain: -inf\n",
      "[LightGBM] [Warning] No further splits with positive gain, best gain: -inf\n",
      "[LightGBM] [Warning] No further splits with positive gain, best gain: -inf\n",
      "[LightGBM] [Warning] No further splits with positive gain, best gain: -inf\n",
      "[LightGBM] [Warning] No further splits with positive gain, best gain: -inf\n",
      "[LightGBM] [Warning] No further splits with positive gain, best gain: -inf\n",
      "[LightGBM] [Warning] No further splits with positive gain, best gain: -inf\n",
      "[LightGBM] [Warning] No further splits with positive gain, best gain: -inf\n",
      "[LightGBM] [Warning] No further splits with positive gain, best gain: -inf\n",
      "[LightGBM] [Warning] No further splits with positive gain, best gain: -inf\n",
      "[LightGBM] [Warning] No further splits with positive gain, best gain: -inf\n",
      "[LightGBM] [Warning] No further splits with positive gain, best gain: -inf\n",
      "[LightGBM] [Warning] No further splits with positive gain, best gain: -inf\n",
      "[LightGBM] [Warning] No further splits with positive gain, best gain: -inf\n",
      "[LightGBM] [Warning] No further splits with positive gain, best gain: -inf\n",
      "[LightGBM] [Warning] No further splits with positive gain, best gain: -inf\n",
      "[LightGBM] [Warning] No further splits with positive gain, best gain: -inf\n",
      "[LightGBM] [Warning] No further splits with positive gain, best gain: -inf\n",
      "[LightGBM] [Warning] No further splits with positive gain, best gain: -inf\n",
      "[LightGBM] [Warning] No further splits with positive gain, best gain: -inf\n",
      "[LightGBM] [Warning] No further splits with positive gain, best gain: -inf\n",
      "[LightGBM] [Warning] No further splits with positive gain, best gain: -inf\n",
      "[LightGBM] [Warning] No further splits with positive gain, best gain: -inf\n",
      "[LightGBM] [Warning] No further splits with positive gain, best gain: -inf\n",
      "[500]\ttraining's rmse: 1373.05\tvalid_1's rmse: 1517.9\tvalid_2's rmse: 1533.64\n",
      "Did not meet early stopping. Best iteration is:\n",
      "[500]\ttraining's rmse: 1373.05\tvalid_1's rmse: 1517.9\tvalid_2's rmse: 1533.64\n"
     ]
    }
   ],
   "source": [
    "def fit_lgbm(trial):\n",
    "    params = {\n",
    "        'num_leaves': trial.suggest_int('num_leaves', 30, 80),\n",
    "        'objective': 'regression',\n",
    "        'max_depth': trial.suggest_int('max_depth', 6, 8),\n",
    "        'learning_rate': trial.suggest_loguniform('learning_rate', 1e-2, 1e-1),\n",
    "        \"boosting\": \"gbdt\",\n",
    "        'lambda_l1': trial.suggest_loguniform('lambda_l1', 1e-8, 1.0),\n",
    "        'lambda_l2': trial.suggest_loguniform('lambda_l2', 1e-8, 1.0),\n",
    "        \"bagging_freq\": 5,\n",
    "        \"bagging_fraction\": trial.suggest_uniform('bagging_fraction', 0.4, 0.9),\n",
    "        \"feature_fraction\": trial.suggest_uniform('feature_fraction', 0.4, 0.9),\n",
    "        \"metric\": 'rmse',\n",
    "        \"verbosity\": -1, # отключить предупреждения\n",
    "        \"verbose\": -1     # отключить вывод во время обучения\n",
    "    }\n",
    "\n",
    "    d_train = lgb.Dataset(X_train, label=y_train)\n",
    "    d_valid = lgb.Dataset(X_val, label=y_val)\n",
    "\n",
    "    model = lgb.train(params,\n",
    "                      train_set=d_train,\n",
    "                      num_boost_round=300,\n",
    "                      valid_sets=[d_valid],\n",
    "                      early_stopping_rounds=100,\n",
    "                      verbose_eval=False)\n",
    "\n",
    "    y_pred_valid = model.predict(X_val, num_iteration=model.best_iteration)\n",
    "\n",
    "    rmse = (mean_squared_error(y_val, y_pred_valid))**0.5\n",
    "\n",
    "    return rmse\n",
    "\n",
    "# Оптимизация гиперпараметров\n",
    "start_study = datetime.now()\n",
    "\n",
    "lgb_study = optuna.create_study(direction='minimize')\n",
    "lgb_study.optimize(fit_lgbm, n_trials=20, n_jobs=-1)\n",
    "\n",
    "print('Number of finished trials:', len(lgb_study.trials))\n",
    "print('Best value:', lgb_study.best_value)\n",
    "\n",
    "end_study = datetime.now()\n",
    "delta_study = (end_study - start_study).total_seconds()\n",
    "\n",
    "# Установка параметров модели\n",
    "param = {\n",
    "    'objective': 'regression',\n",
    "    'metric': 'rmse',\n",
    "    'random_state': 48,\n",
    "    'n_estimators': 500,\n",
    "    'force_row_wise': True,\n",
    "    **lgb_study.best_trial.params\n",
    "}\n",
    "\n",
    "# Обучение модели\n",
    "start_train = datetime.now()\n",
    "\n",
    "train_data = lgb.Dataset(X_train, label=y_train)\n",
    "val_data = lgb.Dataset(X_val, label=y_val, reference=train_data)\n",
    "test_data = lgb.Dataset(X_test, label=y_test)\n",
    "\n",
    "model = lgb.train(param,\n",
    "                  train_data,\n",
    "                  num_boost_round=5000,\n",
    "                  valid_sets=[train_data, val_data, test_data],\n",
    "                  verbose_eval=500,\n",
    "                  early_stopping_rounds=200)\n",
    "\n",
    "end_train = datetime.now()\n",
    "delta_train = (end_train - start_train).total_seconds()\n",
    "\n",
    "# Предсказание на тренировочных данных\n",
    "start_train_predict = datetime.now()\n",
    "predict_train = model.predict(X_train, num_iteration=model.best_iteration)\n",
    "end_train_predict = datetime.now()\n",
    "delta_train_predict = (end_train_predict - start_train_predict).total_seconds()\n",
    "\n",
    "# Предсказание на валидационных данных\n",
    "start_val_predict = datetime.now()\n",
    "predict_val = model.predict(X_val, num_iteration=model.best_iteration)\n",
    "end_val_predict = datetime.now()\n",
    "delta_val_predict = (end_val_predict - start_val_predict).total_seconds()\n",
    "\n",
    "# Предсказание на тестовых данных\n",
    "start_test_predict = datetime.now()\n",
    "predict_test = model.predict(X_test, num_iteration=model.best_iteration)\n",
    "end_test_predict = datetime.now()\n",
    "delta_test_predict = (end_test_predict - start_test_predict).total_seconds()\n",
    "\n",
    "# Сохранение результатов\n",
    "experiments.loc['lgbm_tuned'] = [np.round(mean_squared_error(y_train, predict_train)**0.5, 2),\n",
    "                                   np.round(mean_squared_error(y_val, predict_val)**0.5, 2),\n",
    "                                   np.round(mean_squared_error(y_test, predict_test)**0.5, 2),\n",
    "                                   delta_train,\n",
    "                                   delta_val_predict,\n",
    "                                   delta_test_predict]\n"
   ]
  },
  {
   "cell_type": "markdown",
   "metadata": {
    "id": "BmA9noxh6-jP"
   },
   "source": [
    "## Анализ моделей"
   ]
  },
  {
   "cell_type": "code",
   "execution_count": 191,
   "metadata": {
    "colab": {
     "base_uri": "https://localhost:8080/",
     "height": 328
    },
    "id": "FE-vuiOO6-jP",
    "outputId": "83c4d953-86ee-4295-975f-54c50d366f55"
   },
   "outputs": [
    {
     "data": {
      "text/html": [
       "\n",
       "\n",
       "  <div id=\"df-26264513-28ef-467f-a5f2-96add3dcb670\">\n",
       "    <div class=\"colab-df-container\">\n",
       "      <div>\n",
       "<style scoped>\n",
       "    .dataframe tbody tr th:only-of-type {\n",
       "        vertical-align: middle;\n",
       "    }\n",
       "\n",
       "    .dataframe tbody tr th {\n",
       "        vertical-align: top;\n",
       "    }\n",
       "\n",
       "    .dataframe thead th {\n",
       "        text-align: right;\n",
       "    }\n",
       "</style>\n",
       "<table border=\"1\" class=\"dataframe\">\n",
       "  <thead>\n",
       "    <tr style=\"text-align: right;\">\n",
       "      <th></th>\n",
       "      <th>Train RMSE</th>\n",
       "      <th>Validation RMSE</th>\n",
       "      <th>Test RMSE</th>\n",
       "      <th>Training time, sec</th>\n",
       "      <th>Predict on validation time, sec</th>\n",
       "      <th>Predict on test time, sec</th>\n",
       "    </tr>\n",
       "    <tr>\n",
       "      <th>Model</th>\n",
       "      <th></th>\n",
       "      <th></th>\n",
       "      <th></th>\n",
       "      <th></th>\n",
       "      <th></th>\n",
       "      <th></th>\n",
       "    </tr>\n",
       "  </thead>\n",
       "  <tbody>\n",
       "    <tr>\n",
       "      <th>LR</th>\n",
       "      <td>2782.40</td>\n",
       "      <td>2780.5</td>\n",
       "      <td>2786.10</td>\n",
       "      <td>0.071584</td>\n",
       "      <td>0.010233</td>\n",
       "      <td>0.035628</td>\n",
       "    </tr>\n",
       "    <tr>\n",
       "      <th>CatBoost with default parameters</th>\n",
       "      <td>1492.30</td>\n",
       "      <td>1562.4</td>\n",
       "      <td>1577.90</td>\n",
       "      <td>146.032359</td>\n",
       "      <td>0.162333</td>\n",
       "      <td>0.146253</td>\n",
       "    </tr>\n",
       "    <tr>\n",
       "      <th>LGBM</th>\n",
       "      <td>1316.90</td>\n",
       "      <td>1499.2</td>\n",
       "      <td>1516.80</td>\n",
       "      <td>15.937981</td>\n",
       "      <td>3.601253</td>\n",
       "      <td>3.640117</td>\n",
       "    </tr>\n",
       "    <tr>\n",
       "      <th>XGB</th>\n",
       "      <td>1454.60</td>\n",
       "      <td>1572.6</td>\n",
       "      <td>1583.40</td>\n",
       "      <td>25.195928</td>\n",
       "      <td>0.121176</td>\n",
       "      <td>0.115273</td>\n",
       "    </tr>\n",
       "    <tr>\n",
       "      <th>Dummy</th>\n",
       "      <td>4912.10</td>\n",
       "      <td>4888.9</td>\n",
       "      <td>4924.40</td>\n",
       "      <td>0.004093</td>\n",
       "      <td>0.000226</td>\n",
       "      <td>0.000178</td>\n",
       "    </tr>\n",
       "    <tr>\n",
       "      <th>cb_tuned</th>\n",
       "      <td>1279.00</td>\n",
       "      <td>1514.7</td>\n",
       "      <td>1531.50</td>\n",
       "      <td>206.847965</td>\n",
       "      <td>0.442703</td>\n",
       "      <td>0.470364</td>\n",
       "    </tr>\n",
       "    <tr>\n",
       "      <th>cb_tuned_short</th>\n",
       "      <td>1268.30</td>\n",
       "      <td>1529.1</td>\n",
       "      <td>1545.70</td>\n",
       "      <td>177.312312</td>\n",
       "      <td>0.328014</td>\n",
       "      <td>0.333714</td>\n",
       "    </tr>\n",
       "    <tr>\n",
       "      <th>lgbm_tuned</th>\n",
       "      <td>1373.05</td>\n",
       "      <td>1517.9</td>\n",
       "      <td>1533.64</td>\n",
       "      <td>11.277394</td>\n",
       "      <td>3.339605</td>\n",
       "      <td>2.112074</td>\n",
       "    </tr>\n",
       "  </tbody>\n",
       "</table>\n",
       "</div>\n",
       "      <button class=\"colab-df-convert\" onclick=\"convertToInteractive('df-26264513-28ef-467f-a5f2-96add3dcb670')\"\n",
       "              title=\"Convert this dataframe to an interactive table.\"\n",
       "              style=\"display:none;\">\n",
       "\n",
       "  <svg xmlns=\"http://www.w3.org/2000/svg\" height=\"24px\"viewBox=\"0 0 24 24\"\n",
       "       width=\"24px\">\n",
       "    <path d=\"M0 0h24v24H0V0z\" fill=\"none\"/>\n",
       "    <path d=\"M18.56 5.44l.94 2.06.94-2.06 2.06-.94-2.06-.94-.94-2.06-.94 2.06-2.06.94zm-11 1L8.5 8.5l.94-2.06 2.06-.94-2.06-.94L8.5 2.5l-.94 2.06-2.06.94zm10 10l.94 2.06.94-2.06 2.06-.94-2.06-.94-.94-2.06-.94 2.06-2.06.94z\"/><path d=\"M17.41 7.96l-1.37-1.37c-.4-.4-.92-.59-1.43-.59-.52 0-1.04.2-1.43.59L10.3 9.45l-7.72 7.72c-.78.78-.78 2.05 0 2.83L4 21.41c.39.39.9.59 1.41.59.51 0 1.02-.2 1.41-.59l7.78-7.78 2.81-2.81c.8-.78.8-2.07 0-2.86zM5.41 20L4 18.59l7.72-7.72 1.47 1.35L5.41 20z\"/>\n",
       "  </svg>\n",
       "      </button>\n",
       "\n",
       "\n",
       "\n",
       "    <div id=\"df-1df77dd6-2b33-41f1-b8d8-ac1353ecd3b6\">\n",
       "      <button class=\"colab-df-quickchart\" onclick=\"quickchart('df-1df77dd6-2b33-41f1-b8d8-ac1353ecd3b6')\"\n",
       "              title=\"Suggest charts.\"\n",
       "              style=\"display:none;\">\n",
       "\n",
       "<svg xmlns=\"http://www.w3.org/2000/svg\" height=\"24px\"viewBox=\"0 0 24 24\"\n",
       "     width=\"24px\">\n",
       "    <g>\n",
       "        <path d=\"M19 3H5c-1.1 0-2 .9-2 2v14c0 1.1.9 2 2 2h14c1.1 0 2-.9 2-2V5c0-1.1-.9-2-2-2zM9 17H7v-7h2v7zm4 0h-2V7h2v10zm4 0h-2v-4h2v4z\"/>\n",
       "    </g>\n",
       "</svg>\n",
       "      </button>\n",
       "    </div>\n",
       "\n",
       "<style>\n",
       "  .colab-df-quickchart {\n",
       "    background-color: #E8F0FE;\n",
       "    border: none;\n",
       "    border-radius: 50%;\n",
       "    cursor: pointer;\n",
       "    display: none;\n",
       "    fill: #1967D2;\n",
       "    height: 32px;\n",
       "    padding: 0 0 0 0;\n",
       "    width: 32px;\n",
       "  }\n",
       "\n",
       "  .colab-df-quickchart:hover {\n",
       "    background-color: #E2EBFA;\n",
       "    box-shadow: 0px 1px 2px rgba(60, 64, 67, 0.3), 0px 1px 3px 1px rgba(60, 64, 67, 0.15);\n",
       "    fill: #174EA6;\n",
       "  }\n",
       "\n",
       "  [theme=dark] .colab-df-quickchart {\n",
       "    background-color: #3B4455;\n",
       "    fill: #D2E3FC;\n",
       "  }\n",
       "\n",
       "  [theme=dark] .colab-df-quickchart:hover {\n",
       "    background-color: #434B5C;\n",
       "    box-shadow: 0px 1px 3px 1px rgba(0, 0, 0, 0.15);\n",
       "    filter: drop-shadow(0px 1px 2px rgba(0, 0, 0, 0.3));\n",
       "    fill: #FFFFFF;\n",
       "  }\n",
       "</style>\n",
       "\n",
       "    <script>\n",
       "      async function quickchart(key) {\n",
       "        const containerElement = document.querySelector('#' + key);\n",
       "        const charts = await google.colab.kernel.invokeFunction(\n",
       "            'suggestCharts', [key], {});\n",
       "      }\n",
       "    </script>\n",
       "\n",
       "      <script>\n",
       "\n",
       "function displayQuickchartButton(domScope) {\n",
       "  let quickchartButtonEl =\n",
       "    domScope.querySelector('#df-1df77dd6-2b33-41f1-b8d8-ac1353ecd3b6 button.colab-df-quickchart');\n",
       "  quickchartButtonEl.style.display =\n",
       "    google.colab.kernel.accessAllowed ? 'block' : 'none';\n",
       "}\n",
       "\n",
       "        displayQuickchartButton(document);\n",
       "      </script>\n",
       "      <style>\n",
       "    .colab-df-container {\n",
       "      display:flex;\n",
       "      flex-wrap:wrap;\n",
       "      gap: 12px;\n",
       "    }\n",
       "\n",
       "    .colab-df-convert {\n",
       "      background-color: #E8F0FE;\n",
       "      border: none;\n",
       "      border-radius: 50%;\n",
       "      cursor: pointer;\n",
       "      display: none;\n",
       "      fill: #1967D2;\n",
       "      height: 32px;\n",
       "      padding: 0 0 0 0;\n",
       "      width: 32px;\n",
       "    }\n",
       "\n",
       "    .colab-df-convert:hover {\n",
       "      background-color: #E2EBFA;\n",
       "      box-shadow: 0px 1px 2px rgba(60, 64, 67, 0.3), 0px 1px 3px 1px rgba(60, 64, 67, 0.15);\n",
       "      fill: #174EA6;\n",
       "    }\n",
       "\n",
       "    [theme=dark] .colab-df-convert {\n",
       "      background-color: #3B4455;\n",
       "      fill: #D2E3FC;\n",
       "    }\n",
       "\n",
       "    [theme=dark] .colab-df-convert:hover {\n",
       "      background-color: #434B5C;\n",
       "      box-shadow: 0px 1px 3px 1px rgba(0, 0, 0, 0.15);\n",
       "      filter: drop-shadow(0px 1px 2px rgba(0, 0, 0, 0.3));\n",
       "      fill: #FFFFFF;\n",
       "    }\n",
       "  </style>\n",
       "\n",
       "      <script>\n",
       "        const buttonEl =\n",
       "          document.querySelector('#df-26264513-28ef-467f-a5f2-96add3dcb670 button.colab-df-convert');\n",
       "        buttonEl.style.display =\n",
       "          google.colab.kernel.accessAllowed ? 'block' : 'none';\n",
       "\n",
       "        async function convertToInteractive(key) {\n",
       "          const element = document.querySelector('#df-26264513-28ef-467f-a5f2-96add3dcb670');\n",
       "          const dataTable =\n",
       "            await google.colab.kernel.invokeFunction('convertToInteractive',\n",
       "                                                     [key], {});\n",
       "          if (!dataTable) return;\n",
       "\n",
       "          const docLinkHtml = 'Like what you see? Visit the ' +\n",
       "            '<a target=\"_blank\" href=https://colab.research.google.com/notebooks/data_table.ipynb>data table notebook</a>'\n",
       "            + ' to learn more about interactive tables.';\n",
       "          element.innerHTML = '';\n",
       "          dataTable['output_type'] = 'display_data';\n",
       "          await google.colab.output.renderOutput(dataTable, element);\n",
       "          const docLink = document.createElement('div');\n",
       "          docLink.innerHTML = docLinkHtml;\n",
       "          element.appendChild(docLink);\n",
       "        }\n",
       "      </script>\n",
       "    </div>\n",
       "  </div>\n"
      ],
      "text/plain": [
       "                                  Train RMSE  Validation RMSE  Test RMSE  \\\n",
       "Model                                                                      \n",
       "LR                                   2782.40           2780.5    2786.10   \n",
       "CatBoost with default parameters     1492.30           1562.4    1577.90   \n",
       "LGBM                                 1316.90           1499.2    1516.80   \n",
       "XGB                                  1454.60           1572.6    1583.40   \n",
       "Dummy                                4912.10           4888.9    4924.40   \n",
       "cb_tuned                             1279.00           1514.7    1531.50   \n",
       "cb_tuned_short                       1268.30           1529.1    1545.70   \n",
       "lgbm_tuned                           1373.05           1517.9    1533.64   \n",
       "\n",
       "                                  Training time, sec  \\\n",
       "Model                                                  \n",
       "LR                                          0.071584   \n",
       "CatBoost with default parameters          146.032359   \n",
       "LGBM                                       15.937981   \n",
       "XGB                                        25.195928   \n",
       "Dummy                                       0.004093   \n",
       "cb_tuned                                  206.847965   \n",
       "cb_tuned_short                            177.312312   \n",
       "lgbm_tuned                                 11.277394   \n",
       "\n",
       "                                 Predict on validation time, sec  \\\n",
       "Model                                                              \n",
       "LR                                                      0.010233   \n",
       "CatBoost with default parameters                        0.162333   \n",
       "LGBM                                                    3.601253   \n",
       "XGB                                                     0.121176   \n",
       "Dummy                                                   0.000226   \n",
       "cb_tuned                                                0.442703   \n",
       "cb_tuned_short                                          0.328014   \n",
       "lgbm_tuned                                              3.339605   \n",
       "\n",
       "                                  Predict on test time, sec  \n",
       "Model                                                        \n",
       "LR                                                 0.035628  \n",
       "CatBoost with default parameters                   0.146253  \n",
       "LGBM                                               3.640117  \n",
       "XGB                                                0.115273  \n",
       "Dummy                                              0.000178  \n",
       "cb_tuned                                           0.470364  \n",
       "cb_tuned_short                                     0.333714  \n",
       "lgbm_tuned                                         2.112074  "
      ]
     },
     "execution_count": 191,
     "metadata": {},
     "output_type": "execute_result"
    }
   ],
   "source": [
    "experiments = experiments.drop('lgbm_tuned_3')\n",
    "experiments"
   ]
  },
  {
   "cell_type": "markdown",
   "metadata": {
    "id": "y7hh-ZWZKyD-"
   },
   "source": [
    "***Основываясь на данных выше, можно сделать следующие выводы :***\n",
    "\n",
    "- **Dummy модель:** Как и ожидалось, показывает наихудшие результаты по всем метрикам. Эта модель может быть использована как базовый эталон для сравнения с более сложными моделями.\n",
    "- **Линейная регрессия (LR):** Несмотря на свою быстроту в обучении и предсказании, RMSE на тестовых данных существенно выше, чем у остальных моделей, что делает ее менее предпочтительной для этой задачи.\n",
    "- **CatBoost** с параметрами по умолчанию и **XGB**: Эти модели показывают схожие результаты, при этом CatBoost немного превосходит XGB по точности, но требует больше времени как на обучение, так и на предсказание.\n",
    "- **LGBM:** Модель демонстрирует относительно быстрое время обучения и высокую точность на тестовых данных. Однако, время предсказания для LGBM довольно высоко по сравнению с другими моделями.\n",
    "- **Тюнингованные модели LGBM и CatBoost:** Эти модели показывают улучшение точности по сравнению со своими стандартными версиями, однако время обучения увеличивается, особенно для модели CatBoost. Среди тюнингованных моделей, CatBoost со \"сокращенными\" параметрами показывает более короткое время обучения и предсказания, при этом достигая схожего уровня точности с обычной тюнингованной моделью.\n",
    "\n",
    "*В данном случае, лучшей моделью по соотношению качество/время является **LGBM с тюнингованными параметрами**. Она показывает хорошую точность на тестовых данных (RMSE 1533.64) при довольно быстром времени обучения (11.28 секунд). В то же время, время предсказания на тестовых данных также важно учитывать, и здесь LGBM выше остальных моделей, но для бизнеса, наверное, нельзя использовать такую модель, так как RMSE составляет 30% от средней цены и 44% от медианы.*"
   ]
  },
  {
   "cell_type": "markdown",
   "metadata": {
    "id": "5uno7rB26-jP"
   },
   "source": [
    "Посмотрим на некоторые графики:"
   ]
  },
  {
   "cell_type": "code",
   "execution_count": 193,
   "metadata": {
    "colab": {
     "base_uri": "https://localhost:8080/",
     "height": 542
    },
    "id": "nN2wMSsE6-jP",
    "outputId": "afb280cd-14b3-4a75-a9b2-e820995b4901"
   },
   "outputs": [
    {
     "data": {
      "text/html": [
       "<html>\n",
       "<head><meta charset=\"utf-8\" /></head>\n",
       "<body>\n",
       "    <div>            <script src=\"https://cdnjs.cloudflare.com/ajax/libs/mathjax/2.7.5/MathJax.js?config=TeX-AMS-MML_SVG\"></script><script type=\"text/javascript\">if (window.MathJax && window.MathJax.Hub && window.MathJax.Hub.Config) {window.MathJax.Hub.Config({SVG: {font: \"STIX-Web\"}});}</script>                <script type=\"text/javascript\">window.PlotlyConfig = {MathJaxConfig: 'local'};</script>\n",
       "        <script src=\"https://cdn.plot.ly/plotly-2.18.2.min.js\"></script>                <div id=\"0d23bab2-c8ed-4108-b3ac-e990c81a5cf8\" class=\"plotly-graph-div\" style=\"height:525px; width:100%;\"></div>            <script type=\"text/javascript\">                                    window.PLOTLYENV=window.PLOTLYENV || {};                                    if (document.getElementById(\"0d23bab2-c8ed-4108-b3ac-e990c81a5cf8\")) {                    Plotly.newPlot(                        \"0d23bab2-c8ed-4108-b3ac-e990c81a5cf8\",                        [{\"cliponaxis\":false,\"hovertemplate\":[\"lambda_l2 (FloatDistribution): 0.002419143025158584<extra></extra>\",\"max_depth (IntDistribution): 0.004951849919990227<extra></extra>\",\"lambda_l1 (FloatDistribution): 0.005628867787209175<extra></extra>\",\"num_leaves (IntDistribution): 0.006294113016677209<extra></extra>\",\"bagging_fraction (FloatDistribution): 0.07733100863833903<extra></extra>\",\"feature_fraction (FloatDistribution): 0.107747435243484<extra></extra>\",\"learning_rate (FloatDistribution): 0.7956275823691419<extra></extra>\"],\"marker\":{\"color\":\"rgb(66,146,198)\"},\"orientation\":\"h\",\"text\":[\"<0.01\",\"<0.01\",\"<0.01\",\"<0.01\",\"0.08\",\"0.11\",\"0.80\"],\"textposition\":\"outside\",\"x\":[0.002419143025158584,0.004951849919990227,0.005628867787209175,0.006294113016677209,0.07733100863833903,0.107747435243484,0.7956275823691419],\"y\":[\"lambda_l2\",\"max_depth\",\"lambda_l1\",\"num_leaves\",\"bagging_fraction\",\"feature_fraction\",\"learning_rate\"],\"type\":\"bar\"}],                        {\"showlegend\":false,\"title\":{\"text\":\"Hyperparameter Importances\"},\"xaxis\":{\"title\":{\"text\":\"Importance for Objective Value\"}},\"yaxis\":{\"title\":{\"text\":\"Hyperparameter\"}},\"template\":{\"data\":{\"histogram2dcontour\":[{\"type\":\"histogram2dcontour\",\"colorbar\":{\"outlinewidth\":0,\"ticks\":\"\"},\"colorscale\":[[0.0,\"#0d0887\"],[0.1111111111111111,\"#46039f\"],[0.2222222222222222,\"#7201a8\"],[0.3333333333333333,\"#9c179e\"],[0.4444444444444444,\"#bd3786\"],[0.5555555555555556,\"#d8576b\"],[0.6666666666666666,\"#ed7953\"],[0.7777777777777778,\"#fb9f3a\"],[0.8888888888888888,\"#fdca26\"],[1.0,\"#f0f921\"]]}],\"choropleth\":[{\"type\":\"choropleth\",\"colorbar\":{\"outlinewidth\":0,\"ticks\":\"\"}}],\"histogram2d\":[{\"type\":\"histogram2d\",\"colorbar\":{\"outlinewidth\":0,\"ticks\":\"\"},\"colorscale\":[[0.0,\"#0d0887\"],[0.1111111111111111,\"#46039f\"],[0.2222222222222222,\"#7201a8\"],[0.3333333333333333,\"#9c179e\"],[0.4444444444444444,\"#bd3786\"],[0.5555555555555556,\"#d8576b\"],[0.6666666666666666,\"#ed7953\"],[0.7777777777777778,\"#fb9f3a\"],[0.8888888888888888,\"#fdca26\"],[1.0,\"#f0f921\"]]}],\"heatmap\":[{\"type\":\"heatmap\",\"colorbar\":{\"outlinewidth\":0,\"ticks\":\"\"},\"colorscale\":[[0.0,\"#0d0887\"],[0.1111111111111111,\"#46039f\"],[0.2222222222222222,\"#7201a8\"],[0.3333333333333333,\"#9c179e\"],[0.4444444444444444,\"#bd3786\"],[0.5555555555555556,\"#d8576b\"],[0.6666666666666666,\"#ed7953\"],[0.7777777777777778,\"#fb9f3a\"],[0.8888888888888888,\"#fdca26\"],[1.0,\"#f0f921\"]]}],\"heatmapgl\":[{\"type\":\"heatmapgl\",\"colorbar\":{\"outlinewidth\":0,\"ticks\":\"\"},\"colorscale\":[[0.0,\"#0d0887\"],[0.1111111111111111,\"#46039f\"],[0.2222222222222222,\"#7201a8\"],[0.3333333333333333,\"#9c179e\"],[0.4444444444444444,\"#bd3786\"],[0.5555555555555556,\"#d8576b\"],[0.6666666666666666,\"#ed7953\"],[0.7777777777777778,\"#fb9f3a\"],[0.8888888888888888,\"#fdca26\"],[1.0,\"#f0f921\"]]}],\"contourcarpet\":[{\"type\":\"contourcarpet\",\"colorbar\":{\"outlinewidth\":0,\"ticks\":\"\"}}],\"contour\":[{\"type\":\"contour\",\"colorbar\":{\"outlinewidth\":0,\"ticks\":\"\"},\"colorscale\":[[0.0,\"#0d0887\"],[0.1111111111111111,\"#46039f\"],[0.2222222222222222,\"#7201a8\"],[0.3333333333333333,\"#9c179e\"],[0.4444444444444444,\"#bd3786\"],[0.5555555555555556,\"#d8576b\"],[0.6666666666666666,\"#ed7953\"],[0.7777777777777778,\"#fb9f3a\"],[0.8888888888888888,\"#fdca26\"],[1.0,\"#f0f921\"]]}],\"surface\":[{\"type\":\"surface\",\"colorbar\":{\"outlinewidth\":0,\"ticks\":\"\"},\"colorscale\":[[0.0,\"#0d0887\"],[0.1111111111111111,\"#46039f\"],[0.2222222222222222,\"#7201a8\"],[0.3333333333333333,\"#9c179e\"],[0.4444444444444444,\"#bd3786\"],[0.5555555555555556,\"#d8576b\"],[0.6666666666666666,\"#ed7953\"],[0.7777777777777778,\"#fb9f3a\"],[0.8888888888888888,\"#fdca26\"],[1.0,\"#f0f921\"]]}],\"mesh3d\":[{\"type\":\"mesh3d\",\"colorbar\":{\"outlinewidth\":0,\"ticks\":\"\"}}],\"scatter\":[{\"fillpattern\":{\"fillmode\":\"overlay\",\"size\":10,\"solidity\":0.2},\"type\":\"scatter\"}],\"parcoords\":[{\"type\":\"parcoords\",\"line\":{\"colorbar\":{\"outlinewidth\":0,\"ticks\":\"\"}}}],\"scatterpolargl\":[{\"type\":\"scatterpolargl\",\"marker\":{\"colorbar\":{\"outlinewidth\":0,\"ticks\":\"\"}}}],\"bar\":[{\"error_x\":{\"color\":\"#2a3f5f\"},\"error_y\":{\"color\":\"#2a3f5f\"},\"marker\":{\"line\":{\"color\":\"#E5ECF6\",\"width\":0.5},\"pattern\":{\"fillmode\":\"overlay\",\"size\":10,\"solidity\":0.2}},\"type\":\"bar\"}],\"scattergeo\":[{\"type\":\"scattergeo\",\"marker\":{\"colorbar\":{\"outlinewidth\":0,\"ticks\":\"\"}}}],\"scatterpolar\":[{\"type\":\"scatterpolar\",\"marker\":{\"colorbar\":{\"outlinewidth\":0,\"ticks\":\"\"}}}],\"histogram\":[{\"marker\":{\"pattern\":{\"fillmode\":\"overlay\",\"size\":10,\"solidity\":0.2}},\"type\":\"histogram\"}],\"scattergl\":[{\"type\":\"scattergl\",\"marker\":{\"colorbar\":{\"outlinewidth\":0,\"ticks\":\"\"}}}],\"scatter3d\":[{\"type\":\"scatter3d\",\"line\":{\"colorbar\":{\"outlinewidth\":0,\"ticks\":\"\"}},\"marker\":{\"colorbar\":{\"outlinewidth\":0,\"ticks\":\"\"}}}],\"scattermapbox\":[{\"type\":\"scattermapbox\",\"marker\":{\"colorbar\":{\"outlinewidth\":0,\"ticks\":\"\"}}}],\"scatterternary\":[{\"type\":\"scatterternary\",\"marker\":{\"colorbar\":{\"outlinewidth\":0,\"ticks\":\"\"}}}],\"scattercarpet\":[{\"type\":\"scattercarpet\",\"marker\":{\"colorbar\":{\"outlinewidth\":0,\"ticks\":\"\"}}}],\"carpet\":[{\"aaxis\":{\"endlinecolor\":\"#2a3f5f\",\"gridcolor\":\"white\",\"linecolor\":\"white\",\"minorgridcolor\":\"white\",\"startlinecolor\":\"#2a3f5f\"},\"baxis\":{\"endlinecolor\":\"#2a3f5f\",\"gridcolor\":\"white\",\"linecolor\":\"white\",\"minorgridcolor\":\"white\",\"startlinecolor\":\"#2a3f5f\"},\"type\":\"carpet\"}],\"table\":[{\"cells\":{\"fill\":{\"color\":\"#EBF0F8\"},\"line\":{\"color\":\"white\"}},\"header\":{\"fill\":{\"color\":\"#C8D4E3\"},\"line\":{\"color\":\"white\"}},\"type\":\"table\"}],\"barpolar\":[{\"marker\":{\"line\":{\"color\":\"#E5ECF6\",\"width\":0.5},\"pattern\":{\"fillmode\":\"overlay\",\"size\":10,\"solidity\":0.2}},\"type\":\"barpolar\"}],\"pie\":[{\"automargin\":true,\"type\":\"pie\"}]},\"layout\":{\"autotypenumbers\":\"strict\",\"colorway\":[\"#636efa\",\"#EF553B\",\"#00cc96\",\"#ab63fa\",\"#FFA15A\",\"#19d3f3\",\"#FF6692\",\"#B6E880\",\"#FF97FF\",\"#FECB52\"],\"font\":{\"color\":\"#2a3f5f\"},\"hovermode\":\"closest\",\"hoverlabel\":{\"align\":\"left\"},\"paper_bgcolor\":\"white\",\"plot_bgcolor\":\"#E5ECF6\",\"polar\":{\"bgcolor\":\"#E5ECF6\",\"angularaxis\":{\"gridcolor\":\"white\",\"linecolor\":\"white\",\"ticks\":\"\"},\"radialaxis\":{\"gridcolor\":\"white\",\"linecolor\":\"white\",\"ticks\":\"\"}},\"ternary\":{\"bgcolor\":\"#E5ECF6\",\"aaxis\":{\"gridcolor\":\"white\",\"linecolor\":\"white\",\"ticks\":\"\"},\"baxis\":{\"gridcolor\":\"white\",\"linecolor\":\"white\",\"ticks\":\"\"},\"caxis\":{\"gridcolor\":\"white\",\"linecolor\":\"white\",\"ticks\":\"\"}},\"coloraxis\":{\"colorbar\":{\"outlinewidth\":0,\"ticks\":\"\"}},\"colorscale\":{\"sequential\":[[0.0,\"#0d0887\"],[0.1111111111111111,\"#46039f\"],[0.2222222222222222,\"#7201a8\"],[0.3333333333333333,\"#9c179e\"],[0.4444444444444444,\"#bd3786\"],[0.5555555555555556,\"#d8576b\"],[0.6666666666666666,\"#ed7953\"],[0.7777777777777778,\"#fb9f3a\"],[0.8888888888888888,\"#fdca26\"],[1.0,\"#f0f921\"]],\"sequentialminus\":[[0.0,\"#0d0887\"],[0.1111111111111111,\"#46039f\"],[0.2222222222222222,\"#7201a8\"],[0.3333333333333333,\"#9c179e\"],[0.4444444444444444,\"#bd3786\"],[0.5555555555555556,\"#d8576b\"],[0.6666666666666666,\"#ed7953\"],[0.7777777777777778,\"#fb9f3a\"],[0.8888888888888888,\"#fdca26\"],[1.0,\"#f0f921\"]],\"diverging\":[[0,\"#8e0152\"],[0.1,\"#c51b7d\"],[0.2,\"#de77ae\"],[0.3,\"#f1b6da\"],[0.4,\"#fde0ef\"],[0.5,\"#f7f7f7\"],[0.6,\"#e6f5d0\"],[0.7,\"#b8e186\"],[0.8,\"#7fbc41\"],[0.9,\"#4d9221\"],[1,\"#276419\"]]},\"xaxis\":{\"gridcolor\":\"white\",\"linecolor\":\"white\",\"ticks\":\"\",\"title\":{\"standoff\":15},\"zerolinecolor\":\"white\",\"automargin\":true,\"zerolinewidth\":2},\"yaxis\":{\"gridcolor\":\"white\",\"linecolor\":\"white\",\"ticks\":\"\",\"title\":{\"standoff\":15},\"zerolinecolor\":\"white\",\"automargin\":true,\"zerolinewidth\":2},\"scene\":{\"xaxis\":{\"backgroundcolor\":\"#E5ECF6\",\"gridcolor\":\"white\",\"linecolor\":\"white\",\"showbackground\":true,\"ticks\":\"\",\"zerolinecolor\":\"white\",\"gridwidth\":2},\"yaxis\":{\"backgroundcolor\":\"#E5ECF6\",\"gridcolor\":\"white\",\"linecolor\":\"white\",\"showbackground\":true,\"ticks\":\"\",\"zerolinecolor\":\"white\",\"gridwidth\":2},\"zaxis\":{\"backgroundcolor\":\"#E5ECF6\",\"gridcolor\":\"white\",\"linecolor\":\"white\",\"showbackground\":true,\"ticks\":\"\",\"zerolinecolor\":\"white\",\"gridwidth\":2}},\"shapedefaults\":{\"line\":{\"color\":\"#2a3f5f\"}},\"annotationdefaults\":{\"arrowcolor\":\"#2a3f5f\",\"arrowhead\":0,\"arrowwidth\":1},\"geo\":{\"bgcolor\":\"white\",\"landcolor\":\"#E5ECF6\",\"subunitcolor\":\"white\",\"showland\":true,\"showlakes\":true,\"lakecolor\":\"white\"},\"title\":{\"x\":0.05},\"mapbox\":{\"style\":\"light\"}}}},                        {\"responsive\": true}                    ).then(function(){\n",
       "                            \n",
       "var gd = document.getElementById('0d23bab2-c8ed-4108-b3ac-e990c81a5cf8');\n",
       "var x = new MutationObserver(function (mutations, observer) {{\n",
       "        var display = window.getComputedStyle(gd).display;\n",
       "        if (!display || display === 'none') {{\n",
       "            console.log([gd, 'removed!']);\n",
       "            Plotly.purge(gd);\n",
       "            observer.disconnect();\n",
       "        }}\n",
       "}});\n",
       "\n",
       "// Listen for the removal of the full notebook cells\n",
       "var notebookContainer = gd.closest('#notebook-container');\n",
       "if (notebookContainer) {{\n",
       "    x.observe(notebookContainer, {childList: true});\n",
       "}}\n",
       "\n",
       "// Listen for the clearing of the current output cell\n",
       "var outputEl = gd.closest('.output');\n",
       "if (outputEl) {{\n",
       "    x.observe(outputEl, {childList: true});\n",
       "}}\n",
       "\n",
       "                        })                };                            </script>        </div>\n",
       "</body>\n",
       "</html>"
      ]
     },
     "metadata": {},
     "output_type": "display_data"
    }
   ],
   "source": [
    "optuna.visualization.plot_param_importances(lgb_study)\n"
   ]
  },
  {
   "cell_type": "markdown",
   "metadata": {
    "id": "nfLjX1xT6-jP"
   },
   "source": [
    "Наибольший прирост к улучшению метрики дало изменение темпа обучения"
   ]
  },
  {
   "cell_type": "code",
   "execution_count": 194,
   "metadata": {
    "colab": {
     "base_uri": "https://localhost:8080/",
     "height": 542
    },
    "id": "TbC6yvsJ6-jP",
    "outputId": "f00fe5f8-83f6-4f0f-83be-968c8f8146cf"
   },
   "outputs": [
    {
     "data": {
      "text/html": [
       "<html>\n",
       "<head><meta charset=\"utf-8\" /></head>\n",
       "<body>\n",
       "    <div>            <script src=\"https://cdnjs.cloudflare.com/ajax/libs/mathjax/2.7.5/MathJax.js?config=TeX-AMS-MML_SVG\"></script><script type=\"text/javascript\">if (window.MathJax && window.MathJax.Hub && window.MathJax.Hub.Config) {window.MathJax.Hub.Config({SVG: {font: \"STIX-Web\"}});}</script>                <script type=\"text/javascript\">window.PlotlyConfig = {MathJaxConfig: 'local'};</script>\n",
       "        <script src=\"https://cdn.plot.ly/plotly-2.18.2.min.js\"></script>                <div id=\"a82995c7-c516-40bf-b794-b0386d31639e\" class=\"plotly-graph-div\" style=\"height:525px; width:100%;\"></div>            <script type=\"text/javascript\">                                    window.PLOTLYENV=window.PLOTLYENV || {};                                    if (document.getElementById(\"a82995c7-c516-40bf-b794-b0386d31639e\")) {                    Plotly.newPlot(                        \"a82995c7-c516-40bf-b794-b0386d31639e\",                        [{\"mode\":\"markers\",\"name\":\"Objective Value\",\"x\":[0,1,2,3,4,5,6,7,8,9,10,11,12,13,14,15,16,17,18,19],\"y\":[1640.9533689456666,1591.8072865761465,1644.0019612749047,1649.0730505135343,1626.5493089323422,1594.0174551692692,1712.37092957246,1667.4958215679653,1550.9622857540937,1662.4921385254736,1673.8027388421556,1565.3289293808311,1570.5706503165454,1554.2850328357638,1555.3349016422692,1557.4762804064649,1560.18133580108,1570.7584327993427,1569.1678798777127,1587.2326319070444],\"type\":\"scatter\"},{\"name\":\"Best Value\",\"x\":[0,1,2,3,4,5,6,7,8,9,10,11,12,13,14,15,16,17,18,19],\"y\":[1640.9533689456666,1591.8072865761465,1591.8072865761465,1591.8072865761465,1591.8072865761465,1591.8072865761465,1591.8072865761465,1591.8072865761465,1550.9622857540937,1550.9622857540937,1550.9622857540937,1550.9622857540937,1550.9622857540937,1550.9622857540937,1550.9622857540937,1550.9622857540937,1550.9622857540937,1550.9622857540937,1550.9622857540937,1550.9622857540937],\"type\":\"scatter\"}],                        {\"title\":{\"text\":\"Optimization History Plot\"},\"xaxis\":{\"title\":{\"text\":\"Trial\"}},\"yaxis\":{\"title\":{\"text\":\"Objective Value\"}},\"template\":{\"data\":{\"histogram2dcontour\":[{\"type\":\"histogram2dcontour\",\"colorbar\":{\"outlinewidth\":0,\"ticks\":\"\"},\"colorscale\":[[0.0,\"#0d0887\"],[0.1111111111111111,\"#46039f\"],[0.2222222222222222,\"#7201a8\"],[0.3333333333333333,\"#9c179e\"],[0.4444444444444444,\"#bd3786\"],[0.5555555555555556,\"#d8576b\"],[0.6666666666666666,\"#ed7953\"],[0.7777777777777778,\"#fb9f3a\"],[0.8888888888888888,\"#fdca26\"],[1.0,\"#f0f921\"]]}],\"choropleth\":[{\"type\":\"choropleth\",\"colorbar\":{\"outlinewidth\":0,\"ticks\":\"\"}}],\"histogram2d\":[{\"type\":\"histogram2d\",\"colorbar\":{\"outlinewidth\":0,\"ticks\":\"\"},\"colorscale\":[[0.0,\"#0d0887\"],[0.1111111111111111,\"#46039f\"],[0.2222222222222222,\"#7201a8\"],[0.3333333333333333,\"#9c179e\"],[0.4444444444444444,\"#bd3786\"],[0.5555555555555556,\"#d8576b\"],[0.6666666666666666,\"#ed7953\"],[0.7777777777777778,\"#fb9f3a\"],[0.8888888888888888,\"#fdca26\"],[1.0,\"#f0f921\"]]}],\"heatmap\":[{\"type\":\"heatmap\",\"colorbar\":{\"outlinewidth\":0,\"ticks\":\"\"},\"colorscale\":[[0.0,\"#0d0887\"],[0.1111111111111111,\"#46039f\"],[0.2222222222222222,\"#7201a8\"],[0.3333333333333333,\"#9c179e\"],[0.4444444444444444,\"#bd3786\"],[0.5555555555555556,\"#d8576b\"],[0.6666666666666666,\"#ed7953\"],[0.7777777777777778,\"#fb9f3a\"],[0.8888888888888888,\"#fdca26\"],[1.0,\"#f0f921\"]]}],\"heatmapgl\":[{\"type\":\"heatmapgl\",\"colorbar\":{\"outlinewidth\":0,\"ticks\":\"\"},\"colorscale\":[[0.0,\"#0d0887\"],[0.1111111111111111,\"#46039f\"],[0.2222222222222222,\"#7201a8\"],[0.3333333333333333,\"#9c179e\"],[0.4444444444444444,\"#bd3786\"],[0.5555555555555556,\"#d8576b\"],[0.6666666666666666,\"#ed7953\"],[0.7777777777777778,\"#fb9f3a\"],[0.8888888888888888,\"#fdca26\"],[1.0,\"#f0f921\"]]}],\"contourcarpet\":[{\"type\":\"contourcarpet\",\"colorbar\":{\"outlinewidth\":0,\"ticks\":\"\"}}],\"contour\":[{\"type\":\"contour\",\"colorbar\":{\"outlinewidth\":0,\"ticks\":\"\"},\"colorscale\":[[0.0,\"#0d0887\"],[0.1111111111111111,\"#46039f\"],[0.2222222222222222,\"#7201a8\"],[0.3333333333333333,\"#9c179e\"],[0.4444444444444444,\"#bd3786\"],[0.5555555555555556,\"#d8576b\"],[0.6666666666666666,\"#ed7953\"],[0.7777777777777778,\"#fb9f3a\"],[0.8888888888888888,\"#fdca26\"],[1.0,\"#f0f921\"]]}],\"surface\":[{\"type\":\"surface\",\"colorbar\":{\"outlinewidth\":0,\"ticks\":\"\"},\"colorscale\":[[0.0,\"#0d0887\"],[0.1111111111111111,\"#46039f\"],[0.2222222222222222,\"#7201a8\"],[0.3333333333333333,\"#9c179e\"],[0.4444444444444444,\"#bd3786\"],[0.5555555555555556,\"#d8576b\"],[0.6666666666666666,\"#ed7953\"],[0.7777777777777778,\"#fb9f3a\"],[0.8888888888888888,\"#fdca26\"],[1.0,\"#f0f921\"]]}],\"mesh3d\":[{\"type\":\"mesh3d\",\"colorbar\":{\"outlinewidth\":0,\"ticks\":\"\"}}],\"scatter\":[{\"fillpattern\":{\"fillmode\":\"overlay\",\"size\":10,\"solidity\":0.2},\"type\":\"scatter\"}],\"parcoords\":[{\"type\":\"parcoords\",\"line\":{\"colorbar\":{\"outlinewidth\":0,\"ticks\":\"\"}}}],\"scatterpolargl\":[{\"type\":\"scatterpolargl\",\"marker\":{\"colorbar\":{\"outlinewidth\":0,\"ticks\":\"\"}}}],\"bar\":[{\"error_x\":{\"color\":\"#2a3f5f\"},\"error_y\":{\"color\":\"#2a3f5f\"},\"marker\":{\"line\":{\"color\":\"#E5ECF6\",\"width\":0.5},\"pattern\":{\"fillmode\":\"overlay\",\"size\":10,\"solidity\":0.2}},\"type\":\"bar\"}],\"scattergeo\":[{\"type\":\"scattergeo\",\"marker\":{\"colorbar\":{\"outlinewidth\":0,\"ticks\":\"\"}}}],\"scatterpolar\":[{\"type\":\"scatterpolar\",\"marker\":{\"colorbar\":{\"outlinewidth\":0,\"ticks\":\"\"}}}],\"histogram\":[{\"marker\":{\"pattern\":{\"fillmode\":\"overlay\",\"size\":10,\"solidity\":0.2}},\"type\":\"histogram\"}],\"scattergl\":[{\"type\":\"scattergl\",\"marker\":{\"colorbar\":{\"outlinewidth\":0,\"ticks\":\"\"}}}],\"scatter3d\":[{\"type\":\"scatter3d\",\"line\":{\"colorbar\":{\"outlinewidth\":0,\"ticks\":\"\"}},\"marker\":{\"colorbar\":{\"outlinewidth\":0,\"ticks\":\"\"}}}],\"scattermapbox\":[{\"type\":\"scattermapbox\",\"marker\":{\"colorbar\":{\"outlinewidth\":0,\"ticks\":\"\"}}}],\"scatterternary\":[{\"type\":\"scatterternary\",\"marker\":{\"colorbar\":{\"outlinewidth\":0,\"ticks\":\"\"}}}],\"scattercarpet\":[{\"type\":\"scattercarpet\",\"marker\":{\"colorbar\":{\"outlinewidth\":0,\"ticks\":\"\"}}}],\"carpet\":[{\"aaxis\":{\"endlinecolor\":\"#2a3f5f\",\"gridcolor\":\"white\",\"linecolor\":\"white\",\"minorgridcolor\":\"white\",\"startlinecolor\":\"#2a3f5f\"},\"baxis\":{\"endlinecolor\":\"#2a3f5f\",\"gridcolor\":\"white\",\"linecolor\":\"white\",\"minorgridcolor\":\"white\",\"startlinecolor\":\"#2a3f5f\"},\"type\":\"carpet\"}],\"table\":[{\"cells\":{\"fill\":{\"color\":\"#EBF0F8\"},\"line\":{\"color\":\"white\"}},\"header\":{\"fill\":{\"color\":\"#C8D4E3\"},\"line\":{\"color\":\"white\"}},\"type\":\"table\"}],\"barpolar\":[{\"marker\":{\"line\":{\"color\":\"#E5ECF6\",\"width\":0.5},\"pattern\":{\"fillmode\":\"overlay\",\"size\":10,\"solidity\":0.2}},\"type\":\"barpolar\"}],\"pie\":[{\"automargin\":true,\"type\":\"pie\"}]},\"layout\":{\"autotypenumbers\":\"strict\",\"colorway\":[\"#636efa\",\"#EF553B\",\"#00cc96\",\"#ab63fa\",\"#FFA15A\",\"#19d3f3\",\"#FF6692\",\"#B6E880\",\"#FF97FF\",\"#FECB52\"],\"font\":{\"color\":\"#2a3f5f\"},\"hovermode\":\"closest\",\"hoverlabel\":{\"align\":\"left\"},\"paper_bgcolor\":\"white\",\"plot_bgcolor\":\"#E5ECF6\",\"polar\":{\"bgcolor\":\"#E5ECF6\",\"angularaxis\":{\"gridcolor\":\"white\",\"linecolor\":\"white\",\"ticks\":\"\"},\"radialaxis\":{\"gridcolor\":\"white\",\"linecolor\":\"white\",\"ticks\":\"\"}},\"ternary\":{\"bgcolor\":\"#E5ECF6\",\"aaxis\":{\"gridcolor\":\"white\",\"linecolor\":\"white\",\"ticks\":\"\"},\"baxis\":{\"gridcolor\":\"white\",\"linecolor\":\"white\",\"ticks\":\"\"},\"caxis\":{\"gridcolor\":\"white\",\"linecolor\":\"white\",\"ticks\":\"\"}},\"coloraxis\":{\"colorbar\":{\"outlinewidth\":0,\"ticks\":\"\"}},\"colorscale\":{\"sequential\":[[0.0,\"#0d0887\"],[0.1111111111111111,\"#46039f\"],[0.2222222222222222,\"#7201a8\"],[0.3333333333333333,\"#9c179e\"],[0.4444444444444444,\"#bd3786\"],[0.5555555555555556,\"#d8576b\"],[0.6666666666666666,\"#ed7953\"],[0.7777777777777778,\"#fb9f3a\"],[0.8888888888888888,\"#fdca26\"],[1.0,\"#f0f921\"]],\"sequentialminus\":[[0.0,\"#0d0887\"],[0.1111111111111111,\"#46039f\"],[0.2222222222222222,\"#7201a8\"],[0.3333333333333333,\"#9c179e\"],[0.4444444444444444,\"#bd3786\"],[0.5555555555555556,\"#d8576b\"],[0.6666666666666666,\"#ed7953\"],[0.7777777777777778,\"#fb9f3a\"],[0.8888888888888888,\"#fdca26\"],[1.0,\"#f0f921\"]],\"diverging\":[[0,\"#8e0152\"],[0.1,\"#c51b7d\"],[0.2,\"#de77ae\"],[0.3,\"#f1b6da\"],[0.4,\"#fde0ef\"],[0.5,\"#f7f7f7\"],[0.6,\"#e6f5d0\"],[0.7,\"#b8e186\"],[0.8,\"#7fbc41\"],[0.9,\"#4d9221\"],[1,\"#276419\"]]},\"xaxis\":{\"gridcolor\":\"white\",\"linecolor\":\"white\",\"ticks\":\"\",\"title\":{\"standoff\":15},\"zerolinecolor\":\"white\",\"automargin\":true,\"zerolinewidth\":2},\"yaxis\":{\"gridcolor\":\"white\",\"linecolor\":\"white\",\"ticks\":\"\",\"title\":{\"standoff\":15},\"zerolinecolor\":\"white\",\"automargin\":true,\"zerolinewidth\":2},\"scene\":{\"xaxis\":{\"backgroundcolor\":\"#E5ECF6\",\"gridcolor\":\"white\",\"linecolor\":\"white\",\"showbackground\":true,\"ticks\":\"\",\"zerolinecolor\":\"white\",\"gridwidth\":2},\"yaxis\":{\"backgroundcolor\":\"#E5ECF6\",\"gridcolor\":\"white\",\"linecolor\":\"white\",\"showbackground\":true,\"ticks\":\"\",\"zerolinecolor\":\"white\",\"gridwidth\":2},\"zaxis\":{\"backgroundcolor\":\"#E5ECF6\",\"gridcolor\":\"white\",\"linecolor\":\"white\",\"showbackground\":true,\"ticks\":\"\",\"zerolinecolor\":\"white\",\"gridwidth\":2}},\"shapedefaults\":{\"line\":{\"color\":\"#2a3f5f\"}},\"annotationdefaults\":{\"arrowcolor\":\"#2a3f5f\",\"arrowhead\":0,\"arrowwidth\":1},\"geo\":{\"bgcolor\":\"white\",\"landcolor\":\"#E5ECF6\",\"subunitcolor\":\"white\",\"showland\":true,\"showlakes\":true,\"lakecolor\":\"white\"},\"title\":{\"x\":0.05},\"mapbox\":{\"style\":\"light\"}}}},                        {\"responsive\": true}                    ).then(function(){\n",
       "                            \n",
       "var gd = document.getElementById('a82995c7-c516-40bf-b794-b0386d31639e');\n",
       "var x = new MutationObserver(function (mutations, observer) {{\n",
       "        var display = window.getComputedStyle(gd).display;\n",
       "        if (!display || display === 'none') {{\n",
       "            console.log([gd, 'removed!']);\n",
       "            Plotly.purge(gd);\n",
       "            observer.disconnect();\n",
       "        }}\n",
       "}});\n",
       "\n",
       "// Listen for the removal of the full notebook cells\n",
       "var notebookContainer = gd.closest('#notebook-container');\n",
       "if (notebookContainer) {{\n",
       "    x.observe(notebookContainer, {childList: true});\n",
       "}}\n",
       "\n",
       "// Listen for the clearing of the current output cell\n",
       "var outputEl = gd.closest('.output');\n",
       "if (outputEl) {{\n",
       "    x.observe(outputEl, {childList: true});\n",
       "}}\n",
       "\n",
       "                        })                };                            </script>        </div>\n",
       "</body>\n",
       "</html>"
      ]
     },
     "metadata": {},
     "output_type": "display_data"
    }
   ],
   "source": [
    "optuna.visualization.plot_optimization_history(lgb_study)"
   ]
  },
  {
   "cell_type": "markdown",
   "metadata": {
    "id": "d5yk5lTJ6-jP"
   },
   "source": [
    "После восьмой итерации метрика не уменьшалась, что говорит о том, что, возможно, стоит установить меньшее кол-во итераций"
   ]
  },
  {
   "cell_type": "markdown",
   "metadata": {
    "id": "p-3eJNbpoYMz"
   },
   "source": [
    "Результат достигнут.\n",
    "\n",
    "Требованиям ТЗ проект устраивает.\n",
    "\n",
    "Во первых, для интересующей Заказчика метрики (RMSE) её порог (менее 2500) - достигнут.\n",
    "\n",
    "Во-вторых, оценки времени работы моделей являются реалистичными и позволят использовать модели в проде, на оборудовании Заказчика с требуемой производительноостью.\n",
    "\n",
    "В третьих, сравнение качества моделей с \"тупой\" дамми-моделью позволяет сделать вывод о том, что мы можем доверять нашим (моделям).\n"
   ]
  }
 ],
 "metadata": {
  "ExecuteTimeLog": [
   {
    "duration": 12200,
    "start_time": "2023-07-19T15:12:56.252Z"
   },
   {
    "duration": 743,
    "start_time": "2023-07-19T15:13:52.401Z"
   },
   {
    "duration": 2521,
    "start_time": "2023-07-19T15:14:16.794Z"
   },
   {
    "duration": 1524,
    "start_time": "2023-07-19T15:14:22.752Z"
   },
   {
    "duration": 2,
    "start_time": "2023-07-19T15:14:27.674Z"
   },
   {
    "duration": 5,
    "start_time": "2023-07-19T15:14:30.146Z"
   },
   {
    "duration": 6,
    "start_time": "2023-07-19T15:14:30.640Z"
   },
   {
    "duration": 682,
    "start_time": "2023-07-19T15:14:30.858Z"
   },
   {
    "duration": 1712,
    "start_time": "2023-07-19T15:14:31.542Z"
   },
   {
    "duration": 76,
    "start_time": "2023-07-19T15:14:36.690Z"
   },
   {
    "duration": 68,
    "start_time": "2023-07-19T15:14:36.947Z"
   },
   {
    "duration": 98,
    "start_time": "2023-07-19T15:14:38.103Z"
   },
   {
    "duration": 637,
    "start_time": "2023-07-19T15:14:39.034Z"
   },
   {
    "duration": 376,
    "start_time": "2023-07-19T15:14:40.733Z"
   },
   {
    "duration": 220,
    "start_time": "2023-07-19T15:14:41.111Z"
   },
   {
    "duration": 138,
    "start_time": "2023-07-19T15:14:41.342Z"
   },
   {
    "duration": 106,
    "start_time": "2023-07-19T15:14:42.333Z"
   },
   {
    "duration": 36,
    "start_time": "2023-07-19T15:14:43.948Z"
   },
   {
    "duration": 418,
    "start_time": "2023-07-19T15:14:44.400Z"
   },
   {
    "duration": 114,
    "start_time": "2023-07-19T15:14:44.931Z"
   },
   {
    "duration": 37,
    "start_time": "2023-07-19T15:14:45.417Z"
   },
   {
    "duration": 18,
    "start_time": "2023-07-19T15:14:46.275Z"
   },
   {
    "duration": 31,
    "start_time": "2023-07-19T15:14:47.160Z"
   },
   {
    "duration": 22,
    "start_time": "2023-07-19T15:14:47.831Z"
   },
   {
    "duration": 27,
    "start_time": "2023-07-19T15:14:48.465Z"
   },
   {
    "duration": 48,
    "start_time": "2023-07-19T15:14:49.291Z"
   },
   {
    "duration": 28,
    "start_time": "2023-07-19T15:14:49.769Z"
   },
   {
    "duration": 17,
    "start_time": "2023-07-19T15:14:50.201Z"
   },
   {
    "duration": 17,
    "start_time": "2023-07-19T15:14:51.070Z"
   },
   {
    "duration": 18,
    "start_time": "2023-07-19T15:14:51.864Z"
   },
   {
    "duration": 10,
    "start_time": "2023-07-19T15:14:52.184Z"
   },
   {
    "duration": 36,
    "start_time": "2023-07-19T15:14:52.667Z"
   },
   {
    "duration": 71,
    "start_time": "2023-07-19T15:14:54.224Z"
   },
   {
    "duration": 41,
    "start_time": "2023-07-19T15:14:54.489Z"
   },
   {
    "duration": 17,
    "start_time": "2023-07-19T15:14:54.837Z"
   },
   {
    "duration": 1565,
    "start_time": "2023-07-19T15:14:56.091Z"
   },
   {
    "duration": 17,
    "start_time": "2023-07-19T15:15:07.471Z"
   },
   {
    "duration": 47,
    "start_time": "2023-07-19T15:15:08.000Z"
   },
   {
    "duration": 16,
    "start_time": "2023-07-19T15:15:08.942Z"
   },
   {
    "duration": 207,
    "start_time": "2023-07-19T15:15:09.400Z"
   },
   {
    "duration": 51,
    "start_time": "2023-07-19T15:15:09.963Z"
   },
   {
    "duration": 2026,
    "start_time": "2023-07-19T15:15:10.971Z"
   },
   {
    "duration": 5,
    "start_time": "2023-07-19T15:15:12.998Z"
   },
   {
    "duration": 4,
    "start_time": "2023-07-19T15:15:13.289Z"
   },
   {
    "duration": 3,
    "start_time": "2023-07-19T15:15:18.190Z"
   },
   {
    "duration": 5784,
    "start_time": "2023-07-19T15:15:18.437Z"
   },
   {
    "duration": 2,
    "start_time": "2023-07-19T15:15:24.224Z"
   },
   {
    "duration": 207138,
    "start_time": "2023-07-19T15:15:24.228Z"
   },
   {
    "duration": 1768293,
    "start_time": "2023-07-19T15:18:51.369Z"
   },
   {
    "duration": 0,
    "start_time": "2023-07-19T15:48:19.665Z"
   },
   {
    "duration": 0,
    "start_time": "2023-07-19T15:48:19.666Z"
   },
   {
    "duration": 0,
    "start_time": "2023-07-19T15:48:19.669Z"
   },
   {
    "duration": 0,
    "start_time": "2023-07-19T15:48:19.670Z"
   },
   {
    "duration": 0,
    "start_time": "2023-07-19T15:48:19.671Z"
   },
   {
    "duration": 0,
    "start_time": "2023-07-19T15:48:19.673Z"
   },
   {
    "duration": 0,
    "start_time": "2023-07-19T15:48:19.674Z"
   },
   {
    "duration": 0,
    "start_time": "2023-07-19T15:48:19.675Z"
   },
   {
    "duration": 0,
    "start_time": "2023-07-19T15:48:19.676Z"
   },
   {
    "duration": 0,
    "start_time": "2023-07-19T15:48:19.677Z"
   },
   {
    "duration": 0,
    "start_time": "2023-07-19T15:48:19.678Z"
   },
   {
    "duration": 0,
    "start_time": "2023-07-19T15:48:19.680Z"
   },
   {
    "duration": 0,
    "start_time": "2023-07-19T15:48:19.681Z"
   },
   {
    "duration": 0,
    "start_time": "2023-07-19T15:48:19.683Z"
   },
   {
    "duration": 0,
    "start_time": "2023-07-19T15:48:19.683Z"
   },
   {
    "duration": 0,
    "start_time": "2023-07-19T15:48:19.684Z"
   },
   {
    "duration": 0,
    "start_time": "2023-07-19T15:48:19.685Z"
   },
   {
    "duration": 0,
    "start_time": "2023-07-19T15:48:19.721Z"
   },
   {
    "duration": 0,
    "start_time": "2023-07-19T15:48:19.724Z"
   },
   {
    "duration": 0,
    "start_time": "2023-07-19T15:48:19.725Z"
   },
   {
    "duration": 0,
    "start_time": "2023-07-19T15:48:19.727Z"
   },
   {
    "duration": 12325,
    "start_time": "2023-07-19T19:28:29.523Z"
   },
   {
    "duration": 4065,
    "start_time": "2023-07-19T19:28:41.851Z"
   },
   {
    "duration": 1362,
    "start_time": "2023-07-19T19:28:45.918Z"
   },
   {
    "duration": 4,
    "start_time": "2023-07-19T19:28:47.285Z"
   },
   {
    "duration": 10,
    "start_time": "2023-07-19T19:28:47.291Z"
   },
   {
    "duration": 763,
    "start_time": "2023-07-19T19:28:47.304Z"
   },
   {
    "duration": 2251,
    "start_time": "2023-07-19T19:28:48.069Z"
   },
   {
    "duration": 100,
    "start_time": "2023-07-19T19:28:50.322Z"
   },
   {
    "duration": 109,
    "start_time": "2023-07-19T19:28:50.424Z"
   },
   {
    "duration": 120,
    "start_time": "2023-07-19T19:28:50.536Z"
   },
   {
    "duration": 727,
    "start_time": "2023-07-19T19:28:50.658Z"
   },
   {
    "duration": 558,
    "start_time": "2023-07-19T19:28:51.387Z"
   },
   {
    "duration": 240,
    "start_time": "2023-07-19T19:28:51.947Z"
   },
   {
    "duration": 179,
    "start_time": "2023-07-19T19:28:52.189Z"
   },
   {
    "duration": 144,
    "start_time": "2023-07-19T19:28:52.370Z"
   },
   {
    "duration": 40,
    "start_time": "2023-07-19T19:28:52.515Z"
   },
   {
    "duration": 559,
    "start_time": "2023-07-19T19:28:52.557Z"
   },
   {
    "duration": 140,
    "start_time": "2023-07-19T19:28:53.119Z"
   },
   {
    "duration": 46,
    "start_time": "2023-07-19T19:28:53.261Z"
   },
   {
    "duration": 28,
    "start_time": "2023-07-19T19:28:53.309Z"
   },
   {
    "duration": 56,
    "start_time": "2023-07-19T19:28:53.339Z"
   },
   {
    "duration": 23,
    "start_time": "2023-07-19T19:28:53.397Z"
   },
   {
    "duration": 35,
    "start_time": "2023-07-19T19:28:53.422Z"
   },
   {
    "duration": 64,
    "start_time": "2023-07-19T19:28:53.476Z"
   },
   {
    "duration": 69,
    "start_time": "2023-07-19T19:28:53.542Z"
   },
   {
    "duration": 30,
    "start_time": "2023-07-19T19:28:53.612Z"
   },
   {
    "duration": 43,
    "start_time": "2023-07-19T19:28:53.644Z"
   },
   {
    "duration": 32,
    "start_time": "2023-07-19T19:28:53.694Z"
   },
   {
    "duration": 16,
    "start_time": "2023-07-19T19:28:53.727Z"
   },
   {
    "duration": 69,
    "start_time": "2023-07-19T19:28:53.746Z"
   },
   {
    "duration": 106,
    "start_time": "2023-07-19T19:28:53.818Z"
   },
   {
    "duration": 56,
    "start_time": "2023-07-19T19:28:53.927Z"
   },
   {
    "duration": 21,
    "start_time": "2023-07-19T19:28:53.988Z"
   },
   {
    "duration": 1888,
    "start_time": "2023-07-19T19:28:54.011Z"
   },
   {
    "duration": 13,
    "start_time": "2023-07-19T19:28:55.901Z"
   },
   {
    "duration": 75,
    "start_time": "2023-07-19T19:28:55.916Z"
   },
   {
    "duration": 20,
    "start_time": "2023-07-19T19:28:55.993Z"
   },
   {
    "duration": 242,
    "start_time": "2023-07-19T19:28:56.015Z"
   },
   {
    "duration": 59,
    "start_time": "2023-07-19T19:28:56.259Z"
   },
   {
    "duration": 3982,
    "start_time": "2023-07-19T19:28:56.320Z"
   },
   {
    "duration": 5,
    "start_time": "2023-07-19T19:29:00.304Z"
   },
   {
    "duration": 159,
    "start_time": "2023-07-19T19:29:00.311Z"
   },
   {
    "duration": 100,
    "start_time": "2023-07-19T19:29:00.472Z"
   },
   {
    "duration": 5421,
    "start_time": "2023-07-19T19:29:00.574Z"
   },
   {
    "duration": 81,
    "start_time": "2023-07-19T19:29:06.001Z"
   },
   {
    "duration": 195945,
    "start_time": "2023-07-19T19:29:06.084Z"
   },
   {
    "duration": 1001742,
    "start_time": "2023-07-19T19:32:22.032Z"
   },
   {
    "duration": 0,
    "start_time": "2023-07-19T19:49:03.777Z"
   },
   {
    "duration": 0,
    "start_time": "2023-07-19T19:49:03.780Z"
   },
   {
    "duration": 0,
    "start_time": "2023-07-19T19:49:03.781Z"
   },
   {
    "duration": 0,
    "start_time": "2023-07-19T19:49:03.782Z"
   },
   {
    "duration": 0,
    "start_time": "2023-07-19T19:49:03.783Z"
   },
   {
    "duration": 0,
    "start_time": "2023-07-19T19:49:03.784Z"
   },
   {
    "duration": 0,
    "start_time": "2023-07-19T19:49:03.790Z"
   },
   {
    "duration": 0,
    "start_time": "2023-07-19T19:49:03.792Z"
   },
   {
    "duration": 0,
    "start_time": "2023-07-19T19:49:03.794Z"
   },
   {
    "duration": 0,
    "start_time": "2023-07-19T19:49:03.795Z"
   },
   {
    "duration": 0,
    "start_time": "2023-07-19T19:49:03.796Z"
   },
   {
    "duration": 0,
    "start_time": "2023-07-19T19:49:03.797Z"
   },
   {
    "duration": 0,
    "start_time": "2023-07-19T19:49:03.798Z"
   },
   {
    "duration": 0,
    "start_time": "2023-07-19T19:49:03.800Z"
   },
   {
    "duration": 0,
    "start_time": "2023-07-19T19:49:03.802Z"
   },
   {
    "duration": 12342,
    "start_time": "2023-07-20T05:14:59.386Z"
   },
   {
    "duration": 4617,
    "start_time": "2023-07-20T05:15:11.730Z"
   },
   {
    "duration": 1153,
    "start_time": "2023-07-20T05:15:16.348Z"
   },
   {
    "duration": 3,
    "start_time": "2023-07-20T05:15:17.503Z"
   },
   {
    "duration": 40,
    "start_time": "2023-07-20T05:15:17.509Z"
   },
   {
    "duration": 605,
    "start_time": "2023-07-20T05:15:17.552Z"
   },
   {
    "duration": 1941,
    "start_time": "2023-07-20T05:15:18.159Z"
   },
   {
    "duration": 72,
    "start_time": "2023-07-20T05:15:20.101Z"
   },
   {
    "duration": 84,
    "start_time": "2023-07-20T05:15:20.175Z"
   },
   {
    "duration": 103,
    "start_time": "2023-07-20T05:15:20.261Z"
   },
   {
    "duration": 591,
    "start_time": "2023-07-20T05:15:20.366Z"
   },
   {
    "duration": 425,
    "start_time": "2023-07-20T05:15:20.958Z"
   },
   {
    "duration": 205,
    "start_time": "2023-07-20T05:15:21.385Z"
   },
   {
    "duration": 148,
    "start_time": "2023-07-20T05:15:21.593Z"
   },
   {
    "duration": 108,
    "start_time": "2023-07-20T05:15:21.742Z"
   },
   {
    "duration": 41,
    "start_time": "2023-07-20T05:15:21.851Z"
   },
   {
    "duration": 429,
    "start_time": "2023-07-20T05:15:21.893Z"
   },
   {
    "duration": 107,
    "start_time": "2023-07-20T05:15:22.324Z"
   },
   {
    "duration": 28,
    "start_time": "2023-07-20T05:15:22.433Z"
   },
   {
    "duration": 27,
    "start_time": "2023-07-20T05:15:22.463Z"
   },
   {
    "duration": 48,
    "start_time": "2023-07-20T05:15:22.491Z"
   },
   {
    "duration": 41,
    "start_time": "2023-07-20T05:15:22.540Z"
   },
   {
    "duration": 31,
    "start_time": "2023-07-20T05:15:22.583Z"
   },
   {
    "duration": 60,
    "start_time": "2023-07-20T05:15:22.616Z"
   },
   {
    "duration": 29,
    "start_time": "2023-07-20T05:15:22.678Z"
   },
   {
    "duration": 30,
    "start_time": "2023-07-20T05:15:22.708Z"
   },
   {
    "duration": 16,
    "start_time": "2023-07-20T05:15:22.740Z"
   },
   {
    "duration": 29,
    "start_time": "2023-07-20T05:15:22.757Z"
   },
   {
    "duration": 12,
    "start_time": "2023-07-20T05:15:22.788Z"
   },
   {
    "duration": 53,
    "start_time": "2023-07-20T05:15:22.801Z"
   },
   {
    "duration": 91,
    "start_time": "2023-07-20T05:15:22.855Z"
   },
   {
    "duration": 40,
    "start_time": "2023-07-20T05:15:22.948Z"
   },
   {
    "duration": 12,
    "start_time": "2023-07-20T05:15:22.990Z"
   },
   {
    "duration": 1417,
    "start_time": "2023-07-20T05:15:23.003Z"
   },
   {
    "duration": 14,
    "start_time": "2023-07-20T05:15:24.421Z"
   },
   {
    "duration": 49,
    "start_time": "2023-07-20T05:15:24.437Z"
   },
   {
    "duration": 32,
    "start_time": "2023-07-20T05:15:24.488Z"
   },
   {
    "duration": 237,
    "start_time": "2023-07-20T05:15:24.522Z"
   },
   {
    "duration": 48,
    "start_time": "2023-07-20T05:15:24.761Z"
   },
   {
    "duration": 3333,
    "start_time": "2023-07-20T05:15:24.810Z"
   },
   {
    "duration": 324,
    "start_time": "2023-07-20T05:15:28.147Z"
   },
   {
    "duration": 10,
    "start_time": "2023-07-20T05:15:39.559Z"
   },
   {
    "duration": 135,
    "start_time": "2023-07-20T20:15:37.239Z"
   },
   {
    "duration": 114,
    "start_time": "2023-07-20T20:15:56.837Z"
   },
   {
    "duration": 170,
    "start_time": "2023-07-20T20:23:19.546Z"
   }
  ],
  "colab": {
   "provenance": []
  },
  "kernelspec": {
   "display_name": "Python 3 (ipykernel)",
   "language": "python",
   "name": "python3"
  },
  "language_info": {
   "codemirror_mode": {
    "name": "ipython",
    "version": 3
   },
   "file_extension": ".py",
   "mimetype": "text/x-python",
   "name": "python",
   "nbconvert_exporter": "python",
   "pygments_lexer": "ipython3",
   "version": "3.9.13"
  },
  "toc": {
   "base_numbering": 1,
   "nav_menu": {},
   "number_sections": true,
   "sideBar": true,
   "skip_h1_title": true,
   "title_cell": "Table of Contents",
   "title_sidebar": "Contents",
   "toc_cell": false,
   "toc_position": {
    "height": "calc(100% - 180px)",
    "left": "10px",
    "top": "150px",
    "width": "410.666656px"
   },
   "toc_section_display": true,
   "toc_window_display": true
  }
 },
 "nbformat": 4,
 "nbformat_minor": 1
}
